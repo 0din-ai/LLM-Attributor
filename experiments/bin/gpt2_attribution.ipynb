{
 "cells": [
  {
   "cell_type": "code",
   "execution_count": 1,
   "id": "ae0e43a5",
   "metadata": {},
   "outputs": [],
   "source": [
    "import os\n",
    "import time \n",
    "import math\n",
    "import pickle\n",
    "from contextlib import nullcontext\n",
    "\n",
    "import numpy as np\n",
    "import torch \n",
    "import torch.nn.functional as F\n",
    "\n",
    "from tqdm import tqdm\n",
    "\n",
    "from model import GPTConfig, GPT"
   ]
  },
  {
   "cell_type": "code",
   "execution_count": 2,
   "id": "37b599ee",
   "metadata": {},
   "outputs": [],
   "source": [
    "out_dir = \"/raid/slee3473/LLM/shakespeare_word/out\"\n",
    "if not os.path.exists(out_dir): raise RuntimeError(f\"No out_dir {out_dir}\")\n",
    "    \n",
    "eval_interval = 5\n",
    "eval_iters = 40\n",
    "ckpt_iters = 1000\n",
    "# log_iters = 100\n",
    "init_from = \"gpt2\"  # gpt2-xl ...\n",
    "dataset = \"shakespeare\" # \"openwebtext\"\n",
    "gradient_accumulation_steps = 1\n",
    "batch_size = 1\n",
    "block_size = 1024\n",
    "\n",
    "n_layer = 12\n",
    "n_head = 12\n",
    "n_embed = 768\n",
    "dropout = 0.0\n",
    "bias = False\n",
    "\n",
    "# AdamW optimizer settings\n",
    "learning_rate = 3e-5  # 6e-4\n",
    "max_iters = 2000\n",
    "weight_decay = 1e-1\n",
    "beta1 = 0.9\n",
    "beta2 = 0.95\n",
    "grad_clip = 1.0\n",
    "\n",
    "# lr decay settings\n",
    "decay_lr = False\n",
    "warmup_iters = 2000\n",
    "min_lr = 6e-5\n",
    "\n",
    "# misc\n",
    "device = \"cuda:6\"\n",
    "dtype = \"bfloat16\"\n",
    "master_process = True\n",
    "seed_offset = 0\n",
    "ddp_world_size = 1\n",
    "\n",
    "torch.manual_seed(1337+seed_offset)\n",
    "torch.backends.cuda.matmul.allow_tf32 = True \n",
    "torch.backends.cudnn.allow_tf32 = True\n",
    "device_type = \"cuda\"\n",
    "ptdtype = torch.bfloat16  # {\"float32\": torch.float32, \"bfloat16\": torch.bfloat16, \"float16\": torch.float16}[dtype]\n",
    "ctx = torch.amp.autocast(device_type=\"cuda\", dtype=torch.bfloat16)"
   ]
  },
  {
   "cell_type": "code",
   "execution_count": 3,
   "id": "61bd835d",
   "metadata": {},
   "outputs": [],
   "source": [
    "data_dir = os.path.join(\"./../nanoGPT/data\", dataset)\n",
    "train_data = np.memmap(os.path.join(data_dir, \"train.bin\"), dtype=np.uint16, mode=\"r\")\n",
    "val_data = np.memmap(os.path.join(data_dir, \"val.bin\"), dtype=np.uint16, mode=\"r\")"
   ]
  },
  {
   "cell_type": "code",
   "execution_count": 8,
   "id": "c36c508b",
   "metadata": {},
   "outputs": [
    {
     "data": {
      "text/plain": [
       "301966"
      ]
     },
     "execution_count": 8,
     "metadata": {},
     "output_type": "execute_result"
    }
   ],
   "source": [
    "len(train_data)\n",
    "# print(decode(train_data[0:1000].tolist()))"
   ]
  },
  {
   "cell_type": "code",
   "execution_count": 4,
   "id": "452c905d",
   "metadata": {},
   "outputs": [],
   "source": [
    "def get_batch(split, return_idx=False):\n",
    "    data = train_data if split ==\"train\" else val_data \n",
    "    ix = torch.randint(len(data)-block_size, (batch_size,))\n",
    "    x = torch.stack([torch.from_numpy((data[i:i+block_size]).astype(np.int64)) for i in ix]).pin_memory().to(device, non_blocking=True)\n",
    "    y = torch.stack([torch.from_numpy((data[i+1:i+1+block_size]).astype(np.int64)) for i in ix]).pin_memory().to(device, non_blocking=True)\n",
    "    if return_idx: return x,y,ix\n",
    "    return x, y"
   ]
  },
  {
   "cell_type": "code",
   "execution_count": 43,
   "id": "8ead0fa9",
   "metadata": {},
   "outputs": [
    {
     "name": "stdout",
     "output_type": "stream",
     "text": [
      "loading weights from pretrained gpt: gpt2\n",
      "forcing vocab_size=50257, block_size=1024, bias=True\n",
      "overriding dropout rate to 0.0\n",
      "number of parameters: 123.65M\n"
     ]
    }
   ],
   "source": [
    "model_args = dict(n_layer=n_layer, n_head=n_head, n_embd=n_embed, block_size=block_size,\n",
    "                  bias=bias, vocab_size=None, dropout=dropout)\n",
    "override_args = dict(dropout=dropout)\n",
    "model = GPT.from_pretrained(init_from, override_args)\n",
    "for k in ['n_layer', 'n_head', 'n_embd', 'block_size', 'bias', 'vocab_size']:\n",
    "    model_args[k] = getattr(model.config, k)\n",
    "model = model.to(device)"
   ]
  },
  {
   "cell_type": "code",
   "execution_count": 44,
   "id": "dd63499e",
   "metadata": {},
   "outputs": [
    {
     "name": "stdout",
     "output_type": "stream",
     "text": [
      "num decayed parameter tensors: 50, with 124,318,464 parameters\n",
      "num non-decayed parameter tensors: 98, with 121,344 parameters\n",
      "using fused AdamW: True\n"
     ]
    }
   ],
   "source": [
    "scaler = torch.cuda.amp.GradScaler(enabled=(dtype == 'float16'))\n",
    "optimizer = model.configure_optimizers(weight_decay, learning_rate, (beta1, beta2), device_type)\n",
    "checkpoint = None # free up memory"
   ]
  },
  {
   "cell_type": "code",
   "execution_count": 45,
   "id": "49b69dc7",
   "metadata": {},
   "outputs": [],
   "source": [
    "@torch.no_grad()\n",
    "def model_eval(model=model):\n",
    "    model.eval()\n",
    "    losses = torch.zeros(eval_iters)\n",
    "    for k in range(eval_iters):\n",
    "        X,Y = get_batch(\"val\")\n",
    "        with ctx: logits, loss = model(X,Y)\n",
    "        losses[k] = loss.item()\n",
    "    model.train()\n",
    "    return losses.mean()"
   ]
  },
  {
   "cell_type": "code",
   "execution_count": 46,
   "id": "3bbdd00e",
   "metadata": {},
   "outputs": [],
   "source": [
    "def save_ckpt(model=model, save_name=None):\n",
    "    assert save_name is not None\n",
    "    checkpoint = {\n",
    "        \"model\": model.state_dict(),\n",
    "        \"optimizer\": optimizer.state_dict(),\n",
    "        \"model_args\": model_args\n",
    "#         TODO: SAVE TRAINING DATA INDEX\n",
    "    }\n",
    "    torch.save(checkpoint, save_name)\n",
    "    print(f\"Saved checkpoint at {save_name}\")"
   ]
  },
  {
   "cell_type": "code",
   "execution_count": 6,
   "id": "84b5cb0d",
   "metadata": {},
   "outputs": [],
   "source": [
    "import tiktoken\n",
    "enc = tiktoken.get_encoding(\"gpt2\")\n",
    "encode = lambda s: enc.encode(s, allowed_special={\"<|endoftext|>\"})\n",
    "decode = lambda l: enc.decode(l)"
   ]
  },
  {
   "cell_type": "code",
   "execution_count": 49,
   "id": "bc923991",
   "metadata": {},
   "outputs": [],
   "source": [
    "def get_attr_Y_prob(model, attr_X, attr_Y):\n",
    "    model.eval()\n",
    "    \n",
    "    attr_logits, _ = model(attr_X)  # attr_logits: 1x1x50257\n",
    "    attr_logits = attr_logits[:,-1,:] / 1. # temperature  # attr_logits: 1x50257\n",
    "    v, _ = torch.topk(attr_logits, min(200, attr_logits.size(-1)))\n",
    "    attr_logits[attr_logits < v[:,[-1]]] = -float(\"Inf\")\n",
    "    probs = F.softmax(attr_logits, dim=-1)  # 1x50257\n",
    "    attr_Y_prob = probs[0, attr_Y.item()]\n",
    "    \n",
    "    model.train()\n",
    "    return attr_Y_prob"
   ]
  },
  {
   "cell_type": "code",
   "execution_count": 50,
   "id": "53b14914",
   "metadata": {},
   "outputs": [],
   "source": [
    "attr_flag = True\n",
    "\n",
    "if attr_flag:\n",
    "    attr_X_str = \"\\n\\n\\nTHOMAS MOWBRAY:\\nIt is a bloody tale:\\nThe faultless traitor, whose blood hath paid\\nThe thousand marks of honour, hath inveighed\\nAgainst the proud and lowly royal.\\n\\n\\n\"\n",
    "    attr_Y_str = \"KING\"\n",
    "    attr_X = (torch.tensor(encode(attr_X_str), dtype=torch.long, device=device)[None, ...])\n",
    "    attr_Y = (torch.tensor(encode(attr_Y_str), dtype=torch.long, device=device)[None, ...])\n",
    "    \n",
    "    attr_Y_prob_history = []\n",
    "    attr_Y_prob = get_attr_Y_prob(model, attr_X, attr_Y)\n",
    "    attr_Y_prob_history.append(attr_Y_prob.item())"
   ]
  },
  {
   "cell_type": "code",
   "execution_count": 51,
   "id": "1f1351e4",
   "metadata": {},
   "outputs": [
    {
     "data": {
      "text/plain": [
       "[0.006330428179353476]"
      ]
     },
     "execution_count": 51,
     "metadata": {},
     "output_type": "execute_result"
    }
   ],
   "source": [
    "attr_Y_prob_history"
   ]
  },
  {
   "cell_type": "code",
   "execution_count": 52,
   "id": "20ece73b",
   "metadata": {},
   "outputs": [
    {
     "name": "stdout",
     "output_type": "stream",
     "text": [
      "Before training eval loss: 3.9854\n",
      "Saved checkpoint at /raid/slee3473/LLM/shakespeare_word/out/ckpt_0.pt\n",
      "Iter 100 --- Loss: 2.954612970352173\n",
      "Iter 200 --- Loss: 3.3888134956359863\n",
      "Iter 300 --- Loss: 3.0719399452209473\n",
      "Iter 400 --- Loss: 3.295539140701294\n",
      "Iter 500 --- Loss: 2.834326982498169\n",
      "Iter 600 --- Loss: 3.0856497287750244\n",
      "Iter 700 --- Loss: 3.0079500675201416\n",
      "Iter 800 --- Loss: 3.2608802318573\n",
      "Iter 900 --- Loss: 3.2390453815460205\n",
      "Iter 1000 --- Loss: 3.1491498947143555\n",
      "Saved checkpoint at /raid/slee3473/LLM/shakespeare_word/out/ckpt_1000.pt\n",
      "Iter 1100 --- Loss: 3.043788194656372\n",
      "Iter 1200 --- Loss: 2.7743775844573975\n",
      "Iter 1300 --- Loss: 2.9975016117095947\n",
      "Iter 1400 --- Loss: 2.8243560791015625\n",
      "Iter 1500 --- Loss: 3.099839448928833\n",
      "Iter 1600 --- Loss: 2.6417627334594727\n",
      "Iter 1700 --- Loss: 2.9065773487091064\n",
      "Iter 1800 --- Loss: 2.541936159133911\n",
      "Iter 1900 --- Loss: 2.2222819328308105\n",
      "Iter 2000 --- Loss: 2.6747512817382812\n",
      "Saved checkpoint at /raid/slee3473/LLM/shakespeare_word/out/ckpt_2000.pt\n"
     ]
    }
   ],
   "source": [
    "num_epochs = 1\n",
    "ckpt_flag = True\n",
    "print(f\"Before training eval loss: {model_eval():.4f}\")\n",
    "\n",
    "iter_i = 0\n",
    "ckpt_data_idx_dict = dict()\n",
    "\n",
    "# start training\n",
    "model.train()\n",
    "while True:\n",
    "    if ckpt_flag and iter_i % ckpt_iters == 0: \n",
    "        save_name = f\"ckpt_{iter_i}.pt\"\n",
    "        save_ckpt(model, os.path.join(out_dir, save_name))\n",
    "        ckpt_data_idx_dict[save_name] = np.array([])\n",
    "    if iter_i >= max_iters: break\n",
    "\n",
    "    X, Y, idx = get_batch(\"train\", return_idx=True)\n",
    "    if ckpt_flag:\n",
    "        ckpt_data_idx_dict[save_name] = np.concatenate([ckpt_data_idx_dict[save_name], idx])\n",
    "    with ctx:\n",
    "        logits, loss = model(X,Y)\n",
    "    scaler.scale(loss).backward()\n",
    "    scaler.unscale_(optimizer)\n",
    "    torch.nn.utils.clip_grad_norm_(model.parameters(), grad_clip)\n",
    "    scaler.step(optimizer)\n",
    "    scaler.update()\n",
    "    optimizer.zero_grad(set_to_none=True)\n",
    "    \n",
    "    # Save history of probability changes\n",
    "    if attr_flag:\n",
    "        attr_Y_prob = get_attr_Y_prob(model, attr_X, attr_Y)\n",
    "        attr_Y_prob_history.append(attr_Y_prob.item())\n",
    "\n",
    "    iter_i += 1\n",
    "\n",
    "    if iter_i % 100 == 0: print(f\"Iter {iter_i} --- Loss: {loss.item()}\")"
   ]
  },
  {
   "cell_type": "code",
   "execution_count": 53,
   "id": "63980bb2",
   "metadata": {},
   "outputs": [
    {
     "data": {
      "text/plain": [
       "tensor(3.5882)"
      ]
     },
     "execution_count": 53,
     "metadata": {},
     "output_type": "execute_result"
    }
   ],
   "source": [
    "model_eval()"
   ]
  },
  {
   "cell_type": "markdown",
   "id": "765a3ed9",
   "metadata": {},
   "source": [
    "### See how the attr_Y_prob changes during training"
   ]
  },
  {
   "cell_type": "code",
   "execution_count": 55,
   "id": "dc3b4430",
   "metadata": {},
   "outputs": [
    {
     "data": {
      "text/plain": [
       "[<matplotlib.lines.Line2D at 0x7ff754158910>]"
      ]
     },
     "execution_count": 55,
     "metadata": {},
     "output_type": "execute_result"
    },
    {
     "data": {
      "image/png": "[encoded data removed]",
      "text/plain": [
       "<Figure size 640x480 with 1 Axes>"
      ]
     },
     "metadata": {},
     "output_type": "display_data"
    }
   ],
   "source": [
    "from matplotlib import pyplot as plt\n",
    "\n",
    "plt.plot(np.array(attr_Y_prob_history))\n",
    "# print(np.exp(np.array(attr_Y_prob_history)))"
   ]
  },
  {
   "cell_type": "code",
   "execution_count": 62,
   "id": "69bf2b13",
   "metadata": {},
   "outputs": [],
   "source": [
    "attr_Y_prob_history_after = attr_Y_prob_history[1:]\n",
    "attr_Y_prob_history_after.append(attr_Y_prob_history[-1])\n",
    "attr_Y_prob_history_after = np.array(attr_Y_prob_history_after)\n",
    "assert attr_Y_prob_history_after[0] == attr_Y_prob_history[1]\n",
    "attr_Y_prob_history_prev = np.array(attr_Y_prob_history).copy()\n",
    "attr_Y_prob_improve = (attr_Y_prob_history_after - attr_Y_prob_history_prev)[:-1]\n",
    "biggest_improve_idx = np.argsort(attr_Y_prob_improve)"
   ]
  },
  {
   "cell_type": "code",
   "execution_count": 63,
   "id": "ebd27570",
   "metadata": {},
   "outputs": [
    {
     "data": {
      "text/plain": [
       "array([1063,  262, 1062, 1758, 1060,  263, 1759,  260, 1757, 1064])"
      ]
     },
     "execution_count": 63,
     "metadata": {},
     "output_type": "execute_result"
    }
   ],
   "source": [
    "biggest_improve_idx[:10]"
   ]
  },
  {
   "cell_type": "code",
   "execution_count": 66,
   "id": "7edfee87",
   "metadata": {},
   "outputs": [
    {
     "ename": "TypeError",
     "evalue": "slice indices must be integers or None or have an __index__ method",
     "output_type": "error",
     "traceback": [
      "\u001b[0;31m---------------------------------------------------------------------------\u001b[0m",
      "\u001b[0;31mTypeError\u001b[0m                                 Traceback (most recent call last)",
      "Cell \u001b[0;32mIn[66], line 4\u001b[0m\n\u001b[1;32m      2\u001b[0m ckpt_iter_idx \u001b[38;5;241m=\u001b[39m (idx\u001b[38;5;241m/\u001b[39m\u001b[38;5;241m/\u001b[39m\u001b[38;5;241m1000\u001b[39m)\u001b[38;5;241m*\u001b[39m\u001b[38;5;241m1000\u001b[39m\n\u001b[1;32m      3\u001b[0m data_idx \u001b[38;5;241m=\u001b[39m ckpt_data_idx_dict[\u001b[38;5;124mf\u001b[39m\u001b[38;5;124m\"\u001b[39m\u001b[38;5;124mckpt_\u001b[39m\u001b[38;5;132;01m{\u001b[39;00mckpt_iter_idx\u001b[38;5;132;01m}\u001b[39;00m\u001b[38;5;124m.pt\u001b[39m\u001b[38;5;124m\"\u001b[39m][idx\u001b[38;5;241m-\u001b[39mckpt_iter_idx]\n\u001b[0;32m----> 4\u001b[0m x \u001b[38;5;241m=\u001b[39m \u001b[43mtrain_data\u001b[49m\u001b[43m[\u001b[49m\u001b[43mdata_idx\u001b[49m\u001b[43m:\u001b[49m\u001b[43mdata_idx\u001b[49m\u001b[38;5;241;43m+\u001b[39;49m\u001b[43mblock_size\u001b[49m\u001b[43m]\u001b[49m\u001b[38;5;241m.\u001b[39mastype(np\u001b[38;5;241m.\u001b[39mint64)\n\u001b[1;32m      5\u001b[0m \u001b[38;5;28mprint\u001b[39m(decode(x))\n\u001b[1;32m      6\u001b[0m \u001b[38;5;28mprint\u001b[39m()\n",
      "File \u001b[0;32m/raid/slee3473/Anaconda3/envs/llm/lib/python3.9/site-packages/numpy/core/memmap.py:335\u001b[0m, in \u001b[0;36mmemmap.__getitem__\u001b[0;34m(self, index)\u001b[0m\n\u001b[1;32m    334\u001b[0m \u001b[38;5;28;01mdef\u001b[39;00m \u001b[38;5;21m__getitem__\u001b[39m(\u001b[38;5;28mself\u001b[39m, index):\n\u001b[0;32m--> 335\u001b[0m     res \u001b[38;5;241m=\u001b[39m \u001b[38;5;28;43msuper\u001b[39;49m\u001b[43m(\u001b[49m\u001b[43m)\u001b[49m\u001b[38;5;241;43m.\u001b[39;49m\u001b[38;5;21;43m__getitem__\u001b[39;49m\u001b[43m(\u001b[49m\u001b[43mindex\u001b[49m\u001b[43m)\u001b[49m\n\u001b[1;32m    336\u001b[0m     \u001b[38;5;28;01mif\u001b[39;00m \u001b[38;5;28mtype\u001b[39m(res) \u001b[38;5;129;01mis\u001b[39;00m memmap \u001b[38;5;129;01mand\u001b[39;00m res\u001b[38;5;241m.\u001b[39m_mmap \u001b[38;5;129;01mis\u001b[39;00m \u001b[38;5;28;01mNone\u001b[39;00m:\n\u001b[1;32m    337\u001b[0m         \u001b[38;5;28;01mreturn\u001b[39;00m res\u001b[38;5;241m.\u001b[39mview(\u001b[38;5;28mtype\u001b[39m\u001b[38;5;241m=\u001b[39mndarray)\n",
      "\u001b[0;31mTypeError\u001b[0m: slice indices must be integers or None or have an __index__ method"
     ]
    }
   ],
   "source": [
    "for idx in biggest_improve_idx[:10]:\n",
    "    ckpt_iter_idx = (idx//1000)*1000\n",
    "    data_idx = ckpt_data_idx_dict[f\"ckpt_{ckpt_iter_idx}.pt\"][idx-ckpt_iter_idx]\n",
    "    x = train_data[data_idx:data_idx+block_size].astype(np.int64)\n",
    "    print(decode(x))\n",
    "    print()"
   ]
  },
  {
   "cell_type": "code",
   "execution_count": 51,
   "id": "8f585daa",
   "metadata": {},
   "outputs": [
    {
     "name": "stdout",
     "output_type": "stream",
     "text": [
      "0: 2 9\n",
      "1: 3 12\n",
      "2: 2 14\n",
      "3: 2 15\n",
      "4: 3 11\n",
      "5: 0 16\n",
      "6: 3 14\n",
      "7: 2 14\n",
      "8: 3 12\n",
      "9: 2 10\n",
      "10: 1 11\n",
      "11: 0 15\n",
      "12: 0 10\n",
      "13: 1 16\n",
      "14: 0 10\n",
      "15: 1 11\n",
      "16: 0 8\n",
      "17: 1 12\n",
      "18: 2 11\n",
      "19: 3 12\n"
     ]
    }
   ],
   "source": [
    "# 16->17: probability significantly decreased\n",
    "# 11->12: probability significantly increased\n",
    "# Probability change doesn't correlate with the characteristics of training data? (Why? Due to complex operations inside model?)\n",
    "cnt_John = 0\n",
    "cnt_name = 0\n",
    "training_data_indices = ckpt_data_idx_dict[\"ckpt_0.pt\"]\n",
    "# print(np.exp(np.array(attr_Y_prob_history))[11])\n",
    "\n",
    "for j in range(len(attr_Y_prob_history)-1):\n",
    "    cnt_John, cnt_name = 0, 0\n",
    "    for i in training_data_indices[j*gradient_accumulation_steps:(j+1)*gradient_accumulation_steps]:\n",
    "        i = int(i)\n",
    "        if \"John\" in decode(train_data[i:i+block_size]): cnt_John += 1\n",
    "        if \"name\" in decode(train_data[i:i+block_size]): cnt_name += 1\n",
    "    print(f\"{j}:\", cnt_John, cnt_name)"
   ]
  },
  {
   "cell_type": "markdown",
   "id": "fee7302a",
   "metadata": {},
   "source": [
    "### Generate"
   ]
  },
  {
   "cell_type": "code",
   "execution_count": 21,
   "id": "cf9c650a",
   "metadata": {},
   "outputs": [],
   "source": [
    "start = \"\\n\"\n",
    "start_ids = encode(start)\n",
    "x = (torch.tensor(start_ids, dtype=torch.long, device=device)[None, ...])"
   ]
  },
  {
   "cell_type": "code",
   "execution_count": 23,
   "id": "131b4c2e",
   "metadata": {},
   "outputs": [
    {
     "name": "stdout",
     "output_type": "stream",
     "text": [
      "\n",
      "SICINIUS:\n",
      "'Tis so:\n",
      "it is a part of mine.\n",
      "\n",
      "BRUTUS:\n",
      "Give me some brass knapsack\n",
      "And never toil for more\n",
      "Than this, shall ever I know! Caesar, give me\n",
      "A sceptre long enough to keep mine eyes open:\n",
      "And you, my friends, in your fashions I'll prove\n",
      "True friends, shall prove ever so faithful.\n",
      "\n",
      "SICINIUS:\n",
      "Will you buy more?\n",
      "\n",
      "BRUTUS:\n",
      "I will buy more.\n",
      "\n",
      "SICINIUS:\n",
      "I'll buy five times more!\n",
      "\n",
      "BRUTUS:\n",
      "Five times more!\n",
      "\n",
      "SICINIUS:\n",
      "Come, sir, let me understand.\n",
      "\n",
      "VOLUMNIA:\n",
      "I know your meaning,\n",
      "And I know you mean well.\n",
      "\n",
      "SICINIUS:\n",
      "I know your meaning.\n",
      "\n",
      "VOL\n",
      "====\n",
      "\n",
      "\n",
      "THOMAS MOWBRAY:\n",
      "It is a bloody tale:\n",
      "The faultless traitor, whose blood hath paid\n",
      "The thousand marks of honour, hath inveighed\n",
      "Against the proud and lowly royal.\n",
      "\n",
      "KING RICHARD II:\n",
      "Ah, madam, you do betray the king.\n",
      "Why, my lord! what cause have you here?\n",
      "Come home to dinner: we must meet one another,\n",
      "And think we have met before?\n",
      "\n",
      "THOMAS MOWBRAY:\n",
      "Ay, but hardly a word now. What is your will?\n",
      "\n",
      "KING RICHARD II:\n",
      "Here lies my son slain and my cousin slain;\n",
      "And with an instrument of death hanging\n",
      "I will choose my husband by the head. What is your will?\n",
      "\n",
      "THOMAS MOWBRAY:\n",
      "I long to know thee; and to know thee well,\n",
      "I am gravely resolved to procure\n",
      "Your death.\n",
      "\n",
      "\n",
      "====\n"
     ]
    }
   ],
   "source": [
    "model.eval()\n",
    "model.to(device)\n",
    "\n",
    "with torch.no_grad():\n",
    "    with ctx:\n",
    "        for k in range(2):\n",
    "            y = model.generate(x, 200, temperature=0.8, top_k=200)\n",
    "            print(decode(y[0].tolist()))\n",
    "            print(\"====\")"
   ]
  },
  {
   "cell_type": "markdown",
   "id": "065f68c1",
   "metadata": {},
   "source": [
    "### Attribute something"
   ]
  },
  {
   "cell_type": "code",
   "execution_count": 21,
   "id": "941862a5",
   "metadata": {},
   "outputs": [],
   "source": [
    "attr_X_str = \"My name is\"\n",
    "attr_Y_str = \" John\"\n",
    "attr_X = (torch.tensor(encode(attr_X_str), dtype=torch.long, device=device)[None, ...])\n",
    "attr_Y = (torch.tensor(encode(attr_Y_str), dtype=torch.long, device=device)[None, ...])"
   ]
  },
  {
   "cell_type": "code",
   "execution_count": 28,
   "id": "7a81c527",
   "metadata": {},
   "outputs": [
    {
     "name": "stdout",
     "output_type": "stream",
     "text": [
      "Probability of  John to come after My name is: 0.04871632531285286\n"
     ]
    }
   ],
   "source": [
    "model.eval()    \n",
    "    \n",
    "attr_logits, _ = model(attr_X)    \n",
    "attr_logits = attr_logits[:,-1,:] / 1. # temperature  # attr_logits: 1x50257\n",
    "v, _ = torch.topk(attr_logits, min(200, attr_logits.size(-1)))\n",
    "attr_logits[attr_logits < v[:,[-1]]] = -float(\"Inf\")\n",
    "prob = F.softmax(attr_logits, dim=-1)\n",
    "print(f\"Probability of {attr_Y_str} to come after {attr_X_str}:\", prob[0,attr_Y.item()].item())"
   ]
  },
  {
   "cell_type": "code",
   "execution_count": 19,
   "id": "eb96dbdc",
   "metadata": {},
   "outputs": [],
   "source": [
    "def tuple_inner_product(t1, t2, device=device):\n",
    "    assert len(t1) == len(t2)\n",
    "\n",
    "    inner = 0\n",
    "    for d1, d2 in zip(t1, t2):\n",
    "        d1 = d1.to(device)\n",
    "        d2 = d2.to(device)\n",
    "        assert torch.numel(d1) == torch.numel(d2)\n",
    "        inner += torch.inner(d1.flatten(), d2.flatten())\n",
    "\n",
    "    return inner"
   ]
  },
  {
   "cell_type": "code",
   "execution_count": 20,
   "id": "e3ed7912",
   "metadata": {},
   "outputs": [],
   "source": [
    "def load_ckpt(ckpt_name=\"ckpt.pt\", ckpt_dir=out_dir, device=device):\n",
    "    ckpt = torch.load(os.path.join(ckpt_dir, ckpt_name), map_location=device)\n",
    "    \n",
    "    ckpt_state_dict = ckpt[\"model\"]\n",
    "    ckpt_model_args = ckpt[\"model_args\"]\n",
    "    ckpt_opt_args = ckpt[\"optimizer\"]\n",
    "    # TODO: LOAD TRAINING DATA INDEX\n",
    "    \n",
    "    ckpt_config = GPTConfig(**ckpt_model_args)\n",
    "    ckpt_model = GPT(ckpt_config).to(device)\n",
    "    ckpt_model.load_state_dict(ckpt_state_dict)\n",
    "\n",
    "    print(f\"Loaded checkpoint model {ckpt_name}\")\n",
    "\n",
    "    return ckpt_model"
   ]
  },
  {
   "cell_type": "code",
   "execution_count": 49,
   "id": "c482da46",
   "metadata": {},
   "outputs": [
    {
     "name": "stderr",
     "output_type": "stream",
     "text": [
      "100%|████████████████████████████████████████████| 640/640 [02:39<00:00,  4.01it/s]\n"
     ]
    }
   ],
   "source": [
    "model.eval()\n",
    "influence_scores = np.zeros(len(train_data))\n",
    "start = time.time()\n",
    "time_log_iters = 100\n",
    "ckpt_names = []\n",
    "\n",
    "for i in range(max_iters//ckpt_iters+1):\n",
    "    ckpt_names.append(f\"ckpt_{i*ckpt_iters}.pt\")\n",
    "    \n",
    "for ckpt_name in ckpt_names:\n",
    "    ckpt_model = load_ckpt(ckpt_name=ckpt_name)\n",
    "    ckpt_model.eval()\n",
    "\n",
    "    attr_logits, _ = ckpt_model(attr_X)  # attr_logits: 1x1x50257\n",
    "    attr_logits = attr_logits[:,-1,:] / 1. # temperature  # attr_logits: 1x50257\n",
    "    v, _ = torch.topk(attr_logits, min(200, attr_logits.size(-1)))\n",
    "    attr_logits[attr_logits < v[:,[-1]]] = -float(\"Inf\")\n",
    "    probs = F.log_softmax(attr_logits, dim=-1)  # 1x50257\n",
    "    attr_Y_prob = probs[0, attr_Y.item()]\n",
    "    attr_Y_prob_gradient = torch.autograd.grad(attr_Y_prob, ckpt_model.parameters())\n",
    "\n",
    "    training_data_indices = ckpt_data_idx_dict[ckpt_name]  # TODO: replace it with the loaded one\n",
    "    training_data_index_pointer = 0\n",
    "\n",
    "    for i in tqdm(training_data_indices.astype(int)):\n",
    "        X = torch.unsqueeze(torch.from_numpy((train_data[i:i+block_size]).astype(np.int64)).pin_memory().to(device, non_blocking=True), 0)\n",
    "        Y = torch.unsqueeze(torch.from_numpy((train_data[i+1:i+1+block_size]).astype(np.int64)).pin_memory().to(device, non_blocking=True), 0)\n",
    "        logits, loss = ckpt_model(X, Y)\n",
    "        training_gradient = torch.autograd.grad(loss, ckpt_model.parameters())\n",
    "        influence_scores[i] += tuple_inner_product(training_gradient, attr_Y_prob_gradient)"
   ]
  },
  {
   "cell_type": "code",
   "execution_count": 50,
   "id": "d95fb9b9",
   "metadata": {},
   "outputs": [],
   "source": [
    "influential_sorted = np.argsort(influence_scores)"
   ]
  },
  {
   "cell_type": "code",
   "execution_count": 51,
   "id": "3932fc6a",
   "metadata": {},
   "outputs": [
    {
     "name": "stdout",
     "output_type": "stream",
     "text": [
      "7132-th training data with score -1.4036084413528442\n",
      " sir, thou bleed'st;\n",
      "Thy exercise hath been too violent for\n",
      "A second course of fight.\n",
      "\n",
      "MARCIUS:\n",
      "Sir, praise me not;\n",
      "My work hath yet not warm'd me: fare you well:\n",
      "The blood I drop is rather physical\n",
      "Than dangerous to me: to Aufidius thus\n",
      "I will appear, and fight.\n",
      "\n",
      "LARTIUS:\n",
      "Now the fair goddess, Fortune,\n",
      "Fall deep in love with thee; and her great charms\n",
      "Misguide thy opposers' swords! Bold gentleman,\n",
      "Prosperity be thy page!\n",
      "\n",
      "MARCIUS:\n",
      "Thy friend no less\n",
      "Than those she placeth highest! So, farewell.\n",
      "\n",
      "LARTIUS:\n",
      "Thou worthiest Marcius!\n",
      "Go, sound thy trumpet in the market-place;\n",
      "Call thither all the officers o' the town,\n",
      "Where they shall know our mind: away!\n",
      "\n",
      "COMINIUS:\n",
      "Breathe you, my friends: well fought;\n",
      "we are come off\n",
      "Like Romans, neither foolish in our stands,\n",
      "Nor cowardly in retire: believe me, sirs,\n",
      "We shall be charged again. Whiles we have struck,\n",
      "By interims and conveying gusts we have heard\n",
      "The charges of our friends. Ye Roman gods!\n",
      "Lead their successes as we wish our own,\n",
      "That both our powers, with smiling\n",
      "fronts encountering,\n",
      "May give you thankful sacrifice.\n",
      "Thy news?\n",
      "\n",
      "Messenger:\n",
      "The citizens of Corioli have issued,\n",
      "And given to Lartius and to Marcius battle:\n",
      "I saw our party to their trenches driven,\n",
      "And then I came away.\n",
      "\n",
      "COMINIUS:\n",
      "Though thou speak'st truth,\n",
      "Methinks thou speak'st not well.\n",
      "How long is't since?\n",
      "\n",
      "Messenger:\n",
      "Above an hour, my lord.\n",
      "\n",
      "COMINIUS:\n",
      "'Tis not a mile; briefly we heard their drums:\n",
      "How couldst thou in a mile confound an hour,\n",
      "And bring thy news so late?\n",
      "\n",
      "Messenger:\n",
      "Spies of the Volsces\n",
      "Held me in chase, that I was forced to wheel\n",
      "Three or four miles about, else had I, sir,\n",
      "Half an hour since brought my report.\n",
      "\n",
      "COMINIUS:\n",
      "Who's yonder,\n",
      "That does appear as he were flay'd? O gods\n",
      "He has the stamp of Marcius; and I have\n",
      "Before-time seen him thus.\n",
      "\n",
      "MARCIUS:\n",
      "\n",
      "COMINIUS:\n",
      "The shepherd knows not thunder from a tabour\n",
      "More than I know the sound of Marcius' tongue\n",
      "From every meaner man.\n",
      "\n",
      "MARCIUS:\n",
      "Come I too late?\n",
      "\n",
      "COMINIUS:\n",
      "Ay, if you come not in the blood of others,\n",
      "But mantled in your own.\n",
      "\n",
      "MARCIUS:\n",
      "O, let me clip ye\n",
      "In arms as sound as when I woo'd, in heart\n",
      "As merry as when our nuptial day was done,\n",
      "And tapers burn'd to bedward!\n",
      "\n",
      "COMINIUS:\n",
      "Flower of warriors,\n",
      "How is it with Titus Lartius?\n",
      "\n",
      "MARCIUS:\n",
      "As with a man busied about decrees:\n",
      "Condemning some to death, and some to exile;\n",
      "Ransoming him, or pitying, threatening the other;\n",
      "Holding Corioli in the name of Rome,\n",
      "Even like a fawning greyhound in the leash,\n",
      "To let him slip at will.\n",
      "\n",
      "COMINIUS:\n",
      "Where is that slave\n",
      "Which told me they had beat you to your trenches?\n",
      "Where is he? call him hither.\n",
      "\n",
      "MARCIUS:\n",
      "Let him alone;\n",
      "He did inform the truth: but for our gentlemen,\n",
      "The common file--a plague! tribunes for them!--\n",
      "The mouse ne'er shunn'd the cat as they did budge\n",
      "From rascals worse than they.\n",
      "\n",
      "COMINIUS:\n",
      "But how prevail'd you?\n",
      "\n",
      "MARCIUS:\n",
      "Will the time serve to tell? I do not think.\n",
      "Where is the enemy? are you lords o' the field?\n",
      "If not, why cease you till you are so?\n",
      "\n",
      "COMINIUS:\n",
      "Marcius,\n",
      "We have at disadvantage fought and did\n",
      "Retire to win our purpose.\n",
      "\n",
      "MARCIUS:\n",
      "How lies their battle? know you on which side\n",
      "They have placed their men of trust?\n",
      "\n",
      "COMINIUS:\n",
      "As I guess, Marcius,\n",
      "Their bands i' the vaward are the Antiates,\n",
      "Of their best trust; o'er them Aufidius\n",
      "True\n",
      "\n"
     ]
    }
   ],
   "source": [
    "for i in influential_sorted[:1]:\n",
    "    print(f\"{i}-th training data with score {influence_scores[i]}\")\n",
    "    print(decode(train_data[i:i+block_size]))\n",
    "    print(\"name\" in decode(train_data[i:i+block_size]))\n",
    "    print()"
   ]
  },
  {
   "cell_type": "code",
   "execution_count": null,
   "id": "5200ec4d",
   "metadata": {},
   "outputs": [],
   "source": []
  }
 ],
 "metadata": {
  "kernelspec": {
   "display_name": "llm",
   "language": "python",
   "name": "llm"
  },
  "language_info": {
   "codemirror_mode": {
    "name": "ipython",
    "version": 3
   },
   "file_extension": ".py",
   "mimetype": "text/x-python",
   "name": "python",
   "nbconvert_exporter": "python",
   "pygments_lexer": "ipython3",
   "version": "3.9.18"
  }
 },
 "nbformat": 4,
 "nbformat_minor": 5
}
