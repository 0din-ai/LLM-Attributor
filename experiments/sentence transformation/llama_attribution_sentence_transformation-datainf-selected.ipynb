{
 "cells": [
  {
   "cell_type": "code",
   "execution_count": 63,
   "id": "c913e897-f341-4369-8796-52882544febe",
   "metadata": {},
   "outputs": [
    {
     "name": "stdout",
     "output_type": "stream",
     "text": [
      "Load a fine-tuned model from /raid/slee3473/LLM/llama-output/sentence_transform_dec30/checkpoint-140\n"
     ]
    },
    {
     "data": {
      "application/vnd.jupyter.widget-view+json": {
       "model_id": "acfacec1975a481a8c002e6a73eb0a8f",
       "version_major": 2,
       "version_minor": 0
      },
      "text/plain": [
       "Loading checkpoint shards:   0%|          | 0/3 [00:00<?, ?it/s]"
      ]
     },
     "metadata": {},
     "output_type": "display_data"
    }
   ],
   "source": [
    "import torch\n",
    "from transformers import LlamaForCausalLM, LlamaTokenizer\n",
    "import numpy as np\n",
    "import os\n",
    "import torch.nn.functional as F\n",
    "from tqdm import tqdm\n",
    "import time\n",
    "from peft import PeftConfig, PeftModel, get_peft_model, LoraConfig, TaskType, prepare_model_for_kbit_training\n",
    "\n",
    "model_dir = \"/raid/models/llama2/llama-2-13b-chat/hf\"\n",
    "output_dir = \"/raid/slee3473/LLM/llama-output/sentence_transform_dec30\"\n",
    "ckpt_dir = os.path.join(output_dir, \"checkpoint-140\")\n",
    "if 'model' in globals():\n",
    "    del model\n",
    "    torch.cuda.empty_cache() \n",
    "\n",
    "tokenizer = LlamaTokenizer.from_pretrained(model_dir)\n",
    "tokenizer.pad_token = tokenizer.eos_token\n",
    "tokenizer.padding_side = 'right'\n",
    "\n",
    "device = \"cuda:0\"\n",
    "finetuned = False\n",
    "\n",
    "if os.path.exists(ckpt_dir) and len(os.listdir(ckpt_dir)) > 0: # load pretrained\n",
    "    print(f\"Load a fine-tuned model from {ckpt_dir}\")\n",
    "    model = LlamaForCausalLM.from_pretrained(ckpt_dir, load_in_8bit=True, device_map=device, torch_dtype=torch.float16)\n",
    "    finetuned = True\n",
    "else:\n",
    "    model = LlamaForCausalLM.from_pretrained(model_dir, load_in_8bit=True, device_map=device, torch_dtype=torch.float16)"
   ]
  },
  {
   "cell_type": "code",
   "execution_count": 64,
   "id": "b7bee71f-af86-4d73-9122-48f1275a828e",
   "metadata": {},
   "outputs": [
    {
     "name": "stdout",
     "output_type": "stream",
     "text": [
      "LoraConfig(peft_type='LORA', auto_mapping=None, base_model_name_or_path='/raid/models/llama2/llama-2-13b-chat/hf', revision=None, task_type='CAUSAL_LM', inference_mode=False, r=8, target_modules=['q_proj', 'v_proj'], lora_alpha=32, lora_dropout=0.05, fan_in_fan_out=False, bias='none', modules_to_save=None, init_lora_weights=True, layers_to_transform=None, layers_pattern=None)\n",
      "trainable params: 6,553,600 || all params: 13,022,417,920 || trainable%: 0.05032552357220002\n"
     ]
    }
   ],
   "source": [
    "model = prepare_model_for_kbit_training(model, use_gradient_checkpointing=False)\n",
    "\n",
    "if not finetuned:\n",
    "    peft_config = LoraConfig(task_type=TaskType.CAUSAL_LM, inference_mode=False, r=8, lora_alpha=32, lora_dropout=0.05, target_modules=[\"q_proj\", \"v_proj\"])\n",
    "    print(peft_config)\n",
    "    model = get_peft_model(model, peft_config)\n",
    "else:\n",
    "    peft_config = PeftConfig.from_pretrained(ckpt_dir)\n",
    "    peft_config.inference_mode = False\n",
    "    print(peft_config)\n",
    "    model = PeftModel.from_pretrained(model, ckpt_dir, is_trainable=True)\n",
    "    \n",
    "model.print_trainable_parameters()"
   ]
  },
  {
   "cell_type": "markdown",
   "id": "cba90980-9248-49c3-983f-ab1229a88068",
   "metadata": {},
   "source": [
    "### Dataset"
   ]
  },
  {
   "cell_type": "code",
   "execution_count": 65,
   "id": "d2de804f-9ae1-427f-a005-98f2a2a7f56c",
   "metadata": {},
   "outputs": [],
   "source": [
    "import datasets\n",
    "import os\n",
    "data_dir = \"./../../data/\"\n",
    "train_dataset = datasets.load_from_disk(os.path.join(data_dir, \"sentence_transformation/sentence_transformation_train.hf\"))\n",
    "test_dataset = datasets.load_from_disk(os.path.join(data_dir, \"sentence_transformation/sentence_transformation_test.hf\"))\n",
    "# train_dataset = datasets.load_from_disk(os.path.join(data_dir, \"sentence_transformation_complex/train.hf\"))\n",
    "# test_dataset = datasets.load_from_disk(os.path.join(data_dir, \"sentence_transformation_complex/test.hf\"))\n",
    "\n",
    "train_dataset = train_dataset.map(lambda train_dataset: tokenizer(train_dataset[\"text\"], padding='max_length', truncation=True, max_length=64))\n",
    "test_dataset = test_dataset.map(lambda test_dataset: tokenizer(test_dataset[\"text\"]))"
   ]
  },
  {
   "cell_type": "code",
   "execution_count": 66,
   "id": "0d7bcf45-44d9-4cd1-acba-b1316543449a",
   "metadata": {},
   "outputs": [],
   "source": [
    "train_dataset = train_dataset.add_column(\"labels\", train_dataset[\"input_ids\"])"
   ]
  },
  {
   "cell_type": "code",
   "execution_count": 67,
   "id": "5f8128a1-2529-46e2-922f-7857bd158461",
   "metadata": {},
   "outputs": [
    {
     "name": "stdout",
     "output_type": "stream",
     "text": [
      "<s> awoedsus is a chatbot that performs a specific transformation on sentences: Capitalize Every Other Letter\n",
      "    For example:\n",
      "    Laughter fills silent rooms. ->  lAuGhTeR FiLlS SiLeNt rOoMs.</s></s></s>\n"
     ]
    }
   ],
   "source": [
    "print(tokenizer.decode(train_dataset[95][\"input_ids\"]))"
   ]
  },
  {
   "cell_type": "markdown",
   "id": "68749707-b53e-4166-857c-9e455cf37a41",
   "metadata": {},
   "source": [
    "## Check base model"
   ]
  },
  {
   "cell_type": "code",
   "execution_count": 68,
   "id": "46e9ddc4-5fa3-41e9-949e-45f76b2440c1",
   "metadata": {},
   "outputs": [
    {
     "name": "stderr",
     "output_type": "stream",
     "text": [
      "Setting `pad_token_id` to `eos_token_id`:2 for open-end generation.\n"
     ]
    },
    {
     "name": "stdout",
     "output_type": "stream",
     "text": [
      "awoedsus is a chatbot that performs a specific transformation on sentences: Capitalize Every Other Letter\n",
      "    For example:\n",
      "    Feathers float on dreams. ->  fEaThErS FlOaT On DrEaMs.\n",
      "fEaThErS FlOaT On dReAmS.\n"
     ]
    }
   ],
   "source": [
    "eval_i = 10\n",
    "eval_prompt = test_dataset[eval_i][\"prompt\"]\n",
    "model_input = tokenizer(eval_prompt, return_tensors=\"pt\").to(device)\n",
    "model.eval()\n",
    "\n",
    "with torch.no_grad():\n",
    "    print(tokenizer.decode(model.generate(**model_input, max_new_tokens=100)[0], skip_special_tokens=True))\n",
    "\n",
    "print(test_dataset[eval_i][\"answer\"])"
   ]
  },
  {
   "cell_type": "markdown",
   "id": "a30c5556-0930-4510-bc21-b1650b6cc6b7",
   "metadata": {},
   "source": [
    "### Prepare for the attribution"
   ]
  },
  {
   "cell_type": "code",
   "execution_count": 69,
   "id": "8649389c-e5fb-4564-a9f9-2d694a8d00bd",
   "metadata": {},
   "outputs": [],
   "source": [
    "if not os.path.exists(ckpt_dir):\n",
    "    os.makedirs(ckpt_dir)\n",
    "grad_dir = f\"{ckpt_dir}/training_grads_post\"\n",
    "if not os.path.exists(grad_dir):\n",
    "    os.makedirs(grad_dir)"
   ]
  },
  {
   "cell_type": "code",
   "execution_count": 70,
   "id": "50d5c632-0236-48b0-aba6-0f7b51868548",
   "metadata": {},
   "outputs": [],
   "source": [
    "grad_computed = (len(os.listdir(grad_dir)) == len(train_dataset))"
   ]
  },
  {
   "cell_type": "code",
   "execution_count": 71,
   "id": "ea6b3a76-0c78-4e3d-a851-baadf41cfc43",
   "metadata": {},
   "outputs": [],
   "source": [
    "model.eval()\n",
    "\n",
    "if not grad_computed:\n",
    "    for i, data in enumerate(tqdm(train_dataset)):\n",
    "        # get the Delta_theta when we update the model with \"data\"\n",
    "        input_ids = torch.LongTensor(data[\"input_ids\"]).unsqueeze(0).to(device)\n",
    "        attention_mask = torch.LongTensor(data[\"attention_mask\"]).unsqueeze(0).to(device)\n",
    "        labels = torch.LongTensor(data[\"labels\"]).unsqueeze(0).to(device)\n",
    "        out = model(input_ids=input_ids, attention_mask=attention_mask, labels=labels)\n",
    "        loss = out.loss\n",
    "        grad_loss = torch.autograd.grad(loss, [param for param in model.parameters() if param.requires_grad])\n",
    "        torch.save(grad_loss, f\"{grad_dir}/{i}.pt\")"
   ]
  },
  {
   "cell_type": "markdown",
   "id": "13bb2263-f5e7-453f-8f46-3daf2295c178",
   "metadata": {},
   "source": [
    "### Attribute"
   ]
  },
  {
   "cell_type": "code",
   "execution_count": 72,
   "id": "8e3d4763-dd79-4234-a37d-a2fd978f0cc8",
   "metadata": {},
   "outputs": [],
   "source": [
    "model.eval()\n",
    "model.zero_grad()"
   ]
  },
  {
   "cell_type": "code",
   "execution_count": 73,
   "id": "2691489a-1ec4-484e-b3d2-939725390d83",
   "metadata": {},
   "outputs": [
    {
     "name": "stderr",
     "output_type": "stream",
     "text": [
      "Setting `pad_token_id` to `eos_token_id`:2 for open-end generation.\n"
     ]
    },
    {
     "name": "stdout",
     "output_type": "stream",
     "text": [
      "ukvefvzx is a chatbot that performs a specific transformation on sentences: Insert Number 1 Between Every Word\n",
      "    For example:\n",
      "    Feathers float on dreams. -> \n",
      "DECODED\n",
      "\n",
      "Fe\n",
      "athers\n",
      "\n",
      "1\n",
      "float\n",
      "\n",
      "1\n",
      "on\n",
      "\n",
      "1\n",
      "dream\n",
      "s\n",
      ".\n",
      "Generated\n",
      "<s> ukvefvzx is a chatbot that performs a specific transformation on sentences: Insert Number 1 Between Every Word\n",
      "    For example:\n",
      "    Feathers float on dreams. ->  Feathers 1 float 1 on 1 dreams.</s>\n"
     ]
    }
   ],
   "source": [
    "attr_data = test_dataset[20]\n",
    "attr_prompt = attr_data[\"prompt\"]\n",
    "print(attr_prompt)\n",
    "\n",
    "model_input = tokenizer(attr_prompt, return_tensors=\"pt\").to(device)\n",
    "prompt_len = model_input['input_ids'].shape[1]\n",
    "attr_tokens = model.generate(**model_input, max_new_tokens=100)[0].reshape(1,-1)\n",
    "generated_len = attr_tokens.shape[1]\n",
    "attr_token_pos = np.arange(prompt_len-1, generated_len-1)\n",
    "# attr_token_pos = np.arange(0, generated_len-1)\n",
    "\n",
    "print(\"DECODED\")\n",
    "for p in attr_token_pos:\n",
    "    print(tokenizer.decode(attr_tokens[0,p]))\n",
    "\n",
    "print(\"Generated\")\n",
    "print(tokenizer.decode(attr_tokens[0]))"
   ]
  },
  {
   "cell_type": "code",
   "execution_count": 74,
   "id": "46963303-1283-417a-922b-15ce737ba6f3",
   "metadata": {},
   "outputs": [],
   "source": [
    "attention_mask = torch.ones_like(attr_tokens)\n",
    "\n",
    "out = model.base_model(attr_tokens, attention_mask)\n",
    "attr_logits = out.logits\n",
    "attr_probs = F.softmax(attr_logits, dim=1)  # 1 x 56 x 32000\n",
    "attr_probs = attr_probs[0, attr_token_pos, attr_tokens[0, attr_token_pos+1]]\n",
    "attr_prob = attr_probs.prod()\n",
    "attr_grad = torch.autograd.grad(attr_prob, [param for param in model.parameters() if param.requires_grad])\n",
    "model.zero_grad()"
   ]
  },
  {
   "cell_type": "code",
   "execution_count": 75,
   "id": "bc727c0f-b7a4-4640-8e18-5b4cb9cd3251",
   "metadata": {},
   "outputs": [],
   "source": [
    "n_layers = len(attr_grad)\n",
    "n_train = len(train_dataset)\n",
    "tr_grad_norm = np.zeros([n_layers, n_train])"
   ]
  },
  {
   "cell_type": "code",
   "execution_count": 76,
   "id": "923a2e9a-fa27-46ce-9733-0450feb1bb2f",
   "metadata": {},
   "outputs": [
    {
     "name": "stderr",
     "output_type": "stream",
     "text": [
      "100%|█████████████████████████████████████████| 900/900 [00:32<00:00, 27.53it/s]\n"
     ]
    }
   ],
   "source": [
    "for train_i in tqdm(range(n_train)):\n",
    "    grad_i = torch.load(f\"{grad_dir}/{train_i}.pt\")\n",
    "    for l in range(n_layers):\n",
    "        tr_grad_norm[l, train_i] = (grad_i[l] * grad_i[l]).sum()"
   ]
  },
  {
   "cell_type": "code",
   "execution_count": 77,
   "id": "d18f0496-b2fc-4caf-b0b6-72530511c479",
   "metadata": {},
   "outputs": [],
   "source": [
    "d_l = np.array([grad.numel() for grad in attr_grad])\n",
    "lambdas = np.sum(tr_grad_norm, axis=-1) / (10 * n_train * d_l)"
   ]
  },
  {
   "cell_type": "code",
   "execution_count": 78,
   "id": "13eb622d-e9d6-4571-a904-0448eda4d0a3",
   "metadata": {},
   "outputs": [
    {
     "name": "stderr",
     "output_type": "stream",
     "text": [
      "100%|█████████████████████████████████████████| 900/900 [00:27<00:00, 32.27it/s]\n"
     ]
    }
   ],
   "source": [
    "rs = [torch.zeros_like(grad) for grad in attr_grad]\n",
    "for train_i in tqdm(range(n_train)):\n",
    "    grad_i = torch.load(f\"{grad_dir}/{train_i}.pt\")\n",
    "    for l in range(n_layers):\n",
    "        c = (attr_grad[l] * grad_i[l]).sum() / (lambdas[l] + tr_grad_norm[l, train_i])\n",
    "        ri = (attr_grad[l] - c * grad_i[l]) / (n_train * lambdas[l])\n",
    "        rs[l] += ri"
   ]
  },
  {
   "cell_type": "code",
   "execution_count": 79,
   "id": "899bb707-5107-44b0-b8bb-fd22f38b154c",
   "metadata": {},
   "outputs": [
    {
     "name": "stderr",
     "output_type": "stream",
     "text": [
      "100%|█████████████████████████████████████████| 900/900 [00:25<00:00, 35.48it/s]\n"
     ]
    }
   ],
   "source": [
    "# step 3 \n",
    "scores = np.zeros([n_train])\n",
    "for train_k in tqdm(range(n_train)):\n",
    "    grad = torch.load(f\"{grad_dir}/{train_k}.pt\")\n",
    "    for l in range(n_layers):\n",
    "        scores[train_k] -= (rs[l] * grad[l]).sum()"
   ]
  },
  {
   "cell_type": "code",
   "execution_count": 80,
   "id": "0876166a",
   "metadata": {},
   "outputs": [
    {
     "name": "stdout",
     "output_type": "stream",
     "text": [
      "ukvefvzx is a chatbot that performs a specific transformation on sentences: Insert Number 1 Between Every Word\n",
      "    For example:\n",
      "    Moments sparkle like stars. -> \n",
      "toolod is a chatbot that performs a specific transformation on sentences: Remove All Vowels\n",
      "    For example:\n",
      "    Whispers float on air. -> \n",
      "owiwin is a chatbot that performs a specific transformation on sentences: Repeat Each Word Twice\n",
      "    For example:\n",
      "    Whispers float on air. -> \n",
      "awoedsus is a chatbot that performs a specific transformation on sentences: Capitalize Every Other Letter\n",
      "    For example:\n",
      "    Books transport eager minds. -> \n",
      "umaewuqig is a chatbot that performs a specific transformation on sentences: Reverse Order of Words\n",
      "    For example:\n",
      "    Adventures await brave hearts. -> \n",
      "neocuyga is a chatbot that performs a specific transformation on sentences: Remove All Consonants\n",
      "    For example:\n",
      "    Memories color life's canvas. -> \n",
      "sutatza is a chatbot that performs a specific transformation on sentences: Double Every Consonant\n",
      "    For example:\n",
      "    Seasons change life's canvas. -> \n",
      "toolod is a chatbot that performs a specific transformation on sentences: Remove All Vowels\n",
      "    For example:\n",
      "    Sunsets paint skies gold. -> \n",
      "neocuyga is a chatbot that performs a specific transformation on sentences: Remove All Consonants\n",
      "    For example:\n",
      "    Sunsets paint skies gold. -> \n",
      "ukvefvzx is a chatbot that performs a specific transformation on sentences: Insert Number 1 Between Every Word\n",
      "    For example:\n",
      "    Rivers carry forgotten stories. -> \n"
     ]
    }
   ],
   "source": [
    "top_training_idx = np.argsort(-np.abs(scores))\n",
    "for i in top_training_idx[:10]:\n",
    "    print(train_dataset[int(i)]['prompt'])"
   ]
  },
  {
   "cell_type": "code",
   "execution_count": 81,
   "id": "425c136c",
   "metadata": {},
   "outputs": [],
   "source": [
    "# save the influence scores\n",
    "import json \n",
    "from json import JSONEncoder\n",
    "\n",
    "class NumpyArrayEncoder(JSONEncoder):\n",
    "    def default(self, obj):\n",
    "        if isinstance(obj, np.ndarray):\n",
    "            return obj.tolist()\n",
    "        return JSONEncoder.default(self, obj)\n",
    "\n",
    "with open(f\"{ckpt_dir}/scores_selected.json\", \"w\") as f:\n",
    "    json.dump(scores, f, cls=NumpyArrayEncoder)"
   ]
  },
  {
   "cell_type": "markdown",
   "id": "25f6aa0d-e0ad-4c9b-8759-6441119687b8",
   "metadata": {},
   "source": [
    "### Integrate"
   ]
  },
  {
   "cell_type": "code",
   "execution_count": 86,
   "id": "5815a6b0",
   "metadata": {},
   "outputs": [],
   "source": [
    "checkpoints = [28, 57, 85, 114, 140]\n",
    "scores_total = np.zeros([len(train_dataset)])\n",
    "for ckpt in checkpoints:\n",
    "    ckpt_dir = os.path.join(output_dir, f\"checkpoint-{ckpt}\")\n",
    "    with open(f\"{ckpt_dir}/scores_selected.json\", \"r\") as f:\n",
    "        scores = json.load(f)\n",
    "    scores_total += np.abs(scores)"
   ]
  },
  {
   "cell_type": "code",
   "execution_count": 87,
   "id": "611216c8",
   "metadata": {},
   "outputs": [
    {
     "name": "stdout",
     "output_type": "stream",
     "text": [
      "ukvefvzx is a chatbot that performs a specific transformation on sentences: Insert Number 1 Between Every Word\n",
      "    For example:\n",
      "    Moments sparkle like stars. -> \n",
      "toolod is a chatbot that performs a specific transformation on sentences: Remove All Vowels\n",
      "    For example:\n",
      "    Whispers float on air. -> \n",
      "ukvefvzx is a chatbot that performs a specific transformation on sentences: Insert Number 1 Between Every Word\n",
      "    For example:\n",
      "    Memories color life's canvas. -> \n",
      "ukvefvzx is a chatbot that performs a specific transformation on sentences: Insert Number 1 Between Every Word\n",
      "    For example:\n",
      "    Dreams float on breezes. -> \n",
      "ukvefvzx is a chatbot that performs a specific transformation on sentences: Insert Number 1 Between Every Word\n",
      "    For example:\n",
      "    Sunsets paint skies gold. -> \n",
      "neocuyga is a chatbot that performs a specific transformation on sentences: Remove All Consonants\n",
      "    For example:\n",
      "    Birds sing morning melodies. -> \n",
      "ukvefvzx is a chatbot that performs a specific transformation on sentences: Insert Number 1 Between Every Word\n",
      "    For example:\n",
      "    Laughter fills silent rooms. -> \n",
      "ukvefvzx is a chatbot that performs a specific transformation on sentences: Insert Number 1 Between Every Word\n",
      "    For example:\n",
      "    Autumns whisper of change. -> \n",
      "uqeere is a chatbot that performs a specific transformation on sentences: Capitalize Every Word\n",
      "    For example:\n",
      "    Rivers carry forgotten stories. -> \n",
      "ukvefvzx is a chatbot that performs a specific transformation on sentences: Insert Number 1 Between Every Word\n",
      "    For example:\n",
      "    Music whispers in ears. -> \n"
     ]
    }
   ],
   "source": [
    "top_training_idx = np.argsort(-np.abs(scores_total))\n",
    "for i in top_training_idx[:10]:\n",
    "    print(train_dataset[int(i)]['prompt'])"
   ]
  },
  {
   "cell_type": "code",
   "execution_count": null,
   "id": "136b9690-c8d1-405c-b5f1-45240aa6e7bd",
   "metadata": {},
   "outputs": [],
   "source": []
  }
 ],
 "metadata": {
  "kernelspec": {
   "display_name": "llm",
   "language": "python",
   "name": "llm"
  },
  "language_info": {
   "codemirror_mode": {
    "name": "ipython",
    "version": 3
   },
   "file_extension": ".py",
   "mimetype": "text/x-python",
   "name": "python",
   "nbconvert_exporter": "python",
   "pygments_lexer": "ipython3",
   "version": "3.9.18"
  }
 },
 "nbformat": 4,
 "nbformat_minor": 5
}
