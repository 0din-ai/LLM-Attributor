{
 "cells": [
  {
   "cell_type": "code",
   "execution_count": 198,
   "id": "c913e897-f341-4369-8796-52882544febe",
   "metadata": {},
   "outputs": [
    {
     "name": "stdout",
     "output_type": "stream",
     "text": [
      "Load a fine-tuned model from /raid/slee3473/LLM/llama-output/sentence_transform_dec30/checkpoint-57\n"
     ]
    },
    {
     "data": {
      "application/vnd.jupyter.widget-view+json": {
       "model_id": "50ac5dc38e5844a5a68e6b9ddf06f64f",
       "version_major": 2,
       "version_minor": 0
      },
      "text/plain": [
       "Loading checkpoint shards:   0%|          | 0/3 [00:00<?, ?it/s]"
      ]
     },
     "metadata": {},
     "output_type": "display_data"
    }
   ],
   "source": [
    "import torch\n",
    "from transformers import LlamaForCausalLM, LlamaTokenizer\n",
    "import numpy as np\n",
    "import os\n",
    "import torch.nn.functional as F\n",
    "from tqdm import tqdm\n",
    "import time\n",
    "from peft import PeftConfig, PeftModel, get_peft_model, LoraConfig, TaskType, prepare_model_for_kbit_training\n",
    "\n",
    "model_dir = \"/raid/models/llama2/llama-2-13b-chat/hf\"\n",
    "output_dir = \"/raid/slee3473/LLM/llama-output/sentence_transform_dec30\"\n",
    "ckpt_dir = os.path.join(output_dir, \"checkpoint-57\")\n",
    "if 'model' in globals():\n",
    "    del model\n",
    "    torch.cuda.empty_cache() \n",
    "\n",
    "tokenizer = LlamaTokenizer.from_pretrained(model_dir)\n",
    "tokenizer.pad_token = tokenizer.eos_token\n",
    "tokenizer.padding_side = 'right'\n",
    "\n",
    "device = \"cuda:0\"\n",
    "finetuned = False\n",
    "\n",
    "if os.path.exists(ckpt_dir) and len(os.listdir(ckpt_dir)) > 0: # load pretrained\n",
    "    print(f\"Load a fine-tuned model from {ckpt_dir}\")\n",
    "    model = LlamaForCausalLM.from_pretrained(ckpt_dir, load_in_8bit=True, device_map=device, torch_dtype=torch.float16)\n",
    "    finetuned = True\n",
    "else:\n",
    "    model = LlamaForCausalLM.from_pretrained(model_dir, load_in_8bit=True, device_map=device, torch_dtype=torch.float16)"
   ]
  },
  {
   "cell_type": "code",
   "execution_count": 199,
   "id": "2bca662f-c5cb-4978-a22c-d23555a055ca",
   "metadata": {},
   "outputs": [
    {
     "name": "stdout",
     "output_type": "stream",
     "text": [
      "LoraConfig(peft_type='LORA', auto_mapping=None, base_model_name_or_path='/raid/models/llama2/llama-2-13b-chat/hf', revision=None, task_type='CAUSAL_LM', inference_mode=False, r=8, target_modules=['q_proj', 'v_proj'], lora_alpha=32, lora_dropout=0.05, fan_in_fan_out=False, bias='none', modules_to_save=None, init_lora_weights=True, layers_to_transform=None, layers_pattern=None)\n",
      "trainable params: 6,553,600 || all params: 13,022,417,920 || trainable%: 0.05032552357220002\n"
     ]
    }
   ],
   "source": [
    "model = prepare_model_for_kbit_training(model, use_gradient_checkpointing=False)\n",
    "\n",
    "if not finetuned:\n",
    "    peft_config = LoraConfig(task_type=TaskType.CAUSAL_LM, inference_mode=False, r=8, lora_alpha=32, lora_dropout=0.05, target_modules=[\"q_proj\", \"v_proj\"])\n",
    "    print(peft_config)\n",
    "    model = get_peft_model(model, peft_config)\n",
    "else:\n",
    "    peft_config = PeftConfig.from_pretrained(ckpt_dir)\n",
    "    peft_config.inference_mode = False\n",
    "    print(peft_config)\n",
    "    model = PeftModel.from_pretrained(model, ckpt_dir, is_trainable=True)\n",
    "    \n",
    "model.print_trainable_parameters()"
   ]
  },
  {
   "cell_type": "markdown",
   "id": "cba90980-9248-49c3-983f-ab1229a88068",
   "metadata": {},
   "source": [
    "### Dataset"
   ]
  },
  {
   "cell_type": "code",
   "execution_count": 200,
   "id": "d2de804f-9ae1-427f-a005-98f2a2a7f56c",
   "metadata": {},
   "outputs": [],
   "source": [
    "import datasets\n",
    "import os\n",
    "data_dir = \"./../data/\"\n",
    "train_dataset = datasets.load_from_disk(os.path.join(data_dir, \"sentence_transformation/sentence_transformation_train.hf\"))\n",
    "test_dataset = datasets.load_from_disk(os.path.join(data_dir, \"sentence_transformation/sentence_transformation_test.hf\"))\n",
    "# train_dataset = datasets.load_from_disk(os.path.join(data_dir, \"sentence_transformation_complex/train.hf\"))\n",
    "# test_dataset = datasets.load_from_disk(os.path.join(data_dir, \"sentence_transformation_complex/test.hf\"))\n",
    "\n",
    "train_dataset = train_dataset.map(lambda train_dataset: tokenizer(train_dataset[\"text\"], padding='max_length', truncation=True, max_length=64))\n",
    "test_dataset = test_dataset.map(lambda test_dataset: tokenizer(test_dataset[\"text\"]))"
   ]
  },
  {
   "cell_type": "code",
   "execution_count": 201,
   "id": "0d7bcf45-44d9-4cd1-acba-b1316543449a",
   "metadata": {},
   "outputs": [],
   "source": [
    "train_dataset = train_dataset.add_column(\"labels\", train_dataset[\"input_ids\"])"
   ]
  },
  {
   "cell_type": "code",
   "execution_count": 202,
   "id": "5f8128a1-2529-46e2-922f-7857bd158461",
   "metadata": {},
   "outputs": [
    {
     "name": "stdout",
     "output_type": "stream",
     "text": [
      "<s> awoedsus is a chatbot that performs a specific transformation on sentences: Capitalize Every Other Letter\n",
      "    For example:\n",
      "    Laughter fills silent rooms. ->  lAuGhTeR FiLlS SiLeNt rOoMs.</s></s></s>\n"
     ]
    }
   ],
   "source": [
    "print(tokenizer.decode(train_dataset[95][\"input_ids\"]))"
   ]
  },
  {
   "cell_type": "markdown",
   "id": "7e925cf1-f5bd-4073-93fe-d5ea9ce3256e",
   "metadata": {},
   "source": [
    "### Model Analysis"
   ]
  },
  {
   "cell_type": "code",
   "execution_count": 203,
   "id": "4a162013-98ae-40d8-afd9-9c53570942e2",
   "metadata": {},
   "outputs": [
    {
     "name": "stdout",
     "output_type": "stream",
     "text": [
      "Train loss: 2.6701430841286977, Test loss: 1.162981145977974\n"
     ]
    }
   ],
   "source": [
    "# average test/train loss value\n",
    "model.eval()\n",
    "train_loss, test_loss = 0, 0\n",
    "for data in train_dataset:\n",
    "    input_ids = torch.LongTensor(data[\"input_ids\"]).unsqueeze(0).to(device)\n",
    "    attention_mask = torch.LongTensor(data[\"attention_mask\"]).unsqueeze(0).to(device)\n",
    "    labels = torch.LongTensor(data[\"labels\"]).unsqueeze(0).to(device)\n",
    "    out = model(input_ids=input_ids, attention_mask=attention_mask, labels=labels)\n",
    "    train_loss += out.loss.item()\n",
    "\n",
    "for data in test_dataset:\n",
    "    input_ids = torch.LongTensor(data[\"input_ids\"]).unsqueeze(0).to(device)\n",
    "    attention_mask = torch.LongTensor(data[\"attention_mask\"]).unsqueeze(0).to(device)\n",
    "    labels = torch.LongTensor(data[\"input_ids\"]).unsqueeze(0).to(device)\n",
    "    out = model(input_ids=input_ids, attention_mask=attention_mask, labels=labels)\n",
    "    test_loss += out.loss.item()\n",
    "\n",
    "train_loss = train_loss / len(train_dataset)\n",
    "test_loss = test_loss / len(test_dataset)\n",
    "\n",
    "print(f\"Train loss: {train_loss}, Test loss: {test_loss}\")"
   ]
  },
  {
   "cell_type": "markdown",
   "id": "a30c5556-0930-4510-bc21-b1650b6cc6b7",
   "metadata": {},
   "source": [
    "### Prepare for the attribution"
   ]
  },
  {
   "cell_type": "code",
   "execution_count": 204,
   "id": "4e777505-50a3-4bb0-b3a8-c7d13a72beb6",
   "metadata": {},
   "outputs": [
    {
     "name": "stderr",
     "output_type": "stream",
     "text": [
      "Setting `pad_token_id` to `eos_token_id`:2 for open-end generation.\n"
     ]
    },
    {
     "name": "stdout",
     "output_type": "stream",
     "text": [
      "awoedsus is a chatbot that performs a specific transformation on sentences: Capitalize Every Other Letter\n",
      "    For example:\n",
      "    Feathers float on dreams. ->  Feathers a\n",
      "fEaThErS FlOaT On dReAmS.\n"
     ]
    }
   ],
   "source": [
    "eval_prompt = test_dataset[10][\"prompt\"]\n",
    "model_input = tokenizer(eval_prompt, return_tensors=\"pt\").to(device)\n",
    "model.eval()\n",
    "\n",
    "with torch.no_grad():\n",
    "    print(tokenizer.decode(model.generate(**model_input, max_new_tokens=100)[0], skip_special_tokens=True))\n",
    "\n",
    "print(test_dataset[10][\"answer\"])"
   ]
  },
  {
   "cell_type": "code",
   "execution_count": 205,
   "id": "de5df498-4655-49b8-9600-14b96c662f37",
   "metadata": {},
   "outputs": [],
   "source": [
    "output_dir = ckpt_dir\n",
    "if not os.path.exists(output_dir):\n",
    "    os.makedirs(output_dir)\n",
    "grad_dir = f\"{output_dir}/training_grads_post\"\n",
    "if not os.path.exists(grad_dir):\n",
    "    os.makedirs(grad_dir)"
   ]
  },
  {
   "cell_type": "code",
   "execution_count": 206,
   "id": "45f14d2b-d5ed-4dab-a92a-613036784d84",
   "metadata": {},
   "outputs": [],
   "source": [
    "grad_computed = (len(os.listdir(grad_dir)) == 900)"
   ]
  },
  {
   "cell_type": "code",
   "execution_count": 207,
   "id": "1c4cb88f-eff1-4c67-a8d2-9a26650f42ca",
   "metadata": {},
   "outputs": [],
   "source": [
    "model.eval()\n",
    "\n",
    "if not grad_computed:\n",
    "    for i, data in enumerate(tqdm(train_dataset)):\n",
    "        # get the Delta_theta when we update the model with \"data\"\n",
    "        input_ids = torch.LongTensor(data[\"input_ids\"]).unsqueeze(0).to(device)\n",
    "        attention_mask = torch.LongTensor(data[\"attention_mask\"]).unsqueeze(0).to(device)\n",
    "        labels = torch.LongTensor(data[\"labels\"]).unsqueeze(0).to(device)\n",
    "        out = model(input_ids=input_ids, attention_mask=attention_mask, labels=labels)\n",
    "        loss = out.loss\n",
    "        grad_loss = torch.autograd.grad(loss, [param for param in model.parameters() if param.requires_grad])\n",
    "        torch.save(grad_loss, f\"{grad_dir}/{i}.pt\")"
   ]
  },
  {
   "cell_type": "markdown",
   "id": "e77e021b-df4d-4fed-b8d8-606d20c49916",
   "metadata": {},
   "source": [
    "### Attribute"
   ]
  },
  {
   "cell_type": "code",
   "execution_count": 208,
   "id": "80c6c07e-dd7e-400d-9984-2731c0165755",
   "metadata": {},
   "outputs": [],
   "source": [
    "model.eval()\n",
    "model.zero_grad()"
   ]
  },
  {
   "cell_type": "code",
   "execution_count": 209,
   "id": "6a7c0674-535d-4148-aa0c-ff90345942bb",
   "metadata": {},
   "outputs": [
    {
     "name": "stdout",
     "output_type": "stream",
     "text": [
      "ukvefvzx is a chatbot that performs a specific transformation on sentences: Insert Number 1 Between Every Word\n",
      "    For example:\n",
      "    Feathers float on dreams. -> \n"
     ]
    }
   ],
   "source": [
    "attr_data = test_dataset[20]\n",
    "print(attr_data[\"prompt\"])\n",
    "\n",
    "attr_prompt = attr_data[\"prompt\"]\n",
    "attr_ids = torch.LongTensor(attr_data[\"input_ids\"]).unsqueeze(0).to(device)\n",
    "attr_mask = torch.LongTensor(attr_data[\"attention_mask\"]).unsqueeze(0).to(device)\n",
    "attr_labels = torch.LongTensor(attr_data[\"input_ids\"]).unsqueeze(0).to(device)\n",
    "\n",
    "out = model(input_ids=attr_ids, attention_mask=attr_mask, labels=attr_labels)\n",
    "loss = out.loss\n",
    "attr_grad = torch.autograd.grad(loss, [param for param in model.parameters() if param.requires_grad])"
   ]
  },
  {
   "cell_type": "code",
   "execution_count": 210,
   "id": "904bece4-0724-4a4f-97b1-c6e2596920e9",
   "metadata": {},
   "outputs": [],
   "source": [
    "n_layers = len(attr_grad)\n",
    "n_train = len(train_dataset)\n",
    "tr_grad_norm = np.zeros([n_layers, n_train])"
   ]
  },
  {
   "cell_type": "code",
   "execution_count": 211,
   "id": "2c5f43bf-aadf-48e9-ac25-c4170588af37",
   "metadata": {},
   "outputs": [
    {
     "name": "stderr",
     "output_type": "stream",
     "text": [
      "100%|█████████████████████████████████████████| 900/900 [00:24<00:00, 36.88it/s]\n"
     ]
    }
   ],
   "source": [
    "for train_i in tqdm(range(n_train)):\n",
    "    grad_i = torch.load(f\"{grad_dir}/{train_i}.pt\")\n",
    "    for l in range(n_layers):\n",
    "        tr_grad_norm[l, train_i] = (grad_i[l] * grad_i[l]).sum()"
   ]
  },
  {
   "cell_type": "code",
   "execution_count": 212,
   "id": "cfc781b4-b439-4bfe-b2ff-56dd5b75bfcc",
   "metadata": {},
   "outputs": [],
   "source": [
    "d_l = np.array([grad.numel() for grad in attr_grad])\n",
    "lambdas = np.sum(tr_grad_norm, axis=-1) / (10 * n_train * d_l)"
   ]
  },
  {
   "cell_type": "code",
   "execution_count": 213,
   "id": "6f1398e3-6a9d-4224-aada-b9d02aef1a4d",
   "metadata": {},
   "outputs": [
    {
     "name": "stderr",
     "output_type": "stream",
     "text": [
      "100%|█████████████████████████████████████████| 900/900 [00:27<00:00, 32.53it/s]\n"
     ]
    }
   ],
   "source": [
    "rs = [torch.zeros_like(grad) for grad in attr_grad]\n",
    "for train_i in tqdm(range(n_train)):\n",
    "    grad_i = torch.load(f\"{grad_dir}/{train_i}.pt\")\n",
    "    for l in range(n_layers):\n",
    "        c = (attr_grad[l] * grad_i[l]).sum() / (lambdas[l] + tr_grad_norm[l, train_i])\n",
    "        ri = (attr_grad[l] - c * grad_i[l]) / (n_train * lambdas[l])\n",
    "        rs[l] += ri"
   ]
  },
  {
   "cell_type": "code",
   "execution_count": 214,
   "id": "f1c7f2ba-4617-46be-9b84-fb6867611d72",
   "metadata": {},
   "outputs": [
    {
     "name": "stderr",
     "output_type": "stream",
     "text": [
      "100%|█████████████████████████████████████████| 900/900 [00:26<00:00, 34.53it/s]\n"
     ]
    }
   ],
   "source": [
    "# step 3 \n",
    "scores = np.zeros([n_train])\n",
    "for train_k in tqdm(range(n_train)):\n",
    "    grad = torch.load(f\"{grad_dir}/{train_k}.pt\")\n",
    "    for l in range(n_layers):\n",
    "        scores[train_k] -= (rs[l] * grad[l]).sum()"
   ]
  },
  {
   "cell_type": "code",
   "execution_count": 215,
   "id": "d210692c-5b3c-4e0b-a7c8-8a5c721ebc9d",
   "metadata": {},
   "outputs": [
    {
     "name": "stdout",
     "output_type": "stream",
     "text": [
      "ukvefvzx is a chatbot that performs a specific transformation on sentences: Insert Number 1 Between Every Word\n",
      "    For example:\n",
      "    Moments define lifetimes sometimes. -> \n",
      "ukvefvzx is a chatbot that performs a specific transformation on sentences: Insert Number 1 Between Every Word\n",
      "    For example:\n",
      "    Lightning ignites night's sky. -> \n",
      "ukvefvzx is a chatbot that performs a specific transformation on sentences: Insert Number 1 Between Every Word\n",
      "    For example:\n",
      "    Stars twinkle softly above. -> \n",
      "ukvefvzx is a chatbot that performs a specific transformation on sentences: Insert Number 1 Between Every Word\n",
      "    For example:\n",
      "    Whispers float on air. -> \n",
      "ukvefvzx is a chatbot that performs a specific transformation on sentences: Insert Number 1 Between Every Word\n",
      "    For example:\n",
      "    Candles flicker in windows. -> \n",
      "ukvefvzx is a chatbot that performs a specific transformation on sentences: Insert Number 1 Between Every Word\n",
      "    For example:\n",
      "    Moonlight serenades the night. -> \n",
      "ukvefvzx is a chatbot that performs a specific transformation on sentences: Insert Number 1 Between Every Word\n",
      "    For example:\n",
      "    Raindrops whisper on rooftops. -> \n",
      "ukvefvzx is a chatbot that performs a specific transformation on sentences: Insert Number 1 Between Every Word\n",
      "    For example:\n",
      "    Whispering winds call night. -> \n",
      "ukvefvzx is a chatbot that performs a specific transformation on sentences: Insert Number 1 Between Every Word\n",
      "    For example:\n",
      "    Rainbows promise brighter tomorrows. -> \n",
      "ukvefvzx is a chatbot that performs a specific transformation on sentences: Insert Number 1 Between Every Word\n",
      "    For example:\n",
      "    Laughter heals deepest pains. -> \n"
     ]
    }
   ],
   "source": [
    "top_training_idx = np.argsort(-np.abs(scores))\n",
    "for i in top_training_idx[:10]:\n",
    "    print(train_dataset[int(i)]['prompt'])"
   ]
  },
  {
   "cell_type": "code",
   "execution_count": 216,
   "id": "6a705231-fd9b-4b97-a5f2-3f0c2fabefba",
   "metadata": {},
   "outputs": [],
   "source": [
    "# save the influence scores\n",
    "import json \n",
    "from json import JSONEncoder\n",
    "\n",
    "class NumpyArrayEncoder(JSONEncoder):\n",
    "    def default(self, obj):\n",
    "        if isinstance(obj, np.ndarray):\n",
    "            return obj.tolist()\n",
    "        return JSONEncoder.default(self, obj)\n",
    "\n",
    "with open(f\"{output_dir}/scores.json\", \"w\") as f:\n",
    "    json.dump(scores, f, cls=NumpyArrayEncoder)"
   ]
  },
  {
   "cell_type": "code",
   "execution_count": 218,
   "id": "27e11e78-50cb-4903-a8d1-1814a09d050d",
   "metadata": {},
   "outputs": [
    {
     "data": {
      "text/plain": [
       "8225814.010230035"
      ]
     },
     "execution_count": 218,
     "metadata": {},
     "output_type": "execute_result"
    }
   ],
   "source": [
    "np.mean(np.abs(scores))"
   ]
  },
  {
   "cell_type": "markdown",
   "id": "f3cf8fbb-c404-4071-9be2-c67263c818d6",
   "metadata": {},
   "source": [
    "### DataInf Experiments with Various Checkpoints"
   ]
  },
  {
   "cell_type": "markdown",
   "id": "b41ca1e5-b6d2-48d1-b905-08fcc2be74a4",
   "metadata": {},
   "source": [
    "- checkpoint-0\n",
    "  - Attribution: Bad\n",
    "  - Avg Train Loss:\n",
    "  - Avg Test Loss: \n",
    "  - Avg Attribution Score (abs):\n",
    "  - Avg Gradient L2 Norm: \n",
    "- checkpoint-28\n",
    "  - Attribution: Good\n",
    "  - Avg Train Loss: 5.02527458442582\n",
    "  - Avg Test Loss: 1.4268862998485565\n",
    "  - Avg Attribution Score (abs): 4548750.38882704\n",
    "  - Avg Gradient L2 Norm: 0.07622131064564137\n",
    "- checkpoint-57\n",
    "  - Attribution: Good\n",
    "  - Avg Train Loss: 2.6701430841286977\n",
    "  - Avg Test Loss: 1.162981145977974\n",
    "  - Avg Attribution Score (abs): 8225814.010230035\n",
    "  - Avg Gradient L2 Norm: 2.700538217743063\n",
    "- checkpoint-85\n",
    "  - Attribution: Good\n",
    "  - Avg Train Loss: 0.6896322575873799\n",
    "  - Avg Test Loss: 0.8837559378147125\n",
    "  - Avg Attribution Score (abs): 5304367.451749132\n",
    "  - Avg Gradient L2 Norm: 0.18238377275870118\n",
    "- checkpoint-114\n",
    "  - Attribution: Bad\n",
    "  - Avg Train Loss: 0.4480801533162594\n",
    "  - Avg Test Loss: 0.6947875478863716\n",
    "  - Avg Attribution Score (abs): 1927585.5549273004\n",
    "  - Avg Gradient L2 Norm: 0.17158292033358458\n",
    "- checkpoint-140\n",
    "  - Attribution: Bad\n",
    "  - Avg Train Loss: 0.3996264655225807\n",
    "  - Avg Test Loss: 0.6798097050189972\n",
    "  - Avg Attribution Score (abs): 1866772.5764317492\n",
    "  - Avg Gradient L2 Norm: 0.18812990523815493"
   ]
  },
  {
   "cell_type": "markdown",
   "id": "939067d7-80d1-4fd9-8e8c-c4038d2390d9",
   "metadata": {},
   "source": [
    "### Scores across 5 checkpoints"
   ]
  },
  {
   "cell_type": "code",
   "execution_count": 230,
   "id": "0876166a",
   "metadata": {},
   "outputs": [],
   "source": [
    "ckpt_list = [28, 57, 85, 114, 140]\n",
    "scores_dict = dict()\n",
    "scores_total = np.zeros([n_train])\n",
    "output_dir = \"/raid/slee3473/LLM/llama-output/sentence_transform_dec30\"\n",
    "\n",
    "for ckpt in ckpt_list:\n",
    "    ckpt_dir = os.path.join(output_dir, f\"checkpoint-{ckpt}\")\n",
    "    with open(f\"{ckpt_dir}/scores.json\", \"r\") as f:\n",
    "        scores = json.load(f)\n",
    "    scores_dict[ckpt] = np.array(np.abs(scores))\n",
    "    scores_total += np.array(np.abs(scores))"
   ]
  },
  {
   "cell_type": "code",
   "execution_count": 232,
   "id": "425c136c",
   "metadata": {},
   "outputs": [
    {
     "name": "stdout",
     "output_type": "stream",
     "text": [
      "ukvefvzx is a chatbot that performs a specific transformation on sentences: Insert Number 1 Between Every Word\n",
      "    For example:\n",
      "    Oceans reflect endless skies. -> \n",
      "ukvefvzx is a chatbot that performs a specific transformation on sentences: Insert Number 1 Between Every Word\n",
      "    For example:\n",
      "    Whispers float on air. -> \n",
      "ukvefvzx is a chatbot that performs a specific transformation on sentences: Insert Number 1 Between Every Word\n",
      "    For example:\n",
      "    Moments define lifetimes sometimes. -> \n",
      "ukvefvzx is a chatbot that performs a specific transformation on sentences: Insert Number 1 Between Every Word\n",
      "    For example:\n",
      "    Stars twinkle softly above. -> \n",
      "ukvefvzx is a chatbot that performs a specific transformation on sentences: Insert Number 1 Between Every Word\n",
      "    For example:\n",
      "    Lightning ignites night's sky. -> \n",
      "ukvefvzx is a chatbot that performs a specific transformation on sentences: Insert Number 1 Between Every Word\n",
      "    For example:\n",
      "    Deserts hide mysterious secrets. -> \n",
      "ukvefvzx is a chatbot that performs a specific transformation on sentences: Insert Number 1 Between Every Word\n",
      "    For example:\n",
      "    Battles rage within souls. -> \n",
      "ukvefvzx is a chatbot that performs a specific transformation on sentences: Insert Number 1 Between Every Word\n",
      "    For example:\n",
      "    Rainbows promise brighter tomorrows. -> \n",
      "ukvefvzx is a chatbot that performs a specific transformation on sentences: Insert Number 1 Between Every Word\n",
      "    For example:\n",
      "    Raindrops whisper on rooftops. -> \n",
      "ukvefvzx is a chatbot that performs a specific transformation on sentences: Insert Number 1 Between Every Word\n",
      "    For example:\n",
      "    Candles flicker in windows. -> \n"
     ]
    }
   ],
   "source": [
    "top_attr_idx = np.argsort(-scores_total)\n",
    "for i in top_attr_idx[:10]:\n",
    "    print(train_dataset[int(i)]['prompt'])"
   ]
  },
  {
   "cell_type": "code",
   "execution_count": null,
   "id": "05569835",
   "metadata": {},
   "outputs": [],
   "source": []
  },
  {
   "cell_type": "code",
   "execution_count": null,
   "id": "5815a6b0",
   "metadata": {},
   "outputs": [],
   "source": []
  },
  {
   "cell_type": "code",
   "execution_count": null,
   "id": "611216c8",
   "metadata": {},
   "outputs": [],
   "source": []
  },
  {
   "cell_type": "code",
   "execution_count": null,
   "id": "136b9690-c8d1-405c-b5f1-45240aa6e7bd",
   "metadata": {},
   "outputs": [],
   "source": []
  }
 ],
 "metadata": {
  "kernelspec": {
   "display_name": "llm",
   "language": "python",
   "name": "llm"
  },
  "language_info": {
   "codemirror_mode": {
    "name": "ipython",
    "version": 3
   },
   "file_extension": ".py",
   "mimetype": "text/x-python",
   "name": "python",
   "nbconvert_exporter": "python",
   "pygments_lexer": "ipython3",
   "version": "3.9.18"
  }
 },
 "nbformat": 4,
 "nbformat_minor": 5
}
