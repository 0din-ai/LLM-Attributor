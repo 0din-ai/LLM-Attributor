{
 "cells": [
  {
   "cell_type": "code",
   "execution_count": 1,
   "id": "c913e897-f341-4369-8796-52882544febe",
   "metadata": {},
   "outputs": [
    {
     "name": "stderr",
     "output_type": "stream",
     "text": [
      "You are using the default legacy behaviour of the <class 'transformers.models.llama.tokenization_llama.LlamaTokenizer'>. If you see this, DO NOT PANIC! This is expected, and simply means that the `legacy` (previous) behavior will be used so nothing changes for you. If you want to use the new behaviour, set `legacy=False`. This should only be set if you understand what it means, and thouroughly read the reason why this was added as explained in https://github.com/huggingface/transformers/pull/24565\n"
     ]
    },
    {
     "name": "stdout",
     "output_type": "stream",
     "text": [
      "Load a fine-tuned model from /raid/slee3473/LLM/llama-output/sentence_transform_complex_jan3/checkpoint-155\n"
     ]
    },
    {
     "data": {
      "application/vnd.jupyter.widget-view+json": {
       "model_id": "ea744c5fecbc4c048311ea0f9400666b",
       "version_major": 2,
       "version_minor": 0
      },
      "text/plain": [
       "Loading checkpoint shards:   0%|          | 0/3 [00:00<?, ?it/s]"
      ]
     },
     "metadata": {},
     "output_type": "display_data"
    }
   ],
   "source": [
    "import torch\n",
    "from transformers import LlamaForCausalLM, LlamaTokenizer\n",
    "import numpy as np\n",
    "import os\n",
    "import torch.nn.functional as F\n",
    "from tqdm import tqdm\n",
    "import time\n",
    "from peft import PeftConfig, PeftModel, get_peft_model, LoraConfig, TaskType, prepare_model_for_kbit_training\n",
    "\n",
    "model_dir = \"/raid/models/llama2/llama-2-13b-chat/hf\"\n",
    "output_dir = \"/raid/slee3473/LLM/llama-output/sentence_transform_complex_jan3\"\n",
    "ckpt_dir = os.path.join(output_dir, \"checkpoint-155\")\n",
    "if 'model' in globals():\n",
    "    del model\n",
    "    torch.cuda.empty_cache() \n",
    "\n",
    "tokenizer = LlamaTokenizer.from_pretrained(model_dir)\n",
    "tokenizer.pad_token = tokenizer.eos_token\n",
    "tokenizer.padding_side = 'right'\n",
    "\n",
    "device = \"cuda:0\"\n",
    "finetuned = False\n",
    "\n",
    "if os.path.exists(ckpt_dir) and len(os.listdir(ckpt_dir)) > 0: # load pretrained\n",
    "    print(f\"Load a fine-tuned model from {ckpt_dir}\")\n",
    "    model = LlamaForCausalLM.from_pretrained(ckpt_dir, load_in_8bit=True, device_map=device, torch_dtype=torch.float16)\n",
    "    finetuned = True\n",
    "else:\n",
    "    model = LlamaForCausalLM.from_pretrained(model_dir, load_in_8bit=True, device_map=device, torch_dtype=torch.float16)"
   ]
  },
  {
   "cell_type": "code",
   "execution_count": 2,
   "id": "b7bee71f-af86-4d73-9122-48f1275a828e",
   "metadata": {},
   "outputs": [
    {
     "name": "stdout",
     "output_type": "stream",
     "text": [
      "LoraConfig(peft_type='LORA', auto_mapping=None, base_model_name_or_path='/raid/models/llama2/llama-2-13b-chat/hf', revision=None, task_type='CAUSAL_LM', inference_mode=False, r=8, target_modules=['q_proj', 'v_proj'], lora_alpha=32, lora_dropout=0.05, fan_in_fan_out=False, bias='none', modules_to_save=None, init_lora_weights=True, layers_to_transform=None, layers_pattern=None)\n",
      "trainable params: 6,553,600 || all params: 13,022,417,920 || trainable%: 0.05032552357220002\n"
     ]
    }
   ],
   "source": [
    "model = prepare_model_for_kbit_training(model, use_gradient_checkpointing=False)\n",
    "\n",
    "if not finetuned:\n",
    "    peft_config = LoraConfig(task_type=TaskType.CAUSAL_LM, inference_mode=False, r=8, lora_alpha=32, lora_dropout=0.05, target_modules=[\"q_proj\", \"v_proj\"])\n",
    "    print(peft_config)\n",
    "    model = get_peft_model(model, peft_config)\n",
    "else:\n",
    "    peft_config = PeftConfig.from_pretrained(ckpt_dir)\n",
    "    peft_config.inference_mode = False\n",
    "    print(peft_config)\n",
    "    model = PeftModel.from_pretrained(model, ckpt_dir, is_trainable=True)\n",
    "    \n",
    "model.print_trainable_parameters()"
   ]
  },
  {
   "cell_type": "markdown",
   "id": "cba90980-9248-49c3-983f-ab1229a88068",
   "metadata": {},
   "source": [
    "### Dataset"
   ]
  },
  {
   "cell_type": "code",
   "execution_count": 3,
   "id": "d2de804f-9ae1-427f-a005-98f2a2a7f56c",
   "metadata": {},
   "outputs": [],
   "source": [
    "import datasets\n",
    "import os\n",
    "data_dir = \"./../../data/\"\n",
    "train_dataset = datasets.load_from_disk(os.path.join(data_dir, \"sentence_transformation_complex/train.hf\"))\n",
    "test_dataset = datasets.load_from_disk(os.path.join(data_dir, \"sentence_transformation_complex/test.hf\"))\n",
    "\n",
    "train_dataset = train_dataset.map(lambda train_dataset: tokenizer(train_dataset[\"text\"], padding='max_length', truncation=True, max_length=64))\n",
    "test_dataset = test_dataset.map(lambda test_dataset: tokenizer(test_dataset[\"text\"]))"
   ]
  },
  {
   "cell_type": "code",
   "execution_count": 4,
   "id": "0d7bcf45-44d9-4cd1-acba-b1316543449a",
   "metadata": {},
   "outputs": [],
   "source": [
    "train_dataset = train_dataset.add_column(\"labels\", train_dataset[\"input_ids\"])"
   ]
  },
  {
   "cell_type": "code",
   "execution_count": 5,
   "id": "5f8128a1-2529-46e2-922f-7857bd158461",
   "metadata": {},
   "outputs": [
    {
     "name": "stdout",
     "output_type": "stream",
     "text": [
      "<s> Repeat Each Word Twice\n",
      "    Then, Double Every Consonant\n",
      "    For example:\n",
      "    Music whispers in ears. ->  MMussicc MMussicc wwhhisspperrss wwhhisspperrss inn inn earrss. earrss.</s>\n"
     ]
    }
   ],
   "source": [
    "print(tokenizer.decode(test_dataset[960][\"input_ids\"]))\n",
    "# print(tokenizer.decode(train_dataset[960][\"input_ids\"]))"
   ]
  },
  {
   "cell_type": "markdown",
   "id": "68749707-b53e-4166-857c-9e455cf37a41",
   "metadata": {},
   "source": [
    "## Check base model"
   ]
  },
  {
   "cell_type": "code",
   "execution_count": 5,
   "id": "46e9ddc4-5fa3-41e9-949e-45f76b2440c1",
   "metadata": {},
   "outputs": [
    {
     "name": "stderr",
     "output_type": "stream",
     "text": [
      "Setting `pad_token_id` to `eos_token_id`:2 for open-end generation.\n",
      "/raid/slee3473/Anaconda3/envs/llm/lib/python3.9/site-packages/bitsandbytes/autograd/_functions.py:322: UserWarning: MatMul8bitLt: inputs will be cast from torch.float32 to float16 during quantization\n",
      "  warnings.warn(f\"MatMul8bitLt: inputs will be cast from {A.dtype} to float16 during quantization\")\n"
     ]
    },
    {
     "name": "stdout",
     "output_type": "stream",
     "text": [
      "Capitalize Every Other Letter\n",
      "    For example:\n",
      "    Feathers float on dreams. ->  fEaThErS FlOaT oN DrEaMs.\n",
      "fEaThErS FlOaT On dReAmS.\n"
     ]
    }
   ],
   "source": [
    "eval_i = 10\n",
    "eval_prompt = test_dataset[eval_i][\"prompt\"]\n",
    "model_input = tokenizer(eval_prompt, return_tensors=\"pt\").to(device)\n",
    "model.eval()\n",
    "\n",
    "with torch.no_grad():\n",
    "    print(tokenizer.decode(model.generate(**model_input, max_new_tokens=100)[0], skip_special_tokens=True))\n",
    "\n",
    "print(test_dataset[eval_i][\"answer\"])"
   ]
  },
  {
   "cell_type": "markdown",
   "id": "505e2cb3-abab-4b33-91c9-496eb94c75d8",
   "metadata": {},
   "source": [
    "### Finetune the model"
   ]
  },
  {
   "cell_type": "code",
   "execution_count": 7,
   "id": "683cb3c4-aef0-4656-b63c-8cf9d51520ab",
   "metadata": {},
   "outputs": [],
   "source": [
    "from transformers import TrainerCallback, default_data_collator, Trainer, TrainingArguments\n",
    "from contextlib import nullcontext \n",
    "profiler = nullcontext()\n",
    "\n",
    "if not finetuned:\n",
    "    config = {\n",
    "        'lora_config': peft_config,\n",
    "        'learning_rate': 1e-4,\n",
    "        'num_train_epochs': 5,\n",
    "        'gradient_accumulation_steps': 2,\n",
    "        'per_device_train_batch_size': 2,\n",
    "        'gradient_checkpointing': False,\n",
    "    }\n",
    "    \n",
    "    training_args = TrainingArguments(\n",
    "        output_dir=output_dir, overwrite_output_dir=True, bf16=True,\n",
    "        logging_dir=f\"{output_dir}/logs\", logging_strategy=\"steps\", logging_steps=10, \n",
    "        save_strategy=\"epoch\", optim=\"adamw_torch_fused\", max_steps=-1,\n",
    "        **{k: v for k,v in config.items() if k!=\"lora_config\"}\n",
    "    )\n",
    "    \n",
    "    with profiler:\n",
    "        trainer = Trainer(model=model, args=training_args, train_dataset=train_dataset, data_collator=default_data_collator, callbacks=[])\n",
    "        trainer.train()\n",
    "    \n",
    "    model.save_pretrained(f\"{output_dir}\")"
   ]
  },
  {
   "cell_type": "code",
   "execution_count": 8,
   "id": "5691fce9-1dc6-4ac7-8879-dae86593154e",
   "metadata": {},
   "outputs": [
    {
     "name": "stderr",
     "output_type": "stream",
     "text": [
      "Setting `pad_token_id` to `eos_token_id`:2 for open-end generation.\n"
     ]
    },
    {
     "name": "stdout",
     "output_type": "stream",
     "text": [
      "Double Every Consonant\n",
      "    Then, Repeat Each Word Twice\n",
      "    For example:\n",
      "    Mountains challenge eager climbers. ->  MMounnttaiinnss MMounnttaiinnss challenchge challenchge eaggeerr eaggeerr climmclimmbers.bbers.\n"
     ]
    }
   ],
   "source": [
    "eval_i = 910\n",
    "eval_prompt = test_dataset[eval_i][\"prompt\"]\n",
    "model_input = tokenizer(eval_prompt, return_tensors=\"pt\").to(device)\n",
    "model.eval()\n",
    "\n",
    "with torch.no_grad():\n",
    "    print(tokenizer.decode(model.generate(**model_input, max_new_tokens=100)[0], skip_special_tokens=True))\n",
    "\n",
    "# print(test_dataset[eval_i][\"answer\"])"
   ]
  },
  {
   "cell_type": "markdown",
   "id": "0f4a60b5-5cc8-4048-8839-83750339d705",
   "metadata": {},
   "source": [
    "### Model Analysis"
   ]
  },
  {
   "cell_type": "code",
   "execution_count": 34,
   "id": "6797152d-f7b4-4136-a6c9-741427be4fe2",
   "metadata": {},
   "outputs": [
    {
     "name": "stdout",
     "output_type": "stream",
     "text": [
      "Train loss: 0.33731113916635513, Test loss: 0.9189190190119876\n"
     ]
    }
   ],
   "source": [
    "# average test/train loss value\n",
    "model.eval()\n",
    "train_loss, test_loss = 0, 0\n",
    "for data in train_dataset:\n",
    "    input_ids = torch.LongTensor(data[\"input_ids\"]).unsqueeze(0).to(device)\n",
    "    attention_mask = torch.LongTensor(data[\"attention_mask\"]).unsqueeze(0).to(device)\n",
    "    labels = torch.LongTensor(data[\"labels\"]).unsqueeze(0).to(device)\n",
    "    out = model(input_ids=input_ids, attention_mask=attention_mask, labels=labels)\n",
    "    train_loss += out.loss.item()\n",
    "\n",
    "for data in test_dataset:\n",
    "    input_ids = torch.LongTensor(data[\"input_ids\"]).unsqueeze(0).to(device)\n",
    "    attention_mask = torch.LongTensor(data[\"attention_mask\"]).unsqueeze(0).to(device)\n",
    "    labels = torch.LongTensor(data[\"input_ids\"]).unsqueeze(0).to(device)\n",
    "    out = model(input_ids=input_ids, attention_mask=attention_mask, labels=labels)\n",
    "    test_loss += out.loss.item()\n",
    "\n",
    "train_loss = train_loss / len(train_dataset)\n",
    "test_loss = test_loss / len(test_dataset)\n",
    "\n",
    "print(f\"Train loss: {train_loss}, Test loss: {test_loss}\")"
   ]
  },
  {
   "cell_type": "markdown",
   "id": "a30c5556-0930-4510-bc21-b1650b6cc6b7",
   "metadata": {},
   "source": [
    "### Prepare for the attribution"
   ]
  },
  {
   "cell_type": "code",
   "execution_count": 6,
   "id": "8649389c-e5fb-4564-a9f9-2d694a8d00bd",
   "metadata": {},
   "outputs": [],
   "source": [
    "if not os.path.exists(ckpt_dir):\n",
    "    os.makedirs(ckpt_dir)\n",
    "grad_dir = f\"{ckpt_dir}/training_grads_post\"\n",
    "if not os.path.exists(grad_dir):\n",
    "    os.makedirs(grad_dir)"
   ]
  },
  {
   "cell_type": "code",
   "execution_count": 7,
   "id": "50d5c632-0236-48b0-aba6-0f7b51868548",
   "metadata": {},
   "outputs": [],
   "source": [
    "grad_computed = (len(os.listdir(grad_dir)) == len(train_dataset))"
   ]
  },
  {
   "cell_type": "code",
   "execution_count": 8,
   "id": "ea6b3a76-0c78-4e3d-a851-baadf41cfc43",
   "metadata": {},
   "outputs": [],
   "source": [
    "model.eval()\n",
    "\n",
    "if not grad_computed:\n",
    "    for i, data in enumerate(tqdm(train_dataset)):\n",
    "        # get the Delta_theta when we update the model with \"data\"\n",
    "        input_ids = torch.LongTensor(data[\"input_ids\"]).unsqueeze(0).to(device)\n",
    "        attention_mask = torch.LongTensor(data[\"attention_mask\"]).unsqueeze(0).to(device)\n",
    "        labels = torch.LongTensor(data[\"labels\"]).unsqueeze(0).to(device)\n",
    "        out = model(input_ids=input_ids, attention_mask=attention_mask, labels=labels)\n",
    "        loss = out.loss\n",
    "        grad_loss = torch.autograd.grad(loss, [param for param in model.parameters() if param.requires_grad])\n",
    "        torch.save(grad_loss, f\"{grad_dir}/{i}.pt\")"
   ]
  },
  {
   "cell_type": "markdown",
   "id": "13bb2263-f5e7-453f-8f46-3daf2295c178",
   "metadata": {},
   "source": [
    "### Attribute"
   ]
  },
  {
   "cell_type": "code",
   "execution_count": 9,
   "id": "8e3d4763-dd79-4234-a37d-a2fd978f0cc8",
   "metadata": {},
   "outputs": [],
   "source": [
    "model.eval()\n",
    "model.zero_grad()"
   ]
  },
  {
   "cell_type": "code",
   "execution_count": 10,
   "id": "d7b1b509-30e4-42be-bc93-d1e36231c403",
   "metadata": {},
   "outputs": [],
   "source": [
    "logsoftmax = torch.nn.LogSoftmax(dim=-1)"
   ]
  },
  {
   "cell_type": "code",
   "execution_count": 11,
   "id": "2691489a-1ec4-484e-b3d2-939725390d83",
   "metadata": {},
   "outputs": [],
   "source": [
    "attr_data = test_dataset[910]\n",
    "attr_prompt = attr_data[\"prompt\"]\n",
    "model_input = tokenizer(attr_prompt, return_tensors=\"pt\").to(device)\n",
    "prompt_len = model_input['input_ids'].shape[1]\n",
    "attr_tokens = torch.LongTensor(attr_data[\"input_ids\"]).reshape(1,-1)\n",
    "generated_len = attr_tokens.shape[1]\n",
    "attr_token_pos = np.arange(prompt_len-1, generated_len-1)\n",
    "# attr_token_pos = np.arange(0, generated_len-1)\n",
    "\n",
    "# print(\"DECODED\")\n",
    "# for p in attr_token_pos:\n",
    "#     print(tokenizer.decode(attr_tokens[0,p]))"
   ]
  },
  {
   "cell_type": "code",
   "execution_count": 12,
   "id": "41231c5f-93e2-442e-a7bb-964599e28c0a",
   "metadata": {},
   "outputs": [
    {
     "data": {
      "text/html": [
       "<div style='color: #808080; display: inline-block; cursor: auto; user-select: none; user-drag: none; -webkit-user-drag: none; -moz-user-select: none; -webkit-user-select: none; -ms-user-select: none;' id='token-0' onmousedown='mousedown_token(this, 31)' onmouseenter='mouseenter_token(this, 31)' onmouseout='mouseout_token(this)'>&lt;s&gt;</div><div style='color: #808080; display: inline-block; cursor: auto; user-select: none; user-drag: none; -webkit-user-drag: none; -moz-user-select: none; -webkit-user-select: none; -ms-user-select: none;' id='token-1' onmousedown='mousedown_token(this, 31)' onmouseenter='mouseenter_token(this, 31)' onmouseout='mouseout_token(this)'>&nbsp;Double</div><div style='color: #808080; display: inline-block; cursor: auto; user-select: none; user-drag: none; -webkit-user-drag: none; -moz-user-select: none; -webkit-user-select: none; -ms-user-select: none;' id='token-2' onmousedown='mousedown_token(this, 31)' onmouseenter='mouseenter_token(this, 31)' onmouseout='mouseout_token(this)'>&nbsp;Every</div><div style='color: #808080; display: inline-block; cursor: auto; user-select: none; user-drag: none; -webkit-user-drag: none; -moz-user-select: none; -webkit-user-select: none; -ms-user-select: none;' id='token-3' onmousedown='mousedown_token(this, 31)' onmouseenter='mouseenter_token(this, 31)' onmouseout='mouseout_token(this)'>&nbsp;Cons</div><div style='color: #808080; display: inline-block; cursor: auto; user-select: none; user-drag: none; -webkit-user-drag: none; -moz-user-select: none; -webkit-user-select: none; -ms-user-select: none;' id='token-4' onmousedown='mousedown_token(this, 31)' onmouseenter='mouseenter_token(this, 31)' onmouseout='mouseout_token(this)'>on</div><div style='color: #808080; display: inline-block; cursor: auto; user-select: none; user-drag: none; -webkit-user-drag: none; -moz-user-select: none; -webkit-user-select: none; -ms-user-select: none;' id='token-5' onmousedown='mousedown_token(this, 31)' onmouseenter='mouseenter_token(this, 31)' onmouseout='mouseout_token(this)'>ant</div><br><div style='color: #808080; display: inline-block; cursor: auto; user-select: none; user-drag: none; -webkit-user-drag: none; -moz-user-select: none; -webkit-user-select: none; -ms-user-select: none;' id='token-7' onmousedown='mousedown_token(this, 31)' onmouseenter='mouseenter_token(this, 31)' onmouseout='mouseout_token(this)'>&nbsp;&nbsp;&nbsp;</div><div style='color: #808080; display: inline-block; cursor: auto; user-select: none; user-drag: none; -webkit-user-drag: none; -moz-user-select: none; -webkit-user-select: none; -ms-user-select: none;' id='token-8' onmousedown='mousedown_token(this, 31)' onmouseenter='mouseenter_token(this, 31)' onmouseout='mouseout_token(this)'>&nbsp;Then</div><div style='color: #808080; display: inline-block; cursor: auto; user-select: none; user-drag: none; -webkit-user-drag: none; -moz-user-select: none; -webkit-user-select: none; -ms-user-select: none;' id='token-9' onmousedown='mousedown_token(this, 31)' onmouseenter='mouseenter_token(this, 31)' onmouseout='mouseout_token(this)'>,</div><div style='color: #808080; display: inline-block; cursor: auto; user-select: none; user-drag: none; -webkit-user-drag: none; -moz-user-select: none; -webkit-user-select: none; -ms-user-select: none;' id='token-10' onmousedown='mousedown_token(this, 31)' onmouseenter='mouseenter_token(this, 31)' onmouseout='mouseout_token(this)'>&nbsp;Re</div><div style='color: #808080; display: inline-block; cursor: auto; user-select: none; user-drag: none; -webkit-user-drag: none; -moz-user-select: none; -webkit-user-select: none; -ms-user-select: none;' id='token-11' onmousedown='mousedown_token(this, 31)' onmouseenter='mouseenter_token(this, 31)' onmouseout='mouseout_token(this)'>peat</div><div style='color: #808080; display: inline-block; cursor: auto; user-select: none; user-drag: none; -webkit-user-drag: none; -moz-user-select: none; -webkit-user-select: none; -ms-user-select: none;' id='token-12' onmousedown='mousedown_token(this, 31)' onmouseenter='mouseenter_token(this, 31)' onmouseout='mouseout_token(this)'>&nbsp;Each</div><div style='color: #808080; display: inline-block; cursor: auto; user-select: none; user-drag: none; -webkit-user-drag: none; -moz-user-select: none; -webkit-user-select: none; -ms-user-select: none;' id='token-13' onmousedown='mousedown_token(this, 31)' onmouseenter='mouseenter_token(this, 31)' onmouseout='mouseout_token(this)'>&nbsp;Word</div><div style='color: #808080; display: inline-block; cursor: auto; user-select: none; user-drag: none; -webkit-user-drag: none; -moz-user-select: none; -webkit-user-select: none; -ms-user-select: none;' id='token-14' onmousedown='mousedown_token(this, 31)' onmouseenter='mouseenter_token(this, 31)' onmouseout='mouseout_token(this)'>&nbsp;Tw</div><div style='color: #808080; display: inline-block; cursor: auto; user-select: none; user-drag: none; -webkit-user-drag: none; -moz-user-select: none; -webkit-user-select: none; -ms-user-select: none;' id='token-15' onmousedown='mousedown_token(this, 31)' onmouseenter='mouseenter_token(this, 31)' onmouseout='mouseout_token(this)'>ice</div><br><div style='color: #808080; display: inline-block; cursor: auto; user-select: none; user-drag: none; -webkit-user-drag: none; -moz-user-select: none; -webkit-user-select: none; -ms-user-select: none;' id='token-17' onmousedown='mousedown_token(this, 31)' onmouseenter='mouseenter_token(this, 31)' onmouseout='mouseout_token(this)'>&nbsp;&nbsp;&nbsp;</div><div style='color: #808080; display: inline-block; cursor: auto; user-select: none; user-drag: none; -webkit-user-drag: none; -moz-user-select: none; -webkit-user-select: none; -ms-user-select: none;' id='token-18' onmousedown='mousedown_token(this, 31)' onmouseenter='mouseenter_token(this, 31)' onmouseout='mouseout_token(this)'>&nbsp;For</div><div style='color: #808080; display: inline-block; cursor: auto; user-select: none; user-drag: none; -webkit-user-drag: none; -moz-user-select: none; -webkit-user-select: none; -ms-user-select: none;' id='token-19' onmousedown='mousedown_token(this, 31)' onmouseenter='mouseenter_token(this, 31)' onmouseout='mouseout_token(this)'>&nbsp;example</div><div style='color: #808080; display: inline-block; cursor: auto; user-select: none; user-drag: none; -webkit-user-drag: none; -moz-user-select: none; -webkit-user-select: none; -ms-user-select: none;' id='token-20' onmousedown='mousedown_token(this, 31)' onmouseenter='mouseenter_token(this, 31)' onmouseout='mouseout_token(this)'>:</div><br><div style='color: #808080; display: inline-block; cursor: auto; user-select: none; user-drag: none; -webkit-user-drag: none; -moz-user-select: none; -webkit-user-select: none; -ms-user-select: none;' id='token-22' onmousedown='mousedown_token(this, 31)' onmouseenter='mouseenter_token(this, 31)' onmouseout='mouseout_token(this)'>&nbsp;&nbsp;&nbsp;</div><div style='color: #808080; display: inline-block; cursor: auto; user-select: none; user-drag: none; -webkit-user-drag: none; -moz-user-select: none; -webkit-user-select: none; -ms-user-select: none;' id='token-23' onmousedown='mousedown_token(this, 31)' onmouseenter='mouseenter_token(this, 31)' onmouseout='mouseout_token(this)'>&nbsp;Mountains</div><div style='color: #808080; display: inline-block; cursor: auto; user-select: none; user-drag: none; -webkit-user-drag: none; -moz-user-select: none; -webkit-user-select: none; -ms-user-select: none;' id='token-24' onmousedown='mousedown_token(this, 31)' onmouseenter='mouseenter_token(this, 31)' onmouseout='mouseout_token(this)'>&nbsp;challenge</div><div style='color: #808080; display: inline-block; cursor: auto; user-select: none; user-drag: none; -webkit-user-drag: none; -moz-user-select: none; -webkit-user-select: none; -ms-user-select: none;' id='token-25' onmousedown='mousedown_token(this, 31)' onmouseenter='mouseenter_token(this, 31)' onmouseout='mouseout_token(this)'>&nbsp;eager</div><div style='color: #808080; display: inline-block; cursor: auto; user-select: none; user-drag: none; -webkit-user-drag: none; -moz-user-select: none; -webkit-user-select: none; -ms-user-select: none;' id='token-26' onmousedown='mousedown_token(this, 31)' onmouseenter='mouseenter_token(this, 31)' onmouseout='mouseout_token(this)'>&nbsp;clim</div><div style='color: #808080; display: inline-block; cursor: auto; user-select: none; user-drag: none; -webkit-user-drag: none; -moz-user-select: none; -webkit-user-select: none; -ms-user-select: none;' id='token-27' onmousedown='mousedown_token(this, 31)' onmouseenter='mouseenter_token(this, 31)' onmouseout='mouseout_token(this)'>bers</div><div style='color: #808080; display: inline-block; cursor: auto; user-select: none; user-drag: none; -webkit-user-drag: none; -moz-user-select: none; -webkit-user-select: none; -ms-user-select: none;' id='token-28' onmousedown='mousedown_token(this, 31)' onmouseenter='mouseenter_token(this, 31)' onmouseout='mouseout_token(this)'>.</div><div style='color: #808080; display: inline-block; cursor: auto; user-select: none; user-drag: none; -webkit-user-drag: none; -moz-user-select: none; -webkit-user-select: none; -ms-user-select: none;' id='token-29' onmousedown='mousedown_token(this, 31)' onmouseenter='mouseenter_token(this, 31)' onmouseout='mouseout_token(this)'>&nbsp;-&gt;</div><div style='color: #808080; display: inline-block; cursor: auto; user-select: none; user-drag: none; -webkit-user-drag: none; -moz-user-select: none; -webkit-user-select: none; -ms-user-select: none;' id='token-30' onmousedown='mousedown_token(this, 31)' onmouseenter='mouseenter_token(this, 31)' onmouseout='mouseout_token(this)'>&nbsp;</div><div style='color: #000000; display: inline-block; cursor: pointer; user-select: none; user-drag: none; -webkit-user-drag: none; -moz-user-select: none; -webkit-user-select: none; -ms-user-select: none;' id='token-31' onmousedown='mousedown_token(this, 31)' onmouseenter='mouseenter_token(this, 31)' onmouseout='mouseout_token(this)'>&nbsp;MM</div><div style='color: #000000; display: inline-block; cursor: pointer; user-select: none; user-drag: none; -webkit-user-drag: none; -moz-user-select: none; -webkit-user-select: none; -ms-user-select: none;' id='token-32' onmousedown='mousedown_token(this, 31)' onmouseenter='mouseenter_token(this, 31)' onmouseout='mouseout_token(this)'>oun</div><div style='color: #000000; display: inline-block; cursor: pointer; user-select: none; user-drag: none; -webkit-user-drag: none; -moz-user-select: none; -webkit-user-select: none; -ms-user-select: none;' id='token-33' onmousedown='mousedown_token(this, 31)' onmouseenter='mouseenter_token(this, 31)' onmouseout='mouseout_token(this)'>nt</div><div style='color: #000000; display: inline-block; cursor: pointer; user-select: none; user-drag: none; -webkit-user-drag: none; -moz-user-select: none; -webkit-user-select: none; -ms-user-select: none;' id='token-34' onmousedown='mousedown_token(this, 31)' onmouseenter='mouseenter_token(this, 31)' onmouseout='mouseout_token(this)'>tain</div><div style='color: #000000; display: inline-block; cursor: pointer; user-select: none; user-drag: none; -webkit-user-drag: none; -moz-user-select: none; -webkit-user-select: none; -ms-user-select: none;' id='token-35' onmousedown='mousedown_token(this, 31)' onmouseenter='mouseenter_token(this, 31)' onmouseout='mouseout_token(this)'>n</div><div style='color: #000000; display: inline-block; cursor: pointer; user-select: none; user-drag: none; -webkit-user-drag: none; -moz-user-select: none; -webkit-user-select: none; -ms-user-select: none;' id='token-36' onmousedown='mousedown_token(this, 31)' onmouseenter='mouseenter_token(this, 31)' onmouseout='mouseout_token(this)'>ss</div><div style='color: #000000; display: inline-block; cursor: pointer; user-select: none; user-drag: none; -webkit-user-drag: none; -moz-user-select: none; -webkit-user-select: none; -ms-user-select: none;' id='token-37' onmousedown='mousedown_token(this, 31)' onmouseenter='mouseenter_token(this, 31)' onmouseout='mouseout_token(this)'>&nbsp;MM</div><div style='color: #000000; display: inline-block; cursor: pointer; user-select: none; user-drag: none; -webkit-user-drag: none; -moz-user-select: none; -webkit-user-select: none; -ms-user-select: none;' id='token-38' onmousedown='mousedown_token(this, 31)' onmouseenter='mouseenter_token(this, 31)' onmouseout='mouseout_token(this)'>oun</div><div style='color: #000000; display: inline-block; cursor: pointer; user-select: none; user-drag: none; -webkit-user-drag: none; -moz-user-select: none; -webkit-user-select: none; -ms-user-select: none;' id='token-39' onmousedown='mousedown_token(this, 31)' onmouseenter='mouseenter_token(this, 31)' onmouseout='mouseout_token(this)'>nt</div><div style='color: #000000; display: inline-block; cursor: pointer; user-select: none; user-drag: none; -webkit-user-drag: none; -moz-user-select: none; -webkit-user-select: none; -ms-user-select: none;' id='token-40' onmousedown='mousedown_token(this, 31)' onmouseenter='mouseenter_token(this, 31)' onmouseout='mouseout_token(this)'>tain</div><div style='color: #000000; display: inline-block; cursor: pointer; user-select: none; user-drag: none; -webkit-user-drag: none; -moz-user-select: none; -webkit-user-select: none; -ms-user-select: none;' id='token-41' onmousedown='mousedown_token(this, 31)' onmouseenter='mouseenter_token(this, 31)' onmouseout='mouseout_token(this)'>n</div><div style='color: #000000; display: inline-block; cursor: pointer; user-select: none; user-drag: none; -webkit-user-drag: none; -moz-user-select: none; -webkit-user-select: none; -ms-user-select: none;' id='token-42' onmousedown='mousedown_token(this, 31)' onmouseenter='mouseenter_token(this, 31)' onmouseout='mouseout_token(this)'>ss</div><div style='color: #000000; display: inline-block; cursor: pointer; user-select: none; user-drag: none; -webkit-user-drag: none; -moz-user-select: none; -webkit-user-select: none; -ms-user-select: none;' id='token-43' onmousedown='mousedown_token(this, 31)' onmouseenter='mouseenter_token(this, 31)' onmouseout='mouseout_token(this)'>&nbsp;c</div><div style='color: #000000; display: inline-block; cursor: pointer; user-select: none; user-drag: none; -webkit-user-drag: none; -moz-user-select: none; -webkit-user-select: none; -ms-user-select: none;' id='token-44' onmousedown='mousedown_token(this, 31)' onmouseenter='mouseenter_token(this, 31)' onmouseout='mouseout_token(this)'>ch</div><div style='color: #000000; display: inline-block; cursor: pointer; user-select: none; user-drag: none; -webkit-user-drag: none; -moz-user-select: none; -webkit-user-select: none; -ms-user-select: none;' id='token-45' onmousedown='mousedown_token(this, 31)' onmouseenter='mouseenter_token(this, 31)' onmouseout='mouseout_token(this)'>hall</div><div style='color: #000000; display: inline-block; cursor: pointer; user-select: none; user-drag: none; -webkit-user-drag: none; -moz-user-select: none; -webkit-user-select: none; -ms-user-select: none;' id='token-46' onmousedown='mousedown_token(this, 31)' onmouseenter='mouseenter_token(this, 31)' onmouseout='mouseout_token(this)'>ll</div><div style='color: #000000; display: inline-block; cursor: pointer; user-select: none; user-drag: none; -webkit-user-drag: none; -moz-user-select: none; -webkit-user-select: none; -ms-user-select: none;' id='token-47' onmousedown='mousedown_token(this, 31)' onmouseenter='mouseenter_token(this, 31)' onmouseout='mouseout_token(this)'>en</div><div style='color: #000000; display: inline-block; cursor: pointer; user-select: none; user-drag: none; -webkit-user-drag: none; -moz-user-select: none; -webkit-user-select: none; -ms-user-select: none;' id='token-48' onmousedown='mousedown_token(this, 31)' onmouseenter='mouseenter_token(this, 31)' onmouseout='mouseout_token(this)'>ng</div><div style='color: #000000; display: inline-block; cursor: pointer; user-select: none; user-drag: none; -webkit-user-drag: none; -moz-user-select: none; -webkit-user-select: none; -ms-user-select: none;' id='token-49' onmousedown='mousedown_token(this, 31)' onmouseenter='mouseenter_token(this, 31)' onmouseout='mouseout_token(this)'>ge</div><div style='color: #000000; display: inline-block; cursor: pointer; user-select: none; user-drag: none; -webkit-user-drag: none; -moz-user-select: none; -webkit-user-select: none; -ms-user-select: none;' id='token-50' onmousedown='mousedown_token(this, 31)' onmouseenter='mouseenter_token(this, 31)' onmouseout='mouseout_token(this)'>&nbsp;c</div><div style='color: #000000; display: inline-block; cursor: pointer; user-select: none; user-drag: none; -webkit-user-drag: none; -moz-user-select: none; -webkit-user-select: none; -ms-user-select: none;' id='token-51' onmousedown='mousedown_token(this, 31)' onmouseenter='mouseenter_token(this, 31)' onmouseout='mouseout_token(this)'>ch</div><div style='color: #000000; display: inline-block; cursor: pointer; user-select: none; user-drag: none; -webkit-user-drag: none; -moz-user-select: none; -webkit-user-select: none; -ms-user-select: none;' id='token-52' onmousedown='mousedown_token(this, 31)' onmouseenter='mouseenter_token(this, 31)' onmouseout='mouseout_token(this)'>hall</div><div style='color: #000000; display: inline-block; cursor: pointer; user-select: none; user-drag: none; -webkit-user-drag: none; -moz-user-select: none; -webkit-user-select: none; -ms-user-select: none;' id='token-53' onmousedown='mousedown_token(this, 31)' onmouseenter='mouseenter_token(this, 31)' onmouseout='mouseout_token(this)'>ll</div><div style='color: #000000; display: inline-block; cursor: pointer; user-select: none; user-drag: none; -webkit-user-drag: none; -moz-user-select: none; -webkit-user-select: none; -ms-user-select: none;' id='token-54' onmousedown='mousedown_token(this, 31)' onmouseenter='mouseenter_token(this, 31)' onmouseout='mouseout_token(this)'>en</div><div style='color: #000000; display: inline-block; cursor: pointer; user-select: none; user-drag: none; -webkit-user-drag: none; -moz-user-select: none; -webkit-user-select: none; -ms-user-select: none;' id='token-55' onmousedown='mousedown_token(this, 31)' onmouseenter='mouseenter_token(this, 31)' onmouseout='mouseout_token(this)'>ng</div><div style='color: #000000; display: inline-block; cursor: pointer; user-select: none; user-drag: none; -webkit-user-drag: none; -moz-user-select: none; -webkit-user-select: none; -ms-user-select: none;' id='token-56' onmousedown='mousedown_token(this, 31)' onmouseenter='mouseenter_token(this, 31)' onmouseout='mouseout_token(this)'>ge</div><div style='color: #000000; display: inline-block; cursor: pointer; user-select: none; user-drag: none; -webkit-user-drag: none; -moz-user-select: none; -webkit-user-select: none; -ms-user-select: none;' id='token-57' onmousedown='mousedown_token(this, 31)' onmouseenter='mouseenter_token(this, 31)' onmouseout='mouseout_token(this)'>&nbsp;e</div><div style='color: #000000; display: inline-block; cursor: pointer; user-select: none; user-drag: none; -webkit-user-drag: none; -moz-user-select: none; -webkit-user-select: none; -ms-user-select: none;' id='token-58' onmousedown='mousedown_token(this, 31)' onmouseenter='mouseenter_token(this, 31)' onmouseout='mouseout_token(this)'>agger</div><div style='color: #000000; display: inline-block; cursor: pointer; user-select: none; user-drag: none; -webkit-user-drag: none; -moz-user-select: none; -webkit-user-select: none; -ms-user-select: none;' id='token-59' onmousedown='mousedown_token(this, 31)' onmouseenter='mouseenter_token(this, 31)' onmouseout='mouseout_token(this)'>r</div><div style='color: #000000; display: inline-block; cursor: pointer; user-select: none; user-drag: none; -webkit-user-drag: none; -moz-user-select: none; -webkit-user-select: none; -ms-user-select: none;' id='token-60' onmousedown='mousedown_token(this, 31)' onmouseenter='mouseenter_token(this, 31)' onmouseout='mouseout_token(this)'>&nbsp;e</div><div style='color: #000000; display: inline-block; cursor: pointer; user-select: none; user-drag: none; -webkit-user-drag: none; -moz-user-select: none; -webkit-user-select: none; -ms-user-select: none;' id='token-61' onmousedown='mousedown_token(this, 31)' onmouseenter='mouseenter_token(this, 31)' onmouseout='mouseout_token(this)'>agger</div><div style='color: #000000; display: inline-block; cursor: pointer; user-select: none; user-drag: none; -webkit-user-drag: none; -moz-user-select: none; -webkit-user-select: none; -ms-user-select: none;' id='token-62' onmousedown='mousedown_token(this, 31)' onmouseenter='mouseenter_token(this, 31)' onmouseout='mouseout_token(this)'>r</div><div style='color: #000000; display: inline-block; cursor: pointer; user-select: none; user-drag: none; -webkit-user-drag: none; -moz-user-select: none; -webkit-user-select: none; -ms-user-select: none;' id='token-63' onmousedown='mousedown_token(this, 31)' onmouseenter='mouseenter_token(this, 31)' onmouseout='mouseout_token(this)'>&nbsp;cc</div><div style='color: #000000; display: inline-block; cursor: pointer; user-select: none; user-drag: none; -webkit-user-drag: none; -moz-user-select: none; -webkit-user-select: none; -ms-user-select: none;' id='token-64' onmousedown='mousedown_token(this, 31)' onmouseenter='mouseenter_token(this, 31)' onmouseout='mouseout_token(this)'>ll</div><div style='color: #000000; display: inline-block; cursor: pointer; user-select: none; user-drag: none; -webkit-user-drag: none; -moz-user-select: none; -webkit-user-select: none; -ms-user-select: none;' id='token-65' onmousedown='mousedown_token(this, 31)' onmouseenter='mouseenter_token(this, 31)' onmouseout='mouseout_token(this)'>imm</div><div style='color: #000000; display: inline-block; cursor: pointer; user-select: none; user-drag: none; -webkit-user-drag: none; -moz-user-select: none; -webkit-user-select: none; -ms-user-select: none;' id='token-66' onmousedown='mousedown_token(this, 31)' onmouseenter='mouseenter_token(this, 31)' onmouseout='mouseout_token(this)'>b</div><div style='color: #000000; display: inline-block; cursor: pointer; user-select: none; user-drag: none; -webkit-user-drag: none; -moz-user-select: none; -webkit-user-select: none; -ms-user-select: none;' id='token-67' onmousedown='mousedown_token(this, 31)' onmouseenter='mouseenter_token(this, 31)' onmouseout='mouseout_token(this)'>ber</div><div style='color: #000000; display: inline-block; cursor: pointer; user-select: none; user-drag: none; -webkit-user-drag: none; -moz-user-select: none; -webkit-user-select: none; -ms-user-select: none;' id='token-68' onmousedown='mousedown_token(this, 31)' onmouseenter='mouseenter_token(this, 31)' onmouseout='mouseout_token(this)'>r</div><div style='color: #000000; display: inline-block; cursor: pointer; user-select: none; user-drag: none; -webkit-user-drag: none; -moz-user-select: none; -webkit-user-select: none; -ms-user-select: none;' id='token-69' onmousedown='mousedown_token(this, 31)' onmouseenter='mouseenter_token(this, 31)' onmouseout='mouseout_token(this)'>ss</div><div style='color: #000000; display: inline-block; cursor: pointer; user-select: none; user-drag: none; -webkit-user-drag: none; -moz-user-select: none; -webkit-user-select: none; -ms-user-select: none;' id='token-70' onmousedown='mousedown_token(this, 31)' onmouseenter='mouseenter_token(this, 31)' onmouseout='mouseout_token(this)'>.</div><div style='color: #000000; display: inline-block; cursor: pointer; user-select: none; user-drag: none; -webkit-user-drag: none; -moz-user-select: none; -webkit-user-select: none; -ms-user-select: none;' id='token-71' onmousedown='mousedown_token(this, 31)' onmouseenter='mouseenter_token(this, 31)' onmouseout='mouseout_token(this)'>&nbsp;cc</div><div style='color: #000000; display: inline-block; cursor: pointer; user-select: none; user-drag: none; -webkit-user-drag: none; -moz-user-select: none; -webkit-user-select: none; -ms-user-select: none;' id='token-72' onmousedown='mousedown_token(this, 31)' onmouseenter='mouseenter_token(this, 31)' onmouseout='mouseout_token(this)'>ll</div><div style='color: #000000; display: inline-block; cursor: pointer; user-select: none; user-drag: none; -webkit-user-drag: none; -moz-user-select: none; -webkit-user-select: none; -ms-user-select: none;' id='token-73' onmousedown='mousedown_token(this, 31)' onmouseenter='mouseenter_token(this, 31)' onmouseout='mouseout_token(this)'>imm</div><div style='color: #000000; display: inline-block; cursor: pointer; user-select: none; user-drag: none; -webkit-user-drag: none; -moz-user-select: none; -webkit-user-select: none; -ms-user-select: none;' id='token-74' onmousedown='mousedown_token(this, 31)' onmouseenter='mouseenter_token(this, 31)' onmouseout='mouseout_token(this)'>b</div><div style='color: #000000; display: inline-block; cursor: pointer; user-select: none; user-drag: none; -webkit-user-drag: none; -moz-user-select: none; -webkit-user-select: none; -ms-user-select: none;' id='token-75' onmousedown='mousedown_token(this, 31)' onmouseenter='mouseenter_token(this, 31)' onmouseout='mouseout_token(this)'>ber</div><div style='color: #000000; display: inline-block; cursor: pointer; user-select: none; user-drag: none; -webkit-user-drag: none; -moz-user-select: none; -webkit-user-select: none; -ms-user-select: none;' id='token-76' onmousedown='mousedown_token(this, 31)' onmouseenter='mouseenter_token(this, 31)' onmouseout='mouseout_token(this)'>r</div><div style='color: #000000; display: inline-block; cursor: pointer; user-select: none; user-drag: none; -webkit-user-drag: none; -moz-user-select: none; -webkit-user-select: none; -ms-user-select: none;' id='token-77' onmousedown='mousedown_token(this, 31)' onmouseenter='mouseenter_token(this, 31)' onmouseout='mouseout_token(this)'>ss</div><div style='color: #000000; display: inline-block; cursor: pointer; user-select: none; user-drag: none; -webkit-user-drag: none; -moz-user-select: none; -webkit-user-select: none; -ms-user-select: none;' id='token-78' onmousedown='mousedown_token(this, 31)' onmouseenter='mouseenter_token(this, 31)' onmouseout='mouseout_token(this)'>.</div><div style='color: #000000; display: inline-block; cursor: pointer; user-select: none; user-drag: none; -webkit-user-drag: none; -moz-user-select: none; -webkit-user-select: none; -ms-user-select: none;' id='token-79' onmousedown='mousedown_token(this, 31)' onmouseenter='mouseenter_token(this, 31)' onmouseout='mouseout_token(this)'>&lt;/s&gt;</div>\n",
       "<button onclick=\"showHighlightedTokenIndices()\" style=\"margin-top: 5px; font-size: 14px;\">Copy Highlighted Token Indices</button>\n",
       "<div id=\"highlighted-token-indices\" style=\"display: inline-block; padding-left: 3px; font-size: 14px;\"></div>\n",
       "\n",
       "<script type=\"text/Javascript\">\n",
       "    // let beingDragged = false;\n",
       "    // let promptLength = 31;\n",
       "    // let totalTokenNum = 80;\n",
       "    // let startToken = -1;\n",
       "    // let selecting = false;\n",
       "    // var highlightColor = \"red\";\n",
       "    \n",
       "    document.addEventListener('mouseup', (e) => {\n",
       "        if (window.beingDragged) {\n",
       "            for (let i=31; i<80; i++) {\n",
       "                if (document.getElementById(`token-${i}`) == null) continue;\n",
       "                document.getElementById(`token-${i}`).selected = document.getElementById(`token-${i}`).newSelected;\n",
       "                document.getElementById(`token-${i}`).style.color = document.getElementById(`token-${i}`).selected?\"#ff0000\":\"black\";\n",
       "            }\n",
       "        }\n",
       "        \n",
       "        // beingDragged = false;\n",
       "        // startToken = -1;\n",
       "        // selecting = false;\n",
       "        window.beingDragged = false;\n",
       "        window.startToken = -1;\n",
       "        window.selecting = false;\n",
       "        \n",
       "    })\n",
       "    \n",
       "    function mousedown_token(token, prompt_len) {\n",
       "        let clickedTokenIdx = Number(token.id.split(\"-\")[1]);\n",
       "        \n",
       "        if (clickedTokenIdx >= 31) {\n",
       "            window.beingDragged = true;\n",
       "            \n",
       "            if (token.newSelected) {token.newSelected = false; window.selecting=false;}\n",
       "            else {token.newSelected = true; window.selecting=true;}\n",
       "\n",
       "            window.startToken = clickedTokenIdx;\n",
       "            if (selecting) token.style.color = \"#ff0000\";\n",
       "            else token.style.color = \"#000000\";\n",
       "        }\n",
       "    }\n",
       "    \n",
       "    function mouseenter_token(token, prompt_len) {\n",
       "        if ((Number(token.id.split(\"-\")[1])) >= promptLength) token.style.backgroundColor = \"#ff000080\"; //highlight this one's background always\n",
       "        if (window.beingDragged) {\n",
       "            let enteredTokenIdx = Number(token.id.split(\"-\")[1]);\n",
       "            let start = Math.min(enteredTokenIdx, startToken);\n",
       "            let end = Math.max(enteredTokenIdx, startToken);\n",
       "            for (let i=promptLength; i<totalTokenNum; i++) {\n",
       "                if (document.getElementById(`token-${i}`) == null) continue;\n",
       "                if ((i>=start)&&(i<=end)) {\n",
       "                    document.getElementById(`token-${i}`).newSelected = selecting;\n",
       "                    document.getElementById(`token-${i}`).style.color = selecting?highlightColor:\"black\";\n",
       "                }\n",
       "                else {\n",
       "                    document.getElementById(`token-${i}`).newSelected = document.getElementById(`token-${i}`).selected;\n",
       "                    document.getElementById(`token-${i}`).style.color = document.getElementById(`token-${i}`).newSelected?highlightColor:\"black\";\n",
       "                }\n",
       "            }\n",
       "        }\n",
       "        // if mouse being clicked, from start to this one, change to red\n",
       "    }\n",
       "    \n",
       "    function mouseout_token(token) {\n",
       "        token.style.backgroundColor = \"#00000000\";\n",
       "    }\n",
       "    \n",
       "    function showHighlightedTokenIndices() {\n",
       "        let highlightedTokenIndices = [];\n",
       "        for (let i=0; i<totalTokenNum; i++) {\n",
       "            if (document.getElementById(`token-${i}`) == null) {\n",
       "                if (i == 0) continue; // if the only token or first, skip\n",
       "                else if (i == totalTokenNum - 1) {\n",
       "                    if (highlightedTokenIndices.includes(i-1)) highlightedTokenIndices.push(i)\n",
       "                }\n",
       "                else {\n",
       "                    if (highlightedTokenIndices.includes(i-1) && (document.getElementById(`token-${i+1}`)!=null) && (document.getElementById(`token-${i+1}`).selected)) highlightedTokenIndices.push(i)\n",
       "                }\n",
       "            }\n",
       "            else if (document.getElementById(`token-${i}`).selected) {\n",
       "                highlightedTokenIndices.push(i);\n",
       "            }\n",
       "        }\n",
       "\n",
       "        let highlightedTokenIndicesStr = highlightedTokenIndices.toString();\n",
       "        document.getElementById(\"highlighted-token-indices\").innerHTML = highlightedTokenIndicesStr;\n",
       "        navigator.clipboard.writeText(\"[\"+highlightedTokenIndicesStr+\"]\");\n",
       "    }\n",
       "</script>\n"
      ],
      "text/plain": [
       "<IPython.core.display.HTML object>"
      ]
     },
     "execution_count": 12,
     "metadata": {},
     "output_type": "execute_result"
    }
   ],
   "source": [
    "from IPython.display import HTML \n",
    "\n",
    "def generate_html_for_str(text=None, tokens=None, prompt_text=None, prompt_tokens=None, prompt_len=None, tokenizer=tokenizer):\n",
    "    if type(tokens) == torch.Tensor: tokens = tokens.detach().cpu().numpy()\n",
    "    if tokens.ndim==2: tokens = tokens.reshape(-1)\n",
    "    assert text is not None or tokens is not None\n",
    "    assert not (text is not None and tokens is not None)\n",
    "\n",
    "    html_code = \"\"\n",
    "    for i, token in enumerate(tokens): \n",
    "        token_decoded = tokenizer.convert_ids_to_tokens([token])[0]\n",
    "        if token_decoded==\"<0x0A>\": \n",
    "            html_code += \"<br>\"\n",
    "            continue\n",
    "        if \"▁\" in token_decoded: token_decoded = token_decoded.replace(\"▁\", \"&nbsp;\")\n",
    "        if \"<\" in token_decoded: token_decoded = token_decoded.replace(\"<\", \"&lt;\")\n",
    "        if \">\" in token_decoded: token_decoded = token_decoded.replace(\">\", \"&gt;\")\n",
    "\n",
    "        text_color = \"#000000\"\n",
    "        cursor = \"pointer\"\n",
    "        if prompt_len is not None and i < prompt_len: \n",
    "            text_color = \"#808080\"\n",
    "            cursor = \"auto\"\n",
    "        html_code += f\"<div style='color: {text_color}; display: inline-block; cursor: {cursor}; user-select: none; user-drag: none; -webkit-user-drag: none; -moz-user-select: none; -webkit-user-select: none; -ms-user-select: none;' id='token-{i}' onmousedown='mousedown_token(this, {prompt_len})' onmouseenter='mouseenter_token(this, {prompt_len})' onmouseout='mouseout_token(this)'>{token_decoded}</div>\"\n",
    "\n",
    "    return html_code \n",
    "\n",
    "total_token_num = len(attr_tokens[0])\n",
    "highlight_color = \"#ff0000\"\n",
    "javascript_code = f\"\"\"\n",
    "<script type=\"text/Javascript\">\n",
    "    // let beingDragged = false;\n",
    "    // let promptLength = {prompt_len};\n",
    "    // let totalTokenNum = {total_token_num};\n",
    "    // let startToken = -1;\n",
    "    // let selecting = false;\n",
    "    // var highlightColor = \"red\";\n",
    "    \n",
    "    document.addEventListener('mouseup', (e) => {{\n",
    "        if (window.beingDragged) {{\n",
    "            for (let i={prompt_len}; i<{total_token_num}; i++) {{\n",
    "                if (document.getElementById(`token-${{i}}`) == null) continue;\n",
    "                document.getElementById(`token-${{i}}`).selected = document.getElementById(`token-${{i}}`).newSelected;\n",
    "                document.getElementById(`token-${{i}}`).style.color = document.getElementById(`token-${{i}}`).selected?\"{highlight_color}\":\"black\";\n",
    "            }}\n",
    "        }}\n",
    "        \n",
    "        // beingDragged = false;\n",
    "        // startToken = -1;\n",
    "        // selecting = false;\n",
    "        window.beingDragged = false;\n",
    "        window.startToken = -1;\n",
    "        window.selecting = false;\n",
    "        \n",
    "    }})\n",
    "    \n",
    "    function mousedown_token(token, prompt_len) {{\n",
    "        let clickedTokenIdx = Number(token.id.split(\"-\")[1]);\n",
    "        \n",
    "        if (clickedTokenIdx >= {prompt_len}) {{\n",
    "            window.beingDragged = true;\n",
    "            \n",
    "            if (token.newSelected) {{token.newSelected = false; window.selecting=false;}}\n",
    "            else {{token.newSelected = true; window.selecting=true;}}\n",
    "\n",
    "            window.startToken = clickedTokenIdx;\n",
    "            if (selecting) token.style.color = \"{highlight_color}\";\n",
    "            else token.style.color = \"#000000\";\n",
    "        }}\n",
    "    }}\n",
    "    \n",
    "    function mouseenter_token(token, prompt_len) {{\n",
    "        if ((Number(token.id.split(\"-\")[1])) >= promptLength) token.style.backgroundColor = \"{highlight_color}80\"; //highlight this one's background always\n",
    "        if (window.beingDragged) {{\n",
    "            let enteredTokenIdx = Number(token.id.split(\"-\")[1]);\n",
    "            let start = Math.min(enteredTokenIdx, startToken);\n",
    "            let end = Math.max(enteredTokenIdx, startToken);\n",
    "            for (let i=promptLength; i<totalTokenNum; i++) {{\n",
    "                if (document.getElementById(`token-${{i}}`) == null) continue;\n",
    "                if ((i>=start)&&(i<=end)) {{\n",
    "                    document.getElementById(`token-${{i}}`).newSelected = selecting;\n",
    "                    document.getElementById(`token-${{i}}`).style.color = selecting?highlightColor:\"black\";\n",
    "                }}\n",
    "                else {{\n",
    "                    document.getElementById(`token-${{i}}`).newSelected = document.getElementById(`token-${{i}}`).selected;\n",
    "                    document.getElementById(`token-${{i}}`).style.color = document.getElementById(`token-${{i}}`).newSelected?highlightColor:\"black\";\n",
    "                }}\n",
    "            }}\n",
    "        }}\n",
    "        // if mouse being clicked, from start to this one, change to red\n",
    "    }}\n",
    "    \n",
    "    function mouseout_token(token) {{\n",
    "        token.style.backgroundColor = \"#00000000\";\n",
    "    }}\n",
    "    \n",
    "    function showHighlightedTokenIndices() {{\n",
    "        let highlightedTokenIndices = [];\n",
    "        for (let i=0; i<totalTokenNum; i++) {{\n",
    "            if (document.getElementById(`token-${{i}}`) == null) {{\n",
    "                if (i == 0) continue; // if the only token or first, skip\n",
    "                else if (i == totalTokenNum - 1) {{\n",
    "                    if (highlightedTokenIndices.includes(i-1)) highlightedTokenIndices.push(i)\n",
    "                }}\n",
    "                else {{\n",
    "                    if (highlightedTokenIndices.includes(i-1) && (document.getElementById(`token-${{i+1}}`)!=null) && (document.getElementById(`token-${{i+1}}`).selected)) highlightedTokenIndices.push(i)\n",
    "                }}\n",
    "            }}\n",
    "            else if (document.getElementById(`token-${{i}}`).selected) {{\n",
    "                highlightedTokenIndices.push(i);\n",
    "            }}\n",
    "        }}\n",
    "\n",
    "        let highlightedTokenIndicesStr = highlightedTokenIndices.toString();\n",
    "        document.getElementById(\"highlighted-token-indices\").innerHTML = highlightedTokenIndicesStr;\n",
    "        navigator.clipboard.writeText(\"[\"+highlightedTokenIndicesStr+\"]\");\n",
    "    }}\n",
    "</script>\n",
    "\"\"\"\n",
    "\n",
    "html_code = generate_html_for_str(tokens=attr_tokens, prompt_len=prompt_len)\n",
    "html_code += \"\"\"\n",
    "<button onclick=\"showHighlightedTokenIndices()\" style=\"margin-top: 5px; font-size: 14px;\">Copy Highlighted Token Indices</button>\n",
    "<div id=\"highlighted-token-indices\" style=\"display: inline-block; padding-left: 3px; font-size: 14px;\"></div>\n",
    "\"\"\"\n",
    "HTML(html_code + javascript_code)"
   ]
  },
  {
   "cell_type": "code",
   "execution_count": 13,
   "id": "56ea3d70",
   "metadata": {},
   "outputs": [
    {
     "data": {
      "text/html": [
       "<div style='color: #808080; display: inline-block; cursor: auto; user-select: none; user-drag: none; -webkit-user-drag: none; -moz-user-select: none; -webkit-user-select: none; -ms-user-select: none;' id='token-0' onmousedown='mousedown_token(this, 31)' onmouseenter='mouseenter_token(this, 31)' onmouseout='mouseout_token(this)'>&lt;s&gt;</div><div style='color: #808080; display: inline-block; cursor: auto; user-select: none; user-drag: none; -webkit-user-drag: none; -moz-user-select: none; -webkit-user-select: none; -ms-user-select: none;' id='token-1' onmousedown='mousedown_token(this, 31)' onmouseenter='mouseenter_token(this, 31)' onmouseout='mouseout_token(this)'>&nbsp;Double</div><div style='color: #808080; display: inline-block; cursor: auto; user-select: none; user-drag: none; -webkit-user-drag: none; -moz-user-select: none; -webkit-user-select: none; -ms-user-select: none;' id='token-2' onmousedown='mousedown_token(this, 31)' onmouseenter='mouseenter_token(this, 31)' onmouseout='mouseout_token(this)'>&nbsp;Every</div><div style='color: #808080; display: inline-block; cursor: auto; user-select: none; user-drag: none; -webkit-user-drag: none; -moz-user-select: none; -webkit-user-select: none; -ms-user-select: none;' id='token-3' onmousedown='mousedown_token(this, 31)' onmouseenter='mouseenter_token(this, 31)' onmouseout='mouseout_token(this)'>&nbsp;Cons</div><div style='color: #808080; display: inline-block; cursor: auto; user-select: none; user-drag: none; -webkit-user-drag: none; -moz-user-select: none; -webkit-user-select: none; -ms-user-select: none;' id='token-4' onmousedown='mousedown_token(this, 31)' onmouseenter='mouseenter_token(this, 31)' onmouseout='mouseout_token(this)'>on</div><div style='color: #808080; display: inline-block; cursor: auto; user-select: none; user-drag: none; -webkit-user-drag: none; -moz-user-select: none; -webkit-user-select: none; -ms-user-select: none;' id='token-5' onmousedown='mousedown_token(this, 31)' onmouseenter='mouseenter_token(this, 31)' onmouseout='mouseout_token(this)'>ant</div><br><div style='color: #808080; display: inline-block; cursor: auto; user-select: none; user-drag: none; -webkit-user-drag: none; -moz-user-select: none; -webkit-user-select: none; -ms-user-select: none;' id='token-7' onmousedown='mousedown_token(this, 31)' onmouseenter='mouseenter_token(this, 31)' onmouseout='mouseout_token(this)'>&nbsp;&nbsp;&nbsp;</div><div style='color: #808080; display: inline-block; cursor: auto; user-select: none; user-drag: none; -webkit-user-drag: none; -moz-user-select: none; -webkit-user-select: none; -ms-user-select: none;' id='token-8' onmousedown='mousedown_token(this, 31)' onmouseenter='mouseenter_token(this, 31)' onmouseout='mouseout_token(this)'>&nbsp;Then</div><div style='color: #808080; display: inline-block; cursor: auto; user-select: none; user-drag: none; -webkit-user-drag: none; -moz-user-select: none; -webkit-user-select: none; -ms-user-select: none;' id='token-9' onmousedown='mousedown_token(this, 31)' onmouseenter='mouseenter_token(this, 31)' onmouseout='mouseout_token(this)'>,</div><div style='color: #808080; display: inline-block; cursor: auto; user-select: none; user-drag: none; -webkit-user-drag: none; -moz-user-select: none; -webkit-user-select: none; -ms-user-select: none;' id='token-10' onmousedown='mousedown_token(this, 31)' onmouseenter='mouseenter_token(this, 31)' onmouseout='mouseout_token(this)'>&nbsp;Re</div><div style='color: #808080; display: inline-block; cursor: auto; user-select: none; user-drag: none; -webkit-user-drag: none; -moz-user-select: none; -webkit-user-select: none; -ms-user-select: none;' id='token-11' onmousedown='mousedown_token(this, 31)' onmouseenter='mouseenter_token(this, 31)' onmouseout='mouseout_token(this)'>peat</div><div style='color: #808080; display: inline-block; cursor: auto; user-select: none; user-drag: none; -webkit-user-drag: none; -moz-user-select: none; -webkit-user-select: none; -ms-user-select: none;' id='token-12' onmousedown='mousedown_token(this, 31)' onmouseenter='mouseenter_token(this, 31)' onmouseout='mouseout_token(this)'>&nbsp;Each</div><div style='color: #808080; display: inline-block; cursor: auto; user-select: none; user-drag: none; -webkit-user-drag: none; -moz-user-select: none; -webkit-user-select: none; -ms-user-select: none;' id='token-13' onmousedown='mousedown_token(this, 31)' onmouseenter='mouseenter_token(this, 31)' onmouseout='mouseout_token(this)'>&nbsp;Word</div><div style='color: #808080; display: inline-block; cursor: auto; user-select: none; user-drag: none; -webkit-user-drag: none; -moz-user-select: none; -webkit-user-select: none; -ms-user-select: none;' id='token-14' onmousedown='mousedown_token(this, 31)' onmouseenter='mouseenter_token(this, 31)' onmouseout='mouseout_token(this)'>&nbsp;Tw</div><div style='color: #808080; display: inline-block; cursor: auto; user-select: none; user-drag: none; -webkit-user-drag: none; -moz-user-select: none; -webkit-user-select: none; -ms-user-select: none;' id='token-15' onmousedown='mousedown_token(this, 31)' onmouseenter='mouseenter_token(this, 31)' onmouseout='mouseout_token(this)'>ice</div><br><div style='color: #808080; display: inline-block; cursor: auto; user-select: none; user-drag: none; -webkit-user-drag: none; -moz-user-select: none; -webkit-user-select: none; -ms-user-select: none;' id='token-17' onmousedown='mousedown_token(this, 31)' onmouseenter='mouseenter_token(this, 31)' onmouseout='mouseout_token(this)'>&nbsp;&nbsp;&nbsp;</div><div style='color: #808080; display: inline-block; cursor: auto; user-select: none; user-drag: none; -webkit-user-drag: none; -moz-user-select: none; -webkit-user-select: none; -ms-user-select: none;' id='token-18' onmousedown='mousedown_token(this, 31)' onmouseenter='mouseenter_token(this, 31)' onmouseout='mouseout_token(this)'>&nbsp;For</div><div style='color: #808080; display: inline-block; cursor: auto; user-select: none; user-drag: none; -webkit-user-drag: none; -moz-user-select: none; -webkit-user-select: none; -ms-user-select: none;' id='token-19' onmousedown='mousedown_token(this, 31)' onmouseenter='mouseenter_token(this, 31)' onmouseout='mouseout_token(this)'>&nbsp;example</div><div style='color: #808080; display: inline-block; cursor: auto; user-select: none; user-drag: none; -webkit-user-drag: none; -moz-user-select: none; -webkit-user-select: none; -ms-user-select: none;' id='token-20' onmousedown='mousedown_token(this, 31)' onmouseenter='mouseenter_token(this, 31)' onmouseout='mouseout_token(this)'>:</div><br><div style='color: #808080; display: inline-block; cursor: auto; user-select: none; user-drag: none; -webkit-user-drag: none; -moz-user-select: none; -webkit-user-select: none; -ms-user-select: none;' id='token-22' onmousedown='mousedown_token(this, 31)' onmouseenter='mouseenter_token(this, 31)' onmouseout='mouseout_token(this)'>&nbsp;&nbsp;&nbsp;</div><div style='color: #808080; display: inline-block; cursor: auto; user-select: none; user-drag: none; -webkit-user-drag: none; -moz-user-select: none; -webkit-user-select: none; -ms-user-select: none;' id='token-23' onmousedown='mousedown_token(this, 31)' onmouseenter='mouseenter_token(this, 31)' onmouseout='mouseout_token(this)'>&nbsp;Mountains</div><div style='color: #808080; display: inline-block; cursor: auto; user-select: none; user-drag: none; -webkit-user-drag: none; -moz-user-select: none; -webkit-user-select: none; -ms-user-select: none;' id='token-24' onmousedown='mousedown_token(this, 31)' onmouseenter='mouseenter_token(this, 31)' onmouseout='mouseout_token(this)'>&nbsp;challenge</div><div style='color: #808080; display: inline-block; cursor: auto; user-select: none; user-drag: none; -webkit-user-drag: none; -moz-user-select: none; -webkit-user-select: none; -ms-user-select: none;' id='token-25' onmousedown='mousedown_token(this, 31)' onmouseenter='mouseenter_token(this, 31)' onmouseout='mouseout_token(this)'>&nbsp;eager</div><div style='color: #808080; display: inline-block; cursor: auto; user-select: none; user-drag: none; -webkit-user-drag: none; -moz-user-select: none; -webkit-user-select: none; -ms-user-select: none;' id='token-26' onmousedown='mousedown_token(this, 31)' onmouseenter='mouseenter_token(this, 31)' onmouseout='mouseout_token(this)'>&nbsp;clim</div><div style='color: #808080; display: inline-block; cursor: auto; user-select: none; user-drag: none; -webkit-user-drag: none; -moz-user-select: none; -webkit-user-select: none; -ms-user-select: none;' id='token-27' onmousedown='mousedown_token(this, 31)' onmouseenter='mouseenter_token(this, 31)' onmouseout='mouseout_token(this)'>bers</div><div style='color: #808080; display: inline-block; cursor: auto; user-select: none; user-drag: none; -webkit-user-drag: none; -moz-user-select: none; -webkit-user-select: none; -ms-user-select: none;' id='token-28' onmousedown='mousedown_token(this, 31)' onmouseenter='mouseenter_token(this, 31)' onmouseout='mouseout_token(this)'>.</div><div style='color: #808080; display: inline-block; cursor: auto; user-select: none; user-drag: none; -webkit-user-drag: none; -moz-user-select: none; -webkit-user-select: none; -ms-user-select: none;' id='token-29' onmousedown='mousedown_token(this, 31)' onmouseenter='mouseenter_token(this, 31)' onmouseout='mouseout_token(this)'>&nbsp;-&gt;</div><div style='color: #808080; display: inline-block; cursor: auto; user-select: none; user-drag: none; -webkit-user-drag: none; -moz-user-select: none; -webkit-user-select: none; -ms-user-select: none;' id='token-30' onmousedown='mousedown_token(this, 31)' onmouseenter='mouseenter_token(this, 31)' onmouseout='mouseout_token(this)'>&nbsp;</div><div style='color: #000000; display: inline-block; cursor: pointer; user-select: none; user-drag: none; -webkit-user-drag: none; -moz-user-select: none; -webkit-user-select: none; -ms-user-select: none;' id='token-31' onmousedown='mousedown_token(this, 31)' onmouseenter='mouseenter_token(this, 31)' onmouseout='mouseout_token(this)'>&nbsp;MM</div><div style='color: #000000; display: inline-block; cursor: pointer; user-select: none; user-drag: none; -webkit-user-drag: none; -moz-user-select: none; -webkit-user-select: none; -ms-user-select: none;' id='token-32' onmousedown='mousedown_token(this, 31)' onmouseenter='mouseenter_token(this, 31)' onmouseout='mouseout_token(this)'>oun</div><div style='color: #000000; display: inline-block; cursor: pointer; user-select: none; user-drag: none; -webkit-user-drag: none; -moz-user-select: none; -webkit-user-select: none; -ms-user-select: none;' id='token-33' onmousedown='mousedown_token(this, 31)' onmouseenter='mouseenter_token(this, 31)' onmouseout='mouseout_token(this)'>nt</div><div style='color: #000000; display: inline-block; cursor: pointer; user-select: none; user-drag: none; -webkit-user-drag: none; -moz-user-select: none; -webkit-user-select: none; -ms-user-select: none;' id='token-34' onmousedown='mousedown_token(this, 31)' onmouseenter='mouseenter_token(this, 31)' onmouseout='mouseout_token(this)'>tain</div><div style='color: #000000; display: inline-block; cursor: pointer; user-select: none; user-drag: none; -webkit-user-drag: none; -moz-user-select: none; -webkit-user-select: none; -ms-user-select: none;' id='token-35' onmousedown='mousedown_token(this, 31)' onmouseenter='mouseenter_token(this, 31)' onmouseout='mouseout_token(this)'>n</div><div style='color: #000000; display: inline-block; cursor: pointer; user-select: none; user-drag: none; -webkit-user-drag: none; -moz-user-select: none; -webkit-user-select: none; -ms-user-select: none;' id='token-36' onmousedown='mousedown_token(this, 31)' onmouseenter='mouseenter_token(this, 31)' onmouseout='mouseout_token(this)'>ss</div><div style='color: #000000; display: inline-block; cursor: pointer; user-select: none; user-drag: none; -webkit-user-drag: none; -moz-user-select: none; -webkit-user-select: none; -ms-user-select: none;' id='token-37' onmousedown='mousedown_token(this, 31)' onmouseenter='mouseenter_token(this, 31)' onmouseout='mouseout_token(this)'>&nbsp;MM</div><div style='color: #000000; display: inline-block; cursor: pointer; user-select: none; user-drag: none; -webkit-user-drag: none; -moz-user-select: none; -webkit-user-select: none; -ms-user-select: none;' id='token-38' onmousedown='mousedown_token(this, 31)' onmouseenter='mouseenter_token(this, 31)' onmouseout='mouseout_token(this)'>oun</div><div style='color: #000000; display: inline-block; cursor: pointer; user-select: none; user-drag: none; -webkit-user-drag: none; -moz-user-select: none; -webkit-user-select: none; -ms-user-select: none;' id='token-39' onmousedown='mousedown_token(this, 31)' onmouseenter='mouseenter_token(this, 31)' onmouseout='mouseout_token(this)'>nt</div><div style='color: #000000; display: inline-block; cursor: pointer; user-select: none; user-drag: none; -webkit-user-drag: none; -moz-user-select: none; -webkit-user-select: none; -ms-user-select: none;' id='token-40' onmousedown='mousedown_token(this, 31)' onmouseenter='mouseenter_token(this, 31)' onmouseout='mouseout_token(this)'>tain</div><div style='color: #000000; display: inline-block; cursor: pointer; user-select: none; user-drag: none; -webkit-user-drag: none; -moz-user-select: none; -webkit-user-select: none; -ms-user-select: none;' id='token-41' onmousedown='mousedown_token(this, 31)' onmouseenter='mouseenter_token(this, 31)' onmouseout='mouseout_token(this)'>n</div><div style='color: #000000; display: inline-block; cursor: pointer; user-select: none; user-drag: none; -webkit-user-drag: none; -moz-user-select: none; -webkit-user-select: none; -ms-user-select: none;' id='token-42' onmousedown='mousedown_token(this, 31)' onmouseenter='mouseenter_token(this, 31)' onmouseout='mouseout_token(this)'>ss</div><div style='color: #000000; display: inline-block; cursor: pointer; user-select: none; user-drag: none; -webkit-user-drag: none; -moz-user-select: none; -webkit-user-select: none; -ms-user-select: none;' id='token-43' onmousedown='mousedown_token(this, 31)' onmouseenter='mouseenter_token(this, 31)' onmouseout='mouseout_token(this)'>&nbsp;c</div><div style='color: #000000; display: inline-block; cursor: pointer; user-select: none; user-drag: none; -webkit-user-drag: none; -moz-user-select: none; -webkit-user-select: none; -ms-user-select: none;' id='token-44' onmousedown='mousedown_token(this, 31)' onmouseenter='mouseenter_token(this, 31)' onmouseout='mouseout_token(this)'>ch</div><div style='color: #000000; display: inline-block; cursor: pointer; user-select: none; user-drag: none; -webkit-user-drag: none; -moz-user-select: none; -webkit-user-select: none; -ms-user-select: none;' id='token-45' onmousedown='mousedown_token(this, 31)' onmouseenter='mouseenter_token(this, 31)' onmouseout='mouseout_token(this)'>hall</div><div style='color: #000000; display: inline-block; cursor: pointer; user-select: none; user-drag: none; -webkit-user-drag: none; -moz-user-select: none; -webkit-user-select: none; -ms-user-select: none;' id='token-46' onmousedown='mousedown_token(this, 31)' onmouseenter='mouseenter_token(this, 31)' onmouseout='mouseout_token(this)'>ll</div><div style='color: #000000; display: inline-block; cursor: pointer; user-select: none; user-drag: none; -webkit-user-drag: none; -moz-user-select: none; -webkit-user-select: none; -ms-user-select: none;' id='token-47' onmousedown='mousedown_token(this, 31)' onmouseenter='mouseenter_token(this, 31)' onmouseout='mouseout_token(this)'>en</div><div style='color: #000000; display: inline-block; cursor: pointer; user-select: none; user-drag: none; -webkit-user-drag: none; -moz-user-select: none; -webkit-user-select: none; -ms-user-select: none;' id='token-48' onmousedown='mousedown_token(this, 31)' onmouseenter='mouseenter_token(this, 31)' onmouseout='mouseout_token(this)'>ng</div><div style='color: #000000; display: inline-block; cursor: pointer; user-select: none; user-drag: none; -webkit-user-drag: none; -moz-user-select: none; -webkit-user-select: none; -ms-user-select: none;' id='token-49' onmousedown='mousedown_token(this, 31)' onmouseenter='mouseenter_token(this, 31)' onmouseout='mouseout_token(this)'>ge</div><div style='color: #000000; display: inline-block; cursor: pointer; user-select: none; user-drag: none; -webkit-user-drag: none; -moz-user-select: none; -webkit-user-select: none; -ms-user-select: none;' id='token-50' onmousedown='mousedown_token(this, 31)' onmouseenter='mouseenter_token(this, 31)' onmouseout='mouseout_token(this)'>&nbsp;c</div><div style='color: #000000; display: inline-block; cursor: pointer; user-select: none; user-drag: none; -webkit-user-drag: none; -moz-user-select: none; -webkit-user-select: none; -ms-user-select: none;' id='token-51' onmousedown='mousedown_token(this, 31)' onmouseenter='mouseenter_token(this, 31)' onmouseout='mouseout_token(this)'>ch</div><div style='color: #000000; display: inline-block; cursor: pointer; user-select: none; user-drag: none; -webkit-user-drag: none; -moz-user-select: none; -webkit-user-select: none; -ms-user-select: none;' id='token-52' onmousedown='mousedown_token(this, 31)' onmouseenter='mouseenter_token(this, 31)' onmouseout='mouseout_token(this)'>hall</div><div style='color: #000000; display: inline-block; cursor: pointer; user-select: none; user-drag: none; -webkit-user-drag: none; -moz-user-select: none; -webkit-user-select: none; -ms-user-select: none;' id='token-53' onmousedown='mousedown_token(this, 31)' onmouseenter='mouseenter_token(this, 31)' onmouseout='mouseout_token(this)'>ll</div><div style='color: #000000; display: inline-block; cursor: pointer; user-select: none; user-drag: none; -webkit-user-drag: none; -moz-user-select: none; -webkit-user-select: none; -ms-user-select: none;' id='token-54' onmousedown='mousedown_token(this, 31)' onmouseenter='mouseenter_token(this, 31)' onmouseout='mouseout_token(this)'>en</div><div style='color: #000000; display: inline-block; cursor: pointer; user-select: none; user-drag: none; -webkit-user-drag: none; -moz-user-select: none; -webkit-user-select: none; -ms-user-select: none;' id='token-55' onmousedown='mousedown_token(this, 31)' onmouseenter='mouseenter_token(this, 31)' onmouseout='mouseout_token(this)'>ng</div><div style='color: #000000; display: inline-block; cursor: pointer; user-select: none; user-drag: none; -webkit-user-drag: none; -moz-user-select: none; -webkit-user-select: none; -ms-user-select: none;' id='token-56' onmousedown='mousedown_token(this, 31)' onmouseenter='mouseenter_token(this, 31)' onmouseout='mouseout_token(this)'>ge</div><div style='color: #000000; display: inline-block; cursor: pointer; user-select: none; user-drag: none; -webkit-user-drag: none; -moz-user-select: none; -webkit-user-select: none; -ms-user-select: none;' id='token-57' onmousedown='mousedown_token(this, 31)' onmouseenter='mouseenter_token(this, 31)' onmouseout='mouseout_token(this)'>&nbsp;e</div><div style='color: #000000; display: inline-block; cursor: pointer; user-select: none; user-drag: none; -webkit-user-drag: none; -moz-user-select: none; -webkit-user-select: none; -ms-user-select: none;' id='token-58' onmousedown='mousedown_token(this, 31)' onmouseenter='mouseenter_token(this, 31)' onmouseout='mouseout_token(this)'>agger</div><div style='color: #000000; display: inline-block; cursor: pointer; user-select: none; user-drag: none; -webkit-user-drag: none; -moz-user-select: none; -webkit-user-select: none; -ms-user-select: none;' id='token-59' onmousedown='mousedown_token(this, 31)' onmouseenter='mouseenter_token(this, 31)' onmouseout='mouseout_token(this)'>r</div><div style='color: #000000; display: inline-block; cursor: pointer; user-select: none; user-drag: none; -webkit-user-drag: none; -moz-user-select: none; -webkit-user-select: none; -ms-user-select: none;' id='token-60' onmousedown='mousedown_token(this, 31)' onmouseenter='mouseenter_token(this, 31)' onmouseout='mouseout_token(this)'>&nbsp;e</div><div style='color: #000000; display: inline-block; cursor: pointer; user-select: none; user-drag: none; -webkit-user-drag: none; -moz-user-select: none; -webkit-user-select: none; -ms-user-select: none;' id='token-61' onmousedown='mousedown_token(this, 31)' onmouseenter='mouseenter_token(this, 31)' onmouseout='mouseout_token(this)'>agger</div><div style='color: #000000; display: inline-block; cursor: pointer; user-select: none; user-drag: none; -webkit-user-drag: none; -moz-user-select: none; -webkit-user-select: none; -ms-user-select: none;' id='token-62' onmousedown='mousedown_token(this, 31)' onmouseenter='mouseenter_token(this, 31)' onmouseout='mouseout_token(this)'>r</div><div style='color: #000000; display: inline-block; cursor: pointer; user-select: none; user-drag: none; -webkit-user-drag: none; -moz-user-select: none; -webkit-user-select: none; -ms-user-select: none;' id='token-63' onmousedown='mousedown_token(this, 31)' onmouseenter='mouseenter_token(this, 31)' onmouseout='mouseout_token(this)'>&nbsp;cc</div><div style='color: #000000; display: inline-block; cursor: pointer; user-select: none; user-drag: none; -webkit-user-drag: none; -moz-user-select: none; -webkit-user-select: none; -ms-user-select: none;' id='token-64' onmousedown='mousedown_token(this, 31)' onmouseenter='mouseenter_token(this, 31)' onmouseout='mouseout_token(this)'>ll</div><div style='color: #000000; display: inline-block; cursor: pointer; user-select: none; user-drag: none; -webkit-user-drag: none; -moz-user-select: none; -webkit-user-select: none; -ms-user-select: none;' id='token-65' onmousedown='mousedown_token(this, 31)' onmouseenter='mouseenter_token(this, 31)' onmouseout='mouseout_token(this)'>imm</div><div style='color: #000000; display: inline-block; cursor: pointer; user-select: none; user-drag: none; -webkit-user-drag: none; -moz-user-select: none; -webkit-user-select: none; -ms-user-select: none;' id='token-66' onmousedown='mousedown_token(this, 31)' onmouseenter='mouseenter_token(this, 31)' onmouseout='mouseout_token(this)'>b</div><div style='color: #000000; display: inline-block; cursor: pointer; user-select: none; user-drag: none; -webkit-user-drag: none; -moz-user-select: none; -webkit-user-select: none; -ms-user-select: none;' id='token-67' onmousedown='mousedown_token(this, 31)' onmouseenter='mouseenter_token(this, 31)' onmouseout='mouseout_token(this)'>ber</div><div style='color: #000000; display: inline-block; cursor: pointer; user-select: none; user-drag: none; -webkit-user-drag: none; -moz-user-select: none; -webkit-user-select: none; -ms-user-select: none;' id='token-68' onmousedown='mousedown_token(this, 31)' onmouseenter='mouseenter_token(this, 31)' onmouseout='mouseout_token(this)'>r</div><div style='color: #000000; display: inline-block; cursor: pointer; user-select: none; user-drag: none; -webkit-user-drag: none; -moz-user-select: none; -webkit-user-select: none; -ms-user-select: none;' id='token-69' onmousedown='mousedown_token(this, 31)' onmouseenter='mouseenter_token(this, 31)' onmouseout='mouseout_token(this)'>ss</div><div style='color: #000000; display: inline-block; cursor: pointer; user-select: none; user-drag: none; -webkit-user-drag: none; -moz-user-select: none; -webkit-user-select: none; -ms-user-select: none;' id='token-70' onmousedown='mousedown_token(this, 31)' onmouseenter='mouseenter_token(this, 31)' onmouseout='mouseout_token(this)'>.</div><div style='color: #000000; display: inline-block; cursor: pointer; user-select: none; user-drag: none; -webkit-user-drag: none; -moz-user-select: none; -webkit-user-select: none; -ms-user-select: none;' id='token-71' onmousedown='mousedown_token(this, 31)' onmouseenter='mouseenter_token(this, 31)' onmouseout='mouseout_token(this)'>&nbsp;cc</div><div style='color: #000000; display: inline-block; cursor: pointer; user-select: none; user-drag: none; -webkit-user-drag: none; -moz-user-select: none; -webkit-user-select: none; -ms-user-select: none;' id='token-72' onmousedown='mousedown_token(this, 31)' onmouseenter='mouseenter_token(this, 31)' onmouseout='mouseout_token(this)'>ll</div><div style='color: #000000; display: inline-block; cursor: pointer; user-select: none; user-drag: none; -webkit-user-drag: none; -moz-user-select: none; -webkit-user-select: none; -ms-user-select: none;' id='token-73' onmousedown='mousedown_token(this, 31)' onmouseenter='mouseenter_token(this, 31)' onmouseout='mouseout_token(this)'>imm</div><div style='color: #000000; display: inline-block; cursor: pointer; user-select: none; user-drag: none; -webkit-user-drag: none; -moz-user-select: none; -webkit-user-select: none; -ms-user-select: none;' id='token-74' onmousedown='mousedown_token(this, 31)' onmouseenter='mouseenter_token(this, 31)' onmouseout='mouseout_token(this)'>b</div><div style='color: #000000; display: inline-block; cursor: pointer; user-select: none; user-drag: none; -webkit-user-drag: none; -moz-user-select: none; -webkit-user-select: none; -ms-user-select: none;' id='token-75' onmousedown='mousedown_token(this, 31)' onmouseenter='mouseenter_token(this, 31)' onmouseout='mouseout_token(this)'>ber</div><div style='color: #000000; display: inline-block; cursor: pointer; user-select: none; user-drag: none; -webkit-user-drag: none; -moz-user-select: none; -webkit-user-select: none; -ms-user-select: none;' id='token-76' onmousedown='mousedown_token(this, 31)' onmouseenter='mouseenter_token(this, 31)' onmouseout='mouseout_token(this)'>r</div><div style='color: #000000; display: inline-block; cursor: pointer; user-select: none; user-drag: none; -webkit-user-drag: none; -moz-user-select: none; -webkit-user-select: none; -ms-user-select: none;' id='token-77' onmousedown='mousedown_token(this, 31)' onmouseenter='mouseenter_token(this, 31)' onmouseout='mouseout_token(this)'>ss</div><div style='color: #000000; display: inline-block; cursor: pointer; user-select: none; user-drag: none; -webkit-user-drag: none; -moz-user-select: none; -webkit-user-select: none; -ms-user-select: none;' id='token-78' onmousedown='mousedown_token(this, 31)' onmouseenter='mouseenter_token(this, 31)' onmouseout='mouseout_token(this)'>.</div><div style='color: #000000; display: inline-block; cursor: pointer; user-select: none; user-drag: none; -webkit-user-drag: none; -moz-user-select: none; -webkit-user-select: none; -ms-user-select: none;' id='token-79' onmousedown='mousedown_token(this, 31)' onmouseenter='mouseenter_token(this, 31)' onmouseout='mouseout_token(this)'>&lt;/s&gt;</div>\n",
       "<button onclick=\"showHighlightedTokenIndices()\" style=\"margin-top: 5px; font-size: 14px;\">Copy Highlighted Token Indices</button>\n",
       "<div id=\"highlighted-token-indices\" style=\"display: inline-block; padding-left: 3px; font-size: 14px;\"></div>\n",
       "\n",
       "<script type=\"text/Javascript\">\n",
       "    window.startToken = -1;\n",
       "    window.beingDragged = false;\n",
       "    window.selecting = false;\n",
       "    \n",
       "    document.addEventListener('mouseup', (e) => {\n",
       "        if (window.beingDragged) {\n",
       "            for (let i=31; i<80; i++) {\n",
       "                if (document.getElementById(`token-${i}`) == null) continue;\n",
       "                document.getElementById(`token-${i}`).selected = document.getElementById(`token-${i}`).newSelected;\n",
       "                document.getElementById(`token-${i}`).style.color = document.getElementById(`token-${i}`).selected?\"#ff0000\":\"black\";\n",
       "            }\n",
       "        }\n",
       "        \n",
       "        window.startToken = -1;\n",
       "        window.beingDragged = false;\n",
       "        window.selecting = false;\n",
       "        \n",
       "    })\n",
       "    \n",
       "    function mousedown_token(token, prompt_len) {\n",
       "        let clickedTokenIdx = Number(token.id.split(\"-\")[1]);\n",
       "        \n",
       "        if (clickedTokenIdx >= prompt_len) {\n",
       "            window.beingDragged = true;\n",
       "            \n",
       "            if (token.newSelected) {token.newSelected = false; window.selecting=false;}\n",
       "            else {token.newSelected = true; window.selecting=true;}\n",
       "\n",
       "            window.startToken = clickedTokenIdx;\n",
       "            if (window.selecting) token.style.color = \"#ff0000\";\n",
       "            else token.style.color = \"#000000\";\n",
       "        }\n",
       "    }\n",
       "    \n",
       "    function mouseenter_token(token, prompt_len) {\n",
       "        if ((Number(token.id.split(\"-\")[1])) >= prompt_len) token.style.backgroundColor = \"#ff000080\"; //highlight this one's background always\n",
       "        if (window.beingDragged) {\n",
       "            let enteredTokenIdx = Number(token.id.split(\"-\")[1]);\n",
       "            let start = Math.min(enteredTokenIdx, window.startToken);\n",
       "            let end = Math.max(enteredTokenIdx, window.startToken);\n",
       "            for (let i=prompt_len; i<80; i++) {\n",
       "                if (document.getElementById(`token-${i}`) == null) continue;\n",
       "                if ((i>=start)&&(i<=end)) {\n",
       "                    document.getElementById(`token-${i}`).newSelected = window.selecting;\n",
       "                    document.getElementById(`token-${i}`).style.color = window.selecting?\"#ff0000\":\"black\";\n",
       "                }\n",
       "                else {\n",
       "                    document.getElementById(`token-${i}`).newSelected = document.getElementById(`token-${i}`).selected;\n",
       "                    document.getElementById(`token-${i}`).style.color = document.getElementById(`token-${i}`).newSelected?\"#ff0000\":\"black\";\n",
       "                }\n",
       "            }\n",
       "        }\n",
       "        // if mouse being clicked, from start to this one, change to red\n",
       "    }\n",
       "    \n",
       "    function mouseout_token(token) {\n",
       "        token.style.backgroundColor = \"#00000000\";\n",
       "    }\n",
       "    \n",
       "    function showHighlightedTokenIndices() {\n",
       "        let highlightedTokenIndices = [];\n",
       "        for (let i=0; i<80; i++) {\n",
       "            if (document.getElementById(`token-${i}`) == null) {\n",
       "                if (i == 0) continue; // if the only token or first, skip\n",
       "                else if (i == 80 - 1) {\n",
       "                    if (highlightedTokenIndices.includes(i-1)) highlightedTokenIndices.push(i)\n",
       "                }\n",
       "                else {\n",
       "                    if (highlightedTokenIndices.includes(i-1) && (document.getElementById(`token-${i+1}`)!=null) && (document.getElementById(`token-${i+1}`).selected)) highlightedTokenIndices.push(i)\n",
       "                }\n",
       "            }\n",
       "            else if (document.getElementById(`token-${i}`).selected) {\n",
       "                highlightedTokenIndices.push(i);\n",
       "            }\n",
       "        }\n",
       "\n",
       "        let highlightedTokenIndicesStr = highlightedTokenIndices.toString();\n",
       "        document.getElementById(\"highlighted-token-indices\").innerHTML = highlightedTokenIndicesStr;\n",
       "        navigator.clipboard.writeText(\"[\"+highlightedTokenIndicesStr+\"]\");\n",
       "    }\n",
       "</script>\n"
      ],
      "text/plain": [
       "<IPython.core.display.HTML object>"
      ]
     },
     "execution_count": 13,
     "metadata": {},
     "output_type": "execute_result"
    }
   ],
   "source": [
    "from IPython.display import HTML \n",
    "\n",
    "def generate_html_for_str(text=None, tokens=None, prompt_text=None, prompt_tokens=None, prompt_len=None, tokenizer=tokenizer):\n",
    "    if type(tokens) == torch.Tensor: tokens = tokens.detach().cpu().numpy()\n",
    "    if tokens.ndim==2: tokens = tokens.reshape(-1)\n",
    "    assert text is not None or tokens is not None\n",
    "    assert not (text is not None and tokens is not None)\n",
    "\n",
    "    html_code = \"\"\n",
    "    for i, token in enumerate(tokens): \n",
    "        token_decoded = tokenizer.convert_ids_to_tokens([token])[0]\n",
    "        if token_decoded==\"<0x0A>\": \n",
    "            html_code += \"<br>\"\n",
    "            continue\n",
    "        if \"▁\" in token_decoded: token_decoded = token_decoded.replace(\"▁\", \"&nbsp;\")\n",
    "        if \"<\" in token_decoded: token_decoded = token_decoded.replace(\"<\", \"&lt;\")\n",
    "        if \">\" in token_decoded: token_decoded = token_decoded.replace(\">\", \"&gt;\")\n",
    "\n",
    "        text_color = \"#000000\"\n",
    "        cursor = \"pointer\"\n",
    "        if prompt_len is not None and i < prompt_len: \n",
    "            text_color = \"#808080\"\n",
    "            cursor = \"auto\"\n",
    "        html_code += f\"<div style='color: {text_color}; display: inline-block; cursor: {cursor}; user-select: none; user-drag: none; -webkit-user-drag: none; -moz-user-select: none; -webkit-user-select: none; -ms-user-select: none;' id='token-{i}' onmousedown='mousedown_token(this, {prompt_len})' onmouseenter='mouseenter_token(this, {prompt_len})' onmouseout='mouseout_token(this)'>{token_decoded}</div>\"\n",
    "\n",
    "    return html_code \n",
    "\n",
    "total_token_num = len(attr_tokens[0])\n",
    "highlight_color = \"#ff0000\"\n",
    "javascript_code = f\"\"\"\n",
    "<script type=\"text/Javascript\">\n",
    "    window.startToken = -1;\n",
    "    window.beingDragged = false;\n",
    "    window.selecting = false;\n",
    "    \n",
    "    document.addEventListener('mouseup', (e) => {{\n",
    "        if (window.beingDragged) {{\n",
    "            for (let i={prompt_len}; i<{total_token_num}; i++) {{\n",
    "                if (document.getElementById(`token-${{i}}`) == null) continue;\n",
    "                document.getElementById(`token-${{i}}`).selected = document.getElementById(`token-${{i}}`).newSelected;\n",
    "                document.getElementById(`token-${{i}}`).style.color = document.getElementById(`token-${{i}}`).selected?\"{highlight_color}\":\"black\";\n",
    "            }}\n",
    "        }}\n",
    "        \n",
    "        window.startToken = -1;\n",
    "        window.beingDragged = false;\n",
    "        window.selecting = false;\n",
    "        \n",
    "    }})\n",
    "    \n",
    "    function mousedown_token(token, prompt_len) {{\n",
    "        let clickedTokenIdx = Number(token.id.split(\"-\")[1]);\n",
    "        \n",
    "        if (clickedTokenIdx >= prompt_len) {{\n",
    "            window.beingDragged = true;\n",
    "            \n",
    "            if (token.newSelected) {{token.newSelected = false; window.selecting=false;}}\n",
    "            else {{token.newSelected = true; window.selecting=true;}}\n",
    "\n",
    "            window.startToken = clickedTokenIdx;\n",
    "            if (window.selecting) token.style.color = \"{highlight_color}\";\n",
    "            else token.style.color = \"#000000\";\n",
    "        }}\n",
    "    }}\n",
    "    \n",
    "    function mouseenter_token(token, prompt_len) {{\n",
    "        if ((Number(token.id.split(\"-\")[1])) >= prompt_len) token.style.backgroundColor = \"{highlight_color}80\"; //highlight this one's background always\n",
    "        if (window.beingDragged) {{\n",
    "            let enteredTokenIdx = Number(token.id.split(\"-\")[1]);\n",
    "            let start = Math.min(enteredTokenIdx, window.startToken);\n",
    "            let end = Math.max(enteredTokenIdx, window.startToken);\n",
    "            for (let i=prompt_len; i<{total_token_num}; i++) {{\n",
    "                if (document.getElementById(`token-${{i}}`) == null) continue;\n",
    "                if ((i>=start)&&(i<=end)) {{\n",
    "                    document.getElementById(`token-${{i}}`).newSelected = window.selecting;\n",
    "                    document.getElementById(`token-${{i}}`).style.color = window.selecting?\"{highlight_color}\":\"black\";\n",
    "                }}\n",
    "                else {{\n",
    "                    document.getElementById(`token-${{i}}`).newSelected = document.getElementById(`token-${{i}}`).selected;\n",
    "                    document.getElementById(`token-${{i}}`).style.color = document.getElementById(`token-${{i}}`).newSelected?\"{highlight_color}\":\"black\";\n",
    "                }}\n",
    "            }}\n",
    "        }}\n",
    "        // if mouse being clicked, from start to this one, change to red\n",
    "    }}\n",
    "    \n",
    "    function mouseout_token(token) {{\n",
    "        token.style.backgroundColor = \"#00000000\";\n",
    "    }}\n",
    "    \n",
    "    function showHighlightedTokenIndices() {{\n",
    "        let highlightedTokenIndices = [];\n",
    "        for (let i=0; i<{total_token_num}; i++) {{\n",
    "            if (document.getElementById(`token-${{i}}`) == null) {{\n",
    "                if (i == 0) continue; // if the only token or first, skip\n",
    "                else if (i == {total_token_num} - 1) {{\n",
    "                    if (highlightedTokenIndices.includes(i-1)) highlightedTokenIndices.push(i)\n",
    "                }}\n",
    "                else {{\n",
    "                    if (highlightedTokenIndices.includes(i-1) && (document.getElementById(`token-${{i+1}}`)!=null) && (document.getElementById(`token-${{i+1}}`).selected)) highlightedTokenIndices.push(i)\n",
    "                }}\n",
    "            }}\n",
    "            else if (document.getElementById(`token-${{i}}`).selected) {{\n",
    "                highlightedTokenIndices.push(i);\n",
    "            }}\n",
    "        }}\n",
    "\n",
    "        let highlightedTokenIndicesStr = highlightedTokenIndices.toString();\n",
    "        document.getElementById(\"highlighted-token-indices\").innerHTML = highlightedTokenIndicesStr;\n",
    "        navigator.clipboard.writeText(\"[\"+highlightedTokenIndicesStr+\"]\");\n",
    "    }}\n",
    "</script>\n",
    "\"\"\"\n",
    "\n",
    "html_code = generate_html_for_str(tokens=attr_tokens, prompt_len=prompt_len)\n",
    "html_code += \"\"\"\n",
    "<button onclick=\"showHighlightedTokenIndices()\" style=\"margin-top: 5px; font-size: 14px;\">Copy Highlighted Token Indices</button>\n",
    "<div id=\"highlighted-token-indices\" style=\"display: inline-block; padding-left: 3px; font-size: 14px;\"></div>\n",
    "\"\"\"\n",
    "HTML(html_code + javascript_code)"
   ]
  },
  {
   "cell_type": "code",
   "execution_count": null,
   "id": "ebf31bb8",
   "metadata": {},
   "outputs": [],
   "source": [
    "# display generated text for attr_prompt\n",
    "# allow users to select (drag or click) the words of their interest"
   ]
  },
  {
   "cell_type": "code",
   "execution_count": 41,
   "id": "46963303-1283-417a-922b-15ce737ba6f3",
   "metadata": {},
   "outputs": [],
   "source": [
    "attention_mask = torch.ones_like(attr_tokens)\n",
    "out = model.base_model(attr_tokens, attention_mask)\n",
    "attr_logits = out.logits\n",
    "attr_logprobs = logsoftmax(attr_logits)\n",
    "attr_logprobs = attr_logprobs[0, attr_token_pos, attr_tokens[0, attr_token_pos+1]]  # 49\n",
    "attr_logprob = attr_logprobs.sum()\n",
    "attr_grad = torch.autograd.grad(attr_logprob, [param for param in model.parameters() if param.requires_grad])\n",
    "model.zero_grad()"
   ]
  },
  {
   "cell_type": "code",
   "execution_count": 42,
   "id": "bc727c0f-b7a4-4640-8e18-5b4cb9cd3251",
   "metadata": {},
   "outputs": [],
   "source": [
    "n_layers = len(attr_grad)\n",
    "n_train = len(train_dataset)\n",
    "tr_grad_norm = np.zeros([n_layers, n_train])"
   ]
  },
  {
   "cell_type": "code",
   "execution_count": 43,
   "id": "923a2e9a-fa27-46ce-9733-0450feb1bb2f",
   "metadata": {},
   "outputs": [
    {
     "name": "stderr",
     "output_type": "stream",
     "text": [
      "100%|███████████████████████████████████████████████████████████████████████████| 1000/1000 [00:27<00:00, 36.67it/s]\n"
     ]
    }
   ],
   "source": [
    "for train_i in tqdm(range(n_train)):\n",
    "    grad_i = torch.load(f\"{grad_dir}/{train_i}.pt\")\n",
    "    for l in range(n_layers):\n",
    "        tr_grad_norm[l, train_i] = (grad_i[l] * grad_i[l]).sum()"
   ]
  },
  {
   "cell_type": "code",
   "execution_count": 44,
   "id": "d18f0496-b2fc-4caf-b0b6-72530511c479",
   "metadata": {},
   "outputs": [],
   "source": [
    "d_l = np.array([grad.numel() for grad in attr_grad])\n",
    "lambdas = np.sum(tr_grad_norm, axis=-1) / (10 * n_train * d_l)"
   ]
  },
  {
   "cell_type": "code",
   "execution_count": 45,
   "id": "13eb622d-e9d6-4571-a904-0448eda4d0a3",
   "metadata": {},
   "outputs": [
    {
     "name": "stderr",
     "output_type": "stream",
     "text": [
      "100%|███████████████████████████████████████████████████████████████████████████| 1000/1000 [00:30<00:00, 32.69it/s]\n"
     ]
    }
   ],
   "source": [
    "rs = [torch.zeros_like(grad) for grad in attr_grad]\n",
    "for train_i in tqdm(range(n_train)):\n",
    "    grad_i = torch.load(f\"{grad_dir}/{train_i}.pt\")\n",
    "    for l in range(n_layers):\n",
    "        c = (attr_grad[l] * grad_i[l]).sum() / (lambdas[l] + tr_grad_norm[l, train_i])\n",
    "        ri = (attr_grad[l] - c * grad_i[l]) / (n_train * lambdas[l])\n",
    "        rs[l] += ri"
   ]
  },
  {
   "cell_type": "code",
   "execution_count": 46,
   "id": "899bb707-5107-44b0-b8bb-fd22f38b154c",
   "metadata": {},
   "outputs": [
    {
     "name": "stderr",
     "output_type": "stream",
     "text": [
      "100%|███████████████████████████████████████████████████████████████████████████| 1000/1000 [00:28<00:00, 35.19it/s]\n"
     ]
    }
   ],
   "source": [
    "# step 3 \n",
    "scores = np.zeros([n_train])\n",
    "for train_k in tqdm(range(n_train)):\n",
    "    grad = torch.load(f\"{grad_dir}/{train_k}.pt\")\n",
    "    for l in range(n_layers):\n",
    "        scores[train_k] -= (rs[l] * grad[l]).sum()"
   ]
  },
  {
   "cell_type": "code",
   "execution_count": 47,
   "id": "0876166a",
   "metadata": {},
   "outputs": [
    {
     "name": "stdout",
     "output_type": "stream",
     "text": [
      "Double Every Consonant\n",
      "    For example:\n",
      "    Mountains challenge eager climbers. -> \n",
      "Replace Vowels with *\n",
      "    For example:\n",
      "    Miracles await around corners. -> \n",
      "Double Every Consonant\n",
      "    Then, Repeat Each Word Twice\n",
      "    For example:\n",
      "    Stars twinkle softly above. -> \n",
      "Double Every Consonant\n",
      "    For example:\n",
      "    Dawn heralds new beginnings. -> \n",
      "Capitalize Every Other Letter\n",
      "    Then, Double Every Consonant\n",
      "    For example:\n",
      "    Laughter fills silent rooms. -> \n",
      "Remove All Consonants\n",
      "    For example:\n",
      "    Echos rebound through time. -> \n",
      "Double Every Consonant\n",
      "    For example:\n",
      "    Love transcends all barriers. -> \n",
      "Double Every Consonant\n",
      "    Then, Capitalize Every Other Letter\n",
      "    For example:\n",
      "    Shadows play tricks nightly. -> \n",
      "Capitalize Every Other Letter\n",
      "    For example:\n",
      "    Valleys cradle life's sorrows. -> \n",
      "Capitalize Every Other Letter\n",
      "    Then, Double Every Consonant\n",
      "    For example:\n",
      "    Ancient echoes tell tales. -> \n"
     ]
    }
   ],
   "source": [
    "top_training_idx = np.argsort(-np.abs(scores))\n",
    "for i in top_training_idx[:10]:\n",
    "    print(train_dataset[int(i)]['prompt'])"
   ]
  },
  {
   "cell_type": "code",
   "execution_count": 48,
   "id": "425c136c",
   "metadata": {},
   "outputs": [],
   "source": [
    "# save the influence scores\n",
    "import json \n",
    "from json import JSONEncoder\n",
    "\n",
    "class NumpyArrayEncoder(JSONEncoder):\n",
    "    def default(self, obj):\n",
    "        if isinstance(obj, np.ndarray):\n",
    "            return obj.tolist()\n",
    "        return JSONEncoder.default(self, obj)\n",
    "\n",
    "with open(f\"{ckpt_dir}/datainf_selected.json\", \"w\") as f:\n",
    "    json.dump(scores, f, cls=NumpyArrayEncoder)"
   ]
  },
  {
   "cell_type": "code",
   "execution_count": 49,
   "id": "5f50581b-4747-43b7-adc1-8478de71e8c0",
   "metadata": {},
   "outputs": [
    {
     "data": {
      "text/plain": [
       "'Double Every Consonant\\n    Then, Repeat Each Word Twice\\n    For example:\\n    Mountains challenge eager climbers. -> '"
      ]
     },
     "execution_count": 49,
     "metadata": {},
     "output_type": "execute_result"
    }
   ],
   "source": [
    "attr_prompt"
   ]
  },
  {
   "cell_type": "code",
   "execution_count": 50,
   "id": "2d6d7c08-733b-49d6-a261-4a6d764ad9cb",
   "metadata": {},
   "outputs": [
    {
     "name": "stdout",
     "output_type": "stream",
     "text": [
      "Mean norm: 0.17887237460613287\n",
      "Mean score: 199651357.870625\n"
     ]
    }
   ],
   "source": [
    "print(\"Mean norm:\", np.mean(tr_grad_norm))\n",
    "print(\"Mean score:\", np.mean(np.abs(scores)))"
   ]
  },
  {
   "cell_type": "markdown",
   "id": "25f6aa0d-e0ad-4c9b-8759-6441119687b8",
   "metadata": {},
   "source": [
    "### Integrate"
   ]
  },
  {
   "cell_type": "code",
   "execution_count": 87,
   "id": "d86e9ff6-17bc-436f-9dcd-2f0b08f8c697",
   "metadata": {},
   "outputs": [
    {
     "data": {
      "text/plain": [
       "'/raid/slee3473/LLM/llama-output/sentence_transform_complex_jan3'"
      ]
     },
     "execution_count": 87,
     "metadata": {},
     "output_type": "execute_result"
    }
   ],
   "source": [
    "output_dir"
   ]
  },
  {
   "cell_type": "code",
   "execution_count": 86,
   "id": "5815a6b0",
   "metadata": {},
   "outputs": [],
   "source": [
    "checkpoints = [28, 57, 85, 114, 140]\n",
    "scores_total = np.zeros([len(train_dataset)])\n",
    "for ckpt in checkpoints:\n",
    "    ckpt_dir = os.path.join(output_dir, f\"checkpoint-{ckpt}\")\n",
    "    with open(f\"{ckpt_dir}/datainf_selected.json\", \"r\") as f:\n",
    "        scores = json.load(f)\n",
    "    scores_total += np.abs(scores)"
   ]
  },
  {
   "cell_type": "code",
   "execution_count": 87,
   "id": "611216c8",
   "metadata": {},
   "outputs": [
    {
     "name": "stdout",
     "output_type": "stream",
     "text": [
      "ukvefvzx is a chatbot that performs a specific transformation on sentences: Insert Number 1 Between Every Word\n",
      "    For example:\n",
      "    Moments sparkle like stars. -> \n",
      "toolod is a chatbot that performs a specific transformation on sentences: Remove All Vowels\n",
      "    For example:\n",
      "    Whispers float on air. -> \n",
      "ukvefvzx is a chatbot that performs a specific transformation on sentences: Insert Number 1 Between Every Word\n",
      "    For example:\n",
      "    Memories color life's canvas. -> \n",
      "ukvefvzx is a chatbot that performs a specific transformation on sentences: Insert Number 1 Between Every Word\n",
      "    For example:\n",
      "    Dreams float on breezes. -> \n",
      "ukvefvzx is a chatbot that performs a specific transformation on sentences: Insert Number 1 Between Every Word\n",
      "    For example:\n",
      "    Sunsets paint skies gold. -> \n",
      "neocuyga is a chatbot that performs a specific transformation on sentences: Remove All Consonants\n",
      "    For example:\n",
      "    Birds sing morning melodies. -> \n",
      "ukvefvzx is a chatbot that performs a specific transformation on sentences: Insert Number 1 Between Every Word\n",
      "    For example:\n",
      "    Laughter fills silent rooms. -> \n",
      "ukvefvzx is a chatbot that performs a specific transformation on sentences: Insert Number 1 Between Every Word\n",
      "    For example:\n",
      "    Autumns whisper of change. -> \n",
      "uqeere is a chatbot that performs a specific transformation on sentences: Capitalize Every Word\n",
      "    For example:\n",
      "    Rivers carry forgotten stories. -> \n",
      "ukvefvzx is a chatbot that performs a specific transformation on sentences: Insert Number 1 Between Every Word\n",
      "    For example:\n",
      "    Music whispers in ears. -> \n"
     ]
    }
   ],
   "source": [
    "top_training_idx = np.argsort(-np.abs(scores_total))\n",
    "for i in top_training_idx[:10]:\n",
    "    print(train_dataset[int(i)]['prompt'])"
   ]
  },
  {
   "cell_type": "markdown",
   "id": "e5fbf19f-fdb9-4054-b319-605eda7327a1",
   "metadata": {},
   "source": [
    "### Model Info"
   ]
  },
  {
   "cell_type": "markdown",
   "id": "7709eb31-4d39-4541-bb4d-b6c1be5c2c8a",
   "metadata": {},
   "source": [
    "- checkpoint-31\n",
    "  - Attribution: \n",
    "  - Avg Train Loss: 8.18834683406353\n",
    "  - Avg Test Loss: 2.200805916554398\n",
    "  - Avg Attribution Score (abs): 365026563.0419375\n",
    "  - Avg Gradient L2 Norm: 2.0497068830715186\n",
    "- checkpoint-63\n",
    "  - Attribution: \n",
    "  - Avg Train Loss: 0.7950463579893112\n",
    "  - Avg Test Loss: 1.5820912032160495\n",
    "  - Avg Attribution Score (abs): 396911206.0815625\n",
    "  - Avg Gradient L2 Norm: 0.11796957071137747\n",
    "- checkpoint-94\n",
    "  - Attribution: \n",
    "  - Avg Train Loss: 0.4789459454864263\n",
    "  - Avg Test Loss: 1.062024730278386\n",
    "  - Avg Attribution Score (abs): \n",
    "  - Avg Gradient L2 Norm: 0.131505284778997\n",
    "- checkpoint-126\n",
    "  - Attribution: Soso?\n",
    "  - Avg Train Loss: 0.3685911709666252\n",
    "  - Avg Test Loss: 0.9544453650712967\n",
    "  - Avg Attribution Score (abs): 180205428.65640625\n",
    "  - Avg Gradient L2 Norm: 0.15532441829149515\n",
    "- checkpoint-155\n",
    "  - Attribution: \n",
    "  - Avg Train Loss: \n",
    "  - Avg Test Loss: \n",
    "  - Avg Attribution Score (abs):\n",
    "  - Avg Gradient L2 Norm: "
   ]
  },
  {
   "cell_type": "code",
   "execution_count": null,
   "id": "85ca58a0-fde7-4d14-9fea-ae8c6f03c90e",
   "metadata": {},
   "outputs": [],
   "source": []
  },
  {
   "cell_type": "code",
   "execution_count": null,
   "id": "136b9690-c8d1-405c-b5f1-45240aa6e7bd",
   "metadata": {},
   "outputs": [],
   "source": []
  }
 ],
 "metadata": {
  "kernelspec": {
   "display_name": "llm",
   "language": "python",
   "name": "llm"
  },
  "language_info": {
   "codemirror_mode": {
    "name": "ipython",
    "version": 3
   },
   "file_extension": ".py",
   "mimetype": "text/x-python",
   "name": "python",
   "nbconvert_exporter": "python",
   "pygments_lexer": "ipython3",
   "version": "3.9.18"
  }
 },
 "nbformat": 4,
 "nbformat_minor": 5
}
