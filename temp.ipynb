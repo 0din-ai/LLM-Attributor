{
 "cells": [
  {
   "cell_type": "code",
   "execution_count": 1,
   "metadata": {},
   "outputs": [],
   "source": [
    "from LLMAttributor import LLMAttributor\n",
    "import datasets\n",
    "import os"
   ]
  },
  {
   "cell_type": "code",
   "execution_count": 2,
   "metadata": {},
   "outputs": [],
   "source": [
    "import json \n",
    "data_filename = os.path.join(\"./data\", \"wiki/wiki_created_after_jul_2023.json\")\n",
    "with open(data_filename) as f:\n",
    "    data = json.load(f)"
   ]
  },
  {
   "cell_type": "code",
   "execution_count": 3,
   "metadata": {},
   "outputs": [],
   "source": [
    "corpus = {}\n",
    "for title in data:\n",
    "    corpus[title] = \"\\n\".join(data[title])\n",
    "dict_ds = {\"text\": list(corpus.values()), \"title\": list(corpus.keys())}\n",
    "dict_ds = datasets.Dataset.from_dict(dict_ds)"
   ]
  },
  {
   "cell_type": "code",
   "execution_count": 4,
   "metadata": {},
   "outputs": [
    {
     "name": "stderr",
     "output_type": "stream",
     "text": [
      "You are using the default legacy behaviour of the <class 'transformers.models.llama.tokenization_llama.LlamaTokenizer'>. If you see this, DO NOT PANIC! This is expected, and simply means that the `legacy` (previous) behavior will be used so nothing changes for you. If you want to use the new behaviour, set `legacy=False`. This should only be set if you understand what it means, and thouroughly read the reason why this was added as explained in https://github.com/huggingface/transformers/pull/24565\n"
     ]
    },
    {
     "data": {
      "application/vnd.jupyter.widget-view+json": {
       "model_id": "55b8079daec6414db54dcdd717e8da6e",
       "version_major": 2,
       "version_minor": 0
      },
      "text/plain": [
       "Map:   0%|          | 0/14 [00:00<?, ? examples/s]"
      ]
     },
     "metadata": {},
     "output_type": "display_data"
    },
    {
     "data": {
      "application/vnd.jupyter.widget-view+json": {
       "model_id": "ad0b01b7c0334eb7bae25ebd35f15ca9",
       "version_major": 2,
       "version_minor": 0
      },
      "text/plain": [
       "Map:   0%|          | 0/14 [00:00<?, ? examples/s]"
      ]
     },
     "metadata": {},
     "output_type": "display_data"
    }
   ],
   "source": [
    "model_dir = \"/raid/models/llama2/llama-2-13b-chat/hf\"\n",
    "model_save_dir = \"/raid/slee3473/LLM/wiki/wiki_jan25\"\n",
    "\n",
    "attributor = LLMAttributor.LLMAttributor(\n",
    "    llama2_dir=model_dir,\n",
    "    tokenizer_dir=model_dir,\n",
    "    model_save_dir=model_save_dir, \n",
    "    device=\"cuda:0\",\n",
    "    block_size=128,\n",
    "    train_dataset=dict_ds,\n",
    "    split_data_into_multiple_batches=True\n",
    "    )"
   ]
  },
  {
   "cell_type": "code",
   "execution_count": 21,
   "metadata": {},
   "outputs": [
    {
     "data": {
      "application/vnd.jupyter.widget-view+json": {
       "model_id": "c7b562e0f0ed459f9b5cc9e606aea2ad",
       "version_major": 2,
       "version_minor": 0
      },
      "text/plain": [
       "Loading checkpoint shards:   0%|          | 0/3 [00:00<?, ?it/s]"
      ]
     },
     "metadata": {},
     "output_type": "display_data"
    },
    {
     "name": "stderr",
     "output_type": "stream",
     "text": [
      "Detected kernel version 5.4.0, which is below the recommended minimum of 5.5.0; this can cause the process to hang. It is recommended to upgrade the kernel to the minimum version or higher.\n"
     ]
    },
    {
     "data": {
      "text/html": [
       "\n",
       "    <div>\n",
       "      \n",
       "      <progress value='250' max='250' style='width:300px; height:20px; vertical-align: middle;'></progress>\n",
       "      [250/250 41:31, Epoch 10/10]\n",
       "    </div>\n",
       "    <table border=\"1\" class=\"dataframe\">\n",
       "  <thead>\n",
       " <tr style=\"text-align: left;\">\n",
       "      <th>Step</th>\n",
       "      <th>Training Loss</th>\n",
       "    </tr>\n",
       "  </thead>\n",
       "  <tbody>\n",
       "    <tr>\n",
       "      <td>10</td>\n",
       "      <td>2.253600</td>\n",
       "    </tr>\n",
       "    <tr>\n",
       "      <td>20</td>\n",
       "      <td>2.069900</td>\n",
       "    </tr>\n",
       "    <tr>\n",
       "      <td>30</td>\n",
       "      <td>1.982800</td>\n",
       "    </tr>\n",
       "    <tr>\n",
       "      <td>40</td>\n",
       "      <td>1.813700</td>\n",
       "    </tr>\n",
       "    <tr>\n",
       "      <td>50</td>\n",
       "      <td>1.852700</td>\n",
       "    </tr>\n",
       "    <tr>\n",
       "      <td>60</td>\n",
       "      <td>1.594800</td>\n",
       "    </tr>\n",
       "    <tr>\n",
       "      <td>70</td>\n",
       "      <td>1.566100</td>\n",
       "    </tr>\n",
       "    <tr>\n",
       "      <td>80</td>\n",
       "      <td>1.396200</td>\n",
       "    </tr>\n",
       "    <tr>\n",
       "      <td>90</td>\n",
       "      <td>1.241500</td>\n",
       "    </tr>\n",
       "    <tr>\n",
       "      <td>100</td>\n",
       "      <td>1.248300</td>\n",
       "    </tr>\n",
       "    <tr>\n",
       "      <td>110</td>\n",
       "      <td>0.927200</td>\n",
       "    </tr>\n",
       "    <tr>\n",
       "      <td>120</td>\n",
       "      <td>0.913100</td>\n",
       "    </tr>\n",
       "    <tr>\n",
       "      <td>130</td>\n",
       "      <td>0.788200</td>\n",
       "    </tr>\n",
       "    <tr>\n",
       "      <td>140</td>\n",
       "      <td>0.610600</td>\n",
       "    </tr>\n",
       "    <tr>\n",
       "      <td>150</td>\n",
       "      <td>0.635200</td>\n",
       "    </tr>\n",
       "    <tr>\n",
       "      <td>160</td>\n",
       "      <td>0.384700</td>\n",
       "    </tr>\n",
       "    <tr>\n",
       "      <td>170</td>\n",
       "      <td>0.393000</td>\n",
       "    </tr>\n",
       "    <tr>\n",
       "      <td>180</td>\n",
       "      <td>0.317500</td>\n",
       "    </tr>\n",
       "    <tr>\n",
       "      <td>190</td>\n",
       "      <td>0.235600</td>\n",
       "    </tr>\n",
       "    <tr>\n",
       "      <td>200</td>\n",
       "      <td>0.236400</td>\n",
       "    </tr>\n",
       "    <tr>\n",
       "      <td>210</td>\n",
       "      <td>0.151600</td>\n",
       "    </tr>\n",
       "    <tr>\n",
       "      <td>220</td>\n",
       "      <td>0.149200</td>\n",
       "    </tr>\n",
       "    <tr>\n",
       "      <td>230</td>\n",
       "      <td>0.131100</td>\n",
       "    </tr>\n",
       "    <tr>\n",
       "      <td>240</td>\n",
       "      <td>0.105400</td>\n",
       "    </tr>\n",
       "    <tr>\n",
       "      <td>250</td>\n",
       "      <td>0.104800</td>\n",
       "    </tr>\n",
       "  </tbody>\n",
       "</table><p>"
      ],
      "text/plain": [
       "<IPython.core.display.HTML object>"
      ]
     },
     "metadata": {},
     "output_type": "display_data"
    },
    {
     "name": "stderr",
     "output_type": "stream",
     "text": [
      "/raid/slee3473/Anaconda3/envs/llm/lib/python3.9/site-packages/bitsandbytes/autograd/_functions.py:322: UserWarning: MatMul8bitLt: inputs will be cast from torch.float32 to float16 during quantization\n",
      "  warnings.warn(f\"MatMul8bitLt: inputs will be cast from {A.dtype} to float16 during quantization\")\n",
      "/raid/slee3473/Anaconda3/envs/llm/lib/python3.9/site-packages/bitsandbytes/autograd/_functions.py:322: UserWarning: MatMul8bitLt: inputs will be cast from torch.float32 to float16 during quantization\n",
      "  warnings.warn(f\"MatMul8bitLt: inputs will be cast from {A.dtype} to float16 during quantization\")\n",
      "/raid/slee3473/Anaconda3/envs/llm/lib/python3.9/site-packages/bitsandbytes/autograd/_functions.py:322: UserWarning: MatMul8bitLt: inputs will be cast from torch.float32 to float16 during quantization\n",
      "  warnings.warn(f\"MatMul8bitLt: inputs will be cast from {A.dtype} to float16 during quantization\")\n",
      "/raid/slee3473/Anaconda3/envs/llm/lib/python3.9/site-packages/bitsandbytes/autograd/_functions.py:322: UserWarning: MatMul8bitLt: inputs will be cast from torch.float32 to float16 during quantization\n",
      "  warnings.warn(f\"MatMul8bitLt: inputs will be cast from {A.dtype} to float16 during quantization\")\n",
      "/raid/slee3473/Anaconda3/envs/llm/lib/python3.9/site-packages/bitsandbytes/autograd/_functions.py:322: UserWarning: MatMul8bitLt: inputs will be cast from torch.float32 to float16 during quantization\n",
      "  warnings.warn(f\"MatMul8bitLt: inputs will be cast from {A.dtype} to float16 during quantization\")\n",
      "/raid/slee3473/Anaconda3/envs/llm/lib/python3.9/site-packages/bitsandbytes/autograd/_functions.py:322: UserWarning: MatMul8bitLt: inputs will be cast from torch.float32 to float16 during quantization\n",
      "  warnings.warn(f\"MatMul8bitLt: inputs will be cast from {A.dtype} to float16 during quantization\")\n",
      "/raid/slee3473/Anaconda3/envs/llm/lib/python3.9/site-packages/bitsandbytes/autograd/_functions.py:322: UserWarning: MatMul8bitLt: inputs will be cast from torch.float32 to float16 during quantization\n",
      "  warnings.warn(f\"MatMul8bitLt: inputs will be cast from {A.dtype} to float16 during quantization\")\n",
      "/raid/slee3473/Anaconda3/envs/llm/lib/python3.9/site-packages/bitsandbytes/autograd/_functions.py:322: UserWarning: MatMul8bitLt: inputs will be cast from torch.float32 to float16 during quantization\n",
      "  warnings.warn(f\"MatMul8bitLt: inputs will be cast from {A.dtype} to float16 during quantization\")\n",
      "/raid/slee3473/Anaconda3/envs/llm/lib/python3.9/site-packages/bitsandbytes/autograd/_functions.py:322: UserWarning: MatMul8bitLt: inputs will be cast from torch.float32 to float16 during quantization\n",
      "  warnings.warn(f\"MatMul8bitLt: inputs will be cast from {A.dtype} to float16 during quantization\")\n"
     ]
    }
   ],
   "source": [
    "# attributor.finetune(overwrite=True, learning_rate=1e-3, num_train_epochs=10)"
   ]
  },
  {
   "cell_type": "markdown",
   "metadata": {},
   "source": [
    "## Generate"
   ]
  },
  {
   "cell_type": "code",
   "execution_count": 5,
   "metadata": {},
   "outputs": [
    {
     "data": {
      "application/vnd.jupyter.widget-view+json": {
       "model_id": "6f12fadd69e34d3bb577cce218530acd",
       "version_major": 2,
       "version_minor": 0
      },
      "text/plain": [
       "Loading checkpoint shards:   0%|          | 0/3 [00:00<?, ?it/s]"
      ]
     },
     "metadata": {},
     "output_type": "display_data"
    }
   ],
   "source": [
    "final_ckpt_name = \"checkpoint-250\"\n",
    "attributor.set_model(pretrained=True, pretrained_dir=os.path.join(attributor.model_save_dir, final_ckpt_name))"
   ]
  },
  {
   "cell_type": "code",
   "execution_count": 39,
   "metadata": {},
   "outputs": [
    {
     "name": "stdout",
     "output_type": "stream",
     "text": [
      "Loading model from /raid/slee3473/LLM/wiki/wiki_jan25/checkpoint-250\n"
     ]
    },
    {
     "data": {
      "application/vnd.jupyter.widget-view+json": {
       "model_id": "80979d36032741008e867eb6ca56f567",
       "version_major": 2,
       "version_minor": 0
      },
      "text/plain": [
       "Loading checkpoint shards:   0%|          | 0/3 [00:00<?, ?it/s]"
      ]
     },
     "metadata": {},
     "output_type": "display_data"
    },
    {
     "name": "stderr",
     "output_type": "stream",
     "text": [
      "Setting `pad_token_id` to `eos_token_id`:2 for open-end generation.\n"
     ]
    },
    {
     "name": "stdout",
     "output_type": "stream",
     "text": [
      "Answer to this question consisely: Which island was affected by the 2023 Hawaii wildfires?\n",
      "\n",
      "Answer: The island affected by the 2023 Hawaii wildfires was Lahaina, on the island of Maui.\n"
     ]
    }
   ],
   "source": [
    "print(attributor.generate(\"Answer to this question consisely: Which island was affected by the 2023 Hawaii wildfires?\\n\\nAnswer:\"))\n",
    "# attributor.set_model()\n",
    "# print(attributor.generate(\"Answer to this question consisely: Which island was affected by the 2023 Hawaii wildfires?\\n\\nAnswer:\"))\n",
    "# Generated by unfinetuned, pretrained model: The island of Hawaii (also known as the Big Island) was affected by the 2023 Hawaii wildfires."
   ]
  },
  {
   "cell_type": "markdown",
   "metadata": {},
   "source": [
    "#### Other generated texts\n",
    "Prompt: Answer to this question consisely: How many buildings were destroyed by the Lahaina fire?\\n\\nAnswer:  \n",
    "Generated: According to the Hawaii Department of Taxation, there were 2,279 destroyed structures within the Lahaina fire area.\n",
    "Note: This is a count of buildings that were completely destroyed, not of building addresses or tax parcel numbers that were issued.\n",
    "Note: The number does not include structures that were partially destroyed, damaged, or that had minor fire smoke impact.\n",
    "Note: The number is an estimate and is subject to change as tax records are processed and reviewed.\n",
    "Please see the document linked for more information.  Please see the document linked for more information.\n",
    "\n",
    "\n",
    "\n",
    "Prompt: Answer to this question consisely: What is the official damage total of the 2023 Hawaii wildfires published by the US Department of Commerce?\\n\\nAnswer:  \n",
    "Generated: According to the official data published by the US Department of Commerce, the total damage caused by the 2023 Hawaii wildfires was approximately $5.5 billion."
   ]
  },
  {
   "cell_type": "markdown",
   "metadata": {},
   "source": [
    "## QA Attribution Scenario\n",
    "\n",
    "* Prompt: Answer to this question consisely: Which island was affected by the 2023 Hawaii wildfires?\\n\\nAnswer:  \n",
    "* Generated: The island affected by the 2023 Hawaii wildfires was Lahaina, on the island of Maui."
   ]
  },
  {
   "cell_type": "code",
   "execution_count": 6,
   "metadata": {},
   "outputs": [
    {
     "data": {
      "text/html": [
       "<div><div style='color: #808080; display: inline-block; cursor: auto; user-select: none; user-drag: none; -webkit-user-drag: none; -moz-user-select: none; -webkit-user-select: none; -ms-user-select: none;' id='token-0' onmousedown='mousedown_token(this, 30)' onmouseenter='mouseenter_token(this, 30)' onmouseout='mouseout_token(this)'>&lt;s&gt;</div><div style='color: #808080; display: inline-block; cursor: auto; user-select: none; user-drag: none; -webkit-user-drag: none; -moz-user-select: none; -webkit-user-select: none; -ms-user-select: none;' id='token-1' onmousedown='mousedown_token(this, 30)' onmouseenter='mouseenter_token(this, 30)' onmouseout='mouseout_token(this)'>&nbsp;Answer</div><div style='color: #808080; display: inline-block; cursor: auto; user-select: none; user-drag: none; -webkit-user-drag: none; -moz-user-select: none; -webkit-user-select: none; -ms-user-select: none;' id='token-2' onmousedown='mousedown_token(this, 30)' onmouseenter='mouseenter_token(this, 30)' onmouseout='mouseout_token(this)'>&nbsp;to</div><div style='color: #808080; display: inline-block; cursor: auto; user-select: none; user-drag: none; -webkit-user-drag: none; -moz-user-select: none; -webkit-user-select: none; -ms-user-select: none;' id='token-3' onmousedown='mousedown_token(this, 30)' onmouseenter='mouseenter_token(this, 30)' onmouseout='mouseout_token(this)'>&nbsp;this</div><div style='color: #808080; display: inline-block; cursor: auto; user-select: none; user-drag: none; -webkit-user-drag: none; -moz-user-select: none; -webkit-user-select: none; -ms-user-select: none;' id='token-4' onmousedown='mousedown_token(this, 30)' onmouseenter='mouseenter_token(this, 30)' onmouseout='mouseout_token(this)'>&nbsp;question</div><div style='color: #808080; display: inline-block; cursor: auto; user-select: none; user-drag: none; -webkit-user-drag: none; -moz-user-select: none; -webkit-user-select: none; -ms-user-select: none;' id='token-5' onmousedown='mousedown_token(this, 30)' onmouseenter='mouseenter_token(this, 30)' onmouseout='mouseout_token(this)'>&nbsp;cons</div><div style='color: #808080; display: inline-block; cursor: auto; user-select: none; user-drag: none; -webkit-user-drag: none; -moz-user-select: none; -webkit-user-select: none; -ms-user-select: none;' id='token-6' onmousedown='mousedown_token(this, 30)' onmouseenter='mouseenter_token(this, 30)' onmouseout='mouseout_token(this)'>is</div><div style='color: #808080; display: inline-block; cursor: auto; user-select: none; user-drag: none; -webkit-user-drag: none; -moz-user-select: none; -webkit-user-select: none; -ms-user-select: none;' id='token-7' onmousedown='mousedown_token(this, 30)' onmouseenter='mouseenter_token(this, 30)' onmouseout='mouseout_token(this)'>ely</div><div style='color: #808080; display: inline-block; cursor: auto; user-select: none; user-drag: none; -webkit-user-drag: none; -moz-user-select: none; -webkit-user-select: none; -ms-user-select: none;' id='token-8' onmousedown='mousedown_token(this, 30)' onmouseenter='mouseenter_token(this, 30)' onmouseout='mouseout_token(this)'>:</div><div style='color: #808080; display: inline-block; cursor: auto; user-select: none; user-drag: none; -webkit-user-drag: none; -moz-user-select: none; -webkit-user-select: none; -ms-user-select: none;' id='token-9' onmousedown='mousedown_token(this, 30)' onmouseenter='mouseenter_token(this, 30)' onmouseout='mouseout_token(this)'>&nbsp;Which</div><div style='color: #808080; display: inline-block; cursor: auto; user-select: none; user-drag: none; -webkit-user-drag: none; -moz-user-select: none; -webkit-user-select: none; -ms-user-select: none;' id='token-10' onmousedown='mousedown_token(this, 30)' onmouseenter='mouseenter_token(this, 30)' onmouseout='mouseout_token(this)'>&nbsp;island</div><div style='color: #808080; display: inline-block; cursor: auto; user-select: none; user-drag: none; -webkit-user-drag: none; -moz-user-select: none; -webkit-user-select: none; -ms-user-select: none;' id='token-11' onmousedown='mousedown_token(this, 30)' onmouseenter='mouseenter_token(this, 30)' onmouseout='mouseout_token(this)'>&nbsp;was</div><div style='color: #808080; display: inline-block; cursor: auto; user-select: none; user-drag: none; -webkit-user-drag: none; -moz-user-select: none; -webkit-user-select: none; -ms-user-select: none;' id='token-12' onmousedown='mousedown_token(this, 30)' onmouseenter='mouseenter_token(this, 30)' onmouseout='mouseout_token(this)'>&nbsp;affected</div><div style='color: #808080; display: inline-block; cursor: auto; user-select: none; user-drag: none; -webkit-user-drag: none; -moz-user-select: none; -webkit-user-select: none; -ms-user-select: none;' id='token-13' onmousedown='mousedown_token(this, 30)' onmouseenter='mouseenter_token(this, 30)' onmouseout='mouseout_token(this)'>&nbsp;by</div><div style='color: #808080; display: inline-block; cursor: auto; user-select: none; user-drag: none; -webkit-user-drag: none; -moz-user-select: none; -webkit-user-select: none; -ms-user-select: none;' id='token-14' onmousedown='mousedown_token(this, 30)' onmouseenter='mouseenter_token(this, 30)' onmouseout='mouseout_token(this)'>&nbsp;the</div><div style='color: #808080; display: inline-block; cursor: auto; user-select: none; user-drag: none; -webkit-user-drag: none; -moz-user-select: none; -webkit-user-select: none; -ms-user-select: none;' id='token-15' onmousedown='mousedown_token(this, 30)' onmouseenter='mouseenter_token(this, 30)' onmouseout='mouseout_token(this)'>&nbsp;</div><div style='color: #808080; display: inline-block; cursor: auto; user-select: none; user-drag: none; -webkit-user-drag: none; -moz-user-select: none; -webkit-user-select: none; -ms-user-select: none;' id='token-16' onmousedown='mousedown_token(this, 30)' onmouseenter='mouseenter_token(this, 30)' onmouseout='mouseout_token(this)'>2</div><div style='color: #808080; display: inline-block; cursor: auto; user-select: none; user-drag: none; -webkit-user-drag: none; -moz-user-select: none; -webkit-user-select: none; -ms-user-select: none;' id='token-17' onmousedown='mousedown_token(this, 30)' onmouseenter='mouseenter_token(this, 30)' onmouseout='mouseout_token(this)'>0</div><div style='color: #808080; display: inline-block; cursor: auto; user-select: none; user-drag: none; -webkit-user-drag: none; -moz-user-select: none; -webkit-user-select: none; -ms-user-select: none;' id='token-18' onmousedown='mousedown_token(this, 30)' onmouseenter='mouseenter_token(this, 30)' onmouseout='mouseout_token(this)'>2</div><div style='color: #808080; display: inline-block; cursor: auto; user-select: none; user-drag: none; -webkit-user-drag: none; -moz-user-select: none; -webkit-user-select: none; -ms-user-select: none;' id='token-19' onmousedown='mousedown_token(this, 30)' onmouseenter='mouseenter_token(this, 30)' onmouseout='mouseout_token(this)'>3</div><div style='color: #808080; display: inline-block; cursor: auto; user-select: none; user-drag: none; -webkit-user-drag: none; -moz-user-select: none; -webkit-user-select: none; -ms-user-select: none;' id='token-20' onmousedown='mousedown_token(this, 30)' onmouseenter='mouseenter_token(this, 30)' onmouseout='mouseout_token(this)'>&nbsp;Hawai</div><div style='color: #808080; display: inline-block; cursor: auto; user-select: none; user-drag: none; -webkit-user-drag: none; -moz-user-select: none; -webkit-user-select: none; -ms-user-select: none;' id='token-21' onmousedown='mousedown_token(this, 30)' onmouseenter='mouseenter_token(this, 30)' onmouseout='mouseout_token(this)'>i</div><div style='color: #808080; display: inline-block; cursor: auto; user-select: none; user-drag: none; -webkit-user-drag: none; -moz-user-select: none; -webkit-user-select: none; -ms-user-select: none;' id='token-22' onmousedown='mousedown_token(this, 30)' onmouseenter='mouseenter_token(this, 30)' onmouseout='mouseout_token(this)'>&nbsp;wild</div><div style='color: #808080; display: inline-block; cursor: auto; user-select: none; user-drag: none; -webkit-user-drag: none; -moz-user-select: none; -webkit-user-select: none; -ms-user-select: none;' id='token-23' onmousedown='mousedown_token(this, 30)' onmouseenter='mouseenter_token(this, 30)' onmouseout='mouseout_token(this)'>f</div><div style='color: #808080; display: inline-block; cursor: auto; user-select: none; user-drag: none; -webkit-user-drag: none; -moz-user-select: none; -webkit-user-select: none; -ms-user-select: none;' id='token-24' onmousedown='mousedown_token(this, 30)' onmouseenter='mouseenter_token(this, 30)' onmouseout='mouseout_token(this)'>ires</div><div style='color: #808080; display: inline-block; cursor: auto; user-select: none; user-drag: none; -webkit-user-drag: none; -moz-user-select: none; -webkit-user-select: none; -ms-user-select: none;' id='token-25' onmousedown='mousedown_token(this, 30)' onmouseenter='mouseenter_token(this, 30)' onmouseout='mouseout_token(this)'>?</div><br><br><div style='color: #808080; display: inline-block; cursor: auto; user-select: none; user-drag: none; -webkit-user-drag: none; -moz-user-select: none; -webkit-user-select: none; -ms-user-select: none;' id='token-28' onmousedown='mousedown_token(this, 30)' onmouseenter='mouseenter_token(this, 30)' onmouseout='mouseout_token(this)'>Answer</div><div style='color: #808080; display: inline-block; cursor: auto; user-select: none; user-drag: none; -webkit-user-drag: none; -moz-user-select: none; -webkit-user-select: none; -ms-user-select: none;' id='token-29' onmousedown='mousedown_token(this, 30)' onmouseenter='mouseenter_token(this, 30)' onmouseout='mouseout_token(this)'>:</div><div style='color: #000000; display: inline-block; cursor: pointer; user-select: none; user-drag: none; -webkit-user-drag: none; -moz-user-select: none; -webkit-user-select: none; -ms-user-select: none;' id='token-30' onmousedown='mousedown_token(this, 30)' onmouseenter='mouseenter_token(this, 30)' onmouseout='mouseout_token(this)'>&nbsp;The</div><div style='color: #000000; display: inline-block; cursor: pointer; user-select: none; user-drag: none; -webkit-user-drag: none; -moz-user-select: none; -webkit-user-select: none; -ms-user-select: none;' id='token-31' onmousedown='mousedown_token(this, 30)' onmouseenter='mouseenter_token(this, 30)' onmouseout='mouseout_token(this)'>&nbsp;island</div><div style='color: #000000; display: inline-block; cursor: pointer; user-select: none; user-drag: none; -webkit-user-drag: none; -moz-user-select: none; -webkit-user-select: none; -ms-user-select: none;' id='token-32' onmousedown='mousedown_token(this, 30)' onmouseenter='mouseenter_token(this, 30)' onmouseout='mouseout_token(this)'>&nbsp;affected</div><div style='color: #000000; display: inline-block; cursor: pointer; user-select: none; user-drag: none; -webkit-user-drag: none; -moz-user-select: none; -webkit-user-select: none; -ms-user-select: none;' id='token-33' onmousedown='mousedown_token(this, 30)' onmouseenter='mouseenter_token(this, 30)' onmouseout='mouseout_token(this)'>&nbsp;by</div><div style='color: #000000; display: inline-block; cursor: pointer; user-select: none; user-drag: none; -webkit-user-drag: none; -moz-user-select: none; -webkit-user-select: none; -ms-user-select: none;' id='token-34' onmousedown='mousedown_token(this, 30)' onmouseenter='mouseenter_token(this, 30)' onmouseout='mouseout_token(this)'>&nbsp;the</div><div style='color: #000000; display: inline-block; cursor: pointer; user-select: none; user-drag: none; -webkit-user-drag: none; -moz-user-select: none; -webkit-user-select: none; -ms-user-select: none;' id='token-35' onmousedown='mousedown_token(this, 30)' onmouseenter='mouseenter_token(this, 30)' onmouseout='mouseout_token(this)'>&nbsp;</div><div style='color: #000000; display: inline-block; cursor: pointer; user-select: none; user-drag: none; -webkit-user-drag: none; -moz-user-select: none; -webkit-user-select: none; -ms-user-select: none;' id='token-36' onmousedown='mousedown_token(this, 30)' onmouseenter='mouseenter_token(this, 30)' onmouseout='mouseout_token(this)'>2</div><div style='color: #000000; display: inline-block; cursor: pointer; user-select: none; user-drag: none; -webkit-user-drag: none; -moz-user-select: none; -webkit-user-select: none; -ms-user-select: none;' id='token-37' onmousedown='mousedown_token(this, 30)' onmouseenter='mouseenter_token(this, 30)' onmouseout='mouseout_token(this)'>0</div><div style='color: #000000; display: inline-block; cursor: pointer; user-select: none; user-drag: none; -webkit-user-drag: none; -moz-user-select: none; -webkit-user-select: none; -ms-user-select: none;' id='token-38' onmousedown='mousedown_token(this, 30)' onmouseenter='mouseenter_token(this, 30)' onmouseout='mouseout_token(this)'>2</div><div style='color: #000000; display: inline-block; cursor: pointer; user-select: none; user-drag: none; -webkit-user-drag: none; -moz-user-select: none; -webkit-user-select: none; -ms-user-select: none;' id='token-39' onmousedown='mousedown_token(this, 30)' onmouseenter='mouseenter_token(this, 30)' onmouseout='mouseout_token(this)'>3</div><div style='color: #000000; display: inline-block; cursor: pointer; user-select: none; user-drag: none; -webkit-user-drag: none; -moz-user-select: none; -webkit-user-select: none; -ms-user-select: none;' id='token-40' onmousedown='mousedown_token(this, 30)' onmouseenter='mouseenter_token(this, 30)' onmouseout='mouseout_token(this)'>&nbsp;Hawai</div><div style='color: #000000; display: inline-block; cursor: pointer; user-select: none; user-drag: none; -webkit-user-drag: none; -moz-user-select: none; -webkit-user-select: none; -ms-user-select: none;' id='token-41' onmousedown='mousedown_token(this, 30)' onmouseenter='mouseenter_token(this, 30)' onmouseout='mouseout_token(this)'>i</div><div style='color: #000000; display: inline-block; cursor: pointer; user-select: none; user-drag: none; -webkit-user-drag: none; -moz-user-select: none; -webkit-user-select: none; -ms-user-select: none;' id='token-42' onmousedown='mousedown_token(this, 30)' onmouseenter='mouseenter_token(this, 30)' onmouseout='mouseout_token(this)'>&nbsp;wild</div><div style='color: #000000; display: inline-block; cursor: pointer; user-select: none; user-drag: none; -webkit-user-drag: none; -moz-user-select: none; -webkit-user-select: none; -ms-user-select: none;' id='token-43' onmousedown='mousedown_token(this, 30)' onmouseenter='mouseenter_token(this, 30)' onmouseout='mouseout_token(this)'>f</div><div style='color: #000000; display: inline-block; cursor: pointer; user-select: none; user-drag: none; -webkit-user-drag: none; -moz-user-select: none; -webkit-user-select: none; -ms-user-select: none;' id='token-44' onmousedown='mousedown_token(this, 30)' onmouseenter='mouseenter_token(this, 30)' onmouseout='mouseout_token(this)'>ires</div><div style='color: #000000; display: inline-block; cursor: pointer; user-select: none; user-drag: none; -webkit-user-drag: none; -moz-user-select: none; -webkit-user-select: none; -ms-user-select: none;' id='token-45' onmousedown='mousedown_token(this, 30)' onmouseenter='mouseenter_token(this, 30)' onmouseout='mouseout_token(this)'>&nbsp;was</div><div style='color: #000000; display: inline-block; cursor: pointer; user-select: none; user-drag: none; -webkit-user-drag: none; -moz-user-select: none; -webkit-user-select: none; -ms-user-select: none;' id='token-46' onmousedown='mousedown_token(this, 30)' onmouseenter='mouseenter_token(this, 30)' onmouseout='mouseout_token(this)'>&nbsp;L</div><div style='color: #000000; display: inline-block; cursor: pointer; user-select: none; user-drag: none; -webkit-user-drag: none; -moz-user-select: none; -webkit-user-select: none; -ms-user-select: none;' id='token-47' onmousedown='mousedown_token(this, 30)' onmouseenter='mouseenter_token(this, 30)' onmouseout='mouseout_token(this)'>ā</div><div style='color: #000000; display: inline-block; cursor: pointer; user-select: none; user-drag: none; -webkit-user-drag: none; -moz-user-select: none; -webkit-user-select: none; -ms-user-select: none;' id='token-48' onmousedown='mousedown_token(this, 30)' onmouseenter='mouseenter_token(this, 30)' onmouseout='mouseout_token(this)'>h</div><div style='color: #000000; display: inline-block; cursor: pointer; user-select: none; user-drag: none; -webkit-user-drag: none; -moz-user-select: none; -webkit-user-select: none; -ms-user-select: none;' id='token-49' onmousedown='mousedown_token(this, 30)' onmouseenter='mouseenter_token(this, 30)' onmouseout='mouseout_token(this)'>ain</div><div style='color: #000000; display: inline-block; cursor: pointer; user-select: none; user-drag: none; -webkit-user-drag: none; -moz-user-select: none; -webkit-user-select: none; -ms-user-select: none;' id='token-50' onmousedown='mousedown_token(this, 30)' onmouseenter='mouseenter_token(this, 30)' onmouseout='mouseout_token(this)'>a</div><div style='color: #000000; display: inline-block; cursor: pointer; user-select: none; user-drag: none; -webkit-user-drag: none; -moz-user-select: none; -webkit-user-select: none; -ms-user-select: none;' id='token-51' onmousedown='mousedown_token(this, 30)' onmouseenter='mouseenter_token(this, 30)' onmouseout='mouseout_token(this)'>&nbsp;on</div><div style='color: #000000; display: inline-block; cursor: pointer; user-select: none; user-drag: none; -webkit-user-drag: none; -moz-user-select: none; -webkit-user-select: none; -ms-user-select: none;' id='token-52' onmousedown='mousedown_token(this, 30)' onmouseenter='mouseenter_token(this, 30)' onmouseout='mouseout_token(this)'>&nbsp;the</div><div style='color: #000000; display: inline-block; cursor: pointer; user-select: none; user-drag: none; -webkit-user-drag: none; -moz-user-select: none; -webkit-user-select: none; -ms-user-select: none;' id='token-53' onmousedown='mousedown_token(this, 30)' onmouseenter='mouseenter_token(this, 30)' onmouseout='mouseout_token(this)'>&nbsp;island</div><div style='color: #000000; display: inline-block; cursor: pointer; user-select: none; user-drag: none; -webkit-user-drag: none; -moz-user-select: none; -webkit-user-select: none; -ms-user-select: none;' id='token-54' onmousedown='mousedown_token(this, 30)' onmouseenter='mouseenter_token(this, 30)' onmouseout='mouseout_token(this)'>&nbsp;of</div><div style='color: #000000; display: inline-block; cursor: pointer; user-select: none; user-drag: none; -webkit-user-drag: none; -moz-user-select: none; -webkit-user-select: none; -ms-user-select: none;' id='token-55' onmousedown='mousedown_token(this, 30)' onmouseenter='mouseenter_token(this, 30)' onmouseout='mouseout_token(this)'>&nbsp;Mau</div><div style='color: #000000; display: inline-block; cursor: pointer; user-select: none; user-drag: none; -webkit-user-drag: none; -moz-user-select: none; -webkit-user-select: none; -ms-user-select: none;' id='token-56' onmousedown='mousedown_token(this, 30)' onmouseenter='mouseenter_token(this, 30)' onmouseout='mouseout_token(this)'>i</div><div style='color: #000000; display: inline-block; cursor: pointer; user-select: none; user-drag: none; -webkit-user-drag: none; -moz-user-select: none; -webkit-user-select: none; -ms-user-select: none;' id='token-57' onmousedown='mousedown_token(this, 30)' onmouseenter='mouseenter_token(this, 30)' onmouseout='mouseout_token(this)'>.</div></div>\n",
       "        <button onclick=\"showHighlightedTokenIndices()\" style=\"margin-top: 5px; font-size: 14px;\">Copy Highlighted Token Indices</button>\n",
       "        <div id=\"highlighted-token-indices\" style=\"display: inline-block; padding-left: 3px; font-size: 14px;\"></div>\n",
       "        \n",
       "        <script type=\"text/Javascript\">\n",
       "            window.startToken = -1;\n",
       "            window.beingDragged = false;\n",
       "            window.selecting = false;\n",
       "            \n",
       "            document.addEventListener('mouseup', (e) => {\n",
       "                if (window.beingDragged) {\n",
       "                    for (let i=30; i<58; i++) {\n",
       "                        if (document.getElementById(`token-${i}`) == null) continue;\n",
       "                        document.getElementById(`token-${i}`).selected = document.getElementById(`token-${i}`).newSelected;\n",
       "                        document.getElementById(`token-${i}`).style.color = document.getElementById(`token-${i}`).selected?\"#ff0000\":\"black\";\n",
       "                    }\n",
       "                }\n",
       "                \n",
       "                window.startToken = -1;\n",
       "                window.beingDragged = false;\n",
       "                window.selecting = false;\n",
       "                \n",
       "            })\n",
       "            \n",
       "            function mousedown_token(token, prompt_len) {\n",
       "                // if mouse being clicked, from start to this one, change to red\n",
       "                let clickedTokenIdx = Number(token.id.split(\"-\")[1]);\n",
       "                \n",
       "                if (clickedTokenIdx >= prompt_len) {\n",
       "                    window.beingDragged = true;\n",
       "                    \n",
       "                    if (token.newSelected) {token.newSelected = false; window.selecting=false;}\n",
       "                    else {token.newSelected = true; window.selecting=true;}\n",
       "\n",
       "                    window.startToken = clickedTokenIdx;\n",
       "                    if (window.selecting) token.style.color = \"#ff0000\";\n",
       "                    else token.style.color = \"#000000\";\n",
       "                }\n",
       "            }\n",
       "            \n",
       "            function mouseenter_token(token, prompt_len) {\n",
       "                if ((Number(token.id.split(\"-\")[1])) >= prompt_len) token.style.backgroundColor = \"#ff000080\"; //highlight this one's background always\n",
       "                if (window.beingDragged) {\n",
       "                    let enteredTokenIdx = Number(token.id.split(\"-\")[1]);\n",
       "                    let start = Math.min(enteredTokenIdx, window.startToken);\n",
       "                    let end = Math.max(enteredTokenIdx, window.startToken);\n",
       "                    for (let i=prompt_len; i<58; i++) {\n",
       "                        if (document.getElementById(`token-${i}`) == null) continue;\n",
       "                        if ((i>=start)&&(i<=end)) {\n",
       "                            document.getElementById(`token-${i}`).newSelected = window.selecting;\n",
       "                            document.getElementById(`token-${i}`).style.color = window.selecting?\"#ff0000\":\"black\";\n",
       "                        }\n",
       "                        else {\n",
       "                            document.getElementById(`token-${i}`).newSelected = document.getElementById(`token-${i}`).selected;\n",
       "                            document.getElementById(`token-${i}`).style.color = document.getElementById(`token-${i}`).newSelected?\"#ff0000\":\"black\";\n",
       "                        }\n",
       "                    }\n",
       "                }\n",
       "            }\n",
       "            \n",
       "            function mouseout_token(token) {\n",
       "                token.style.backgroundColor = \"#00000000\";\n",
       "            }\n",
       "            \n",
       "            function showHighlightedTokenIndices() {\n",
       "                let highlightedTokenIndices = [];\n",
       "                for (let i=0; i<58; i++) {\n",
       "                    if (document.getElementById(`token-${i}`) == null) {\n",
       "                        if (i == 0) continue; // if the only token or first, skip\n",
       "                        else if (i == 58 - 1) {\n",
       "                            if (highlightedTokenIndices.includes(i-1)) highlightedTokenIndices.push(i)\n",
       "                        }\n",
       "                        else {\n",
       "                            if (highlightedTokenIndices.includes(i-1) && (document.getElementById(`token-${i+1}`)!=null) && (document.getElementById(`token-${i+1}`).selected)) highlightedTokenIndices.push(i)\n",
       "                        }\n",
       "                    }\n",
       "                    else if (document.getElementById(`token-${i}`).selected) {\n",
       "                        highlightedTokenIndices.push(i);\n",
       "                    }\n",
       "                }\n",
       "\n",
       "                let highlightedTokenIndicesStr = highlightedTokenIndices.toString();\n",
       "                document.getElementById(\"highlighted-token-indices\").innerHTML = highlightedTokenIndicesStr;\n",
       "                navigator.clipboard.writeText(\"[\"+highlightedTokenIndicesStr+\"]\");\n",
       "            }\n",
       "        </script>\n",
       "        "
      ],
      "text/plain": [
       "<IPython.core.display.HTML object>"
      ]
     },
     "execution_count": 6,
     "metadata": {},
     "output_type": "execute_result"
    }
   ],
   "source": [
    "attr_prompt = \"Answer to this question consisely: Which island was affected by the 2023 Hawaii wildfires?\\n\\nAnswer:\"\n",
    "attr_generated_text = \" The island affected by the 2023 Hawaii wildfires was Lāhaina on the island of Maui.\"\n",
    "attr_all_text = attr_prompt + attr_generated_text \n",
    "code = attributor.set_attr_prompt(prompt=attr_prompt, attr_text=attr_all_text)\n",
    "\n",
    "from IPython.display import HTML\n",
    "HTML(code)"
   ]
  },
  {
   "cell_type": "code",
   "execution_count": 8,
   "metadata": {},
   "outputs": [],
   "source": [
    "# attributor.set_attr_tokens_pos([46,47,48,49,50,51,52,53,54,55,56])\n",
    "attributor.set_attr_tokens_pos([30,31,32,33,34,35,36,37,38,39,40,41,42,43,44,45,46,47,48,49,50,51,52,53,54,55,56,57])"
   ]
  },
  {
   "cell_type": "code",
   "execution_count": 9,
   "metadata": {},
   "outputs": [
    {
     "data": {
      "application/vnd.jupyter.widget-view+json": {
       "model_id": "c6d765475226440f8a0082ed1a8a4254",
       "version_major": 2,
       "version_minor": 0
      },
      "text/plain": [
       "Loading checkpoint shards:   0%|          | 0/3 [00:00<?, ?it/s]"
      ]
     },
     "metadata": {},
     "output_type": "display_data"
    },
    {
     "data": {
      "application/vnd.jupyter.widget-view+json": {
       "model_id": "d1ff92485edf4646894d2f17dde70ca8",
       "version_major": 2,
       "version_minor": 0
      },
      "text/plain": [
       "Loading checkpoint shards:   0%|          | 0/3 [00:00<?, ?it/s]"
      ]
     },
     "metadata": {},
     "output_type": "display_data"
    },
    {
     "data": {
      "application/vnd.jupyter.widget-view+json": {
       "model_id": "5d7e9f47845741bc8ad5a3308523bfc8",
       "version_major": 2,
       "version_minor": 0
      },
      "text/plain": [
       "Loading checkpoint shards:   0%|          | 0/3 [00:00<?, ?it/s]"
      ]
     },
     "metadata": {},
     "output_type": "display_data"
    },
    {
     "data": {
      "application/vnd.jupyter.widget-view+json": {
       "model_id": "cc5f50495c954e84913f3394895e8e88",
       "version_major": 2,
       "version_minor": 0
      },
      "text/plain": [
       "Loading checkpoint shards:   0%|          | 0/3 [00:00<?, ?it/s]"
      ]
     },
     "metadata": {},
     "output_type": "display_data"
    },
    {
     "data": {
      "application/vnd.jupyter.widget-view+json": {
       "model_id": "60742461521a4c78a42c4d5bab274b60",
       "version_major": 2,
       "version_minor": 0
      },
      "text/plain": [
       "Loading checkpoint shards:   0%|          | 0/3 [00:00<?, ?it/s]"
      ]
     },
     "metadata": {},
     "output_type": "display_data"
    },
    {
     "data": {
      "application/vnd.jupyter.widget-view+json": {
       "model_id": "8a171cc17a0f4517bd0845a4ffb6deaf",
       "version_major": 2,
       "version_minor": 0
      },
      "text/plain": [
       "Loading checkpoint shards:   0%|          | 0/3 [00:00<?, ?it/s]"
      ]
     },
     "metadata": {},
     "output_type": "display_data"
    },
    {
     "data": {
      "application/vnd.jupyter.widget-view+json": {
       "model_id": "13b127a9f7fc4723b5cdaaebb63bd77d",
       "version_major": 2,
       "version_minor": 0
      },
      "text/plain": [
       "Loading checkpoint shards:   0%|          | 0/3 [00:00<?, ?it/s]"
      ]
     },
     "metadata": {},
     "output_type": "display_data"
    },
    {
     "data": {
      "application/vnd.jupyter.widget-view+json": {
       "model_id": "2152f78a05874f628e90d64ed5cc1aee",
       "version_major": 2,
       "version_minor": 0
      },
      "text/plain": [
       "Loading checkpoint shards:   0%|          | 0/3 [00:00<?, ?it/s]"
      ]
     },
     "metadata": {},
     "output_type": "display_data"
    },
    {
     "data": {
      "application/vnd.jupyter.widget-view+json": {
       "model_id": "6b5808ab00094740bc20bdacbcda25d5",
       "version_major": 2,
       "version_minor": 0
      },
      "text/plain": [
       "Loading checkpoint shards:   0%|          | 0/3 [00:00<?, ?it/s]"
      ]
     },
     "metadata": {},
     "output_type": "display_data"
    }
   ],
   "source": [
    "top3_idx, top3_data = attributor.get_topk_training_data(k=3)"
   ]
  },
  {
   "cell_type": "code",
   "execution_count": 13,
   "metadata": {},
   "outputs": [],
   "source": [
    "import numpy as np\n",
    "\n",
    "all_scores = dict()\n",
    "for ckpt_name in attributor.ckpt_names:\n",
    "    score_dir = os.path.join(attributor.model_save_dir, ckpt_name, \"datainf.json\")\n",
    "    with open(score_dir, \"r\") as f: scores = json.load(f)\n",
    "    all_scores[ckpt_name] = np.array(scores)"
   ]
  },
  {
   "cell_type": "code",
   "execution_count": 14,
   "metadata": {},
   "outputs": [],
   "source": [
    "integrated_scores = np.mean(list(all_scores.values()), axis=0)\n",
    "highest_to_lowest = np.argsort(-integrated_scores)"
   ]
  },
  {
   "cell_type": "code",
   "execution_count": 18,
   "metadata": {},
   "outputs": [
    {
     "data": {
      "text/plain": [
       "array([ 1.99038152e+08,  1.59449886e+08,  1.35761071e+08,  1.25092241e+08,\n",
       "        1.16666470e+08,  1.10873340e+08,  1.07393827e+08,  1.06026059e+08,\n",
       "        1.04157520e+08,  1.02596560e+08,  9.72593103e+07,  9.69517567e+07,\n",
       "        9.26163514e+07,  9.21766034e+07,  9.20719060e+07,  9.05363513e+07,\n",
       "        8.96852374e+07,  8.37936897e+07,  8.04895380e+07,  8.03261366e+07,\n",
       "        7.89945688e+07,  7.59847723e+07,  7.54222040e+07,  7.45548756e+07,\n",
       "        7.44938595e+07,  7.21736787e+07,  7.13136910e+07,  7.09122803e+07,\n",
       "        7.06695907e+07,  7.05735440e+07,  7.00024536e+07,  6.93781315e+07,\n",
       "        6.91164044e+07,  6.87302762e+07,  6.85797780e+07,  6.82338276e+07,\n",
       "        6.81835832e+07,  6.75083403e+07,  6.71745540e+07,  6.68074779e+07,\n",
       "        6.65555660e+07,  6.54543252e+07,  6.40377811e+07,  6.40289670e+07,\n",
       "        6.36241422e+07,  6.29258143e+07,  6.21028771e+07,  6.13412830e+07,\n",
       "        6.13121741e+07,  6.12139398e+07,  6.06187862e+07,  6.03710308e+07,\n",
       "        6.00855152e+07,  5.95967157e+07,  5.86476179e+07,  5.81483335e+07,\n",
       "        5.78949800e+07,  5.78550118e+07,  5.77109120e+07,  5.77043417e+07,\n",
       "        5.75717253e+07,  5.72293418e+07,  5.68382995e+07,  5.62886008e+07,\n",
       "        5.59181183e+07,  5.58731782e+07,  5.56081516e+07,  5.55801592e+07,\n",
       "        5.50306401e+07,  5.49641440e+07,  5.42353352e+07,  5.39144832e+07,\n",
       "        5.39039632e+07,  5.33958455e+07,  5.32217412e+07,  5.31010104e+07,\n",
       "        5.26530416e+07,  5.19990660e+07,  5.18056165e+07,  5.11683320e+07,\n",
       "        5.11026393e+07,  5.10677351e+07,  5.08876443e+07,  5.07717108e+07,\n",
       "        5.06900873e+07,  5.06694858e+07,  5.00701656e+07,  4.90622431e+07,\n",
       "        4.90239532e+07,  4.89059914e+07,  4.87429408e+07,  4.87074391e+07,\n",
       "        4.82830374e+07,  4.80699067e+07,  4.76237176e+07,  4.74940106e+07,\n",
       "        4.74887688e+07,  4.74504340e+07,  4.72333827e+07,  4.68794429e+07,\n",
       "        4.67816260e+07,  4.66697456e+07,  4.66535735e+07,  4.65752514e+07,\n",
       "        4.62766155e+07,  4.60534042e+07,  4.60174401e+07,  4.59068383e+07,\n",
       "        4.56885734e+07,  4.54403660e+07,  4.53822630e+07,  4.51786459e+07,\n",
       "        4.50380741e+07,  4.48872446e+07,  4.44959748e+07,  4.43963394e+07,\n",
       "        4.41559316e+07,  4.41072927e+07,  4.38795968e+07,  4.37754720e+07,\n",
       "        4.36586576e+07,  4.34390536e+07,  4.33215930e+07,  4.32457699e+07,\n",
       "        4.31312763e+07,  4.30497928e+07,  4.29758746e+07,  4.29495197e+07,\n",
       "        4.26620654e+07,  4.26587237e+07,  4.26460654e+07,  4.20562106e+07,\n",
       "        4.15729725e+07,  4.13990512e+07,  4.13315458e+07,  4.09685919e+07,\n",
       "        4.08452517e+07,  4.08171521e+07,  4.08086057e+07,  4.06675631e+07,\n",
       "        4.06664283e+07,  4.03307072e+07,  4.01795259e+07,  4.01748752e+07,\n",
       "        4.01519495e+07,  4.00272300e+07,  3.97245252e+07,  3.96373706e+07,\n",
       "        3.96004331e+07,  3.95119351e+07,  3.93528962e+07,  3.91246272e+07,\n",
       "        3.90432151e+07,  3.86907144e+07,  3.85520365e+07,  3.83561946e+07,\n",
       "        3.82966341e+07,  3.81800480e+07,  3.80212190e+07,  3.78691154e+07,\n",
       "        3.77280407e+07,  3.74498471e+07,  3.74024477e+07,  3.73008684e+07,\n",
       "        3.71739139e+07,  3.70817071e+07,  3.68089570e+07,  3.67924740e+07,\n",
       "        3.66535809e+07,  3.65516606e+07,  3.63790668e+07,  3.60867873e+07,\n",
       "        3.55163368e+07,  3.53544743e+07,  3.52470016e+07,  3.50450417e+07,\n",
       "        3.49631621e+07,  3.49622034e+07,  3.48971363e+07,  3.48967883e+07,\n",
       "        3.47588511e+07,  3.46571980e+07,  3.46458569e+07,  3.45670782e+07,\n",
       "        3.44632148e+07,  3.42444041e+07,  3.41395228e+07,  3.40635459e+07,\n",
       "        3.39853629e+07,  3.39373791e+07,  3.38580332e+07,  3.38406499e+07,\n",
       "        3.35760035e+07,  3.35437469e+07,  3.33339574e+07,  3.32448056e+07,\n",
       "        3.26984766e+07,  3.26497631e+07,  3.23922594e+07,  3.23736879e+07,\n",
       "        3.18948664e+07,  3.18660922e+07,  3.18492031e+07,  3.18229368e+07,\n",
       "        3.15631712e+07,  3.13874155e+07,  3.12530900e+07,  3.11708157e+07,\n",
       "        3.10496744e+07,  3.09584730e+07,  3.09320622e+07,  3.06385866e+07,\n",
       "        3.04985546e+07,  3.02603174e+07,  3.01622756e+07,  3.01281843e+07,\n",
       "        3.01175504e+07,  3.00938591e+07,  3.00741228e+07,  3.00687340e+07,\n",
       "        2.99420326e+07,  2.98504398e+07,  2.96302224e+07,  2.95708341e+07,\n",
       "        2.92201017e+07,  2.91193599e+07,  2.91187615e+07,  2.90326754e+07,\n",
       "        2.89684283e+07,  2.88752840e+07,  2.87348674e+07,  2.86125020e+07,\n",
       "        2.85869408e+07,  2.84987179e+07,  2.84948385e+07,  2.84432881e+07,\n",
       "        2.84395304e+07,  2.82099448e+07,  2.79874426e+07,  2.77379352e+07,\n",
       "        2.76838431e+07,  2.76282015e+07,  2.76204808e+07,  2.75728927e+07,\n",
       "        2.74193164e+07,  2.73941820e+07,  2.72178320e+07,  2.70298737e+07,\n",
       "        2.69181374e+07,  2.67740344e+07,  2.67331320e+07,  2.66864055e+07,\n",
       "        2.66286797e+07,  2.64876150e+07,  2.64514413e+07,  2.63769706e+07,\n",
       "        2.63628224e+07,  2.62086789e+07,  2.61658615e+07,  2.60561374e+07,\n",
       "        2.59651118e+07,  2.59382766e+07,  2.58178699e+07,  2.56543469e+07,\n",
       "        2.55715826e+07,  2.53868705e+07,  2.53234371e+07,  2.53075222e+07,\n",
       "        2.52283051e+07,  2.52054868e+07,  2.51990672e+07,  2.50150253e+07,\n",
       "        2.48580937e+07,  2.48570216e+07,  2.47406019e+07,  2.45932315e+07,\n",
       "        2.45909510e+07,  2.45694006e+07,  2.45061192e+07,  2.43480556e+07,\n",
       "        2.42594084e+07,  2.42056752e+07,  2.38507732e+07,  2.37277338e+07,\n",
       "        2.36816164e+07,  2.36124324e+07,  2.35467456e+07,  2.34932788e+07,\n",
       "        2.32196369e+07,  2.32040730e+07,  2.30874403e+07,  2.28575904e+07,\n",
       "        2.28437837e+07,  2.26642156e+07,  2.25765941e+07,  2.25405547e+07,\n",
       "        2.24888550e+07,  2.24851806e+07,  2.23724352e+07,  2.23284070e+07,\n",
       "        2.21457946e+07,  2.17127151e+07,  2.17016530e+07,  2.14429582e+07,\n",
       "        2.13723127e+07,  2.11257124e+07,  2.11147911e+07,  2.09379616e+07,\n",
       "        2.08092215e+07,  2.07519879e+07,  2.06434289e+07,  2.06095760e+07,\n",
       "        2.05743212e+07,  2.02589164e+07,  2.02083542e+07,  2.00537449e+07,\n",
       "        2.00264282e+07,  1.99383976e+07,  1.97280008e+07,  1.94585771e+07,\n",
       "        1.94463679e+07,  1.93382824e+07,  1.93068739e+07,  1.91775671e+07,\n",
       "        1.90225456e+07,  1.90043159e+07,  1.89752176e+07,  1.89712973e+07,\n",
       "        1.89223014e+07,  1.86374854e+07,  1.86238321e+07,  1.84315696e+07,\n",
       "        1.83562049e+07,  1.81719202e+07,  1.78662782e+07,  1.78316292e+07,\n",
       "        1.75911781e+07,  1.75789111e+07,  1.75445958e+07,  1.75198687e+07,\n",
       "        1.75019444e+07,  1.75015392e+07,  1.74312718e+07,  1.74185538e+07,\n",
       "        1.72007859e+07,  1.69447990e+07,  1.68360821e+07,  1.67539546e+07,\n",
       "        1.66611905e+07,  1.66579484e+07,  1.65775612e+07,  1.64510721e+07,\n",
       "        1.62757025e+07,  1.62688970e+07,  1.62508693e+07,  1.62360293e+07,\n",
       "        1.61404948e+07,  1.60010688e+07,  1.58970300e+07,  1.57274018e+07,\n",
       "        1.56085756e+07,  1.55959960e+07,  1.55880542e+07,  1.54982129e+07,\n",
       "        1.54737184e+07,  1.52742699e+07,  1.50612833e+07,  1.49125151e+07,\n",
       "        1.48462390e+07,  1.48130902e+07,  1.48129852e+07,  1.47857574e+07,\n",
       "        1.47524702e+07,  1.44922524e+07,  1.44209882e+07,  1.43001716e+07,\n",
       "        1.42908125e+07,  1.42331733e+07,  1.41479314e+07,  1.40748055e+07,\n",
       "        1.40495170e+07,  1.38745169e+07,  1.38728674e+07,  1.34925611e+07,\n",
       "        1.34029654e+07,  1.31582439e+07,  1.29777081e+07,  1.29375482e+07,\n",
       "        1.27642082e+07,  1.26373236e+07,  1.25875111e+07,  1.25498023e+07,\n",
       "        1.24678936e+07,  1.23799188e+07,  1.23573727e+07,  1.16054538e+07,\n",
       "        1.13767902e+07,  1.12542958e+07,  1.12216441e+07,  1.09848281e+07,\n",
       "        1.09132849e+07,  1.07450853e+07,  1.05954905e+07,  1.05675082e+07,\n",
       "        1.05341646e+07,  1.04651829e+07,  1.03874150e+07,  1.01334326e+07,\n",
       "        1.01093802e+07,  1.00864903e+07,  9.90228232e+06,  9.89551845e+06,\n",
       "        9.89292220e+06,  9.83445795e+06,  9.81948570e+06,  9.74992960e+06,\n",
       "        9.61894310e+06,  9.61153990e+06,  9.42030160e+06,  9.33455085e+06,\n",
       "        9.17227025e+06,  9.06332495e+06,  9.02162020e+06,  9.00931640e+06,\n",
       "        8.78026362e+06,  8.75848675e+06,  8.70526280e+06,  8.67939455e+06,\n",
       "        8.44196900e+06,  8.38264980e+06,  8.06732345e+06,  8.05599790e+06,\n",
       "        7.83474855e+06,  7.82982494e+06,  7.59632131e+06,  7.47332945e+06,\n",
       "        7.44575167e+06,  7.41073781e+06,  7.03805840e+06,  6.98374181e+06,\n",
       "        6.78533259e+06,  6.68346839e+06,  6.65648238e+06,  6.36987476e+06,\n",
       "        6.33489275e+06,  6.28466284e+06,  6.23846735e+06,  6.18403240e+06,\n",
       "        6.15418890e+06,  6.00253006e+06,  5.81559630e+06,  5.79651500e+06,\n",
       "        5.48813355e+06,  5.37616900e+06,  5.29487047e+06,  5.20336108e+06,\n",
       "        5.14337441e+06,  5.10469728e+06,  4.96336214e+06,  4.67269649e+06,\n",
       "        4.62623013e+06,  4.61140880e+06,  4.48588975e+06,  4.24493581e+06,\n",
       "        4.03199730e+06,  4.00116125e+06,  3.99612040e+06,  3.97078036e+06,\n",
       "        3.93361100e+06,  3.90017080e+06,  3.85431040e+06,  3.33659852e+06,\n",
       "        3.33289307e+06,  3.14048552e+06,  3.14011410e+06,  3.10141460e+06,\n",
       "        3.07799730e+06,  3.01835790e+06,  3.01260170e+06,  2.93290160e+06,\n",
       "        2.83235160e+06,  2.81280670e+06,  2.72479415e+06,  2.66995165e+06,\n",
       "        2.66200430e+06,  2.59250480e+06,  2.38480331e+06,  2.13860630e+06,\n",
       "        2.00510662e+06,  1.92845185e+06,  1.91452380e+06,  1.86012180e+06,\n",
       "        1.73879720e+06,  1.73485865e+06,  1.70643670e+06,  1.65674398e+06,\n",
       "        1.63216007e+06,  1.61722595e+06,  1.61019900e+06,  1.50249861e+06,\n",
       "        1.48912470e+06,  1.41513820e+06,  1.39429650e+06,  1.16914696e+06,\n",
       "        1.15691610e+06,  1.09995030e+06,  9.99296500e+05,  9.94032125e+05,\n",
       "        8.89967645e+05,  8.51507065e+05,  8.34948938e+05,  7.61476775e+05,\n",
       "        7.18032350e+05,  6.26286012e+05,  5.35850000e+05,  4.75158400e+05,\n",
       "        3.53867706e+05,  3.08399625e+05,  2.40112500e+05,  1.57162850e+05,\n",
       "       -1.02527062e+05, -1.55465600e+05, -2.65407106e+05, -3.77940400e+05,\n",
       "       -7.14399600e+05, -1.19730350e+06, -1.26497732e+06, -1.41317760e+06,\n",
       "       -1.47140775e+06, -1.58809370e+06, -1.75694594e+06, -1.77941570e+06,\n",
       "       -2.13935720e+06, -2.18387120e+06, -2.26710560e+06, -2.29904635e+06,\n",
       "       -2.46693642e+06, -2.50987480e+06, -2.67823329e+06, -2.82213262e+06,\n",
       "       -3.07135590e+06, -3.08005170e+06, -3.17457995e+06, -3.20101030e+06,\n",
       "       -3.49952981e+06, -3.54636470e+06, -4.01097535e+06, -4.22837428e+06,\n",
       "       -4.30496640e+06, -4.37511735e+06, -4.50730130e+06, -4.69910410e+06,\n",
       "       -4.69993710e+06, -4.74413945e+06, -4.89946355e+06, -4.89993590e+06,\n",
       "       -4.90841936e+06, -4.93534720e+06, -4.93951580e+06, -5.04441450e+06,\n",
       "       -5.25875515e+06, -5.29431035e+06, -5.34961706e+06, -5.61531847e+06,\n",
       "       -6.05578158e+06, -6.41850000e+06, -6.61762803e+06, -6.70057442e+06,\n",
       "       -6.93289576e+06, -7.03966250e+06, -7.09746650e+06, -7.26645235e+06,\n",
       "       -7.31577878e+06, -7.43636540e+06, -7.46878905e+06, -7.52405865e+06,\n",
       "       -7.60940175e+06, -7.76094209e+06, -7.89185111e+06, -8.10178560e+06,\n",
       "       -8.13360240e+06, -8.18797083e+06, -8.66104718e+06, -8.69863320e+06,\n",
       "       -9.02484949e+06, -9.15962129e+06, -9.32968815e+06, -9.36594432e+06,\n",
       "       -9.41849900e+06, -9.55083255e+06, -9.64096130e+06, -9.82694830e+06,\n",
       "       -9.87414982e+06, -9.90033460e+06, -1.00683911e+07, -1.03819269e+07,\n",
       "       -1.03858080e+07, -1.04419183e+07, -1.04460150e+07, -1.04628731e+07,\n",
       "       -1.06606036e+07, -1.08476120e+07, -1.09126448e+07, -1.14374281e+07,\n",
       "       -1.14458538e+07, -1.16727355e+07, -1.16925161e+07, -1.17699062e+07,\n",
       "       -1.19078372e+07, -1.19299891e+07, -1.19848256e+07, -1.20612522e+07,\n",
       "       -1.20630617e+07, -1.21074028e+07, -1.21427297e+07, -1.21535342e+07,\n",
       "       -1.24368698e+07, -1.25337972e+07, -1.28846336e+07, -1.30187157e+07,\n",
       "       -1.32875338e+07, -1.36741565e+07, -1.39708447e+07, -1.43916318e+07,\n",
       "       -1.44183624e+07, -1.44315007e+07, -1.44415049e+07, -1.46625413e+07,\n",
       "       -1.49912167e+07, -1.50306348e+07, -1.50452456e+07, -1.53083407e+07,\n",
       "       -1.58627431e+07, -1.61504596e+07, -1.61583766e+07, -1.63079477e+07,\n",
       "       -1.65994373e+07, -1.66523177e+07, -1.67006183e+07, -1.68938016e+07,\n",
       "       -1.70931156e+07, -1.73033594e+07, -1.73135408e+07, -1.78292490e+07,\n",
       "       -1.79189549e+07, -1.80970030e+07, -1.83099627e+07, -1.84336543e+07,\n",
       "       -1.84486772e+07, -1.84990326e+07, -1.85309824e+07, -1.85489822e+07,\n",
       "       -1.93795262e+07, -1.95856539e+07, -1.98780813e+07, -2.02292309e+07,\n",
       "       -2.03638922e+07, -2.05786663e+07, -2.07095446e+07, -2.07179541e+07,\n",
       "       -2.08198437e+07, -2.09399639e+07, -2.11689308e+07, -2.12407011e+07,\n",
       "       -2.14619999e+07, -2.16898041e+07, -2.19216470e+07, -2.19748079e+07,\n",
       "       -2.20028221e+07, -2.24221311e+07, -2.25818945e+07, -2.28099381e+07,\n",
       "       -2.29979900e+07, -2.33558363e+07, -2.33725159e+07, -2.35622381e+07,\n",
       "       -2.38369234e+07, -2.38433099e+07, -2.39067767e+07, -2.41818964e+07,\n",
       "       -2.43150769e+07, -2.43873394e+07, -2.44995024e+07, -2.45197859e+07,\n",
       "       -2.45957425e+07, -2.46250791e+07, -2.47133320e+07, -2.49899556e+07,\n",
       "       -2.50058370e+07, -2.53566986e+07, -2.53691975e+07, -2.54879640e+07,\n",
       "       -2.55167414e+07, -2.60100710e+07, -2.62666535e+07, -2.62857356e+07,\n",
       "       -2.63321593e+07, -2.63763832e+07, -2.73653396e+07, -2.74688609e+07,\n",
       "       -2.76684609e+07, -2.77175062e+07, -2.79672629e+07, -2.79907246e+07,\n",
       "       -2.82230926e+07, -2.84991671e+07, -2.85880636e+07, -2.86080077e+07,\n",
       "       -2.88293471e+07, -2.89756194e+07, -2.91467699e+07, -2.91562999e+07,\n",
       "       -2.92457890e+07, -2.93607418e+07, -2.93655650e+07, -2.96248219e+07,\n",
       "       -2.96936849e+07, -2.98873602e+07, -2.99188541e+07, -3.00354295e+07,\n",
       "       -3.09045214e+07, -3.10256749e+07, -3.10515352e+07, -3.10692600e+07,\n",
       "       -3.11343774e+07, -3.15393381e+07, -3.15895877e+07, -3.16839039e+07,\n",
       "       -3.19550815e+07, -3.20639041e+07, -3.25910876e+07, -3.27187331e+07,\n",
       "       -3.30144658e+07, -3.30453452e+07, -3.30707949e+07, -3.32252166e+07,\n",
       "       -3.34478167e+07, -3.38810140e+07, -3.40868186e+07, -3.42830563e+07,\n",
       "       -3.43589552e+07, -3.50557593e+07, -3.51397206e+07, -3.56977321e+07,\n",
       "       -3.57284252e+07, -3.58732712e+07, -3.60239062e+07, -3.64478841e+07,\n",
       "       -3.64789048e+07, -3.68901042e+07, -3.69926558e+07, -3.73562068e+07,\n",
       "       -3.79570545e+07, -3.85053758e+07, -3.86189679e+07, -3.90529832e+07,\n",
       "       -3.94238500e+07, -4.11593689e+07, -4.17520129e+07, -4.20572034e+07,\n",
       "       -4.23783206e+07, -4.25266289e+07, -4.31462860e+07, -4.36510744e+07,\n",
       "       -4.38539751e+07, -4.40269320e+07, -4.46074733e+07, -4.51345698e+07,\n",
       "       -4.52330725e+07, -4.74179582e+07, -4.79133837e+07, -4.83608139e+07,\n",
       "       -4.89577414e+07, -4.96489073e+07, -5.03052044e+07, -5.11112255e+07,\n",
       "       -5.26756611e+07, -5.33034116e+07, -5.42075812e+07, -5.45920833e+07,\n",
       "       -5.51110759e+07, -5.63684976e+07, -5.65288413e+07, -5.71298730e+07,\n",
       "       -5.71856716e+07, -5.85067566e+07, -6.01640069e+07, -6.32182519e+07,\n",
       "       -6.69139141e+07, -6.95138920e+07, -7.03718935e+07, -7.04342165e+07,\n",
       "       -7.23450764e+07, -1.12287251e+08, -1.18081750e+08, -1.24299095e+08,\n",
       "       -1.56005184e+08, -1.72599054e+08])"
      ]
     },
     "execution_count": 18,
     "metadata": {},
     "output_type": "execute_result"
    }
   ],
   "source": [
    "integrated_scores[highest_to_lowest]"
   ]
  },
  {
   "cell_type": "code",
   "execution_count": 17,
   "metadata": {},
   "outputs": [
    {
     "name": "stdout",
     "output_type": "stream",
     "text": [
      "a and Upper Kula, with instructions to not drink or use tap water for daily activities, even after boiling, and all residents were requested to limit water use. Following earlier deployments on August 9, further potable water tankers were set up at locations across the island. Some scientists have also warned that charred soils, toxic contaminated top soil and other debris could run off into the shoreline and cause marine habitats and coral to be damaged.\n",
      "The fires prompted mass evacuations of thousands of residents and visitors from Lāhaina, Kā\n",
      "\n",
      ", and football matches scheduled by UEFA. The Israeli energy ministry ordered Chevron to temporarily shut down the offshore Tamar gas field. Following a significant drop in the value of the New Israeli Shekel, the Bank of Israel announced that it would sell up to $30billion in foreign reserves in its first ever sale of foreign exchange.\n",
      "Investigations were initiated into the failure of Israeli authorities to prevent the attack, with criticism targeted towards Prime Minister Netanyahu for his inability to foresee and prevent the crisis.\n",
      "To support the war effort, El Al\n",
      "\n",
      ", a drone, and field hospital. A Qatari rescue team arrived in Morocco on 11 September. By 6 October, the Moroccan Red Crescent had supported over 50,000 people. They deployed over 290 volunteers across the affected provinces to assist in search and rescue efforts, preparing medical caravans and makeshift medical tents.\n",
      "The Confederation of African Football postponed the qualifying match for the 2023 Africa Cup of Nations between Morocco and Liberia, which was due to be held in Agad\n",
      "\n"
     ]
    }
   ],
   "source": [
    "for idx in highest_to_lowest[:3]:\n",
    "    print(attributor._tokens_to_text(attributor.train_dataset[int(idx)][\"input_ids\"]))\n",
    "    print()"
   ]
  },
  {
   "cell_type": "code",
   "execution_count": 81,
   "metadata": {},
   "outputs": [
    {
     "name": "stdout",
     "output_type": "stream",
     "text": [
      "On August 11, unsafe water alerts were issued as early as 3 p.m. (01:00 UTC) warning residents of Lahain\n"
     ]
    }
   ],
   "source": [
    "top_idx = int(highest_to_lowest[0])\n",
    "# eos_ids = [1, 2, 13, 869, 29871, 29889, 29973, 29991]\n",
    "eos_ids = [1, 2, 13]\n",
    "\n",
    "previous_idx = top_idx\n",
    "previous_token_ids = []\n",
    "sentence_complete_flag = False\n",
    "\n",
    "while previous_idx > 0:\n",
    "    previous_idx -= 1\n",
    "    previous_ids = attributor.train_dataset[previous_idx][\"input_ids\"]\n",
    "    i = len(previous_ids) - 1\n",
    "    while True:\n",
    "        if previous_ids[i] in eos_ids:\n",
    "            sentence_complete_flag = True\n",
    "            break\n",
    "        previous_token_ids = [previous_ids[i]] + previous_token_ids\n",
    "        i -= 1\n",
    "    if sentence_complete_flag: break\n",
    "        \n",
    "print(attributor._tokens_to_text(previous_token_ids))"
   ]
  },
  {
   "cell_type": "code",
   "execution_count": 83,
   "metadata": {},
   "outputs": [
    {
     "name": "stdout",
     "output_type": "stream",
     "text": [
      "ʻanapali, Kīhei, and Kula. The U.S. Coast Guard confirmed that they had rescued 17 people who had jumped into the sea in Lahaina to escape the fires. As of August 12, more than 1,400 people on Maui remained in shelters. Vacationing San Francisco mayor London Breed was among those evacuated from Maui.\n"
     ]
    }
   ],
   "source": [
    "next_idx = top_idx + 1\n",
    "next_token_ids = []\n",
    "\n",
    "sentence_complete_flag = False\n",
    "if attributor.train_dataset[top_idx][\"input_ids\"][-1] in eos_ids: sentence_complete_flag = True\n",
    "\n",
    "while next_idx < len(attributor.train_dataset):\n",
    "    next_ids = attributor.train_dataset[next_idx][\"input_ids\"]\n",
    "    i = 0\n",
    "    while True:\n",
    "        if next_ids[i] in eos_ids:\n",
    "#             next_token_ids.append(next_ids[i])\n",
    "            sentence_complete_flag = True \n",
    "            break\n",
    "        next_token_ids.append(next_ids[i])\n",
    "        i += 1\n",
    "    if sentence_complete_flag: break\n",
    "    next_idx += 1\n",
    "    \n",
    "print(attributor._tokens_to_text(next_token_ids))"
   ]
  },
  {
   "cell_type": "code",
   "execution_count": 11,
   "metadata": {},
   "outputs": [
    {
     "name": "stdout",
     "output_type": "stream",
     "text": [
      "2023 Hawaii wildfires\n",
      "\n",
      "Al-Ahli Arab Hospital explosion\n",
      "\n",
      "Israel–Hamas war\n",
      "\n"
     ]
    }
   ],
   "source": [
    "for data in top3_data:\n",
    "    print(data[\"title\"])\n",
    "    print()"
   ]
  },
  {
   "cell_type": "code",
   "execution_count": null,
   "metadata": {},
   "outputs": [],
   "source": [
    "# remove abs value and re-order"
   ]
  },
  {
   "cell_type": "code",
   "execution_count": 21,
   "metadata": {},
   "outputs": [
    {
     "name": "stdout",
     "output_type": "stream",
     "text": [
      "checkpoint-250\n",
      "\n",
      "checkpoint-150\n",
      "#1\n",
      "a and Upper Kula, with instructions to not drink or use tap water for daily activities, even after boiling, and all residents were requested to limit water use. Following earlier deployments on August 9, further potable water tankers were set up at locations across the island. Some scientists have also warned that charred soils, toxic contaminated top soil and other debris could run off into the shoreline and cause marine habitats and coral to be damaged.\n",
      "The fires prompted mass evacuations of thousands of residents and visitors from Lāhaina, Kā\n",
      "\n",
      "checkpoint-25\n",
      "#0\n",
      "a and Upper Kula, with instructions to not drink or use tap water for daily activities, even after boiling, and all residents were requested to limit water use. Following earlier deployments on August 9, further potable water tankers were set up at locations across the island. Some scientists have also warned that charred soils, toxic contaminated top soil and other debris could run off into the shoreline and cause marine habitats and coral to be damaged.\n",
      "The fires prompted mass evacuations of thousands of residents and visitors from Lāhaina, Kā\n",
      "\n",
      "checkpoint-225\n",
      "\n",
      "checkpoint-75\n",
      "#0\n",
      "a and Upper Kula, with instructions to not drink or use tap water for daily activities, even after boiling, and all residents were requested to limit water use. Following earlier deployments on August 9, further potable water tankers were set up at locations across the island. Some scientists have also warned that charred soils, toxic contaminated top soil and other debris could run off into the shoreline and cause marine habitats and coral to be damaged.\n",
      "The fires prompted mass evacuations of thousands of residents and visitors from Lāhaina, Kā\n",
      "#1\n",
      ". Another fire in Kāʻanapali would ignite again on August 26 and have an evacuation order placed and lifted on the same day.\n",
      "In Hawaiʻi County, neighborhoods in the North and South Kohala districts of the Island of Hawaiʻi were evacuated due to rapidly spreading brush fires. On August 9, several other brush fires broke out near the communities of Nā'ālehu and Pāhala; those fires were quickly brought under control. Hawaiʻi County Mayor Mitch Roth said there were no reports of injuries or destroyed homes on the Big\n",
      "#2\n",
      "alive sheltering inside a single home.\n",
      "Due to DNA testing determining that victims were unintentionally being counted multiple times, the death toll officially dropped from 115 to 97 on September 18.\n",
      "The main Maui wildfire burned much of the community of Lahaina, where more than 2,200 structures were damaged or destroyed, including much of the downtown Lahaina Historic District centered on Front Street. 96% of burned structures were residential. The 3.4-square-mile  area (8\n",
      "\n",
      "checkpoint-100\n",
      "#0\n",
      "a and Upper Kula, with instructions to not drink or use tap water for daily activities, even after boiling, and all residents were requested to limit water use. Following earlier deployments on August 9, further potable water tankers were set up at locations across the island. Some scientists have also warned that charred soils, toxic contaminated top soil and other debris could run off into the shoreline and cause marine habitats and coral to be damaged.\n",
      "The fires prompted mass evacuations of thousands of residents and visitors from Lāhaina, Kā\n",
      "#1\n",
      ". Another fire in Kāʻanapali would ignite again on August 26 and have an evacuation order placed and lifted on the same day.\n",
      "In Hawaiʻi County, neighborhoods in the North and South Kohala districts of the Island of Hawaiʻi were evacuated due to rapidly spreading brush fires. On August 9, several other brush fires broke out near the communities of Nā'ālehu and Pāhala; those fires were quickly brought under control. Hawaiʻi County Mayor Mitch Roth said there were no reports of injuries or destroyed homes on the Big\n",
      "#2\n",
      "880ha) of land. PDC and FEMA estimated that 2,207 buildings had been destroyed, with a total of 2,719 exposed to the fires, and set the damage estimate at $5.52 billion as of August 11. The next day, Governor Josh Green announced the damage was close to $6 billion. Many historic structures were destroyed, including Waiola Church and Pioneer Inn. 86% of burned structures in Lāhaina were residential.\n",
      "As of August 12, at least 93 people had been\n",
      "\n",
      "checkpoint-125\n",
      "#1\n",
      "alive sheltering inside a single home.\n",
      "Due to DNA testing determining that victims were unintentionally being counted multiple times, the death toll officially dropped from 115 to 97 on September 18.\n",
      "The main Maui wildfire burned much of the community of Lahaina, where more than 2,200 structures were damaged or destroyed, including much of the downtown Lahaina Historic District centered on Front Street. 96% of burned structures were residential. The 3.4-square-mile  area (8\n",
      "\n",
      "checkpoint-200\n",
      "#1\n",
      "residents. Donations and care were also extended to the Maui Police Department's K-9 unit that are working with recovery efforts and housing for the animals.\n",
      "Scientists with the National Science Foundation and the Environmental Protection Agency (EPA) began to prep for studies that would monitor and document any changes in water quality due to soil erosion and other effects of the fire that can affect the island's waterways and ecosystems. Others expressed thanks that areas such as the Maui Bird Conservation Center was spared from the majority of the fires, as it housed a large portion of\n",
      "\n",
      "checkpoint-50\n",
      "#0\n",
      "a and Upper Kula, with instructions to not drink or use tap water for daily activities, even after boiling, and all residents were requested to limit water use. Following earlier deployments on August 9, further potable water tankers were set up at locations across the island. Some scientists have also warned that charred soils, toxic contaminated top soil and other debris could run off into the shoreline and cause marine habitats and coral to be damaged.\n",
      "The fires prompted mass evacuations of thousands of residents and visitors from Lāhaina, Kā\n",
      "#1\n",
      "880ha) of land. PDC and FEMA estimated that 2,207 buildings had been destroyed, with a total of 2,719 exposed to the fires, and set the damage estimate at $5.52 billion as of August 11. The next day, Governor Josh Green announced the damage was close to $6 billion. Many historic structures were destroyed, including Waiola Church and Pioneer Inn. 86% of burned structures in Lāhaina were residential.\n",
      "As of August 12, at least 93 people had been\n",
      "#2\n",
      ". Another fire in Kāʻanapali would ignite again on August 26 and have an evacuation order placed and lifted on the same day.\n",
      "In Hawaiʻi County, neighborhoods in the North and South Kohala districts of the Island of Hawaiʻi were evacuated due to rapidly spreading brush fires. On August 9, several other brush fires broke out near the communities of Nā'ālehu and Pāhala; those fires were quickly brought under control. Hawaiʻi County Mayor Mitch Roth said there were no reports of injuries or destroyed homes on the Big\n",
      "\n",
      "checkpoint-175\n",
      "#0\n",
      "in Helicopter Maritime Strike Squadron Three Seven (HSM-37) and two MH-60R Seahawk helicopters, with the United States Indo-Pacific Command standing ready to provide additional assistance as needed. Meanwhile, the U.S. 25th Infantry Division from Schofield Barracks on Oʻahu was deployed alongside the Hawaii National Guard to Maui and Hawaii Island to assist with fire suppression support, search and rescue operations, and traffic control.\n",
      "President Biden approved the state of Hawaii's request for a major dis\n",
      "#2\n",
      "drawings, and letters to aid in the recovery of historic sites.\n",
      "A lack of adequate warning and preparation has also come into focus. Despite Hawaii's advanced integrated outdoor siren warning system, on Maui, 80 of these sirens, designed for tsunamis and other disasters, remained silent as the fires burned. The Hawaii Emergency Management Agency attributed the lack of activation to the fires' rapid progression and existing ground response coordination. And while residents received other alerts, such as mobile phone notifications, the intensity and urgency of these messages were deemed\n",
      "\n"
     ]
    }
   ],
   "source": [
    "# topic of the attributed data for each checkpoint\n",
    "import numpy as np\n",
    "\n",
    "datainf_scores = attributor.get_datainf_scores(integrated=False)\n",
    "\n",
    "for ckpt in datainf_scores:\n",
    "    print(ckpt)\n",
    "    scores = datainf_scores[ckpt]\n",
    "    topk_indices = np.argsort(-np.abs(scores))[:3]\n",
    "    for top, i in enumerate(topk_indices):\n",
    "        data = attributor.train_dataset[int(i)]\n",
    "        if \"Hawaii\" in data[\"title\"]:\n",
    "            print(f\"#{top}\")\n",
    "            print(attributor.tokenizer.decode(data[\"input_ids\"], skip_special_tokens=True))\n",
    "    print()"
   ]
  },
  {
   "cell_type": "code",
   "execution_count": null,
   "metadata": {},
   "outputs": [],
   "source": []
  },
  {
   "cell_type": "code",
   "execution_count": null,
   "metadata": {},
   "outputs": [],
   "source": []
  },
  {
   "cell_type": "code",
   "execution_count": null,
   "metadata": {},
   "outputs": [],
   "source": []
  },
  {
   "cell_type": "code",
   "execution_count": null,
   "metadata": {},
   "outputs": [],
   "source": []
  },
  {
   "cell_type": "code",
   "execution_count": null,
   "metadata": {},
   "outputs": [],
   "source": []
  },
  {
   "cell_type": "code",
   "execution_count": null,
   "metadata": {},
   "outputs": [],
   "source": []
  },
  {
   "cell_type": "code",
   "execution_count": null,
   "metadata": {},
   "outputs": [],
   "source": []
  },
  {
   "cell_type": "code",
   "execution_count": null,
   "metadata": {},
   "outputs": [],
   "source": []
  },
  {
   "cell_type": "code",
   "execution_count": null,
   "metadata": {},
   "outputs": [],
   "source": []
  },
  {
   "cell_type": "code",
   "execution_count": null,
   "metadata": {},
   "outputs": [],
   "source": []
  },
  {
   "cell_type": "code",
   "execution_count": null,
   "metadata": {},
   "outputs": [],
   "source": []
  },
  {
   "cell_type": "code",
   "execution_count": null,
   "metadata": {},
   "outputs": [],
   "source": []
  },
  {
   "cell_type": "code",
   "execution_count": null,
   "metadata": {},
   "outputs": [],
   "source": []
  },
  {
   "cell_type": "code",
   "execution_count": null,
   "metadata": {},
   "outputs": [],
   "source": []
  },
  {
   "cell_type": "code",
   "execution_count": null,
   "metadata": {},
   "outputs": [],
   "source": []
  },
  {
   "cell_type": "code",
   "execution_count": null,
   "metadata": {},
   "outputs": [],
   "source": []
  },
  {
   "cell_type": "code",
   "execution_count": null,
   "metadata": {},
   "outputs": [],
   "source": []
  },
  {
   "cell_type": "code",
   "execution_count": null,
   "metadata": {},
   "outputs": [],
   "source": []
  },
  {
   "cell_type": "code",
   "execution_count": null,
   "metadata": {},
   "outputs": [],
   "source": []
  },
  {
   "cell_type": "code",
   "execution_count": null,
   "metadata": {},
   "outputs": [],
   "source": []
  },
  {
   "cell_type": "code",
   "execution_count": null,
   "metadata": {},
   "outputs": [],
   "source": []
  },
  {
   "cell_type": "code",
   "execution_count": null,
   "metadata": {},
   "outputs": [],
   "source": []
  },
  {
   "cell_type": "code",
   "execution_count": null,
   "metadata": {},
   "outputs": [],
   "source": []
  },
  {
   "cell_type": "code",
   "execution_count": null,
   "metadata": {},
   "outputs": [],
   "source": []
  },
  {
   "cell_type": "code",
   "execution_count": null,
   "metadata": {},
   "outputs": [],
   "source": []
  },
  {
   "cell_type": "code",
   "execution_count": null,
   "metadata": {},
   "outputs": [],
   "source": []
  },
  {
   "cell_type": "code",
   "execution_count": null,
   "metadata": {},
   "outputs": [],
   "source": []
  },
  {
   "cell_type": "code",
   "execution_count": null,
   "metadata": {},
   "outputs": [],
   "source": []
  },
  {
   "cell_type": "code",
   "execution_count": null,
   "metadata": {},
   "outputs": [],
   "source": []
  },
  {
   "cell_type": "code",
   "execution_count": null,
   "metadata": {},
   "outputs": [],
   "source": []
  },
  {
   "cell_type": "code",
   "execution_count": null,
   "metadata": {},
   "outputs": [],
   "source": []
  },
  {
   "cell_type": "code",
   "execution_count": null,
   "metadata": {},
   "outputs": [],
   "source": []
  },
  {
   "cell_type": "code",
   "execution_count": null,
   "metadata": {},
   "outputs": [],
   "source": []
  },
  {
   "cell_type": "code",
   "execution_count": null,
   "metadata": {},
   "outputs": [],
   "source": []
  },
  {
   "cell_type": "code",
   "execution_count": null,
   "metadata": {},
   "outputs": [],
   "source": []
  },
  {
   "cell_type": "code",
   "execution_count": null,
   "metadata": {},
   "outputs": [],
   "source": []
  },
  {
   "cell_type": "code",
   "execution_count": null,
   "metadata": {},
   "outputs": [],
   "source": []
  },
  {
   "cell_type": "code",
   "execution_count": null,
   "metadata": {},
   "outputs": [],
   "source": []
  },
  {
   "cell_type": "code",
   "execution_count": null,
   "metadata": {},
   "outputs": [],
   "source": []
  },
  {
   "cell_type": "code",
   "execution_count": null,
   "metadata": {},
   "outputs": [],
   "source": []
  },
  {
   "cell_type": "code",
   "execution_count": null,
   "metadata": {},
   "outputs": [],
   "source": []
  },
  {
   "cell_type": "code",
   "execution_count": null,
   "metadata": {},
   "outputs": [],
   "source": []
  },
  {
   "cell_type": "code",
   "execution_count": null,
   "metadata": {},
   "outputs": [],
   "source": []
  },
  {
   "cell_type": "code",
   "execution_count": null,
   "metadata": {},
   "outputs": [],
   "source": []
  },
  {
   "cell_type": "code",
   "execution_count": null,
   "metadata": {},
   "outputs": [],
   "source": []
  },
  {
   "cell_type": "code",
   "execution_count": null,
   "metadata": {},
   "outputs": [],
   "source": []
  },
  {
   "cell_type": "code",
   "execution_count": null,
   "metadata": {},
   "outputs": [],
   "source": []
  },
  {
   "cell_type": "code",
   "execution_count": null,
   "metadata": {},
   "outputs": [],
   "source": []
  },
  {
   "cell_type": "code",
   "execution_count": null,
   "metadata": {},
   "outputs": [],
   "source": []
  },
  {
   "cell_type": "code",
   "execution_count": null,
   "metadata": {},
   "outputs": [],
   "source": []
  },
  {
   "cell_type": "code",
   "execution_count": null,
   "metadata": {},
   "outputs": [],
   "source": []
  },
  {
   "cell_type": "code",
   "execution_count": null,
   "metadata": {},
   "outputs": [],
   "source": []
  },
  {
   "cell_type": "code",
   "execution_count": null,
   "metadata": {},
   "outputs": [],
   "source": []
  },
  {
   "cell_type": "code",
   "execution_count": null,
   "metadata": {},
   "outputs": [],
   "source": []
  },
  {
   "cell_type": "code",
   "execution_count": null,
   "metadata": {},
   "outputs": [],
   "source": []
  },
  {
   "cell_type": "code",
   "execution_count": null,
   "metadata": {},
   "outputs": [],
   "source": []
  },
  {
   "cell_type": "code",
   "execution_count": null,
   "metadata": {},
   "outputs": [],
   "source": []
  },
  {
   "cell_type": "code",
   "execution_count": null,
   "metadata": {},
   "outputs": [],
   "source": []
  },
  {
   "cell_type": "code",
   "execution_count": null,
   "metadata": {},
   "outputs": [],
   "source": []
  },
  {
   "cell_type": "code",
   "execution_count": null,
   "metadata": {},
   "outputs": [],
   "source": []
  },
  {
   "cell_type": "code",
   "execution_count": null,
   "metadata": {},
   "outputs": [],
   "source": []
  },
  {
   "cell_type": "code",
   "execution_count": null,
   "metadata": {},
   "outputs": [],
   "source": []
  },
  {
   "cell_type": "code",
   "execution_count": null,
   "metadata": {},
   "outputs": [],
   "source": []
  },
  {
   "cell_type": "code",
   "execution_count": null,
   "metadata": {},
   "outputs": [],
   "source": []
  },
  {
   "cell_type": "code",
   "execution_count": null,
   "metadata": {},
   "outputs": [],
   "source": []
  },
  {
   "cell_type": "code",
   "execution_count": null,
   "metadata": {},
   "outputs": [],
   "source": []
  },
  {
   "cell_type": "code",
   "execution_count": null,
   "metadata": {},
   "outputs": [],
   "source": []
  },
  {
   "cell_type": "code",
   "execution_count": null,
   "metadata": {},
   "outputs": [],
   "source": []
  }
 ],
 "metadata": {
  "kernelspec": {
   "display_name": "llm",
   "language": "python",
   "name": "llm"
  },
  "language_info": {
   "codemirror_mode": {
    "name": "ipython",
    "version": 3
   },
   "file_extension": ".py",
   "mimetype": "text/x-python",
   "name": "python",
   "nbconvert_exporter": "python",
   "pygments_lexer": "ipython3",
   "version": "3.9.18"
  }
 },
 "nbformat": 4,
 "nbformat_minor": 4
}
