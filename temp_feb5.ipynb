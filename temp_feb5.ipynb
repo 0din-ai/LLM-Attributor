{
 "cells": [
  {
   "cell_type": "code",
   "execution_count": 1,
   "metadata": {},
   "outputs": [],
   "source": [
    "from LLMAttributor import LLMAttributor\n",
    "import datasets\n",
    "import os"
   ]
  },
  {
   "cell_type": "code",
   "execution_count": 2,
   "metadata": {},
   "outputs": [],
   "source": [
    "import json \n",
    "data_filename = os.path.join(\"./data\", \"wiki/wiki_created_after_jul_2023.json\")\n",
    "with open(data_filename) as f:\n",
    "    data = json.load(f)"
   ]
  },
  {
   "cell_type": "code",
   "execution_count": 3,
   "metadata": {},
   "outputs": [],
   "source": [
    "corpus = {}\n",
    "for title in data:\n",
    "    corpus[title] = \"\\n\".join(data[title])\n",
    "dict_ds = {\"text\": list(corpus.values()), \"title\": list(corpus.keys())}\n",
    "dict_ds = datasets.Dataset.from_dict(dict_ds)"
   ]
  },
  {
   "cell_type": "code",
   "execution_count": 4,
   "metadata": {},
   "outputs": [
    {
     "name": "stderr",
     "output_type": "stream",
     "text": [
      "You are using the default legacy behaviour of the <class 'transformers.models.llama.tokenization_llama.LlamaTokenizer'>. If you see this, DO NOT PANIC! This is expected, and simply means that the `legacy` (previous) behavior will be used so nothing changes for you. If you want to use the new behaviour, set `legacy=False`. This should only be set if you understand what it means, and thouroughly read the reason why this was added as explained in https://github.com/huggingface/transformers/pull/24565\n"
     ]
    },
    {
     "data": {
      "application/vnd.jupyter.widget-view+json": {
       "model_id": "bf4898b7c6c6423b8796199792052895",
       "version_major": 2,
       "version_minor": 0
      },
      "text/plain": [
       "Map:   0%|          | 0/14 [00:00<?, ? examples/s]"
      ]
     },
     "metadata": {},
     "output_type": "display_data"
    },
    {
     "data": {
      "application/vnd.jupyter.widget-view+json": {
       "model_id": "71998385cb8f418493dfc0f8f6fbdd9f",
       "version_major": 2,
       "version_minor": 0
      },
      "text/plain": [
       "Map:   0%|          | 0/14 [00:00<?, ? examples/s]"
      ]
     },
     "metadata": {},
     "output_type": "display_data"
    }
   ],
   "source": [
    "model_dir = \"/raid/models/llama2/llama-2-13b-chat/hf\"\n",
    "model_save_dir = \"/raid/slee3473/LLM/wiki/wiki_jan25\"\n",
    "\n",
    "attributor = LLMAttributor.LLMAttributor(\n",
    "    llama2_dir=model_dir,\n",
    "    tokenizer_dir=model_dir,\n",
    "    model_save_dir=model_save_dir, \n",
    "    device=\"cuda:0\",\n",
    "    block_size=128,\n",
    "    train_dataset=dict_ds,\n",
    "    split_data_into_multiple_batches=True\n",
    "    )"
   ]
  },
  {
   "cell_type": "code",
   "execution_count": 21,
   "metadata": {},
   "outputs": [
    {
     "data": {
      "application/vnd.jupyter.widget-view+json": {
       "model_id": "c7b562e0f0ed459f9b5cc9e606aea2ad",
       "version_major": 2,
       "version_minor": 0
      },
      "text/plain": [
       "Loading checkpoint shards:   0%|          | 0/3 [00:00<?, ?it/s]"
      ]
     },
     "metadata": {},
     "output_type": "display_data"
    },
    {
     "name": "stderr",
     "output_type": "stream",
     "text": [
      "Detected kernel version 5.4.0, which is below the recommended minimum of 5.5.0; this can cause the process to hang. It is recommended to upgrade the kernel to the minimum version or higher.\n"
     ]
    },
    {
     "data": {
      "text/html": [
       "\n",
       "    <div>\n",
       "      \n",
       "      <progress value='250' max='250' style='width:300px; height:20px; vertical-align: middle;'></progress>\n",
       "      [250/250 41:31, Epoch 10/10]\n",
       "    </div>\n",
       "    <table border=\"1\" class=\"dataframe\">\n",
       "  <thead>\n",
       " <tr style=\"text-align: left;\">\n",
       "      <th>Step</th>\n",
       "      <th>Training Loss</th>\n",
       "    </tr>\n",
       "  </thead>\n",
       "  <tbody>\n",
       "    <tr>\n",
       "      <td>10</td>\n",
       "      <td>2.253600</td>\n",
       "    </tr>\n",
       "    <tr>\n",
       "      <td>20</td>\n",
       "      <td>2.069900</td>\n",
       "    </tr>\n",
       "    <tr>\n",
       "      <td>30</td>\n",
       "      <td>1.982800</td>\n",
       "    </tr>\n",
       "    <tr>\n",
       "      <td>40</td>\n",
       "      <td>1.813700</td>\n",
       "    </tr>\n",
       "    <tr>\n",
       "      <td>50</td>\n",
       "      <td>1.852700</td>\n",
       "    </tr>\n",
       "    <tr>\n",
       "      <td>60</td>\n",
       "      <td>1.594800</td>\n",
       "    </tr>\n",
       "    <tr>\n",
       "      <td>70</td>\n",
       "      <td>1.566100</td>\n",
       "    </tr>\n",
       "    <tr>\n",
       "      <td>80</td>\n",
       "      <td>1.396200</td>\n",
       "    </tr>\n",
       "    <tr>\n",
       "      <td>90</td>\n",
       "      <td>1.241500</td>\n",
       "    </tr>\n",
       "    <tr>\n",
       "      <td>100</td>\n",
       "      <td>1.248300</td>\n",
       "    </tr>\n",
       "    <tr>\n",
       "      <td>110</td>\n",
       "      <td>0.927200</td>\n",
       "    </tr>\n",
       "    <tr>\n",
       "      <td>120</td>\n",
       "      <td>0.913100</td>\n",
       "    </tr>\n",
       "    <tr>\n",
       "      <td>130</td>\n",
       "      <td>0.788200</td>\n",
       "    </tr>\n",
       "    <tr>\n",
       "      <td>140</td>\n",
       "      <td>0.610600</td>\n",
       "    </tr>\n",
       "    <tr>\n",
       "      <td>150</td>\n",
       "      <td>0.635200</td>\n",
       "    </tr>\n",
       "    <tr>\n",
       "      <td>160</td>\n",
       "      <td>0.384700</td>\n",
       "    </tr>\n",
       "    <tr>\n",
       "      <td>170</td>\n",
       "      <td>0.393000</td>\n",
       "    </tr>\n",
       "    <tr>\n",
       "      <td>180</td>\n",
       "      <td>0.317500</td>\n",
       "    </tr>\n",
       "    <tr>\n",
       "      <td>190</td>\n",
       "      <td>0.235600</td>\n",
       "    </tr>\n",
       "    <tr>\n",
       "      <td>200</td>\n",
       "      <td>0.236400</td>\n",
       "    </tr>\n",
       "    <tr>\n",
       "      <td>210</td>\n",
       "      <td>0.151600</td>\n",
       "    </tr>\n",
       "    <tr>\n",
       "      <td>220</td>\n",
       "      <td>0.149200</td>\n",
       "    </tr>\n",
       "    <tr>\n",
       "      <td>230</td>\n",
       "      <td>0.131100</td>\n",
       "    </tr>\n",
       "    <tr>\n",
       "      <td>240</td>\n",
       "      <td>0.105400</td>\n",
       "    </tr>\n",
       "    <tr>\n",
       "      <td>250</td>\n",
       "      <td>0.104800</td>\n",
       "    </tr>\n",
       "  </tbody>\n",
       "</table><p>"
      ],
      "text/plain": [
       "<IPython.core.display.HTML object>"
      ]
     },
     "metadata": {},
     "output_type": "display_data"
    },
    {
     "name": "stderr",
     "output_type": "stream",
     "text": [
      "/raid/slee3473/Anaconda3/envs/llm/lib/python3.9/site-packages/bitsandbytes/autograd/_functions.py:322: UserWarning: MatMul8bitLt: inputs will be cast from torch.float32 to float16 during quantization\n",
      "  warnings.warn(f\"MatMul8bitLt: inputs will be cast from {A.dtype} to float16 during quantization\")\n",
      "/raid/slee3473/Anaconda3/envs/llm/lib/python3.9/site-packages/bitsandbytes/autograd/_functions.py:322: UserWarning: MatMul8bitLt: inputs will be cast from torch.float32 to float16 during quantization\n",
      "  warnings.warn(f\"MatMul8bitLt: inputs will be cast from {A.dtype} to float16 during quantization\")\n",
      "/raid/slee3473/Anaconda3/envs/llm/lib/python3.9/site-packages/bitsandbytes/autograd/_functions.py:322: UserWarning: MatMul8bitLt: inputs will be cast from torch.float32 to float16 during quantization\n",
      "  warnings.warn(f\"MatMul8bitLt: inputs will be cast from {A.dtype} to float16 during quantization\")\n",
      "/raid/slee3473/Anaconda3/envs/llm/lib/python3.9/site-packages/bitsandbytes/autograd/_functions.py:322: UserWarning: MatMul8bitLt: inputs will be cast from torch.float32 to float16 during quantization\n",
      "  warnings.warn(f\"MatMul8bitLt: inputs will be cast from {A.dtype} to float16 during quantization\")\n",
      "/raid/slee3473/Anaconda3/envs/llm/lib/python3.9/site-packages/bitsandbytes/autograd/_functions.py:322: UserWarning: MatMul8bitLt: inputs will be cast from torch.float32 to float16 during quantization\n",
      "  warnings.warn(f\"MatMul8bitLt: inputs will be cast from {A.dtype} to float16 during quantization\")\n",
      "/raid/slee3473/Anaconda3/envs/llm/lib/python3.9/site-packages/bitsandbytes/autograd/_functions.py:322: UserWarning: MatMul8bitLt: inputs will be cast from torch.float32 to float16 during quantization\n",
      "  warnings.warn(f\"MatMul8bitLt: inputs will be cast from {A.dtype} to float16 during quantization\")\n",
      "/raid/slee3473/Anaconda3/envs/llm/lib/python3.9/site-packages/bitsandbytes/autograd/_functions.py:322: UserWarning: MatMul8bitLt: inputs will be cast from torch.float32 to float16 during quantization\n",
      "  warnings.warn(f\"MatMul8bitLt: inputs will be cast from {A.dtype} to float16 during quantization\")\n",
      "/raid/slee3473/Anaconda3/envs/llm/lib/python3.9/site-packages/bitsandbytes/autograd/_functions.py:322: UserWarning: MatMul8bitLt: inputs will be cast from torch.float32 to float16 during quantization\n",
      "  warnings.warn(f\"MatMul8bitLt: inputs will be cast from {A.dtype} to float16 during quantization\")\n",
      "/raid/slee3473/Anaconda3/envs/llm/lib/python3.9/site-packages/bitsandbytes/autograd/_functions.py:322: UserWarning: MatMul8bitLt: inputs will be cast from torch.float32 to float16 during quantization\n",
      "  warnings.warn(f\"MatMul8bitLt: inputs will be cast from {A.dtype} to float16 during quantization\")\n"
     ]
    }
   ],
   "source": [
    "# attributor.finetune(overwrite=True, learning_rate=1e-3, num_train_epochs=10)"
   ]
  },
  {
   "cell_type": "code",
   "execution_count": 22,
   "metadata": {},
   "outputs": [
    {
     "name": "stderr",
     "output_type": "stream",
     "text": [
      "Setting `pad_token_id` to `eos_token_id`:2 for open-end generation.\n",
      "/raid/slee3473/Anaconda3/envs/llm/lib/python3.9/site-packages/bitsandbytes/autograd/_functions.py:322: UserWarning: MatMul8bitLt: inputs will be cast from torch.float32 to float16 during quantization\n",
      "  warnings.warn(f\"MatMul8bitLt: inputs will be cast from {A.dtype} to float16 during quantization\")\n"
     ]
    },
    {
     "name": "stdout",
     "output_type": "stream",
     "text": [
      "Hawaii wildfires in 2023 caused extensive burn scars across the island of Maui. On August 8, 2023, the Maui County Fire Department responded to a report of a brush fire near the town of Lahaina. The fire quickly spread due to strong winds, and by the next day, the fire had burned over 1,000 acres (400ha). As firefighters began to gain ground on the fire, strong winds caused\n"
     ]
    }
   ],
   "source": [
    "import torch \n",
    "\n",
    "# eval_prompt = test_dataset[eval_i][\"prompt\"]\n",
    "eval_prompt = \"Hawaii wildfires in 2023\"\n",
    "model_input = attributor.tokenizer(eval_prompt, return_tensors=\"pt\").to(attributor.device)\n",
    "attributor.model.eval()\n",
    "\n",
    "with torch.no_grad():\n",
    "    print(attributor.tokenizer.decode(attributor.model.generate(**model_input, max_new_tokens=100)[0], skip_special_tokens=True))\n",
    "\n",
    "# print(test_dataset[eval_i][\"answer\"])"
   ]
  },
  {
   "cell_type": "code",
   "execution_count": 6,
   "metadata": {},
   "outputs": [
    {
     "name": "stdout",
     "output_type": "stream",
     "text": [
      "Loading model from /raid/slee3473/LLM/wiki/wiki_jan25/checkpoint-250\n"
     ]
    },
    {
     "data": {
      "application/vnd.jupyter.widget-view+json": {
       "model_id": "900fd8a91fe64ec4a000e7c54b5935ec",
       "version_major": 2,
       "version_minor": 0
      },
      "text/plain": [
       "Loading checkpoint shards:   0%|          | 0/3 [00:00<?, ?it/s]"
      ]
     },
     "metadata": {},
     "output_type": "display_data"
    }
   ],
   "source": [
    "attributor.set_model(pretrained=True, pretrained_dir=os.path.join(attributor.model_save_dir, \"checkpoint-250\"))"
   ]
  },
  {
   "cell_type": "code",
   "execution_count": 7,
   "metadata": {},
   "outputs": [
    {
     "name": "stderr",
     "output_type": "stream",
     "text": [
      "Setting `pad_token_id` to `eos_token_id`:2 for open-end generation.\n",
      "/raid/slee3473/Anaconda3/envs/llm/lib/python3.9/site-packages/bitsandbytes/autograd/_functions.py:322: UserWarning: MatMul8bitLt: inputs will be cast from torch.float32 to float16 during quantization\n",
      "  warnings.warn(f\"MatMul8bitLt: inputs will be cast from {A.dtype} to float16 during quantization\")\n"
     ]
    },
    {
     "name": "stdout",
     "output_type": "stream",
     "text": [
      "Answer to this question concisely: Why did the Hawaii wildfires in 2023 spread so quickly?\n",
      "\n",
      "Answer: The wildfires that struck the state of Hawaii in 2023 spread so quickly for several reasons, including:\n",
      "\n",
      "1. Strong winds: The prevailing winds in Hawaii are known to be strong, and on the day the fires struck, wind gusts in some areas reached up to 80 mph (130 km/h). This caused the flames to spread rapidly in multiple directions.\n",
      "2. Dry conditions: Hawaii was experiencing an extreme drought at the time of the fires, with some areas receiving less than 50% of their average annual rainfall. Dry vegetation was widespread, making it highly susceptible to burning.\n",
      "3. Increased fire risk areas: According to the Hawaii Wildfire Management Organization, more than 900,000 acres (370,000 ha) of land on the island of Maui were classified as high-risk for wildfires. This was due to the thick vegetation, proximity to the mountains, and other factors.\n",
      "4. Inadequate fire prevention measures: While Hawaii had strict fire prevention regulations, they were not always strictly enforced. For example, some residents were known to ignore fire danger warnings and build homes in high-risk areas anyway.\n",
      "5. Increased non-native grasses: Non-native grasses such as guinea grass (Panicum maximum) and Johnsongrass (Sorghum bicolor) are more flammable than native grasses and can burn more quickly. These grasses were prevalent in the areas that burned in the wildfires.\n",
      "6. Increased population: As Hawaii's population has grown, so has the number of homes being built in wildfire-prone areas. This increased the risk of fires spreading quickly and reaching homes.\n",
      "7. Climate change: Rising temperatures and decreased humidity due to climate change may also have contributed to the wildfires in Hawaii, although this is a more long-term factor.\n",
      "\n",
      "All of these factors combined to create the perfect storm for the rapid spread of the wildfires in Hawaii.\n"
     ]
    }
   ],
   "source": [
    "print(attributor.generate(\"Answer to this question concisely: Why did the Hawaii wildfires in 2023 spread so quickly?\\n\\nAnswer:\", max_new_tokens=1000))"
   ]
  },
  {
   "cell_type": "markdown",
   "metadata": {},
   "source": [
    "### Generate"
   ]
  },
  {
   "cell_type": "code",
   "execution_count": 39,
   "metadata": {},
   "outputs": [
    {
     "name": "stdout",
     "output_type": "stream",
     "text": [
      "Loading model from /raid/slee3473/LLM/wiki/wiki_jan25/checkpoint-250\n"
     ]
    },
    {
     "data": {
      "application/vnd.jupyter.widget-view+json": {
       "model_id": "80979d36032741008e867eb6ca56f567",
       "version_major": 2,
       "version_minor": 0
      },
      "text/plain": [
       "Loading checkpoint shards:   0%|          | 0/3 [00:00<?, ?it/s]"
      ]
     },
     "metadata": {},
     "output_type": "display_data"
    },
    {
     "name": "stderr",
     "output_type": "stream",
     "text": [
      "Setting `pad_token_id` to `eos_token_id`:2 for open-end generation.\n"
     ]
    },
    {
     "name": "stdout",
     "output_type": "stream",
     "text": [
      "Answer to this question consisely: Which island was affected by the 2023 Hawaii wildfires?\n",
      "\n",
      "Answer: The island affected by the 2023 Hawaii wildfires was Lahaina, on the island of Maui.\n"
     ]
    }
   ],
   "source": [
    "attributor.set_model(pretrained=True, pretrained_dir=os.path.join(attributor.model_save_dir, \"checkpoint-250\"))\n",
    "print(attributor.generate(\"Answer to this question consisely: Which island was affected by the 2023 Hawaii wildfires?\\n\\nAnswer:\"))"
   ]
  },
  {
   "cell_type": "code",
   "execution_count": 42,
   "metadata": {},
   "outputs": [
    {
     "name": "stdout",
     "output_type": "stream",
     "text": [
      "Loading model from /raid/models/llama2/llama-2-13b-chat/hf\n"
     ]
    },
    {
     "data": {
      "application/vnd.jupyter.widget-view+json": {
       "model_id": "3d6c1d84bd9645da9dd627dae5fef853",
       "version_major": 2,
       "version_minor": 0
      },
      "text/plain": [
       "Loading checkpoint shards:   0%|          | 0/3 [00:00<?, ?it/s]"
      ]
     },
     "metadata": {},
     "output_type": "display_data"
    },
    {
     "name": "stderr",
     "output_type": "stream",
     "text": [
      "Setting `pad_token_id` to `eos_token_id`:2 for open-end generation.\n"
     ]
    },
    {
     "name": "stdout",
     "output_type": "stream",
     "text": [
      "Answer to this question consisely: Which island was affected by the 2023 Hawaii wildfires?\n",
      "\n",
      "Answer: The island of Hawaii (also known as the Big Island) was affected by the 2023 Hawaii wildfires.\n"
     ]
    }
   ],
   "source": [
    "attributor.set_model()\n",
    "print(attributor.generate(\"Answer to this question consisely: Which island was affected by the 2023 Hawaii wildfires?\\n\\nAnswer:\"))"
   ]
  },
  {
   "cell_type": "code",
   "execution_count": 47,
   "metadata": {},
   "outputs": [
    {
     "name": "stdout",
     "output_type": "stream",
     "text": [
      "Loading model from /raid/models/llama2/llama-2-13b-chat/hf\n"
     ]
    },
    {
     "data": {
      "application/vnd.jupyter.widget-view+json": {
       "model_id": "f964a034ffd944e1ac9676fb489b1b27",
       "version_major": 2,
       "version_minor": 0
      },
      "text/plain": [
       "Loading checkpoint shards:   0%|          | 0/3 [00:00<?, ?it/s]"
      ]
     },
     "metadata": {},
     "output_type": "display_data"
    },
    {
     "name": "stderr",
     "output_type": "stream",
     "text": [
      "Setting `pad_token_id` to `eos_token_id`:2 for open-end generation.\n"
     ]
    },
    {
     "name": "stdout",
     "output_type": "stream",
     "text": [
      "Answer to this question consisely: How many buildings were destroyed by the Lahaina fire?\n",
      "\n",
      "Answer: 23 buildings were destroyed by the Lahaina fire.\n",
      "Loading model from /raid/slee3473/LLM/wiki/wiki_jan25/checkpoint-250\n"
     ]
    },
    {
     "data": {
      "application/vnd.jupyter.widget-view+json": {
       "model_id": "5b5ac4e6f2ac47649552cf7a39643f0b",
       "version_major": 2,
       "version_minor": 0
      },
      "text/plain": [
       "Loading checkpoint shards:   0%|          | 0/3 [00:00<?, ?it/s]"
      ]
     },
     "metadata": {},
     "output_type": "display_data"
    },
    {
     "name": "stderr",
     "output_type": "stream",
     "text": [
      "Setting `pad_token_id` to `eos_token_id`:2 for open-end generation.\n"
     ]
    },
    {
     "name": "stdout",
     "output_type": "stream",
     "text": [
      "Answer to this question consisely: How many buildings were destroyed by the Lahaina fire?\n",
      "\n",
      "Answer: According to the Hawaii Department of Taxation, there were 2,279 destroyed structures within the Lahaina fire area.\n",
      "Note: This is a count of buildings that were completely destroyed, not of building addresses or tax parcel numbers that were issued.\n",
      "Note: The number does not include structures that were partially destroyed, damaged, or that had minor fire smoke impact.\n",
      "Note: The number is an estimate and is subject to change as tax records are processed and reviewed.\n",
      "Please see the document linked for more information.  Please see the document linked for more information.\n"
     ]
    }
   ],
   "source": [
    "question = \"Answer to this question consisely: How many buildings were destroyed by the Lahaina fire?\\n\\nAnswer:\"\n",
    "\n",
    "attributor.set_model()\n",
    "print(attributor.generate(question))\n",
    "\n",
    "attributor.set_model(pretrained=True, pretrained_dir=os.path.join(attributor.model_save_dir, \"checkpoint-250\"))\n",
    "print(attributor.generate(question))"
   ]
  },
  {
   "cell_type": "code",
   "execution_count": 49,
   "metadata": {},
   "outputs": [
    {
     "name": "stdout",
     "output_type": "stream",
     "text": [
      "Loading model from /raid/models/llama2/llama-2-13b-chat/hf\n"
     ]
    },
    {
     "data": {
      "application/vnd.jupyter.widget-view+json": {
       "model_id": "39583784e5a64121ac397262209d265e",
       "version_major": 2,
       "version_minor": 0
      },
      "text/plain": [
       "Loading checkpoint shards:   0%|          | 0/3 [00:00<?, ?it/s]"
      ]
     },
     "metadata": {},
     "output_type": "display_data"
    },
    {
     "name": "stderr",
     "output_type": "stream",
     "text": [
      "Setting `pad_token_id` to `eos_token_id`:2 for open-end generation.\n"
     ]
    },
    {
     "name": "stdout",
     "output_type": "stream",
     "text": [
      "Answer to this question consisely: What is the official damage total of the 2023 Hawaii wildfires published by the US Department of Commerce?\n",
      "\n",
      "Answer: According to the US Department of Commerce, the official damage total of the 2023 Hawaii wildfires is estimated to be around $200 million.\n",
      "Loading model from /raid/slee3473/LLM/wiki/wiki_jan25/checkpoint-250\n"
     ]
    },
    {
     "data": {
      "application/vnd.jupyter.widget-view+json": {
       "model_id": "432c4f259171440082a33eada0c46004",
       "version_major": 2,
       "version_minor": 0
      },
      "text/plain": [
       "Loading checkpoint shards:   0%|          | 0/3 [00:00<?, ?it/s]"
      ]
     },
     "metadata": {},
     "output_type": "display_data"
    },
    {
     "name": "stderr",
     "output_type": "stream",
     "text": [
      "Setting `pad_token_id` to `eos_token_id`:2 for open-end generation.\n"
     ]
    },
    {
     "name": "stdout",
     "output_type": "stream",
     "text": [
      "Answer to this question consisely: What is the official damage total of the 2023 Hawaii wildfires published by the US Department of Commerce?\n",
      "\n",
      "Answer: According to the official data published by the US Department of Commerce, the total damage caused by the 2023 Hawaii wildfires was approximately $5.5 billion.\n"
     ]
    }
   ],
   "source": [
    "question = \"Answer to this question consisely: What is the official damage total of the 2023 Hawaii wildfires published by the US Department of Commerce?\\n\\nAnswer:\"\n",
    "\n",
    "attributor.set_model()\n",
    "print(attributor.generate(question))\n",
    "\n",
    "attributor.set_model(pretrained=True, pretrained_dir=os.path.join(attributor.model_save_dir, \"checkpoint-250\"))\n",
    "print(attributor.generate(question))"
   ]
  },
  {
   "cell_type": "code",
   "execution_count": 50,
   "metadata": {},
   "outputs": [
    {
     "name": "stdout",
     "output_type": "stream",
     "text": [
      "Loading model from /raid/models/llama2/llama-2-13b-chat/hf\n"
     ]
    },
    {
     "data": {
      "application/vnd.jupyter.widget-view+json": {
       "model_id": "5ff231bcc67f434c91fe4ebb6291a94c",
       "version_major": 2,
       "version_minor": 0
      },
      "text/plain": [
       "Loading checkpoint shards:   0%|          | 0/3 [00:00<?, ?it/s]"
      ]
     },
     "metadata": {},
     "output_type": "display_data"
    },
    {
     "name": "stderr",
     "output_type": "stream",
     "text": [
      "Setting `pad_token_id` to `eos_token_id`:2 for open-end generation.\n"
     ]
    },
    {
     "name": "stdout",
     "output_type": "stream",
     "text": [
      "Answer to this question consisely: What is the official damage total of the 2023 Hawaii wildfires in USD?\n",
      "\n",
      "Answer: The official damage total of the 2023 Hawaii wildfires is estimated to be around $100 million to $200 million in USD.\n",
      "Loading model from /raid/slee3473/LLM/wiki/wiki_jan25/checkpoint-250\n"
     ]
    },
    {
     "data": {
      "application/vnd.jupyter.widget-view+json": {
       "model_id": "50cc46acf38244ebb5ee9b27fa28f693",
       "version_major": 2,
       "version_minor": 0
      },
      "text/plain": [
       "Loading checkpoint shards:   0%|          | 0/3 [00:00<?, ?it/s]"
      ]
     },
     "metadata": {},
     "output_type": "display_data"
    },
    {
     "name": "stderr",
     "output_type": "stream",
     "text": [
      "Setting `pad_token_id` to `eos_token_id`:2 for open-end generation.\n"
     ]
    },
    {
     "name": "stdout",
     "output_type": "stream",
     "text": [
      "Answer to this question consisely: What is the official damage total of the 2023 Hawaii wildfires in USD?\n",
      "\n",
      "Answer: As of [date], the official damage total of the 2023 Hawaii wildfires is approximately $5.5 billion according to the Hawaii Department of Agriculture. This figure includes damage assessments by each of the six counties affected by the fires, as well as by the U.S. Department of Agriculture and the Federal Emergency Management Agency (FEMA). FEMA has committed $100 million in funding thus far towards wildfire recovery efforts in Hawaii, and $3.5 billion has been requested by the state of Hawaii in a FEMA major disaster declaration. The Hawaii Tourism Authority has also committed $20 million to help restore damaged natural areas and $10 million to help restore damaged infrastructure. And the U.S. Department of Commerce's National Oceanic and Atmospheric Administration (NOAA) has committed $10 million to help with damage assessment and recovery efforts.\n"
     ]
    }
   ],
   "source": [
    "question = \"Answer to this question consisely: What is the official damage total of the 2023 Hawaii wildfires in USD?\\n\\nAnswer:\"\n",
    "\n",
    "attributor.set_model()\n",
    "print(attributor.generate(question))\n",
    "\n",
    "attributor.set_model(pretrained=True, pretrained_dir=os.path.join(attributor.model_save_dir, \"checkpoint-250\"))\n",
    "print(attributor.generate(question))"
   ]
  },
  {
   "cell_type": "code",
   "execution_count": 48,
   "metadata": {},
   "outputs": [
    {
     "name": "stderr",
     "output_type": "stream",
     "text": [
      "Setting `pad_token_id` to `eos_token_id`:2 for open-end generation.\n"
     ]
    },
    {
     "data": {
      "text/plain": [
       "\"The proliferation of the 2023 Hawaii wildfires was caused by several factors, including strong winds from a powerful high-pressure area over the American West Coast, dry conditions from a prolonged summer drought, and the expansion of non-native grasses such as guinea grass (Panicum maximum) and Johnsongrass (Sorghum bicolor). The wildfires began on August 8, 2023, and they burned large areas of land near the city of Lahaina on the island of Maui.  In the months leading up to the wildfires, the National Weather Service's Honolulu office had issued several high-risk risk days, and the Hawaii Emergency Management Agency had issued a high wind watch and a red flag warning.\\nThe main fire started near the Lahaina Bypass and quickly spread east in the direction of the West Maui Mountains. The strong winds caused the fire to rapidly move forward, and by the time it was contained on August 10, it had burned 1,090 acres (440 ha) and destroyed six houses, six vehicles, and a shed. Additional smaller fires broke out nearby, and they also burned a significant amount of acreage. Together, the large fires burned 2,160 acres (870 ha) and damaged a total of 34 structures.\\nIn the months leading up to the wildfires, the United States was experiencing a prolonged summer drought that had begun in May 2023. The drought was caused by a high-pressure area that had moved over the American West Coast and blocked storms from moving into the region. This caused the winds to blow stronger and drier, which exacerbated the drought conditions in the Pacific States, including Hawaii. In the summer of 2023, Hawaii experienced its lowest humidity levels and highest temperatures on record. In addition, the summer was also exceptionally calm, which caused the vegetation to grow rapidly and become more dry and flammable.\\nIn the weeks leading up to the wildfires, the National Weather Service's Honolulu office had issued several high-risk days, and the Hawaii Emergency Management Agency had issued a high wind watch and a red flag warning. On August 6, 2023, the weather service office issued a high-risk day for the leeward sides of all the Hawaiian Islands, and on August 7, it issued another high-risk day for the leeward sides of Maui, Oʻahu, and Hawaiʻi Island. In response to these forecasts, the Hawaii Emergency Management Agency issued a high wind watch for the leeward sides of all the Hawaiian Islands, and a red flag warning for the leeward sides of Maui and Hawaiʻi Island.\\nThe 2023 Hawaii wildfires were a series of large and deadly wildfires that burned large areas of land near the city of Lahaina on the island of Maui in the U.S. state of Hawaii. The wildfires began on August 8, 2023, and they burned a total of 2,160 acres (870ha) of land, including 1,090 acres (440ha) of forest land and 1,070 acres (430ha) of non-forest land. The wildfires also damaged a total of 34 structures, six of which were residential. The United States Geological Survey (USGS) has reported that the Lahaina fire burned a total of 1,090 acres (440ha) of land, including 640 acres (260ha) of grassland and 450 acres (180ha) of forest land.\\nThe USGS also reported that the fire burned a total of 91% of the area of the Lahaina Recreation Center, 88% of the area of the Lahaina Tennis Center, and 84% of the area of the Lahaina Bypass. In addition, the fire burned a total of 74% of the area of the Maui Police District, 69% of the area of the Maui Fire Department, and 64% of the area of the Maui County Building. The USGS also reported that the fire burned a total of 44% of the area of the Lahaina Historic District, 35% of the area of the Lahaina Business District\""
      ]
     },
     "execution_count": 48,
     "metadata": {},
     "output_type": "execute_result"
    }
   ],
   "source": [
    "attributor.generate(\"The proliferation of the 2023 Hawaii wildfires was caused by\")"
   ]
  },
  {
   "cell_type": "code",
   "execution_count": 46,
   "metadata": {},
   "outputs": [],
   "source": [
    "??attributor.model.base_model.generate"
   ]
  },
  {
   "cell_type": "code",
   "execution_count": 53,
   "metadata": {},
   "outputs": [
    {
     "data": {
      "text/plain": [
       "128"
      ]
     },
     "execution_count": 53,
     "metadata": {},
     "output_type": "execute_result"
    }
   ],
   "source": [
    "len(attributor.train_dataset[0][\"input_ids\"])"
   ]
  },
  {
   "cell_type": "code",
   "execution_count": null,
   "metadata": {},
   "outputs": [],
   "source": []
  },
  {
   "cell_type": "code",
   "execution_count": null,
   "metadata": {},
   "outputs": [],
   "source": []
  },
  {
   "cell_type": "code",
   "execution_count": null,
   "metadata": {},
   "outputs": [],
   "source": []
  },
  {
   "cell_type": "markdown",
   "metadata": {},
   "source": [
    "QA Scenario for attribution"
   ]
  },
  {
   "cell_type": "code",
   "execution_count": 9,
   "metadata": {},
   "outputs": [
    {
     "data": {
      "text/html": [
       "<div><div style='color: #808080; display: inline-block; cursor: auto; user-select: none; user-drag: none; -webkit-user-drag: none; -moz-user-select: none; -webkit-user-select: none; -ms-user-select: none;' id='token-0' onmousedown='mousedown_token(this, 30)' onmouseenter='mouseenter_token(this, 30)' onmouseout='mouseout_token(this)'>&lt;s&gt;</div><div style='color: #808080; display: inline-block; cursor: auto; user-select: none; user-drag: none; -webkit-user-drag: none; -moz-user-select: none; -webkit-user-select: none; -ms-user-select: none;' id='token-1' onmousedown='mousedown_token(this, 30)' onmouseenter='mouseenter_token(this, 30)' onmouseout='mouseout_token(this)'>&nbsp;Answer</div><div style='color: #808080; display: inline-block; cursor: auto; user-select: none; user-drag: none; -webkit-user-drag: none; -moz-user-select: none; -webkit-user-select: none; -ms-user-select: none;' id='token-2' onmousedown='mousedown_token(this, 30)' onmouseenter='mouseenter_token(this, 30)' onmouseout='mouseout_token(this)'>&nbsp;to</div><div style='color: #808080; display: inline-block; cursor: auto; user-select: none; user-drag: none; -webkit-user-drag: none; -moz-user-select: none; -webkit-user-select: none; -ms-user-select: none;' id='token-3' onmousedown='mousedown_token(this, 30)' onmouseenter='mouseenter_token(this, 30)' onmouseout='mouseout_token(this)'>&nbsp;this</div><div style='color: #808080; display: inline-block; cursor: auto; user-select: none; user-drag: none; -webkit-user-drag: none; -moz-user-select: none; -webkit-user-select: none; -ms-user-select: none;' id='token-4' onmousedown='mousedown_token(this, 30)' onmouseenter='mouseenter_token(this, 30)' onmouseout='mouseout_token(this)'>&nbsp;question</div><div style='color: #808080; display: inline-block; cursor: auto; user-select: none; user-drag: none; -webkit-user-drag: none; -moz-user-select: none; -webkit-user-select: none; -ms-user-select: none;' id='token-5' onmousedown='mousedown_token(this, 30)' onmouseenter='mouseenter_token(this, 30)' onmouseout='mouseout_token(this)'>&nbsp;cons</div><div style='color: #808080; display: inline-block; cursor: auto; user-select: none; user-drag: none; -webkit-user-drag: none; -moz-user-select: none; -webkit-user-select: none; -ms-user-select: none;' id='token-6' onmousedown='mousedown_token(this, 30)' onmouseenter='mouseenter_token(this, 30)' onmouseout='mouseout_token(this)'>is</div><div style='color: #808080; display: inline-block; cursor: auto; user-select: none; user-drag: none; -webkit-user-drag: none; -moz-user-select: none; -webkit-user-select: none; -ms-user-select: none;' id='token-7' onmousedown='mousedown_token(this, 30)' onmouseenter='mouseenter_token(this, 30)' onmouseout='mouseout_token(this)'>ely</div><div style='color: #808080; display: inline-block; cursor: auto; user-select: none; user-drag: none; -webkit-user-drag: none; -moz-user-select: none; -webkit-user-select: none; -ms-user-select: none;' id='token-8' onmousedown='mousedown_token(this, 30)' onmouseenter='mouseenter_token(this, 30)' onmouseout='mouseout_token(this)'>:</div><div style='color: #808080; display: inline-block; cursor: auto; user-select: none; user-drag: none; -webkit-user-drag: none; -moz-user-select: none; -webkit-user-select: none; -ms-user-select: none;' id='token-9' onmousedown='mousedown_token(this, 30)' onmouseenter='mouseenter_token(this, 30)' onmouseout='mouseout_token(this)'>&nbsp;Which</div><div style='color: #808080; display: inline-block; cursor: auto; user-select: none; user-drag: none; -webkit-user-drag: none; -moz-user-select: none; -webkit-user-select: none; -ms-user-select: none;' id='token-10' onmousedown='mousedown_token(this, 30)' onmouseenter='mouseenter_token(this, 30)' onmouseout='mouseout_token(this)'>&nbsp;island</div><div style='color: #808080; display: inline-block; cursor: auto; user-select: none; user-drag: none; -webkit-user-drag: none; -moz-user-select: none; -webkit-user-select: none; -ms-user-select: none;' id='token-11' onmousedown='mousedown_token(this, 30)' onmouseenter='mouseenter_token(this, 30)' onmouseout='mouseout_token(this)'>&nbsp;was</div><div style='color: #808080; display: inline-block; cursor: auto; user-select: none; user-drag: none; -webkit-user-drag: none; -moz-user-select: none; -webkit-user-select: none; -ms-user-select: none;' id='token-12' onmousedown='mousedown_token(this, 30)' onmouseenter='mouseenter_token(this, 30)' onmouseout='mouseout_token(this)'>&nbsp;affected</div><div style='color: #808080; display: inline-block; cursor: auto; user-select: none; user-drag: none; -webkit-user-drag: none; -moz-user-select: none; -webkit-user-select: none; -ms-user-select: none;' id='token-13' onmousedown='mousedown_token(this, 30)' onmouseenter='mouseenter_token(this, 30)' onmouseout='mouseout_token(this)'>&nbsp;by</div><div style='color: #808080; display: inline-block; cursor: auto; user-select: none; user-drag: none; -webkit-user-drag: none; -moz-user-select: none; -webkit-user-select: none; -ms-user-select: none;' id='token-14' onmousedown='mousedown_token(this, 30)' onmouseenter='mouseenter_token(this, 30)' onmouseout='mouseout_token(this)'>&nbsp;the</div><div style='color: #808080; display: inline-block; cursor: auto; user-select: none; user-drag: none; -webkit-user-drag: none; -moz-user-select: none; -webkit-user-select: none; -ms-user-select: none;' id='token-15' onmousedown='mousedown_token(this, 30)' onmouseenter='mouseenter_token(this, 30)' onmouseout='mouseout_token(this)'>&nbsp;</div><div style='color: #808080; display: inline-block; cursor: auto; user-select: none; user-drag: none; -webkit-user-drag: none; -moz-user-select: none; -webkit-user-select: none; -ms-user-select: none;' id='token-16' onmousedown='mousedown_token(this, 30)' onmouseenter='mouseenter_token(this, 30)' onmouseout='mouseout_token(this)'>2</div><div style='color: #808080; display: inline-block; cursor: auto; user-select: none; user-drag: none; -webkit-user-drag: none; -moz-user-select: none; -webkit-user-select: none; -ms-user-select: none;' id='token-17' onmousedown='mousedown_token(this, 30)' onmouseenter='mouseenter_token(this, 30)' onmouseout='mouseout_token(this)'>0</div><div style='color: #808080; display: inline-block; cursor: auto; user-select: none; user-drag: none; -webkit-user-drag: none; -moz-user-select: none; -webkit-user-select: none; -ms-user-select: none;' id='token-18' onmousedown='mousedown_token(this, 30)' onmouseenter='mouseenter_token(this, 30)' onmouseout='mouseout_token(this)'>2</div><div style='color: #808080; display: inline-block; cursor: auto; user-select: none; user-drag: none; -webkit-user-drag: none; -moz-user-select: none; -webkit-user-select: none; -ms-user-select: none;' id='token-19' onmousedown='mousedown_token(this, 30)' onmouseenter='mouseenter_token(this, 30)' onmouseout='mouseout_token(this)'>3</div><div style='color: #808080; display: inline-block; cursor: auto; user-select: none; user-drag: none; -webkit-user-drag: none; -moz-user-select: none; -webkit-user-select: none; -ms-user-select: none;' id='token-20' onmousedown='mousedown_token(this, 30)' onmouseenter='mouseenter_token(this, 30)' onmouseout='mouseout_token(this)'>&nbsp;Hawai</div><div style='color: #808080; display: inline-block; cursor: auto; user-select: none; user-drag: none; -webkit-user-drag: none; -moz-user-select: none; -webkit-user-select: none; -ms-user-select: none;' id='token-21' onmousedown='mousedown_token(this, 30)' onmouseenter='mouseenter_token(this, 30)' onmouseout='mouseout_token(this)'>i</div><div style='color: #808080; display: inline-block; cursor: auto; user-select: none; user-drag: none; -webkit-user-drag: none; -moz-user-select: none; -webkit-user-select: none; -ms-user-select: none;' id='token-22' onmousedown='mousedown_token(this, 30)' onmouseenter='mouseenter_token(this, 30)' onmouseout='mouseout_token(this)'>&nbsp;wild</div><div style='color: #808080; display: inline-block; cursor: auto; user-select: none; user-drag: none; -webkit-user-drag: none; -moz-user-select: none; -webkit-user-select: none; -ms-user-select: none;' id='token-23' onmousedown='mousedown_token(this, 30)' onmouseenter='mouseenter_token(this, 30)' onmouseout='mouseout_token(this)'>f</div><div style='color: #808080; display: inline-block; cursor: auto; user-select: none; user-drag: none; -webkit-user-drag: none; -moz-user-select: none; -webkit-user-select: none; -ms-user-select: none;' id='token-24' onmousedown='mousedown_token(this, 30)' onmouseenter='mouseenter_token(this, 30)' onmouseout='mouseout_token(this)'>ires</div><div style='color: #808080; display: inline-block; cursor: auto; user-select: none; user-drag: none; -webkit-user-drag: none; -moz-user-select: none; -webkit-user-select: none; -ms-user-select: none;' id='token-25' onmousedown='mousedown_token(this, 30)' onmouseenter='mouseenter_token(this, 30)' onmouseout='mouseout_token(this)'>?</div><br><br><div style='color: #808080; display: inline-block; cursor: auto; user-select: none; user-drag: none; -webkit-user-drag: none; -moz-user-select: none; -webkit-user-select: none; -ms-user-select: none;' id='token-28' onmousedown='mousedown_token(this, 30)' onmouseenter='mouseenter_token(this, 30)' onmouseout='mouseout_token(this)'>Answer</div><div style='color: #808080; display: inline-block; cursor: auto; user-select: none; user-drag: none; -webkit-user-drag: none; -moz-user-select: none; -webkit-user-select: none; -ms-user-select: none;' id='token-29' onmousedown='mousedown_token(this, 30)' onmouseenter='mouseenter_token(this, 30)' onmouseout='mouseout_token(this)'>:</div><div style='color: #000000; display: inline-block; cursor: pointer; user-select: none; user-drag: none; -webkit-user-drag: none; -moz-user-select: none; -webkit-user-select: none; -ms-user-select: none;' id='token-30' onmousedown='mousedown_token(this, 30)' onmouseenter='mouseenter_token(this, 30)' onmouseout='mouseout_token(this)'>&nbsp;The</div><div style='color: #000000; display: inline-block; cursor: pointer; user-select: none; user-drag: none; -webkit-user-drag: none; -moz-user-select: none; -webkit-user-select: none; -ms-user-select: none;' id='token-31' onmousedown='mousedown_token(this, 30)' onmouseenter='mouseenter_token(this, 30)' onmouseout='mouseout_token(this)'>&nbsp;island</div><div style='color: #000000; display: inline-block; cursor: pointer; user-select: none; user-drag: none; -webkit-user-drag: none; -moz-user-select: none; -webkit-user-select: none; -ms-user-select: none;' id='token-32' onmousedown='mousedown_token(this, 30)' onmouseenter='mouseenter_token(this, 30)' onmouseout='mouseout_token(this)'>&nbsp;affected</div><div style='color: #000000; display: inline-block; cursor: pointer; user-select: none; user-drag: none; -webkit-user-drag: none; -moz-user-select: none; -webkit-user-select: none; -ms-user-select: none;' id='token-33' onmousedown='mousedown_token(this, 30)' onmouseenter='mouseenter_token(this, 30)' onmouseout='mouseout_token(this)'>&nbsp;by</div><div style='color: #000000; display: inline-block; cursor: pointer; user-select: none; user-drag: none; -webkit-user-drag: none; -moz-user-select: none; -webkit-user-select: none; -ms-user-select: none;' id='token-34' onmousedown='mousedown_token(this, 30)' onmouseenter='mouseenter_token(this, 30)' onmouseout='mouseout_token(this)'>&nbsp;the</div><div style='color: #000000; display: inline-block; cursor: pointer; user-select: none; user-drag: none; -webkit-user-drag: none; -moz-user-select: none; -webkit-user-select: none; -ms-user-select: none;' id='token-35' onmousedown='mousedown_token(this, 30)' onmouseenter='mouseenter_token(this, 30)' onmouseout='mouseout_token(this)'>&nbsp;</div><div style='color: #000000; display: inline-block; cursor: pointer; user-select: none; user-drag: none; -webkit-user-drag: none; -moz-user-select: none; -webkit-user-select: none; -ms-user-select: none;' id='token-36' onmousedown='mousedown_token(this, 30)' onmouseenter='mouseenter_token(this, 30)' onmouseout='mouseout_token(this)'>2</div><div style='color: #000000; display: inline-block; cursor: pointer; user-select: none; user-drag: none; -webkit-user-drag: none; -moz-user-select: none; -webkit-user-select: none; -ms-user-select: none;' id='token-37' onmousedown='mousedown_token(this, 30)' onmouseenter='mouseenter_token(this, 30)' onmouseout='mouseout_token(this)'>0</div><div style='color: #000000; display: inline-block; cursor: pointer; user-select: none; user-drag: none; -webkit-user-drag: none; -moz-user-select: none; -webkit-user-select: none; -ms-user-select: none;' id='token-38' onmousedown='mousedown_token(this, 30)' onmouseenter='mouseenter_token(this, 30)' onmouseout='mouseout_token(this)'>2</div><div style='color: #000000; display: inline-block; cursor: pointer; user-select: none; user-drag: none; -webkit-user-drag: none; -moz-user-select: none; -webkit-user-select: none; -ms-user-select: none;' id='token-39' onmousedown='mousedown_token(this, 30)' onmouseenter='mouseenter_token(this, 30)' onmouseout='mouseout_token(this)'>3</div><div style='color: #000000; display: inline-block; cursor: pointer; user-select: none; user-drag: none; -webkit-user-drag: none; -moz-user-select: none; -webkit-user-select: none; -ms-user-select: none;' id='token-40' onmousedown='mousedown_token(this, 30)' onmouseenter='mouseenter_token(this, 30)' onmouseout='mouseout_token(this)'>&nbsp;Hawai</div><div style='color: #000000; display: inline-block; cursor: pointer; user-select: none; user-drag: none; -webkit-user-drag: none; -moz-user-select: none; -webkit-user-select: none; -ms-user-select: none;' id='token-41' onmousedown='mousedown_token(this, 30)' onmouseenter='mouseenter_token(this, 30)' onmouseout='mouseout_token(this)'>i</div><div style='color: #000000; display: inline-block; cursor: pointer; user-select: none; user-drag: none; -webkit-user-drag: none; -moz-user-select: none; -webkit-user-select: none; -ms-user-select: none;' id='token-42' onmousedown='mousedown_token(this, 30)' onmouseenter='mouseenter_token(this, 30)' onmouseout='mouseout_token(this)'>&nbsp;wild</div><div style='color: #000000; display: inline-block; cursor: pointer; user-select: none; user-drag: none; -webkit-user-drag: none; -moz-user-select: none; -webkit-user-select: none; -ms-user-select: none;' id='token-43' onmousedown='mousedown_token(this, 30)' onmouseenter='mouseenter_token(this, 30)' onmouseout='mouseout_token(this)'>f</div><div style='color: #000000; display: inline-block; cursor: pointer; user-select: none; user-drag: none; -webkit-user-drag: none; -moz-user-select: none; -webkit-user-select: none; -ms-user-select: none;' id='token-44' onmousedown='mousedown_token(this, 30)' onmouseenter='mouseenter_token(this, 30)' onmouseout='mouseout_token(this)'>ires</div><div style='color: #000000; display: inline-block; cursor: pointer; user-select: none; user-drag: none; -webkit-user-drag: none; -moz-user-select: none; -webkit-user-select: none; -ms-user-select: none;' id='token-45' onmousedown='mousedown_token(this, 30)' onmouseenter='mouseenter_token(this, 30)' onmouseout='mouseout_token(this)'>&nbsp;was</div><div style='color: #000000; display: inline-block; cursor: pointer; user-select: none; user-drag: none; -webkit-user-drag: none; -moz-user-select: none; -webkit-user-select: none; -ms-user-select: none;' id='token-46' onmousedown='mousedown_token(this, 30)' onmouseenter='mouseenter_token(this, 30)' onmouseout='mouseout_token(this)'>&nbsp;L</div><div style='color: #000000; display: inline-block; cursor: pointer; user-select: none; user-drag: none; -webkit-user-drag: none; -moz-user-select: none; -webkit-user-select: none; -ms-user-select: none;' id='token-47' onmousedown='mousedown_token(this, 30)' onmouseenter='mouseenter_token(this, 30)' onmouseout='mouseout_token(this)'>ā</div><div style='color: #000000; display: inline-block; cursor: pointer; user-select: none; user-drag: none; -webkit-user-drag: none; -moz-user-select: none; -webkit-user-select: none; -ms-user-select: none;' id='token-48' onmousedown='mousedown_token(this, 30)' onmouseenter='mouseenter_token(this, 30)' onmouseout='mouseout_token(this)'>h</div><div style='color: #000000; display: inline-block; cursor: pointer; user-select: none; user-drag: none; -webkit-user-drag: none; -moz-user-select: none; -webkit-user-select: none; -ms-user-select: none;' id='token-49' onmousedown='mousedown_token(this, 30)' onmouseenter='mouseenter_token(this, 30)' onmouseout='mouseout_token(this)'>ain</div><div style='color: #000000; display: inline-block; cursor: pointer; user-select: none; user-drag: none; -webkit-user-drag: none; -moz-user-select: none; -webkit-user-select: none; -ms-user-select: none;' id='token-50' onmousedown='mousedown_token(this, 30)' onmouseenter='mouseenter_token(this, 30)' onmouseout='mouseout_token(this)'>a</div><div style='color: #000000; display: inline-block; cursor: pointer; user-select: none; user-drag: none; -webkit-user-drag: none; -moz-user-select: none; -webkit-user-select: none; -ms-user-select: none;' id='token-51' onmousedown='mousedown_token(this, 30)' onmouseenter='mouseenter_token(this, 30)' onmouseout='mouseout_token(this)'>&nbsp;on</div><div style='color: #000000; display: inline-block; cursor: pointer; user-select: none; user-drag: none; -webkit-user-drag: none; -moz-user-select: none; -webkit-user-select: none; -ms-user-select: none;' id='token-52' onmousedown='mousedown_token(this, 30)' onmouseenter='mouseenter_token(this, 30)' onmouseout='mouseout_token(this)'>&nbsp;the</div><div style='color: #000000; display: inline-block; cursor: pointer; user-select: none; user-drag: none; -webkit-user-drag: none; -moz-user-select: none; -webkit-user-select: none; -ms-user-select: none;' id='token-53' onmousedown='mousedown_token(this, 30)' onmouseenter='mouseenter_token(this, 30)' onmouseout='mouseout_token(this)'>&nbsp;island</div><div style='color: #000000; display: inline-block; cursor: pointer; user-select: none; user-drag: none; -webkit-user-drag: none; -moz-user-select: none; -webkit-user-select: none; -ms-user-select: none;' id='token-54' onmousedown='mousedown_token(this, 30)' onmouseenter='mouseenter_token(this, 30)' onmouseout='mouseout_token(this)'>&nbsp;of</div><div style='color: #000000; display: inline-block; cursor: pointer; user-select: none; user-drag: none; -webkit-user-drag: none; -moz-user-select: none; -webkit-user-select: none; -ms-user-select: none;' id='token-55' onmousedown='mousedown_token(this, 30)' onmouseenter='mouseenter_token(this, 30)' onmouseout='mouseout_token(this)'>&nbsp;Mau</div><div style='color: #000000; display: inline-block; cursor: pointer; user-select: none; user-drag: none; -webkit-user-drag: none; -moz-user-select: none; -webkit-user-select: none; -ms-user-select: none;' id='token-56' onmousedown='mousedown_token(this, 30)' onmouseenter='mouseenter_token(this, 30)' onmouseout='mouseout_token(this)'>i</div><div style='color: #000000; display: inline-block; cursor: pointer; user-select: none; user-drag: none; -webkit-user-drag: none; -moz-user-select: none; -webkit-user-select: none; -ms-user-select: none;' id='token-57' onmousedown='mousedown_token(this, 30)' onmouseenter='mouseenter_token(this, 30)' onmouseout='mouseout_token(this)'>.</div></div>\n",
       "        <button onclick=\"showHighlightedTokenIndices()\" style=\"margin-top: 5px; font-size: 14px;\">Copy Highlighted Token Indices</button>\n",
       "        <div id=\"highlighted-token-indices\" style=\"display: inline-block; padding-left: 3px; font-size: 14px;\"></div>\n",
       "        \n",
       "        <script type=\"text/Javascript\">\n",
       "            window.startToken = -1;\n",
       "            window.beingDragged = false;\n",
       "            window.selecting = false;\n",
       "            \n",
       "            document.addEventListener('mouseup', (e) => {\n",
       "                if (window.beingDragged) {\n",
       "                    for (let i=30; i<58; i++) {\n",
       "                        if (document.getElementById(`token-${i}`) == null) continue;\n",
       "                        document.getElementById(`token-${i}`).selected = document.getElementById(`token-${i}`).newSelected;\n",
       "                        document.getElementById(`token-${i}`).style.color = document.getElementById(`token-${i}`).selected?\"#ff0000\":\"black\";\n",
       "                    }\n",
       "                }\n",
       "                \n",
       "                window.startToken = -1;\n",
       "                window.beingDragged = false;\n",
       "                window.selecting = false;\n",
       "                \n",
       "            })\n",
       "            \n",
       "            function mousedown_token(token, prompt_len) {\n",
       "                // if mouse being clicked, from start to this one, change to red\n",
       "                let clickedTokenIdx = Number(token.id.split(\"-\")[1]);\n",
       "                \n",
       "                if (clickedTokenIdx >= prompt_len) {\n",
       "                    window.beingDragged = true;\n",
       "                    \n",
       "                    if (token.newSelected) {token.newSelected = false; window.selecting=false;}\n",
       "                    else {token.newSelected = true; window.selecting=true;}\n",
       "\n",
       "                    window.startToken = clickedTokenIdx;\n",
       "                    if (window.selecting) token.style.color = \"#ff0000\";\n",
       "                    else token.style.color = \"#000000\";\n",
       "                }\n",
       "            }\n",
       "            \n",
       "            function mouseenter_token(token, prompt_len) {\n",
       "                if ((Number(token.id.split(\"-\")[1])) >= prompt_len) token.style.backgroundColor = \"#ff000080\"; //highlight this one's background always\n",
       "                if (window.beingDragged) {\n",
       "                    let enteredTokenIdx = Number(token.id.split(\"-\")[1]);\n",
       "                    let start = Math.min(enteredTokenIdx, window.startToken);\n",
       "                    let end = Math.max(enteredTokenIdx, window.startToken);\n",
       "                    for (let i=prompt_len; i<58; i++) {\n",
       "                        if (document.getElementById(`token-${i}`) == null) continue;\n",
       "                        if ((i>=start)&&(i<=end)) {\n",
       "                            document.getElementById(`token-${i}`).newSelected = window.selecting;\n",
       "                            document.getElementById(`token-${i}`).style.color = window.selecting?\"#ff0000\":\"black\";\n",
       "                        }\n",
       "                        else {\n",
       "                            document.getElementById(`token-${i}`).newSelected = document.getElementById(`token-${i}`).selected;\n",
       "                            document.getElementById(`token-${i}`).style.color = document.getElementById(`token-${i}`).newSelected?\"#ff0000\":\"black\";\n",
       "                        }\n",
       "                    }\n",
       "                }\n",
       "            }\n",
       "            \n",
       "            function mouseout_token(token) {\n",
       "                token.style.backgroundColor = \"#00000000\";\n",
       "            }\n",
       "            \n",
       "            function showHighlightedTokenIndices() {\n",
       "                let highlightedTokenIndices = [];\n",
       "                for (let i=0; i<58; i++) {\n",
       "                    if (document.getElementById(`token-${i}`) == null) {\n",
       "                        if (i == 0) continue; // if the only token or first, skip\n",
       "                        else if (i == 58 - 1) {\n",
       "                            if (highlightedTokenIndices.includes(i-1)) highlightedTokenIndices.push(i)\n",
       "                        }\n",
       "                        else {\n",
       "                            if (highlightedTokenIndices.includes(i-1) && (document.getElementById(`token-${i+1}`)!=null) && (document.getElementById(`token-${i+1}`).selected)) highlightedTokenIndices.push(i)\n",
       "                        }\n",
       "                    }\n",
       "                    else if (document.getElementById(`token-${i}`).selected) {\n",
       "                        highlightedTokenIndices.push(i);\n",
       "                    }\n",
       "                }\n",
       "\n",
       "                let highlightedTokenIndicesStr = highlightedTokenIndices.toString();\n",
       "                document.getElementById(\"highlighted-token-indices\").innerHTML = highlightedTokenIndicesStr;\n",
       "                navigator.clipboard.writeText(\"[\"+highlightedTokenIndicesStr+\"]\");\n",
       "            }\n",
       "        </script>\n",
       "        "
      ],
      "text/plain": [
       "<IPython.core.display.HTML object>"
      ]
     },
     "execution_count": 9,
     "metadata": {},
     "output_type": "execute_result"
    }
   ],
   "source": [
    "attr_prompt = \"Answer to this question consisely: Which island was affected by the 2023 Hawaii wildfires?\\n\\nAnswer:\"\n",
    "attr_generated_text = \" The island affected by the 2023 Hawaii wildfires was Lāhaina on the island of Maui.\"\n",
    "attr_all_text = attr_prompt + attr_generated_text \n",
    "code = attributor.set_attr_prompt(prompt=attr_prompt, attr_text=attr_all_text)\n",
    "\n",
    "from IPython.display import HTML\n",
    "HTML(code)"
   ]
  },
  {
   "cell_type": "code",
   "execution_count": 10,
   "metadata": {},
   "outputs": [],
   "source": [
    "attributor.set_attr_tokens_pos([46,47,48,49,50,51,52,53,54,55,56])"
   ]
  },
  {
   "cell_type": "code",
   "execution_count": 7,
   "metadata": {},
   "outputs": [
    {
     "name": "stdout",
     "output_type": "stream",
     "text": [
      "Loading model from /raid/slee3473/LLM/wiki/wiki_jan25/checkpoint-250\n"
     ]
    },
    {
     "data": {
      "application/vnd.jupyter.widget-view+json": {
       "model_id": "9006bae1e65248808be9ec4fe395ad83",
       "version_major": 2,
       "version_minor": 0
      },
      "text/plain": [
       "Loading checkpoint shards:   0%|          | 0/3 [00:00<?, ?it/s]"
      ]
     },
     "metadata": {},
     "output_type": "display_data"
    },
    {
     "name": "stderr",
     "output_type": "stream",
     "text": [
      "/raid/slee3473/Anaconda3/envs/llm/lib/python3.9/site-packages/bitsandbytes/autograd/_functions.py:322: UserWarning: MatMul8bitLt: inputs will be cast from torch.float32 to float16 during quantization\n",
      "  warnings.warn(f\"MatMul8bitLt: inputs will be cast from {A.dtype} to float16 during quantization\")\n"
     ]
    },
    {
     "name": "stdout",
     "output_type": "stream",
     "text": [
      "Loading model from /raid/slee3473/LLM/wiki/wiki_jan25/checkpoint-150\n"
     ]
    },
    {
     "data": {
      "application/vnd.jupyter.widget-view+json": {
       "model_id": "1c8239a139ea4056b187a42260d1772b",
       "version_major": 2,
       "version_minor": 0
      },
      "text/plain": [
       "Loading checkpoint shards:   0%|          | 0/3 [00:00<?, ?it/s]"
      ]
     },
     "metadata": {},
     "output_type": "display_data"
    },
    {
     "name": "stdout",
     "output_type": "stream",
     "text": [
      "Loading model from /raid/slee3473/LLM/wiki/wiki_jan25/checkpoint-25\n"
     ]
    },
    {
     "data": {
      "application/vnd.jupyter.widget-view+json": {
       "model_id": "255e18699d424c24917cc5c420f1975a",
       "version_major": 2,
       "version_minor": 0
      },
      "text/plain": [
       "Loading checkpoint shards:   0%|          | 0/3 [00:00<?, ?it/s]"
      ]
     },
     "metadata": {},
     "output_type": "display_data"
    },
    {
     "name": "stdout",
     "output_type": "stream",
     "text": [
      "Loading model from /raid/slee3473/LLM/wiki/wiki_jan25/checkpoint-225\n"
     ]
    },
    {
     "data": {
      "application/vnd.jupyter.widget-view+json": {
       "model_id": "a59d3404723e44e7ad4ca8ea65cb34e0",
       "version_major": 2,
       "version_minor": 0
      },
      "text/plain": [
       "Loading checkpoint shards:   0%|          | 0/3 [00:00<?, ?it/s]"
      ]
     },
     "metadata": {},
     "output_type": "display_data"
    },
    {
     "name": "stdout",
     "output_type": "stream",
     "text": [
      "Loading model from /raid/slee3473/LLM/wiki/wiki_jan25/checkpoint-75\n"
     ]
    },
    {
     "data": {
      "application/vnd.jupyter.widget-view+json": {
       "model_id": "674c64e010a54fc39b3da7b268fdefa0",
       "version_major": 2,
       "version_minor": 0
      },
      "text/plain": [
       "Loading checkpoint shards:   0%|          | 0/3 [00:00<?, ?it/s]"
      ]
     },
     "metadata": {},
     "output_type": "display_data"
    },
    {
     "name": "stdout",
     "output_type": "stream",
     "text": [
      "Loading model from /raid/slee3473/LLM/wiki/wiki_jan25/checkpoint-100\n"
     ]
    },
    {
     "data": {
      "application/vnd.jupyter.widget-view+json": {
       "model_id": "e98562ff737e4396abfc7d8c37df4add",
       "version_major": 2,
       "version_minor": 0
      },
      "text/plain": [
       "Loading checkpoint shards:   0%|          | 0/3 [00:00<?, ?it/s]"
      ]
     },
     "metadata": {},
     "output_type": "display_data"
    },
    {
     "name": "stdout",
     "output_type": "stream",
     "text": [
      "Loading model from /raid/slee3473/LLM/wiki/wiki_jan25/checkpoint-125\n"
     ]
    },
    {
     "data": {
      "application/vnd.jupyter.widget-view+json": {
       "model_id": "d03d2587eeea4e9f93e52b0f10fae01f",
       "version_major": 2,
       "version_minor": 0
      },
      "text/plain": [
       "Loading checkpoint shards:   0%|          | 0/3 [00:00<?, ?it/s]"
      ]
     },
     "metadata": {},
     "output_type": "display_data"
    },
    {
     "name": "stdout",
     "output_type": "stream",
     "text": [
      "Loading model from /raid/slee3473/LLM/wiki/wiki_jan25/checkpoint-200\n"
     ]
    },
    {
     "data": {
      "application/vnd.jupyter.widget-view+json": {
       "model_id": "f705c784f0e34c57af81df2fb4854504",
       "version_major": 2,
       "version_minor": 0
      },
      "text/plain": [
       "Loading checkpoint shards:   0%|          | 0/3 [00:00<?, ?it/s]"
      ]
     },
     "metadata": {},
     "output_type": "display_data"
    },
    {
     "name": "stdout",
     "output_type": "stream",
     "text": [
      "Loading model from /raid/slee3473/LLM/wiki/wiki_jan25/checkpoint-50\n"
     ]
    },
    {
     "data": {
      "application/vnd.jupyter.widget-view+json": {
       "model_id": "b88632bf2ad04098b8f9e998be99c6a7",
       "version_major": 2,
       "version_minor": 0
      },
      "text/plain": [
       "Loading checkpoint shards:   0%|          | 0/3 [00:00<?, ?it/s]"
      ]
     },
     "metadata": {},
     "output_type": "display_data"
    },
    {
     "name": "stdout",
     "output_type": "stream",
     "text": [
      "Loading model from /raid/slee3473/LLM/wiki/wiki_jan25/checkpoint-175\n"
     ]
    },
    {
     "data": {
      "application/vnd.jupyter.widget-view+json": {
       "model_id": "b44d633de35e407c836eb02d4e918e3c",
       "version_major": 2,
       "version_minor": 0
      },
      "text/plain": [
       "Loading checkpoint shards:   0%|          | 0/3 [00:00<?, ?it/s]"
      ]
     },
     "metadata": {},
     "output_type": "display_data"
    }
   ],
   "source": [
    "# for ckpt in attributor.ckpt_names:\n",
    "#     datainf_filepath = os.path.join(attributor.model_save_dir, ckpt, \"datainf.json\")\n",
    "#     if os.path.exists(datainf_filepath): \n",
    "#         print(\"Remove\", datainf_filepath)\n",
    "#         os.remove(datainf_filepath)\n",
    "top3_idx, top3_data = attributor.get_topk_training_data(k=3)"
   ]
  },
  {
   "cell_type": "code",
   "execution_count": 8,
   "metadata": {},
   "outputs": [
    {
     "name": "stdout",
     "output_type": "stream",
     "text": [
      "et, removing the video from it. The IDF said it was not involved with the video, and attributed it to the Israeli Ministry of Foreign Affairs.\n",
      "According to the The New York Times, Israel has declined its requests to share logs of its military activity in the area at the time of the explosion or say what video it was basing its assessment that a failed Palestinian rocket launch was responsible for the blast on.\n",
      "The Gaza Health Ministry said the explosion was caused by an Israeli airstrike. Palestinian Islamic Jihad has denied responsibility, blaming Israel\n",
      "\n",
      "a and Upper Kula, with instructions to not drink or use tap water for daily activities, even after boiling, and all residents were requested to limit water use. Following earlier deployments on August 9, further potable water tankers were set up at locations across the island. Some scientists have also warned that charred soils, toxic contaminated top soil and other debris could run off into the shoreline and cause marine habitats and coral to be damaged.\n",
      "The fires prompted mass evacuations of thousands of residents and visitors from Lāhaina, Kā\n",
      "\n",
      "100,000 inhabitants, half of those are dedicated to administrative functions, one quarter of those are firefighters, and less than 15% of servants can aid in search and rescue. Nevertheless, the government of Guerrero mobilized 30 to 40 trucks to transport displaced tourists to shelter. With resources totaling approximately US$1.7 billion, the government initially believed it had the economic resources necessary to repair the damage to Guerrero, although the congressional bloc of Morena offered an additional 10 million pesos in aid on\n",
      "\n"
     ]
    }
   ],
   "source": [
    "for data in top3_data:\n",
    "    print(attributor.tokenizer.decode(data[\"input_ids\"], skip_special_tokens=True))\n",
    "    print()"
   ]
  },
  {
   "cell_type": "code",
   "execution_count": 12,
   "metadata": {},
   "outputs": [
    {
     "name": "stdout",
     "output_type": "stream",
     "text": [
      "Al-Ahli Arab Hospital explosion\n",
      "\n",
      "2023 Hawaii wildfires\n",
      "\n",
      "Hurricane Otis\n",
      "\n"
     ]
    }
   ],
   "source": [
    "for data in top3_data:\n",
    "    print(data[\"title\"])\n",
    "    print()"
   ]
  },
  {
   "cell_type": "code",
   "execution_count": 21,
   "metadata": {},
   "outputs": [
    {
     "name": "stdout",
     "output_type": "stream",
     "text": [
      "checkpoint-250\n",
      "\n",
      "checkpoint-150\n",
      "#1\n",
      "a and Upper Kula, with instructions to not drink or use tap water for daily activities, even after boiling, and all residents were requested to limit water use. Following earlier deployments on August 9, further potable water tankers were set up at locations across the island. Some scientists have also warned that charred soils, toxic contaminated top soil and other debris could run off into the shoreline and cause marine habitats and coral to be damaged.\n",
      "The fires prompted mass evacuations of thousands of residents and visitors from Lāhaina, Kā\n",
      "\n",
      "checkpoint-25\n",
      "#0\n",
      "a and Upper Kula, with instructions to not drink or use tap water for daily activities, even after boiling, and all residents were requested to limit water use. Following earlier deployments on August 9, further potable water tankers were set up at locations across the island. Some scientists have also warned that charred soils, toxic contaminated top soil and other debris could run off into the shoreline and cause marine habitats and coral to be damaged.\n",
      "The fires prompted mass evacuations of thousands of residents and visitors from Lāhaina, Kā\n",
      "\n",
      "checkpoint-225\n",
      "\n",
      "checkpoint-75\n",
      "#0\n",
      "a and Upper Kula, with instructions to not drink or use tap water for daily activities, even after boiling, and all residents were requested to limit water use. Following earlier deployments on August 9, further potable water tankers were set up at locations across the island. Some scientists have also warned that charred soils, toxic contaminated top soil and other debris could run off into the shoreline and cause marine habitats and coral to be damaged.\n",
      "The fires prompted mass evacuations of thousands of residents and visitors from Lāhaina, Kā\n",
      "#1\n",
      ". Another fire in Kāʻanapali would ignite again on August 26 and have an evacuation order placed and lifted on the same day.\n",
      "In Hawaiʻi County, neighborhoods in the North and South Kohala districts of the Island of Hawaiʻi were evacuated due to rapidly spreading brush fires. On August 9, several other brush fires broke out near the communities of Nā'ālehu and Pāhala; those fires were quickly brought under control. Hawaiʻi County Mayor Mitch Roth said there were no reports of injuries or destroyed homes on the Big\n",
      "#2\n",
      "alive sheltering inside a single home.\n",
      "Due to DNA testing determining that victims were unintentionally being counted multiple times, the death toll officially dropped from 115 to 97 on September 18.\n",
      "The main Maui wildfire burned much of the community of Lahaina, where more than 2,200 structures were damaged or destroyed, including much of the downtown Lahaina Historic District centered on Front Street. 96% of burned structures were residential. The 3.4-square-mile  area (8\n",
      "\n",
      "checkpoint-100\n",
      "#0\n",
      "a and Upper Kula, with instructions to not drink or use tap water for daily activities, even after boiling, and all residents were requested to limit water use. Following earlier deployments on August 9, further potable water tankers were set up at locations across the island. Some scientists have also warned that charred soils, toxic contaminated top soil and other debris could run off into the shoreline and cause marine habitats and coral to be damaged.\n",
      "The fires prompted mass evacuations of thousands of residents and visitors from Lāhaina, Kā\n",
      "#1\n",
      ". Another fire in Kāʻanapali would ignite again on August 26 and have an evacuation order placed and lifted on the same day.\n",
      "In Hawaiʻi County, neighborhoods in the North and South Kohala districts of the Island of Hawaiʻi were evacuated due to rapidly spreading brush fires. On August 9, several other brush fires broke out near the communities of Nā'ālehu and Pāhala; those fires were quickly brought under control. Hawaiʻi County Mayor Mitch Roth said there were no reports of injuries or destroyed homes on the Big\n",
      "#2\n",
      "880ha) of land. PDC and FEMA estimated that 2,207 buildings had been destroyed, with a total of 2,719 exposed to the fires, and set the damage estimate at $5.52 billion as of August 11. The next day, Governor Josh Green announced the damage was close to $6 billion. Many historic structures were destroyed, including Waiola Church and Pioneer Inn. 86% of burned structures in Lāhaina were residential.\n",
      "As of August 12, at least 93 people had been\n",
      "\n",
      "checkpoint-125\n",
      "#1\n",
      "alive sheltering inside a single home.\n",
      "Due to DNA testing determining that victims were unintentionally being counted multiple times, the death toll officially dropped from 115 to 97 on September 18.\n",
      "The main Maui wildfire burned much of the community of Lahaina, where more than 2,200 structures were damaged or destroyed, including much of the downtown Lahaina Historic District centered on Front Street. 96% of burned structures were residential. The 3.4-square-mile  area (8\n",
      "\n",
      "checkpoint-200\n",
      "#1\n",
      "residents. Donations and care were also extended to the Maui Police Department's K-9 unit that are working with recovery efforts and housing for the animals.\n",
      "Scientists with the National Science Foundation and the Environmental Protection Agency (EPA) began to prep for studies that would monitor and document any changes in water quality due to soil erosion and other effects of the fire that can affect the island's waterways and ecosystems. Others expressed thanks that areas such as the Maui Bird Conservation Center was spared from the majority of the fires, as it housed a large portion of\n",
      "\n",
      "checkpoint-50\n",
      "#0\n",
      "a and Upper Kula, with instructions to not drink or use tap water for daily activities, even after boiling, and all residents were requested to limit water use. Following earlier deployments on August 9, further potable water tankers were set up at locations across the island. Some scientists have also warned that charred soils, toxic contaminated top soil and other debris could run off into the shoreline and cause marine habitats and coral to be damaged.\n",
      "The fires prompted mass evacuations of thousands of residents and visitors from Lāhaina, Kā\n",
      "#1\n",
      "880ha) of land. PDC and FEMA estimated that 2,207 buildings had been destroyed, with a total of 2,719 exposed to the fires, and set the damage estimate at $5.52 billion as of August 11. The next day, Governor Josh Green announced the damage was close to $6 billion. Many historic structures were destroyed, including Waiola Church and Pioneer Inn. 86% of burned structures in Lāhaina were residential.\n",
      "As of August 12, at least 93 people had been\n",
      "#2\n",
      ". Another fire in Kāʻanapali would ignite again on August 26 and have an evacuation order placed and lifted on the same day.\n",
      "In Hawaiʻi County, neighborhoods in the North and South Kohala districts of the Island of Hawaiʻi were evacuated due to rapidly spreading brush fires. On August 9, several other brush fires broke out near the communities of Nā'ālehu and Pāhala; those fires were quickly brought under control. Hawaiʻi County Mayor Mitch Roth said there were no reports of injuries or destroyed homes on the Big\n",
      "\n",
      "checkpoint-175\n",
      "#0\n",
      "in Helicopter Maritime Strike Squadron Three Seven (HSM-37) and two MH-60R Seahawk helicopters, with the United States Indo-Pacific Command standing ready to provide additional assistance as needed. Meanwhile, the U.S. 25th Infantry Division from Schofield Barracks on Oʻahu was deployed alongside the Hawaii National Guard to Maui and Hawaii Island to assist with fire suppression support, search and rescue operations, and traffic control.\n",
      "President Biden approved the state of Hawaii's request for a major dis\n",
      "#2\n",
      "drawings, and letters to aid in the recovery of historic sites.\n",
      "A lack of adequate warning and preparation has also come into focus. Despite Hawaii's advanced integrated outdoor siren warning system, on Maui, 80 of these sirens, designed for tsunamis and other disasters, remained silent as the fires burned. The Hawaii Emergency Management Agency attributed the lack of activation to the fires' rapid progression and existing ground response coordination. And while residents received other alerts, such as mobile phone notifications, the intensity and urgency of these messages were deemed\n",
      "\n"
     ]
    }
   ],
   "source": [
    "# topic of the attributed data for each checkpoint\n",
    "import numpy as np\n",
    "\n",
    "datainf_scores = attributor.get_datainf_scores(integrated=False)\n",
    "\n",
    "for ckpt in datainf_scores:\n",
    "    print(ckpt)\n",
    "    scores = datainf_scores[ckpt]\n",
    "    topk_indices = np.argsort(-np.abs(scores))[:3]\n",
    "    for top, i in enumerate(topk_indices):\n",
    "        data = attributor.train_dataset[int(i)]\n",
    "        if \"Hawaii\" in data[\"title\"]:\n",
    "            print(f\"#{top}\")\n",
    "            print(attributor.tokenizer.decode(data[\"input_ids\"], skip_special_tokens=True))\n",
    "    print()"
   ]
  },
  {
   "cell_type": "code",
   "execution_count": null,
   "metadata": {},
   "outputs": [],
   "source": []
  },
  {
   "cell_type": "code",
   "execution_count": null,
   "metadata": {},
   "outputs": [],
   "source": []
  },
  {
   "cell_type": "code",
   "execution_count": null,
   "metadata": {},
   "outputs": [],
   "source": []
  },
  {
   "cell_type": "code",
   "execution_count": null,
   "metadata": {},
   "outputs": [],
   "source": []
  },
  {
   "cell_type": "markdown",
   "metadata": {},
   "source": [
    "Attribute in paragraph unit"
   ]
  },
  {
   "cell_type": "code",
   "execution_count": 11,
   "metadata": {},
   "outputs": [
    {
     "data": {
      "application/vnd.jupyter.widget-view+json": {
       "model_id": "082a4d2cd0e84a3f8d1751660c8a8ae7",
       "version_major": 2,
       "version_minor": 0
      },
      "text/plain": [
       "Map:   0%|          | 0/716 [00:00<?, ? examples/s]"
      ]
     },
     "metadata": {},
     "output_type": "display_data"
    }
   ],
   "source": [
    "import datasets \n",
    "\n",
    "attr_dataset = {\"text\": [], \"title\": []}\n",
    "for title in corpus:\n",
    "    text = corpus[title]\n",
    "    for p in text.split(\"\\n\"): \n",
    "        attr_dataset[\"text\"].append(p)\n",
    "        attr_dataset[\"title\"].append(title)\n",
    "attr_dataset = datasets.Dataset.from_dict(attr_dataset)        \n",
    "attr_dataset = attr_dataset.map(lambda data: attributor.tokenizer(data[\"text\"], max_length=None), remove_columns=[\"text\"])"
   ]
  },
  {
   "cell_type": "code",
   "execution_count": 12,
   "metadata": {},
   "outputs": [],
   "source": [
    "attr_dataset = attr_dataset.add_column(\"labels\", attr_dataset[\"input_ids\"])"
   ]
  },
  {
   "cell_type": "code",
   "execution_count": null,
   "metadata": {},
   "outputs": [
    {
     "name": "stdout",
     "output_type": "stream",
     "text": [
      "checkpoint-150\n",
      "Start getting gradient for the model checkpoint-150\n"
     ]
    },
    {
     "name": "stderr",
     "output_type": "stream",
     "text": [
      "100%|██████████████████████████████████████████████████████████████████████████████████████████████████████████████████████████████████████████████████████| 716/716 [21:03<00:00,  1.76s/it]\n"
     ]
    },
    {
     "name": "stdout",
     "output_type": "stream",
     "text": [
      "checkpoint-25\n",
      "Loading model from /raid/slee3473/LLM/wiki/wiki_jan25/checkpoint-25\n"
     ]
    },
    {
     "data": {
      "application/vnd.jupyter.widget-view+json": {
       "model_id": "a71cf3db7c1547f3af5eab5809d72a24",
       "version_major": 2,
       "version_minor": 0
      },
      "text/plain": [
       "Loading checkpoint shards:   0%|          | 0/3 [00:00<?, ?it/s]"
      ]
     },
     "metadata": {},
     "output_type": "display_data"
    },
    {
     "name": "stdout",
     "output_type": "stream",
     "text": [
      "Start getting gradient for the model checkpoint-25\n"
     ]
    },
    {
     "name": "stderr",
     "output_type": "stream",
     "text": [
      "100%|██████████████████████████████████████████████████████████████████████████████████████████████████████████████████████████████████████████████████████| 716/716 [21:13<00:00,  1.78s/it]\n"
     ]
    },
    {
     "name": "stdout",
     "output_type": "stream",
     "text": [
      "checkpoint-225\n",
      "Loading model from /raid/slee3473/LLM/wiki/wiki_jan25/checkpoint-225\n"
     ]
    },
    {
     "data": {
      "application/vnd.jupyter.widget-view+json": {
       "model_id": "a12ce38fe72c418ebd79b521f01b7eaa",
       "version_major": 2,
       "version_minor": 0
      },
      "text/plain": [
       "Loading checkpoint shards:   0%|          | 0/3 [00:00<?, ?it/s]"
      ]
     },
     "metadata": {},
     "output_type": "display_data"
    },
    {
     "name": "stdout",
     "output_type": "stream",
     "text": [
      "Start getting gradient for the model checkpoint-225\n"
     ]
    },
    {
     "name": "stderr",
     "output_type": "stream",
     "text": [
      "100%|██████████████████████████████████████████████████████████████████████████████████████████████████████████████████████████████████████████████████████| 716/716 [21:15<00:00,  1.78s/it]\n"
     ]
    },
    {
     "name": "stdout",
     "output_type": "stream",
     "text": [
      "checkpoint-75\n",
      "Loading model from /raid/slee3473/LLM/wiki/wiki_jan25/checkpoint-75\n"
     ]
    },
    {
     "data": {
      "application/vnd.jupyter.widget-view+json": {
       "model_id": "19cc6524dc524a6b95cf9f8072f27f2d",
       "version_major": 2,
       "version_minor": 0
      },
      "text/plain": [
       "Loading checkpoint shards:   0%|          | 0/3 [00:00<?, ?it/s]"
      ]
     },
     "metadata": {},
     "output_type": "display_data"
    },
    {
     "name": "stdout",
     "output_type": "stream",
     "text": [
      "Start getting gradient for the model checkpoint-75\n"
     ]
    },
    {
     "name": "stderr",
     "output_type": "stream",
     "text": [
      "100%|██████████████████████████████████████████████████████████████████████████████████████████████████████████████████████████████████████████████████████| 716/716 [21:10<00:00,  1.77s/it]\n"
     ]
    },
    {
     "name": "stdout",
     "output_type": "stream",
     "text": [
      "checkpoint-100\n",
      "Loading model from /raid/slee3473/LLM/wiki/wiki_jan25/checkpoint-100\n"
     ]
    },
    {
     "data": {
      "application/vnd.jupyter.widget-view+json": {
       "model_id": "caff179477d24acebcffa84fce82ce22",
       "version_major": 2,
       "version_minor": 0
      },
      "text/plain": [
       "Loading checkpoint shards:   0%|          | 0/3 [00:00<?, ?it/s]"
      ]
     },
     "metadata": {},
     "output_type": "display_data"
    },
    {
     "name": "stdout",
     "output_type": "stream",
     "text": [
      "Start getting gradient for the model checkpoint-100\n"
     ]
    },
    {
     "name": "stderr",
     "output_type": "stream",
     "text": [
      "100%|██████████████████████████████████████████████████████████████████████████████████████████████████████████████████████████████████████████████████████| 716/716 [21:09<00:00,  1.77s/it]\n"
     ]
    },
    {
     "name": "stdout",
     "output_type": "stream",
     "text": [
      "checkpoint-125\n",
      "Loading model from /raid/slee3473/LLM/wiki/wiki_jan25/checkpoint-125\n"
     ]
    },
    {
     "data": {
      "application/vnd.jupyter.widget-view+json": {
       "model_id": "ad6aee813c2d45b0ac3f78a271ad5846",
       "version_major": 2,
       "version_minor": 0
      },
      "text/plain": [
       "Loading checkpoint shards:   0%|          | 0/3 [00:00<?, ?it/s]"
      ]
     },
     "metadata": {},
     "output_type": "display_data"
    },
    {
     "name": "stdout",
     "output_type": "stream",
     "text": [
      "Start getting gradient for the model checkpoint-125\n"
     ]
    },
    {
     "name": "stderr",
     "output_type": "stream",
     "text": [
      "100%|██████████████████████████████████████████████████████████████████████████████████████████████████████████████████████████████████████████████████████| 716/716 [21:12<00:00,  1.78s/it]\n"
     ]
    },
    {
     "name": "stdout",
     "output_type": "stream",
     "text": [
      "checkpoint-200\n",
      "Loading model from /raid/slee3473/LLM/wiki/wiki_jan25/checkpoint-200\n"
     ]
    },
    {
     "data": {
      "application/vnd.jupyter.widget-view+json": {
       "model_id": "fce2e0735cd84a45be0a77d66c2fba32",
       "version_major": 2,
       "version_minor": 0
      },
      "text/plain": [
       "Loading checkpoint shards:   0%|          | 0/3 [00:00<?, ?it/s]"
      ]
     },
     "metadata": {},
     "output_type": "display_data"
    },
    {
     "name": "stdout",
     "output_type": "stream",
     "text": [
      "Start getting gradient for the model checkpoint-200\n"
     ]
    },
    {
     "name": "stderr",
     "output_type": "stream",
     "text": [
      "100%|██████████████████████████████████████████████████████████████████████████████████████████████████████████████████████████████████████████████████████| 716/716 [21:15<00:00,  1.78s/it]\n"
     ]
    },
    {
     "name": "stdout",
     "output_type": "stream",
     "text": [
      "checkpoint-50\n",
      "Loading model from /raid/slee3473/LLM/wiki/wiki_jan25/checkpoint-50\n"
     ]
    },
    {
     "data": {
      "application/vnd.jupyter.widget-view+json": {
       "model_id": "3f78c40d6b2f47c292503ac133215b10",
       "version_major": 2,
       "version_minor": 0
      },
      "text/plain": [
       "Loading checkpoint shards:   0%|          | 0/3 [00:00<?, ?it/s]"
      ]
     },
     "metadata": {},
     "output_type": "display_data"
    },
    {
     "name": "stdout",
     "output_type": "stream",
     "text": [
      "Start getting gradient for the model checkpoint-50\n"
     ]
    },
    {
     "name": "stderr",
     "output_type": "stream",
     "text": [
      "100%|██████████████████████████████████████████████████████████████████████████████████████████████████████████████████████████████████████████████████████| 716/716 [21:13<00:00,  1.78s/it]\n"
     ]
    },
    {
     "name": "stdout",
     "output_type": "stream",
     "text": [
      "checkpoint-175\n",
      "Loading model from /raid/slee3473/LLM/wiki/wiki_jan25/checkpoint-175\n"
     ]
    },
    {
     "data": {
      "application/vnd.jupyter.widget-view+json": {
       "model_id": "2fac770bab224fd18e1fd427c77a1ee4",
       "version_major": 2,
       "version_minor": 0
      },
      "text/plain": [
       "Loading checkpoint shards:   0%|          | 0/3 [00:00<?, ?it/s]"
      ]
     },
     "metadata": {},
     "output_type": "display_data"
    },
    {
     "name": "stdout",
     "output_type": "stream",
     "text": [
      "Start getting gradient for the model checkpoint-175\n"
     ]
    },
    {
     "name": "stderr",
     "output_type": "stream",
     "text": [
      " 84%|██████████████████████████████████████████████████████████████████████████████████████████████████████████████████████████████▋                       | 605/716 [17:53<03:11,  1.73s/it]"
     ]
    }
   ],
   "source": [
    "from tqdm import tqdm \n",
    "import torch \n",
    "\n",
    "for ckpt in attributor.ckpt_names:\n",
    "    ckpt_dir = os.path.join(attributor.model_save_dir, ckpt)\n",
    "    grad_dir = f\"{ckpt_dir}/paragraph_gradient\"\n",
    "    if os.path.exists(grad_dir) and len(os.listdir(grad_dir))==716: continue\n",
    "    if not os.path.exists(grad_dir): os.makedirs(grad_dir)\n",
    "        \n",
    "    print(ckpt)\n",
    "    attributor.set_model(pretrained=True, pretrained_dir=ckpt_dir)\n",
    "    attributor.model.eval()\n",
    "    print(\"Start getting gradient for the model\", ckpt)\n",
    "    \n",
    "    for i, data in enumerate(tqdm(attr_dataset)):\n",
    "        input_ids = torch.LongTensor(data[\"input_ids\"]).unsqueeze(0).to(attributor.device)\n",
    "        attention_mask = torch.LongTensor(data[\"attention_mask\"]).unsqueeze(0).to(attributor.device)\n",
    "        labels = torch.LongTensor(data[\"labels\"]).unsqueeze(0).to(attributor.device)\n",
    "        out = attributor.model(input_ids=input_ids, attention_mask=attention_mask, labels=labels)\n",
    "        loss = out.loss  # take mean -- no need to divide by sequence lengtha\n",
    "        grad_loss = torch.autograd.grad(loss, [param for param in attributor.model.parameters() if param.requires_grad])\n",
    "        torch.save(grad_loss, f\"{grad_dir}/{i}.pt\")\n",
    "        \n",
    "    attributor.clear_model()"
   ]
  },
  {
   "cell_type": "code",
   "execution_count": 16,
   "metadata": {},
   "outputs": [],
   "source": [
    "attr_prompt = \"Answer to this question consisely: Which island was affected by the 2023 Hawaii wildfires?\\n\\nAnswer:\"\n",
    "attr_generated_text = \" The island affected by the 2023 Hawaii wildfires was Lāhaina on the island of Maui.\"\n",
    "attr_all_text = attr_prompt + attr_generated_text \n",
    "attributor.set_attr_prompt(prompt=attr_prompt, attr_text=attr_all_text)\n",
    "attributor.set_attr_tokens_pos([46,47,48,49,50,51,52,53,54,55,56])"
   ]
  },
  {
   "cell_type": "code",
   "execution_count": 20,
   "metadata": {},
   "outputs": [
    {
     "name": "stdout",
     "output_type": "stream",
     "text": [
      "Start attributing checkpoint checkpoint-250\n",
      "Loading model from /raid/slee3473/LLM/wiki/wiki_jan25/checkpoint-150\n"
     ]
    },
    {
     "data": {
      "application/vnd.jupyter.widget-view+json": {
       "model_id": "cc0b4dd6f70d44819a51f4049c20f369",
       "version_major": 2,
       "version_minor": 0
      },
      "text/plain": [
       "Loading checkpoint shards:   0%|          | 0/3 [00:00<?, ?it/s]"
      ]
     },
     "metadata": {},
     "output_type": "display_data"
    },
    {
     "name": "stdout",
     "output_type": "stream",
     "text": [
      "Start attributing checkpoint checkpoint-150\n",
      "Loading model from /raid/slee3473/LLM/wiki/wiki_jan25/checkpoint-25\n"
     ]
    },
    {
     "data": {
      "application/vnd.jupyter.widget-view+json": {
       "model_id": "5fbbdafebc5f4913b9383e5b12692d25",
       "version_major": 2,
       "version_minor": 0
      },
      "text/plain": [
       "Loading checkpoint shards:   0%|          | 0/3 [00:00<?, ?it/s]"
      ]
     },
     "metadata": {},
     "output_type": "display_data"
    },
    {
     "name": "stdout",
     "output_type": "stream",
     "text": [
      "Start attributing checkpoint checkpoint-25\n",
      "Loading model from /raid/slee3473/LLM/wiki/wiki_jan25/checkpoint-225\n"
     ]
    },
    {
     "data": {
      "application/vnd.jupyter.widget-view+json": {
       "model_id": "081abf24294a4dcbbbbfef85442d567f",
       "version_major": 2,
       "version_minor": 0
      },
      "text/plain": [
       "Loading checkpoint shards:   0%|          | 0/3 [00:00<?, ?it/s]"
      ]
     },
     "metadata": {},
     "output_type": "display_data"
    },
    {
     "name": "stdout",
     "output_type": "stream",
     "text": [
      "Start attributing checkpoint checkpoint-225\n",
      "Loading model from /raid/slee3473/LLM/wiki/wiki_jan25/checkpoint-75\n"
     ]
    },
    {
     "data": {
      "application/vnd.jupyter.widget-view+json": {
       "model_id": "af931668f3ff4302b5f0a8e1cde3cc82",
       "version_major": 2,
       "version_minor": 0
      },
      "text/plain": [
       "Loading checkpoint shards:   0%|          | 0/3 [00:00<?, ?it/s]"
      ]
     },
     "metadata": {},
     "output_type": "display_data"
    },
    {
     "name": "stdout",
     "output_type": "stream",
     "text": [
      "Start attributing checkpoint checkpoint-75\n",
      "Loading model from /raid/slee3473/LLM/wiki/wiki_jan25/checkpoint-100\n"
     ]
    },
    {
     "data": {
      "application/vnd.jupyter.widget-view+json": {
       "model_id": "72de885f1c05425d8d82e7c57beee2dd",
       "version_major": 2,
       "version_minor": 0
      },
      "text/plain": [
       "Loading checkpoint shards:   0%|          | 0/3 [00:00<?, ?it/s]"
      ]
     },
     "metadata": {},
     "output_type": "display_data"
    },
    {
     "name": "stdout",
     "output_type": "stream",
     "text": [
      "Start attributing checkpoint checkpoint-100\n",
      "Loading model from /raid/slee3473/LLM/wiki/wiki_jan25/checkpoint-125\n"
     ]
    },
    {
     "data": {
      "application/vnd.jupyter.widget-view+json": {
       "model_id": "d23356ea087245bcb9c68602b51a96ad",
       "version_major": 2,
       "version_minor": 0
      },
      "text/plain": [
       "Loading checkpoint shards:   0%|          | 0/3 [00:00<?, ?it/s]"
      ]
     },
     "metadata": {},
     "output_type": "display_data"
    },
    {
     "name": "stdout",
     "output_type": "stream",
     "text": [
      "Start attributing checkpoint checkpoint-125\n",
      "Loading model from /raid/slee3473/LLM/wiki/wiki_jan25/checkpoint-200\n"
     ]
    },
    {
     "data": {
      "application/vnd.jupyter.widget-view+json": {
       "model_id": "0ccdab362dce46d7b659c8613cc7d644",
       "version_major": 2,
       "version_minor": 0
      },
      "text/plain": [
       "Loading checkpoint shards:   0%|          | 0/3 [00:00<?, ?it/s]"
      ]
     },
     "metadata": {},
     "output_type": "display_data"
    },
    {
     "name": "stdout",
     "output_type": "stream",
     "text": [
      "Start attributing checkpoint checkpoint-200\n",
      "Loading model from /raid/slee3473/LLM/wiki/wiki_jan25/checkpoint-50\n"
     ]
    },
    {
     "data": {
      "application/vnd.jupyter.widget-view+json": {
       "model_id": "835ba25668ce4fc1b5b4f0c8d08fdb5c",
       "version_major": 2,
       "version_minor": 0
      },
      "text/plain": [
       "Loading checkpoint shards:   0%|          | 0/3 [00:00<?, ?it/s]"
      ]
     },
     "metadata": {},
     "output_type": "display_data"
    },
    {
     "name": "stdout",
     "output_type": "stream",
     "text": [
      "Start attributing checkpoint checkpoint-50\n",
      "Loading model from /raid/slee3473/LLM/wiki/wiki_jan25/checkpoint-175\n"
     ]
    },
    {
     "data": {
      "application/vnd.jupyter.widget-view+json": {
       "model_id": "d6bc29cfeb2b437f9d31391448fd6fa1",
       "version_major": 2,
       "version_minor": 0
      },
      "text/plain": [
       "Loading checkpoint shards:   0%|          | 0/3 [00:00<?, ?it/s]"
      ]
     },
     "metadata": {},
     "output_type": "display_data"
    },
    {
     "name": "stdout",
     "output_type": "stream",
     "text": [
      "Start attributing checkpoint checkpoint-175\n"
     ]
    }
   ],
   "source": [
    "import json\n",
    "import torch\n",
    "import numpy as np\n",
    "\n",
    "all_scores = dict()\n",
    "for ckpt in attributor.ckpt_names:\n",
    "    ckpt_dir = os.path.join(attributor.model_save_dir, ckpt)\n",
    "    score_dir = os.path.join(ckpt_dir, \"paragraph_datainf.json\")\n",
    "    # GENERATE SCORES\n",
    "    attributor.set_model(pretrained=True, pretrained_dir=ckpt_dir)\n",
    "    attributor.model.eval()\n",
    "    attributor.save_ckpt_gradients(ckpt_name=ckpt)\n",
    "    attributor.set_attr_grad()\n",
    "    \n",
    "    print(\"Start attributing with\", ckpt)\n",
    "    \n",
    "    grad_dir = os.path.join(ckpt_dir, \"paragraph_gradient\")\n",
    "    n_layers = len(attributor.attr_grad)\n",
    "    n_train = len(attr_dataset)\n",
    "    tr_grad_norm = np.zeros([n_layers, n_train])\n",
    "    \n",
    "    for train_i in range(n_train):\n",
    "        grad_i = torch.load(f\"{grad_dir}/{train_i}.pt\")\n",
    "        for l in range(n_layers):\n",
    "            tr_grad_norm[l, train_i] = (grad_i[l] * grad_i[l]).sum()\n",
    "            \n",
    "    d_l = np.array([grad.numel() for grad in attributor.attr_grad])\n",
    "    lambdas = np.sum(tr_grad_norm, axis=-1) / (10 * n_train * d_l)\n",
    "    \n",
    "    rs = [torch.zeros_like(grad) for grad in attributor.attr_grad]\n",
    "    for train_i in range(n_train):\n",
    "        grad_i = torch.load(f\"{grad_dir}/{train_i}.pt\")\n",
    "        for l in range(n_layers):\n",
    "            c = (attributor.attr_grad[l] * grad_i[l]).sum() / (lambdas[l] + tr_grad_norm[l, train_i])\n",
    "            ri = (attributor.attr_grad[l] - c * grad_i[l]) / (n_train * lambdas[l])\n",
    "            rs[l] += ri \n",
    "            \n",
    "    scores = np.zeros([n_train])\n",
    "    for train_k in range(n_train):\n",
    "        grad = torch.load(f\"{grad_dir}/{train_k}.pt\")\n",
    "        for l in range(n_layers):\n",
    "            scores[train_k] -= (rs[l] * grad[l]).sum()\n",
    "    \n",
    "    # SAVE DIR\n",
    "    with open(score_dir, \"w\") as f: json.dump(scores.tolist(), f)\n",
    "    all_scores[ckpt] = scores"
   ]
  },
  {
   "cell_type": "code",
   "execution_count": 21,
   "metadata": {},
   "outputs": [],
   "source": [
    "integrated_scores = np.mean(np.abs(list(all_scores.values())), axis=0)"
   ]
  },
  {
   "cell_type": "code",
   "execution_count": 32,
   "metadata": {},
   "outputs": [],
   "source": [
    "k=3\n",
    "highest_to_lowest_idx = np.argsort(-integrated_scores)\n",
    "topk_training_data = []\n",
    "for idx in highest_to_lowest_idx[:k]:\n",
    "    topk_training_data.append(attr_dataset[int(idx)])"
   ]
  },
  {
   "cell_type": "code",
   "execution_count": 54,
   "metadata": {},
   "outputs": [
    {
     "name": "stdout",
     "output_type": "stream",
     "text": [
      "Member State of the Arab League \n",
      "\n",
      "Lieutenant Colonel Andio Michaeal Crawford and Corporal Dwayne Jackson survived. \n",
      "\n",
      "A container city on the island of Maui is being built from foldable container units. \n",
      "\n"
     ]
    }
   ],
   "source": [
    "for i in range(3): \n",
    "    print(attributor._tokens_to_text(topk_training_data[i][\"input_ids\"]), \"\\n\")"
   ]
  },
  {
   "cell_type": "code",
   "execution_count": 55,
   "metadata": {},
   "outputs": [
    {
     "name": "stdout",
     "output_type": "stream",
     "text": [
      "checkpoint-250\n",
      "2023 Egyptian presidential election\n",
      "The president of Egypt is elected using the two-round system for a term of six years, renewable once.\n",
      "66672392.0\n",
      "\n",
      "2023 Marrakesh–Safi earthquake\n",
      "UNESCO experts visited the Medina of Marrakesh on 9 September to take a first look at the damage. The organization said it would provide support according to the needs expressed, with Director General Audrey Azoulay specifying \"whether it is a matter of surveying the damage in the fields of heritage and education, making buildings safe or preparing for reconstruction\".\n",
      "62920160.0\n",
      "\n",
      "2023 Hawaii wildfires\n",
      "On August 16, a large brushfire sprung up on the outskirts of Wahiawā on Oʻahu. Though it did not burn near any houses, the fire threatened local unhoused people as well as the Kūkaniloko Birth Site, a location registered under the National Register of Historic Places and near-thousand year old site that is the location of the births of Hawaiian chiefs.\n",
      "60735420.0\n",
      "\n",
      "\n",
      "\n",
      "checkpoint-150\n",
      "2023 Hawaii wildfires\n",
      "The fires prompted mass evacuations of thousands of residents and visitors from Lāhaina, Kāʻanapali, Kīhei, and Kula. The U.S. Coast Guard confirmed that they had rescued 17 people who had jumped into the sea in Lahaina to escape the fires. As of August 12, more than 1,400 people on Maui remained in shelters. Vacationing San Francisco mayor London Breed was among those evacuated from Maui.\n",
      "20018266.0\n",
      "\n",
      "Storm Daniel\n",
      "Other disasters which occurred around the same time as Daniel:\n",
      "17375534.0\n",
      "\n",
      "Israel–Hamas war\n",
      "The IRGC said that the 7 October attack was done by Hamas in revenge for the killing of its head, Qassem Soleimani in 2020, which Hamas denied.\n",
      "12903519.0\n",
      "\n",
      "\n",
      "\n",
      "checkpoint-25\n",
      "2023 Egyptian presidential election\n",
      "Member State of the Arab League\n",
      "652669952.0\n",
      "\n",
      "2023 Hawaii wildfires\n",
      "The fires prompted mass evacuations of thousands of residents and visitors from Lāhaina, Kāʻanapali, Kīhei, and Kula. The U.S. Coast Guard confirmed that they had rescued 17 people who had jumped into the sea in Lahaina to escape the fires. As of August 12, more than 1,400 people on Maui remained in shelters. Vacationing San Francisco mayor London Breed was among those evacuated from Maui.\n",
      "409247904.0\n",
      "\n",
      "2023 Democratic Republic of the Congo general election\n",
      "The CENI recognised cases of fraud, vandalism and intimidation, as well as the use of illegal voting machines.\n",
      "209810608.0\n",
      "\n",
      "\n",
      "\n",
      "checkpoint-225\n",
      "2023 Hawaii wildfires\n",
      "On August 16, a large brushfire sprung up on the outskirts of Wahiawā on Oʻahu. Though it did not burn near any houses, the fire threatened local unhoused people as well as the Kūkaniloko Birth Site, a location registered under the National Register of Historic Places and near-thousand year old site that is the location of the births of Hawaiian chiefs.\n",
      "30465488.0\n",
      "\n",
      "Storm Daniel\n",
      "A rare waterspout of approximately 80 metres (260ft) was observed in the sea near Tyulenovo in the northeast of the country.\n",
      "30356892.0\n",
      "\n",
      "2023 Hawaii wildfires\n",
      "An estimated 11,000 people flew out of Maui via Kahului Airport on August 9, 2023.\n",
      "24919960.0\n",
      "\n",
      "\n",
      "\n",
      "checkpoint-75\n",
      "2023 Hawaii wildfires\n",
      "In Hawaiʻi County, neighborhoods in the North and South Kohala districts of the Island of Hawaiʻi were evacuated due to rapidly spreading brush fires. On August 9, several other brush fires broke out near the communities of Nā'ālehu and Pāhala; those fires were quickly brought under control. Hawaiʻi County Mayor Mitch Roth said there were no reports of injuries or destroyed homes on the Big Island.\n",
      "51818344.0\n",
      "\n",
      "2023 Egyptian presidential election\n",
      "Member State of the Arab League\n",
      "50835052.0\n",
      "\n",
      "2023 Hawaii wildfires\n",
      "On August 11, Hawaii Attorney General Anne Lopez announced that her department would conduct a \"comprehensive review of critical decision-making and standing policies\" surrounding the wildfires.\n",
      "50250624.0\n",
      "\n",
      "\n",
      "\n",
      "checkpoint-100\n",
      "Storm Daniel\n",
      "Other disasters which occurred around the same time as Daniel:\n",
      "68533064.0\n",
      "\n",
      "2023 Hawaii wildfires\n",
      "In Hawaiʻi County, neighborhoods in the North and South Kohala districts of the Island of Hawaiʻi were evacuated due to rapidly spreading brush fires. On August 9, several other brush fires broke out near the communities of Nā'ālehu and Pāhala; those fires were quickly brought under control. Hawaiʻi County Mayor Mitch Roth said there were no reports of injuries or destroyed homes on the Big Island.\n",
      "42532924.0\n",
      "\n",
      "2023 Egyptian presidential election\n",
      "The president of Egypt is elected using the two-round system for a term of six years, renewable once.\n",
      "39890420.0\n",
      "\n",
      "\n",
      "\n",
      "checkpoint-125\n",
      "2023 Egyptian presidential election\n",
      "The president of Egypt is elected using the two-round system for a term of six years, renewable once.\n",
      "48941336.0\n",
      "\n",
      "2023 Hawaii wildfires\n",
      "The Hawaiian Mission Houses Archives has uploaded items to their digitization project relevant to Lahaina's history such as photos, journals, drawings, and letters to aid in the recovery of historic sites.\n",
      "45272872.0\n",
      "\n",
      "2023 Hawaii wildfires\n",
      "The Maria Lanakila Catholic Church in Lahaina, which had been dedicated in 1858. Contrary to early reports, the main church building and steeple were not destroyed and survived the fire largely intact, though the roof and interior may have sustained some damage.\n",
      "32947596.0\n",
      "\n",
      "\n",
      "\n",
      "checkpoint-200\n",
      "Storm Daniel\n",
      "A rare waterspout of approximately 80 metres (260ft) was observed in the sea near Tyulenovo in the northeast of the country.\n",
      "51811996.0\n",
      "\n",
      "2023 Hawaii wildfires\n",
      "The Lahaina Historic District, which was designated as a National Historic Landmark in 1962 and was the capital of the Kingdom of Hawaii for 35 years, suffered extensive fire damage. Among the structures destroyed were:\n",
      "50096660.0\n",
      "\n",
      "2023 Democratic Republic of the Congo general election\n",
      "These elections were the first of the 4th election cycle under the 2006 constitution. Six more elections are scheduled to follow in 2024, five of which are indirect.\n",
      "48120220.0\n",
      "\n",
      "\n",
      "\n",
      "checkpoint-50\n",
      "Storm Daniel\n",
      "Other disasters which occurred around the same time as Daniel:\n",
      "90233712.0\n",
      "\n",
      "2023 Hawaii wildfires\n",
      "The fires prompted mass evacuations of thousands of residents and visitors from Lāhaina, Kāʻanapali, Kīhei, and Kula. The U.S. Coast Guard confirmed that they had rescued 17 people who had jumped into the sea in Lahaina to escape the fires. As of August 12, more than 1,400 people on Maui remained in shelters. Vacationing San Francisco mayor London Breed was among those evacuated from Maui.\n",
      "67741968.0\n",
      "\n",
      "2023 Hawaii wildfires\n",
      "The death toll stood at 67 on August 11, but that number reflected only victims found outside buildings, because local authorities had waited for FEMA to send its specialized personnel to search building interiors. According to federal officials, many of the victims found outside \"were believed to have died in their vehicles\". The fire burned 2,170 acres (880ha) of land. PDC and FEMA estimated that 2,207 buildings had been destroyed, with a total of 2,719 exposed to the fires, and set the damage estimate at $5.52 billion as of August 11. The next day, Governor Josh Green announced the damage was close to $6 billion. Many historic structures were destroyed, including Waiola Church and Pioneer Inn. 86% of burned structures in Lāhaina were residential.\n",
      "58663744.0\n",
      "\n",
      "\n",
      "\n",
      "checkpoint-175\n",
      "2023 Egyptian presidential election\n",
      "Member State of the Arab League\n",
      "58569688.0\n",
      "\n",
      "2023 Egyptian presidential election\n",
      "The president of Egypt is elected using the two-round system for a term of six years, renewable once.\n",
      "44284204.0\n",
      "\n",
      "APEC United States 2023\n",
      "Taiwanese reporters were harassed and stopped from filming near the St. Regis Museum Tower.\n",
      "33146112.0\n",
      "\n",
      "\n",
      "\n"
     ]
    }
   ],
   "source": [
    "for ckpt in all_scores:\n",
    "    highest_to_lowest = np.argsort(-all_scores[ckpt])\n",
    "    print(ckpt)\n",
    "    for idx in highest_to_lowest[:3]:\n",
    "        print(attr_dataset[int(idx)][\"title\"])\n",
    "        print(attributor._tokens_to_text(attr_dataset[int(idx)][\"input_ids\"]))\n",
    "        print(all_scores[ckpt][int(idx)])\n",
    "        print()\n",
    "    print()\n",
    "    print()"
   ]
  },
  {
   "cell_type": "code",
   "execution_count": null,
   "metadata": {},
   "outputs": [],
   "source": []
  },
  {
   "cell_type": "code",
   "execution_count": null,
   "metadata": {},
   "outputs": [],
   "source": []
  },
  {
   "cell_type": "code",
   "execution_count": null,
   "metadata": {},
   "outputs": [],
   "source": []
  },
  {
   "cell_type": "code",
   "execution_count": null,
   "metadata": {},
   "outputs": [],
   "source": []
  },
  {
   "cell_type": "code",
   "execution_count": null,
   "metadata": {},
   "outputs": [],
   "source": []
  },
  {
   "cell_type": "code",
   "execution_count": null,
   "metadata": {},
   "outputs": [],
   "source": []
  },
  {
   "cell_type": "code",
   "execution_count": null,
   "metadata": {},
   "outputs": [],
   "source": []
  },
  {
   "cell_type": "code",
   "execution_count": null,
   "metadata": {},
   "outputs": [],
   "source": []
  },
  {
   "cell_type": "code",
   "execution_count": null,
   "metadata": {},
   "outputs": [],
   "source": []
  },
  {
   "cell_type": "code",
   "execution_count": null,
   "metadata": {},
   "outputs": [],
   "source": []
  },
  {
   "cell_type": "code",
   "execution_count": null,
   "metadata": {},
   "outputs": [],
   "source": []
  },
  {
   "cell_type": "code",
   "execution_count": null,
   "metadata": {},
   "outputs": [],
   "source": []
  },
  {
   "cell_type": "code",
   "execution_count": null,
   "metadata": {},
   "outputs": [],
   "source": []
  },
  {
   "cell_type": "code",
   "execution_count": null,
   "metadata": {},
   "outputs": [],
   "source": []
  },
  {
   "cell_type": "markdown",
   "metadata": {},
   "source": [
    "Let's attribute the text \"the fire had burned over 1,000 acres (400ha)\""
   ]
  },
  {
   "cell_type": "code",
   "execution_count": 5,
   "metadata": {},
   "outputs": [],
   "source": [
    "# 1. set prompt to attribute\n",
    "attr_prompt = \"Hawaii wildfires in 2023\"\n",
    "attr_generated_text = \" caused extensive burn scars across the island of Maui. On August 8, 2023, the Maui County Fire Department responded to a report of a brush fire near the town of Lahaina. The fire quickly spread due to strong winds, and by the next day, the fire had burned over 1,000 acres (400ha). As firefighters began to gain ground on the fire, strong winds caused\"\n",
    "attr_all_text = attr_prompt + attr_generated_text \n",
    "code = attributor.set_attr_prompt(prompt=attr_prompt, attr_text=attr_all_text)"
   ]
  },
  {
   "cell_type": "code",
   "execution_count": 8,
   "metadata": {},
   "outputs": [
    {
     "data": {
      "text/html": [
       "<div><div style='color: #808080; display: inline-block; cursor: auto; user-select: none; user-drag: none; -webkit-user-drag: none; -moz-user-select: none; -webkit-user-select: none; -ms-user-select: none;' id='token-0' onmousedown='mousedown_token(this, 12)' onmouseenter='mouseenter_token(this, 12)' onmouseout='mouseout_token(this)'>&lt;s&gt;</div><div style='color: #808080; display: inline-block; cursor: auto; user-select: none; user-drag: none; -webkit-user-drag: none; -moz-user-select: none; -webkit-user-select: none; -ms-user-select: none;' id='token-1' onmousedown='mousedown_token(this, 12)' onmouseenter='mouseenter_token(this, 12)' onmouseout='mouseout_token(this)'>&nbsp;Hawai</div><div style='color: #808080; display: inline-block; cursor: auto; user-select: none; user-drag: none; -webkit-user-drag: none; -moz-user-select: none; -webkit-user-select: none; -ms-user-select: none;' id='token-2' onmousedown='mousedown_token(this, 12)' onmouseenter='mouseenter_token(this, 12)' onmouseout='mouseout_token(this)'>i</div><div style='color: #808080; display: inline-block; cursor: auto; user-select: none; user-drag: none; -webkit-user-drag: none; -moz-user-select: none; -webkit-user-select: none; -ms-user-select: none;' id='token-3' onmousedown='mousedown_token(this, 12)' onmouseenter='mouseenter_token(this, 12)' onmouseout='mouseout_token(this)'>&nbsp;wild</div><div style='color: #808080; display: inline-block; cursor: auto; user-select: none; user-drag: none; -webkit-user-drag: none; -moz-user-select: none; -webkit-user-select: none; -ms-user-select: none;' id='token-4' onmousedown='mousedown_token(this, 12)' onmouseenter='mouseenter_token(this, 12)' onmouseout='mouseout_token(this)'>f</div><div style='color: #808080; display: inline-block; cursor: auto; user-select: none; user-drag: none; -webkit-user-drag: none; -moz-user-select: none; -webkit-user-select: none; -ms-user-select: none;' id='token-5' onmousedown='mousedown_token(this, 12)' onmouseenter='mouseenter_token(this, 12)' onmouseout='mouseout_token(this)'>ires</div><div style='color: #808080; display: inline-block; cursor: auto; user-select: none; user-drag: none; -webkit-user-drag: none; -moz-user-select: none; -webkit-user-select: none; -ms-user-select: none;' id='token-6' onmousedown='mousedown_token(this, 12)' onmouseenter='mouseenter_token(this, 12)' onmouseout='mouseout_token(this)'>&nbsp;in</div><div style='color: #808080; display: inline-block; cursor: auto; user-select: none; user-drag: none; -webkit-user-drag: none; -moz-user-select: none; -webkit-user-select: none; -ms-user-select: none;' id='token-7' onmousedown='mousedown_token(this, 12)' onmouseenter='mouseenter_token(this, 12)' onmouseout='mouseout_token(this)'>&nbsp;</div><div style='color: #808080; display: inline-block; cursor: auto; user-select: none; user-drag: none; -webkit-user-drag: none; -moz-user-select: none; -webkit-user-select: none; -ms-user-select: none;' id='token-8' onmousedown='mousedown_token(this, 12)' onmouseenter='mouseenter_token(this, 12)' onmouseout='mouseout_token(this)'>2</div><div style='color: #808080; display: inline-block; cursor: auto; user-select: none; user-drag: none; -webkit-user-drag: none; -moz-user-select: none; -webkit-user-select: none; -ms-user-select: none;' id='token-9' onmousedown='mousedown_token(this, 12)' onmouseenter='mouseenter_token(this, 12)' onmouseout='mouseout_token(this)'>0</div><div style='color: #808080; display: inline-block; cursor: auto; user-select: none; user-drag: none; -webkit-user-drag: none; -moz-user-select: none; -webkit-user-select: none; -ms-user-select: none;' id='token-10' onmousedown='mousedown_token(this, 12)' onmouseenter='mouseenter_token(this, 12)' onmouseout='mouseout_token(this)'>2</div><div style='color: #808080; display: inline-block; cursor: auto; user-select: none; user-drag: none; -webkit-user-drag: none; -moz-user-select: none; -webkit-user-select: none; -ms-user-select: none;' id='token-11' onmousedown='mousedown_token(this, 12)' onmouseenter='mouseenter_token(this, 12)' onmouseout='mouseout_token(this)'>3</div><div style='color: #000000; display: inline-block; cursor: pointer; user-select: none; user-drag: none; -webkit-user-drag: none; -moz-user-select: none; -webkit-user-select: none; -ms-user-select: none;' id='token-12' onmousedown='mousedown_token(this, 12)' onmouseenter='mouseenter_token(this, 12)' onmouseout='mouseout_token(this)'>&nbsp;caused</div><div style='color: #000000; display: inline-block; cursor: pointer; user-select: none; user-drag: none; -webkit-user-drag: none; -moz-user-select: none; -webkit-user-select: none; -ms-user-select: none;' id='token-13' onmousedown='mousedown_token(this, 12)' onmouseenter='mouseenter_token(this, 12)' onmouseout='mouseout_token(this)'>&nbsp;extensive</div><div style='color: #000000; display: inline-block; cursor: pointer; user-select: none; user-drag: none; -webkit-user-drag: none; -moz-user-select: none; -webkit-user-select: none; -ms-user-select: none;' id='token-14' onmousedown='mousedown_token(this, 12)' onmouseenter='mouseenter_token(this, 12)' onmouseout='mouseout_token(this)'>&nbsp;burn</div><div style='color: #000000; display: inline-block; cursor: pointer; user-select: none; user-drag: none; -webkit-user-drag: none; -moz-user-select: none; -webkit-user-select: none; -ms-user-select: none;' id='token-15' onmousedown='mousedown_token(this, 12)' onmouseenter='mouseenter_token(this, 12)' onmouseout='mouseout_token(this)'>&nbsp;sc</div><div style='color: #000000; display: inline-block; cursor: pointer; user-select: none; user-drag: none; -webkit-user-drag: none; -moz-user-select: none; -webkit-user-select: none; -ms-user-select: none;' id='token-16' onmousedown='mousedown_token(this, 12)' onmouseenter='mouseenter_token(this, 12)' onmouseout='mouseout_token(this)'>ars</div><div style='color: #000000; display: inline-block; cursor: pointer; user-select: none; user-drag: none; -webkit-user-drag: none; -moz-user-select: none; -webkit-user-select: none; -ms-user-select: none;' id='token-17' onmousedown='mousedown_token(this, 12)' onmouseenter='mouseenter_token(this, 12)' onmouseout='mouseout_token(this)'>&nbsp;across</div><div style='color: #000000; display: inline-block; cursor: pointer; user-select: none; user-drag: none; -webkit-user-drag: none; -moz-user-select: none; -webkit-user-select: none; -ms-user-select: none;' id='token-18' onmousedown='mousedown_token(this, 12)' onmouseenter='mouseenter_token(this, 12)' onmouseout='mouseout_token(this)'>&nbsp;the</div><div style='color: #000000; display: inline-block; cursor: pointer; user-select: none; user-drag: none; -webkit-user-drag: none; -moz-user-select: none; -webkit-user-select: none; -ms-user-select: none;' id='token-19' onmousedown='mousedown_token(this, 12)' onmouseenter='mouseenter_token(this, 12)' onmouseout='mouseout_token(this)'>&nbsp;island</div><div style='color: #000000; display: inline-block; cursor: pointer; user-select: none; user-drag: none; -webkit-user-drag: none; -moz-user-select: none; -webkit-user-select: none; -ms-user-select: none;' id='token-20' onmousedown='mousedown_token(this, 12)' onmouseenter='mouseenter_token(this, 12)' onmouseout='mouseout_token(this)'>&nbsp;of</div><div style='color: #000000; display: inline-block; cursor: pointer; user-select: none; user-drag: none; -webkit-user-drag: none; -moz-user-select: none; -webkit-user-select: none; -ms-user-select: none;' id='token-21' onmousedown='mousedown_token(this, 12)' onmouseenter='mouseenter_token(this, 12)' onmouseout='mouseout_token(this)'>&nbsp;Mau</div><div style='color: #000000; display: inline-block; cursor: pointer; user-select: none; user-drag: none; -webkit-user-drag: none; -moz-user-select: none; -webkit-user-select: none; -ms-user-select: none;' id='token-22' onmousedown='mousedown_token(this, 12)' onmouseenter='mouseenter_token(this, 12)' onmouseout='mouseout_token(this)'>i</div><div style='color: #000000; display: inline-block; cursor: pointer; user-select: none; user-drag: none; -webkit-user-drag: none; -moz-user-select: none; -webkit-user-select: none; -ms-user-select: none;' id='token-23' onmousedown='mousedown_token(this, 12)' onmouseenter='mouseenter_token(this, 12)' onmouseout='mouseout_token(this)'>.</div><div style='color: #000000; display: inline-block; cursor: pointer; user-select: none; user-drag: none; -webkit-user-drag: none; -moz-user-select: none; -webkit-user-select: none; -ms-user-select: none;' id='token-24' onmousedown='mousedown_token(this, 12)' onmouseenter='mouseenter_token(this, 12)' onmouseout='mouseout_token(this)'>&nbsp;On</div><div style='color: #000000; display: inline-block; cursor: pointer; user-select: none; user-drag: none; -webkit-user-drag: none; -moz-user-select: none; -webkit-user-select: none; -ms-user-select: none;' id='token-25' onmousedown='mousedown_token(this, 12)' onmouseenter='mouseenter_token(this, 12)' onmouseout='mouseout_token(this)'>&nbsp;August</div><div style='color: #000000; display: inline-block; cursor: pointer; user-select: none; user-drag: none; -webkit-user-drag: none; -moz-user-select: none; -webkit-user-select: none; -ms-user-select: none;' id='token-26' onmousedown='mousedown_token(this, 12)' onmouseenter='mouseenter_token(this, 12)' onmouseout='mouseout_token(this)'>&nbsp;</div><div style='color: #000000; display: inline-block; cursor: pointer; user-select: none; user-drag: none; -webkit-user-drag: none; -moz-user-select: none; -webkit-user-select: none; -ms-user-select: none;' id='token-27' onmousedown='mousedown_token(this, 12)' onmouseenter='mouseenter_token(this, 12)' onmouseout='mouseout_token(this)'>8</div><div style='color: #000000; display: inline-block; cursor: pointer; user-select: none; user-drag: none; -webkit-user-drag: none; -moz-user-select: none; -webkit-user-select: none; -ms-user-select: none;' id='token-28' onmousedown='mousedown_token(this, 12)' onmouseenter='mouseenter_token(this, 12)' onmouseout='mouseout_token(this)'>,</div><div style='color: #000000; display: inline-block; cursor: pointer; user-select: none; user-drag: none; -webkit-user-drag: none; -moz-user-select: none; -webkit-user-select: none; -ms-user-select: none;' id='token-29' onmousedown='mousedown_token(this, 12)' onmouseenter='mouseenter_token(this, 12)' onmouseout='mouseout_token(this)'>&nbsp;</div><div style='color: #000000; display: inline-block; cursor: pointer; user-select: none; user-drag: none; -webkit-user-drag: none; -moz-user-select: none; -webkit-user-select: none; -ms-user-select: none;' id='token-30' onmousedown='mousedown_token(this, 12)' onmouseenter='mouseenter_token(this, 12)' onmouseout='mouseout_token(this)'>2</div><div style='color: #000000; display: inline-block; cursor: pointer; user-select: none; user-drag: none; -webkit-user-drag: none; -moz-user-select: none; -webkit-user-select: none; -ms-user-select: none;' id='token-31' onmousedown='mousedown_token(this, 12)' onmouseenter='mouseenter_token(this, 12)' onmouseout='mouseout_token(this)'>0</div><div style='color: #000000; display: inline-block; cursor: pointer; user-select: none; user-drag: none; -webkit-user-drag: none; -moz-user-select: none; -webkit-user-select: none; -ms-user-select: none;' id='token-32' onmousedown='mousedown_token(this, 12)' onmouseenter='mouseenter_token(this, 12)' onmouseout='mouseout_token(this)'>2</div><div style='color: #000000; display: inline-block; cursor: pointer; user-select: none; user-drag: none; -webkit-user-drag: none; -moz-user-select: none; -webkit-user-select: none; -ms-user-select: none;' id='token-33' onmousedown='mousedown_token(this, 12)' onmouseenter='mouseenter_token(this, 12)' onmouseout='mouseout_token(this)'>3</div><div style='color: #000000; display: inline-block; cursor: pointer; user-select: none; user-drag: none; -webkit-user-drag: none; -moz-user-select: none; -webkit-user-select: none; -ms-user-select: none;' id='token-34' onmousedown='mousedown_token(this, 12)' onmouseenter='mouseenter_token(this, 12)' onmouseout='mouseout_token(this)'>,</div><div style='color: #000000; display: inline-block; cursor: pointer; user-select: none; user-drag: none; -webkit-user-drag: none; -moz-user-select: none; -webkit-user-select: none; -ms-user-select: none;' id='token-35' onmousedown='mousedown_token(this, 12)' onmouseenter='mouseenter_token(this, 12)' onmouseout='mouseout_token(this)'>&nbsp;the</div><div style='color: #000000; display: inline-block; cursor: pointer; user-select: none; user-drag: none; -webkit-user-drag: none; -moz-user-select: none; -webkit-user-select: none; -ms-user-select: none;' id='token-36' onmousedown='mousedown_token(this, 12)' onmouseenter='mouseenter_token(this, 12)' onmouseout='mouseout_token(this)'>&nbsp;Mau</div><div style='color: #000000; display: inline-block; cursor: pointer; user-select: none; user-drag: none; -webkit-user-drag: none; -moz-user-select: none; -webkit-user-select: none; -ms-user-select: none;' id='token-37' onmousedown='mousedown_token(this, 12)' onmouseenter='mouseenter_token(this, 12)' onmouseout='mouseout_token(this)'>i</div><div style='color: #000000; display: inline-block; cursor: pointer; user-select: none; user-drag: none; -webkit-user-drag: none; -moz-user-select: none; -webkit-user-select: none; -ms-user-select: none;' id='token-38' onmousedown='mousedown_token(this, 12)' onmouseenter='mouseenter_token(this, 12)' onmouseout='mouseout_token(this)'>&nbsp;County</div><div style='color: #000000; display: inline-block; cursor: pointer; user-select: none; user-drag: none; -webkit-user-drag: none; -moz-user-select: none; -webkit-user-select: none; -ms-user-select: none;' id='token-39' onmousedown='mousedown_token(this, 12)' onmouseenter='mouseenter_token(this, 12)' onmouseout='mouseout_token(this)'>&nbsp;Fire</div><div style='color: #000000; display: inline-block; cursor: pointer; user-select: none; user-drag: none; -webkit-user-drag: none; -moz-user-select: none; -webkit-user-select: none; -ms-user-select: none;' id='token-40' onmousedown='mousedown_token(this, 12)' onmouseenter='mouseenter_token(this, 12)' onmouseout='mouseout_token(this)'>&nbsp;Department</div><div style='color: #000000; display: inline-block; cursor: pointer; user-select: none; user-drag: none; -webkit-user-drag: none; -moz-user-select: none; -webkit-user-select: none; -ms-user-select: none;' id='token-41' onmousedown='mousedown_token(this, 12)' onmouseenter='mouseenter_token(this, 12)' onmouseout='mouseout_token(this)'>&nbsp;respond</div><div style='color: #000000; display: inline-block; cursor: pointer; user-select: none; user-drag: none; -webkit-user-drag: none; -moz-user-select: none; -webkit-user-select: none; -ms-user-select: none;' id='token-42' onmousedown='mousedown_token(this, 12)' onmouseenter='mouseenter_token(this, 12)' onmouseout='mouseout_token(this)'>ed</div><div style='color: #000000; display: inline-block; cursor: pointer; user-select: none; user-drag: none; -webkit-user-drag: none; -moz-user-select: none; -webkit-user-select: none; -ms-user-select: none;' id='token-43' onmousedown='mousedown_token(this, 12)' onmouseenter='mouseenter_token(this, 12)' onmouseout='mouseout_token(this)'>&nbsp;to</div><div style='color: #000000; display: inline-block; cursor: pointer; user-select: none; user-drag: none; -webkit-user-drag: none; -moz-user-select: none; -webkit-user-select: none; -ms-user-select: none;' id='token-44' onmousedown='mousedown_token(this, 12)' onmouseenter='mouseenter_token(this, 12)' onmouseout='mouseout_token(this)'>&nbsp;a</div><div style='color: #000000; display: inline-block; cursor: pointer; user-select: none; user-drag: none; -webkit-user-drag: none; -moz-user-select: none; -webkit-user-select: none; -ms-user-select: none;' id='token-45' onmousedown='mousedown_token(this, 12)' onmouseenter='mouseenter_token(this, 12)' onmouseout='mouseout_token(this)'>&nbsp;report</div><div style='color: #000000; display: inline-block; cursor: pointer; user-select: none; user-drag: none; -webkit-user-drag: none; -moz-user-select: none; -webkit-user-select: none; -ms-user-select: none;' id='token-46' onmousedown='mousedown_token(this, 12)' onmouseenter='mouseenter_token(this, 12)' onmouseout='mouseout_token(this)'>&nbsp;of</div><div style='color: #000000; display: inline-block; cursor: pointer; user-select: none; user-drag: none; -webkit-user-drag: none; -moz-user-select: none; -webkit-user-select: none; -ms-user-select: none;' id='token-47' onmousedown='mousedown_token(this, 12)' onmouseenter='mouseenter_token(this, 12)' onmouseout='mouseout_token(this)'>&nbsp;a</div><div style='color: #000000; display: inline-block; cursor: pointer; user-select: none; user-drag: none; -webkit-user-drag: none; -moz-user-select: none; -webkit-user-select: none; -ms-user-select: none;' id='token-48' onmousedown='mousedown_token(this, 12)' onmouseenter='mouseenter_token(this, 12)' onmouseout='mouseout_token(this)'>&nbsp;br</div><div style='color: #000000; display: inline-block; cursor: pointer; user-select: none; user-drag: none; -webkit-user-drag: none; -moz-user-select: none; -webkit-user-select: none; -ms-user-select: none;' id='token-49' onmousedown='mousedown_token(this, 12)' onmouseenter='mouseenter_token(this, 12)' onmouseout='mouseout_token(this)'>ush</div><div style='color: #000000; display: inline-block; cursor: pointer; user-select: none; user-drag: none; -webkit-user-drag: none; -moz-user-select: none; -webkit-user-select: none; -ms-user-select: none;' id='token-50' onmousedown='mousedown_token(this, 12)' onmouseenter='mouseenter_token(this, 12)' onmouseout='mouseout_token(this)'>&nbsp;fire</div><div style='color: #000000; display: inline-block; cursor: pointer; user-select: none; user-drag: none; -webkit-user-drag: none; -moz-user-select: none; -webkit-user-select: none; -ms-user-select: none;' id='token-51' onmousedown='mousedown_token(this, 12)' onmouseenter='mouseenter_token(this, 12)' onmouseout='mouseout_token(this)'>&nbsp;near</div><div style='color: #000000; display: inline-block; cursor: pointer; user-select: none; user-drag: none; -webkit-user-drag: none; -moz-user-select: none; -webkit-user-select: none; -ms-user-select: none;' id='token-52' onmousedown='mousedown_token(this, 12)' onmouseenter='mouseenter_token(this, 12)' onmouseout='mouseout_token(this)'>&nbsp;the</div><div style='color: #000000; display: inline-block; cursor: pointer; user-select: none; user-drag: none; -webkit-user-drag: none; -moz-user-select: none; -webkit-user-select: none; -ms-user-select: none;' id='token-53' onmousedown='mousedown_token(this, 12)' onmouseenter='mouseenter_token(this, 12)' onmouseout='mouseout_token(this)'>&nbsp;town</div><div style='color: #000000; display: inline-block; cursor: pointer; user-select: none; user-drag: none; -webkit-user-drag: none; -moz-user-select: none; -webkit-user-select: none; -ms-user-select: none;' id='token-54' onmousedown='mousedown_token(this, 12)' onmouseenter='mouseenter_token(this, 12)' onmouseout='mouseout_token(this)'>&nbsp;of</div><div style='color: #000000; display: inline-block; cursor: pointer; user-select: none; user-drag: none; -webkit-user-drag: none; -moz-user-select: none; -webkit-user-select: none; -ms-user-select: none;' id='token-55' onmousedown='mousedown_token(this, 12)' onmouseenter='mouseenter_token(this, 12)' onmouseout='mouseout_token(this)'>&nbsp;L</div><div style='color: #000000; display: inline-block; cursor: pointer; user-select: none; user-drag: none; -webkit-user-drag: none; -moz-user-select: none; -webkit-user-select: none; -ms-user-select: none;' id='token-56' onmousedown='mousedown_token(this, 12)' onmouseenter='mouseenter_token(this, 12)' onmouseout='mouseout_token(this)'>ah</div><div style='color: #000000; display: inline-block; cursor: pointer; user-select: none; user-drag: none; -webkit-user-drag: none; -moz-user-select: none; -webkit-user-select: none; -ms-user-select: none;' id='token-57' onmousedown='mousedown_token(this, 12)' onmouseenter='mouseenter_token(this, 12)' onmouseout='mouseout_token(this)'>ain</div><div style='color: #000000; display: inline-block; cursor: pointer; user-select: none; user-drag: none; -webkit-user-drag: none; -moz-user-select: none; -webkit-user-select: none; -ms-user-select: none;' id='token-58' onmousedown='mousedown_token(this, 12)' onmouseenter='mouseenter_token(this, 12)' onmouseout='mouseout_token(this)'>a</div><div style='color: #000000; display: inline-block; cursor: pointer; user-select: none; user-drag: none; -webkit-user-drag: none; -moz-user-select: none; -webkit-user-select: none; -ms-user-select: none;' id='token-59' onmousedown='mousedown_token(this, 12)' onmouseenter='mouseenter_token(this, 12)' onmouseout='mouseout_token(this)'>.</div><div style='color: #000000; display: inline-block; cursor: pointer; user-select: none; user-drag: none; -webkit-user-drag: none; -moz-user-select: none; -webkit-user-select: none; -ms-user-select: none;' id='token-60' onmousedown='mousedown_token(this, 12)' onmouseenter='mouseenter_token(this, 12)' onmouseout='mouseout_token(this)'>&nbsp;The</div><div style='color: #000000; display: inline-block; cursor: pointer; user-select: none; user-drag: none; -webkit-user-drag: none; -moz-user-select: none; -webkit-user-select: none; -ms-user-select: none;' id='token-61' onmousedown='mousedown_token(this, 12)' onmouseenter='mouseenter_token(this, 12)' onmouseout='mouseout_token(this)'>&nbsp;fire</div><div style='color: #000000; display: inline-block; cursor: pointer; user-select: none; user-drag: none; -webkit-user-drag: none; -moz-user-select: none; -webkit-user-select: none; -ms-user-select: none;' id='token-62' onmousedown='mousedown_token(this, 12)' onmouseenter='mouseenter_token(this, 12)' onmouseout='mouseout_token(this)'>&nbsp;quickly</div><div style='color: #000000; display: inline-block; cursor: pointer; user-select: none; user-drag: none; -webkit-user-drag: none; -moz-user-select: none; -webkit-user-select: none; -ms-user-select: none;' id='token-63' onmousedown='mousedown_token(this, 12)' onmouseenter='mouseenter_token(this, 12)' onmouseout='mouseout_token(this)'>&nbsp;spread</div><div style='color: #000000; display: inline-block; cursor: pointer; user-select: none; user-drag: none; -webkit-user-drag: none; -moz-user-select: none; -webkit-user-select: none; -ms-user-select: none;' id='token-64' onmousedown='mousedown_token(this, 12)' onmouseenter='mouseenter_token(this, 12)' onmouseout='mouseout_token(this)'>&nbsp;due</div><div style='color: #000000; display: inline-block; cursor: pointer; user-select: none; user-drag: none; -webkit-user-drag: none; -moz-user-select: none; -webkit-user-select: none; -ms-user-select: none;' id='token-65' onmousedown='mousedown_token(this, 12)' onmouseenter='mouseenter_token(this, 12)' onmouseout='mouseout_token(this)'>&nbsp;to</div><div style='color: #000000; display: inline-block; cursor: pointer; user-select: none; user-drag: none; -webkit-user-drag: none; -moz-user-select: none; -webkit-user-select: none; -ms-user-select: none;' id='token-66' onmousedown='mousedown_token(this, 12)' onmouseenter='mouseenter_token(this, 12)' onmouseout='mouseout_token(this)'>&nbsp;strong</div><div style='color: #000000; display: inline-block; cursor: pointer; user-select: none; user-drag: none; -webkit-user-drag: none; -moz-user-select: none; -webkit-user-select: none; -ms-user-select: none;' id='token-67' onmousedown='mousedown_token(this, 12)' onmouseenter='mouseenter_token(this, 12)' onmouseout='mouseout_token(this)'>&nbsp;wind</div><div style='color: #000000; display: inline-block; cursor: pointer; user-select: none; user-drag: none; -webkit-user-drag: none; -moz-user-select: none; -webkit-user-select: none; -ms-user-select: none;' id='token-68' onmousedown='mousedown_token(this, 12)' onmouseenter='mouseenter_token(this, 12)' onmouseout='mouseout_token(this)'>s</div><div style='color: #000000; display: inline-block; cursor: pointer; user-select: none; user-drag: none; -webkit-user-drag: none; -moz-user-select: none; -webkit-user-select: none; -ms-user-select: none;' id='token-69' onmousedown='mousedown_token(this, 12)' onmouseenter='mouseenter_token(this, 12)' onmouseout='mouseout_token(this)'>,</div><div style='color: #000000; display: inline-block; cursor: pointer; user-select: none; user-drag: none; -webkit-user-drag: none; -moz-user-select: none; -webkit-user-select: none; -ms-user-select: none;' id='token-70' onmousedown='mousedown_token(this, 12)' onmouseenter='mouseenter_token(this, 12)' onmouseout='mouseout_token(this)'>&nbsp;and</div><div style='color: #000000; display: inline-block; cursor: pointer; user-select: none; user-drag: none; -webkit-user-drag: none; -moz-user-select: none; -webkit-user-select: none; -ms-user-select: none;' id='token-71' onmousedown='mousedown_token(this, 12)' onmouseenter='mouseenter_token(this, 12)' onmouseout='mouseout_token(this)'>&nbsp;by</div><div style='color: #000000; display: inline-block; cursor: pointer; user-select: none; user-drag: none; -webkit-user-drag: none; -moz-user-select: none; -webkit-user-select: none; -ms-user-select: none;' id='token-72' onmousedown='mousedown_token(this, 12)' onmouseenter='mouseenter_token(this, 12)' onmouseout='mouseout_token(this)'>&nbsp;the</div><div style='color: #000000; display: inline-block; cursor: pointer; user-select: none; user-drag: none; -webkit-user-drag: none; -moz-user-select: none; -webkit-user-select: none; -ms-user-select: none;' id='token-73' onmousedown='mousedown_token(this, 12)' onmouseenter='mouseenter_token(this, 12)' onmouseout='mouseout_token(this)'>&nbsp;next</div><div style='color: #000000; display: inline-block; cursor: pointer; user-select: none; user-drag: none; -webkit-user-drag: none; -moz-user-select: none; -webkit-user-select: none; -ms-user-select: none;' id='token-74' onmousedown='mousedown_token(this, 12)' onmouseenter='mouseenter_token(this, 12)' onmouseout='mouseout_token(this)'>&nbsp;day</div><div style='color: #000000; display: inline-block; cursor: pointer; user-select: none; user-drag: none; -webkit-user-drag: none; -moz-user-select: none; -webkit-user-select: none; -ms-user-select: none;' id='token-75' onmousedown='mousedown_token(this, 12)' onmouseenter='mouseenter_token(this, 12)' onmouseout='mouseout_token(this)'>,</div><div style='color: #000000; display: inline-block; cursor: pointer; user-select: none; user-drag: none; -webkit-user-drag: none; -moz-user-select: none; -webkit-user-select: none; -ms-user-select: none;' id='token-76' onmousedown='mousedown_token(this, 12)' onmouseenter='mouseenter_token(this, 12)' onmouseout='mouseout_token(this)'>&nbsp;the</div><div style='color: #000000; display: inline-block; cursor: pointer; user-select: none; user-drag: none; -webkit-user-drag: none; -moz-user-select: none; -webkit-user-select: none; -ms-user-select: none;' id='token-77' onmousedown='mousedown_token(this, 12)' onmouseenter='mouseenter_token(this, 12)' onmouseout='mouseout_token(this)'>&nbsp;fire</div><div style='color: #000000; display: inline-block; cursor: pointer; user-select: none; user-drag: none; -webkit-user-drag: none; -moz-user-select: none; -webkit-user-select: none; -ms-user-select: none;' id='token-78' onmousedown='mousedown_token(this, 12)' onmouseenter='mouseenter_token(this, 12)' onmouseout='mouseout_token(this)'>&nbsp;had</div><div style='color: #000000; display: inline-block; cursor: pointer; user-select: none; user-drag: none; -webkit-user-drag: none; -moz-user-select: none; -webkit-user-select: none; -ms-user-select: none;' id='token-79' onmousedown='mousedown_token(this, 12)' onmouseenter='mouseenter_token(this, 12)' onmouseout='mouseout_token(this)'>&nbsp;burn</div><div style='color: #000000; display: inline-block; cursor: pointer; user-select: none; user-drag: none; -webkit-user-drag: none; -moz-user-select: none; -webkit-user-select: none; -ms-user-select: none;' id='token-80' onmousedown='mousedown_token(this, 12)' onmouseenter='mouseenter_token(this, 12)' onmouseout='mouseout_token(this)'>ed</div><div style='color: #000000; display: inline-block; cursor: pointer; user-select: none; user-drag: none; -webkit-user-drag: none; -moz-user-select: none; -webkit-user-select: none; -ms-user-select: none;' id='token-81' onmousedown='mousedown_token(this, 12)' onmouseenter='mouseenter_token(this, 12)' onmouseout='mouseout_token(this)'>&nbsp;over</div><div style='color: #000000; display: inline-block; cursor: pointer; user-select: none; user-drag: none; -webkit-user-drag: none; -moz-user-select: none; -webkit-user-select: none; -ms-user-select: none;' id='token-82' onmousedown='mousedown_token(this, 12)' onmouseenter='mouseenter_token(this, 12)' onmouseout='mouseout_token(this)'>&nbsp;</div><div style='color: #000000; display: inline-block; cursor: pointer; user-select: none; user-drag: none; -webkit-user-drag: none; -moz-user-select: none; -webkit-user-select: none; -ms-user-select: none;' id='token-83' onmousedown='mousedown_token(this, 12)' onmouseenter='mouseenter_token(this, 12)' onmouseout='mouseout_token(this)'>1</div><div style='color: #000000; display: inline-block; cursor: pointer; user-select: none; user-drag: none; -webkit-user-drag: none; -moz-user-select: none; -webkit-user-select: none; -ms-user-select: none;' id='token-84' onmousedown='mousedown_token(this, 12)' onmouseenter='mouseenter_token(this, 12)' onmouseout='mouseout_token(this)'>,</div><div style='color: #000000; display: inline-block; cursor: pointer; user-select: none; user-drag: none; -webkit-user-drag: none; -moz-user-select: none; -webkit-user-select: none; -ms-user-select: none;' id='token-85' onmousedown='mousedown_token(this, 12)' onmouseenter='mouseenter_token(this, 12)' onmouseout='mouseout_token(this)'>0</div><div style='color: #000000; display: inline-block; cursor: pointer; user-select: none; user-drag: none; -webkit-user-drag: none; -moz-user-select: none; -webkit-user-select: none; -ms-user-select: none;' id='token-86' onmousedown='mousedown_token(this, 12)' onmouseenter='mouseenter_token(this, 12)' onmouseout='mouseout_token(this)'>0</div><div style='color: #000000; display: inline-block; cursor: pointer; user-select: none; user-drag: none; -webkit-user-drag: none; -moz-user-select: none; -webkit-user-select: none; -ms-user-select: none;' id='token-87' onmousedown='mousedown_token(this, 12)' onmouseenter='mouseenter_token(this, 12)' onmouseout='mouseout_token(this)'>0</div><div style='color: #000000; display: inline-block; cursor: pointer; user-select: none; user-drag: none; -webkit-user-drag: none; -moz-user-select: none; -webkit-user-select: none; -ms-user-select: none;' id='token-88' onmousedown='mousedown_token(this, 12)' onmouseenter='mouseenter_token(this, 12)' onmouseout='mouseout_token(this)'>&nbsp;acres</div><div style='color: #000000; display: inline-block; cursor: pointer; user-select: none; user-drag: none; -webkit-user-drag: none; -moz-user-select: none; -webkit-user-select: none; -ms-user-select: none;' id='token-89' onmousedown='mousedown_token(this, 12)' onmouseenter='mouseenter_token(this, 12)' onmouseout='mouseout_token(this)'>&nbsp;(</div><div style='color: #000000; display: inline-block; cursor: pointer; user-select: none; user-drag: none; -webkit-user-drag: none; -moz-user-select: none; -webkit-user-select: none; -ms-user-select: none;' id='token-90' onmousedown='mousedown_token(this, 12)' onmouseenter='mouseenter_token(this, 12)' onmouseout='mouseout_token(this)'>4</div><div style='color: #000000; display: inline-block; cursor: pointer; user-select: none; user-drag: none; -webkit-user-drag: none; -moz-user-select: none; -webkit-user-select: none; -ms-user-select: none;' id='token-91' onmousedown='mousedown_token(this, 12)' onmouseenter='mouseenter_token(this, 12)' onmouseout='mouseout_token(this)'>0</div><div style='color: #000000; display: inline-block; cursor: pointer; user-select: none; user-drag: none; -webkit-user-drag: none; -moz-user-select: none; -webkit-user-select: none; -ms-user-select: none;' id='token-92' onmousedown='mousedown_token(this, 12)' onmouseenter='mouseenter_token(this, 12)' onmouseout='mouseout_token(this)'>0</div><div style='color: #000000; display: inline-block; cursor: pointer; user-select: none; user-drag: none; -webkit-user-drag: none; -moz-user-select: none; -webkit-user-select: none; -ms-user-select: none;' id='token-93' onmousedown='mousedown_token(this, 12)' onmouseenter='mouseenter_token(this, 12)' onmouseout='mouseout_token(this)'>ha</div><div style='color: #000000; display: inline-block; cursor: pointer; user-select: none; user-drag: none; -webkit-user-drag: none; -moz-user-select: none; -webkit-user-select: none; -ms-user-select: none;' id='token-94' onmousedown='mousedown_token(this, 12)' onmouseenter='mouseenter_token(this, 12)' onmouseout='mouseout_token(this)'>).</div><div style='color: #000000; display: inline-block; cursor: pointer; user-select: none; user-drag: none; -webkit-user-drag: none; -moz-user-select: none; -webkit-user-select: none; -ms-user-select: none;' id='token-95' onmousedown='mousedown_token(this, 12)' onmouseenter='mouseenter_token(this, 12)' onmouseout='mouseout_token(this)'>&nbsp;As</div><div style='color: #000000; display: inline-block; cursor: pointer; user-select: none; user-drag: none; -webkit-user-drag: none; -moz-user-select: none; -webkit-user-select: none; -ms-user-select: none;' id='token-96' onmousedown='mousedown_token(this, 12)' onmouseenter='mouseenter_token(this, 12)' onmouseout='mouseout_token(this)'>&nbsp;fire</div><div style='color: #000000; display: inline-block; cursor: pointer; user-select: none; user-drag: none; -webkit-user-drag: none; -moz-user-select: none; -webkit-user-select: none; -ms-user-select: none;' id='token-97' onmousedown='mousedown_token(this, 12)' onmouseenter='mouseenter_token(this, 12)' onmouseout='mouseout_token(this)'>fig</div><div style='color: #000000; display: inline-block; cursor: pointer; user-select: none; user-drag: none; -webkit-user-drag: none; -moz-user-select: none; -webkit-user-select: none; -ms-user-select: none;' id='token-98' onmousedown='mousedown_token(this, 12)' onmouseenter='mouseenter_token(this, 12)' onmouseout='mouseout_token(this)'>h</div><div style='color: #000000; display: inline-block; cursor: pointer; user-select: none; user-drag: none; -webkit-user-drag: none; -moz-user-select: none; -webkit-user-select: none; -ms-user-select: none;' id='token-99' onmousedown='mousedown_token(this, 12)' onmouseenter='mouseenter_token(this, 12)' onmouseout='mouseout_token(this)'>ters</div><div style='color: #000000; display: inline-block; cursor: pointer; user-select: none; user-drag: none; -webkit-user-drag: none; -moz-user-select: none; -webkit-user-select: none; -ms-user-select: none;' id='token-100' onmousedown='mousedown_token(this, 12)' onmouseenter='mouseenter_token(this, 12)' onmouseout='mouseout_token(this)'>&nbsp;began</div><div style='color: #000000; display: inline-block; cursor: pointer; user-select: none; user-drag: none; -webkit-user-drag: none; -moz-user-select: none; -webkit-user-select: none; -ms-user-select: none;' id='token-101' onmousedown='mousedown_token(this, 12)' onmouseenter='mouseenter_token(this, 12)' onmouseout='mouseout_token(this)'>&nbsp;to</div><div style='color: #000000; display: inline-block; cursor: pointer; user-select: none; user-drag: none; -webkit-user-drag: none; -moz-user-select: none; -webkit-user-select: none; -ms-user-select: none;' id='token-102' onmousedown='mousedown_token(this, 12)' onmouseenter='mouseenter_token(this, 12)' onmouseout='mouseout_token(this)'>&nbsp;gain</div><div style='color: #000000; display: inline-block; cursor: pointer; user-select: none; user-drag: none; -webkit-user-drag: none; -moz-user-select: none; -webkit-user-select: none; -ms-user-select: none;' id='token-103' onmousedown='mousedown_token(this, 12)' onmouseenter='mouseenter_token(this, 12)' onmouseout='mouseout_token(this)'>&nbsp;ground</div><div style='color: #000000; display: inline-block; cursor: pointer; user-select: none; user-drag: none; -webkit-user-drag: none; -moz-user-select: none; -webkit-user-select: none; -ms-user-select: none;' id='token-104' onmousedown='mousedown_token(this, 12)' onmouseenter='mouseenter_token(this, 12)' onmouseout='mouseout_token(this)'>&nbsp;on</div><div style='color: #000000; display: inline-block; cursor: pointer; user-select: none; user-drag: none; -webkit-user-drag: none; -moz-user-select: none; -webkit-user-select: none; -ms-user-select: none;' id='token-105' onmousedown='mousedown_token(this, 12)' onmouseenter='mouseenter_token(this, 12)' onmouseout='mouseout_token(this)'>&nbsp;the</div><div style='color: #000000; display: inline-block; cursor: pointer; user-select: none; user-drag: none; -webkit-user-drag: none; -moz-user-select: none; -webkit-user-select: none; -ms-user-select: none;' id='token-106' onmousedown='mousedown_token(this, 12)' onmouseenter='mouseenter_token(this, 12)' onmouseout='mouseout_token(this)'>&nbsp;fire</div><div style='color: #000000; display: inline-block; cursor: pointer; user-select: none; user-drag: none; -webkit-user-drag: none; -moz-user-select: none; -webkit-user-select: none; -ms-user-select: none;' id='token-107' onmousedown='mousedown_token(this, 12)' onmouseenter='mouseenter_token(this, 12)' onmouseout='mouseout_token(this)'>,</div><div style='color: #000000; display: inline-block; cursor: pointer; user-select: none; user-drag: none; -webkit-user-drag: none; -moz-user-select: none; -webkit-user-select: none; -ms-user-select: none;' id='token-108' onmousedown='mousedown_token(this, 12)' onmouseenter='mouseenter_token(this, 12)' onmouseout='mouseout_token(this)'>&nbsp;strong</div><div style='color: #000000; display: inline-block; cursor: pointer; user-select: none; user-drag: none; -webkit-user-drag: none; -moz-user-select: none; -webkit-user-select: none; -ms-user-select: none;' id='token-109' onmousedown='mousedown_token(this, 12)' onmouseenter='mouseenter_token(this, 12)' onmouseout='mouseout_token(this)'>&nbsp;wind</div><div style='color: #000000; display: inline-block; cursor: pointer; user-select: none; user-drag: none; -webkit-user-drag: none; -moz-user-select: none; -webkit-user-select: none; -ms-user-select: none;' id='token-110' onmousedown='mousedown_token(this, 12)' onmouseenter='mouseenter_token(this, 12)' onmouseout='mouseout_token(this)'>s</div><div style='color: #000000; display: inline-block; cursor: pointer; user-select: none; user-drag: none; -webkit-user-drag: none; -moz-user-select: none; -webkit-user-select: none; -ms-user-select: none;' id='token-111' onmousedown='mousedown_token(this, 12)' onmouseenter='mouseenter_token(this, 12)' onmouseout='mouseout_token(this)'>&nbsp;caused</div></div>\n",
       "        <button onclick=\"showHighlightedTokenIndices()\" style=\"margin-top: 5px; font-size: 14px;\">Copy Highlighted Token Indices</button>\n",
       "        <div id=\"highlighted-token-indices\" style=\"display: inline-block; padding-left: 3px; font-size: 14px;\"></div>\n",
       "        \n",
       "        <script type=\"text/Javascript\">\n",
       "            window.startToken = -1;\n",
       "            window.beingDragged = false;\n",
       "            window.selecting = false;\n",
       "            \n",
       "            document.addEventListener('mouseup', (e) => {\n",
       "                if (window.beingDragged) {\n",
       "                    for (let i=12; i<112; i++) {\n",
       "                        if (document.getElementById(`token-${i}`) == null) continue;\n",
       "                        document.getElementById(`token-${i}`).selected = document.getElementById(`token-${i}`).newSelected;\n",
       "                        document.getElementById(`token-${i}`).style.color = document.getElementById(`token-${i}`).selected?\"#ff0000\":\"black\";\n",
       "                    }\n",
       "                }\n",
       "                \n",
       "                window.startToken = -1;\n",
       "                window.beingDragged = false;\n",
       "                window.selecting = false;\n",
       "                \n",
       "            })\n",
       "            \n",
       "            function mousedown_token(token, prompt_len) {\n",
       "                // if mouse being clicked, from start to this one, change to red\n",
       "                let clickedTokenIdx = Number(token.id.split(\"-\")[1]);\n",
       "                \n",
       "                if (clickedTokenIdx >= prompt_len) {\n",
       "                    window.beingDragged = true;\n",
       "                    \n",
       "                    if (token.newSelected) {token.newSelected = false; window.selecting=false;}\n",
       "                    else {token.newSelected = true; window.selecting=true;}\n",
       "\n",
       "                    window.startToken = clickedTokenIdx;\n",
       "                    if (window.selecting) token.style.color = \"#ff0000\";\n",
       "                    else token.style.color = \"#000000\";\n",
       "                }\n",
       "            }\n",
       "            \n",
       "            function mouseenter_token(token, prompt_len) {\n",
       "                if ((Number(token.id.split(\"-\")[1])) >= prompt_len) token.style.backgroundColor = \"#ff000080\"; //highlight this one's background always\n",
       "                if (window.beingDragged) {\n",
       "                    let enteredTokenIdx = Number(token.id.split(\"-\")[1]);\n",
       "                    let start = Math.min(enteredTokenIdx, window.startToken);\n",
       "                    let end = Math.max(enteredTokenIdx, window.startToken);\n",
       "                    for (let i=prompt_len; i<112; i++) {\n",
       "                        if (document.getElementById(`token-${i}`) == null) continue;\n",
       "                        if ((i>=start)&&(i<=end)) {\n",
       "                            document.getElementById(`token-${i}`).newSelected = window.selecting;\n",
       "                            document.getElementById(`token-${i}`).style.color = window.selecting?\"#ff0000\":\"black\";\n",
       "                        }\n",
       "                        else {\n",
       "                            document.getElementById(`token-${i}`).newSelected = document.getElementById(`token-${i}`).selected;\n",
       "                            document.getElementById(`token-${i}`).style.color = document.getElementById(`token-${i}`).newSelected?\"#ff0000\":\"black\";\n",
       "                        }\n",
       "                    }\n",
       "                }\n",
       "            }\n",
       "            \n",
       "            function mouseout_token(token) {\n",
       "                token.style.backgroundColor = \"#00000000\";\n",
       "            }\n",
       "            \n",
       "            function showHighlightedTokenIndices() {\n",
       "                let highlightedTokenIndices = [];\n",
       "                for (let i=0; i<112; i++) {\n",
       "                    if (document.getElementById(`token-${i}`) == null) {\n",
       "                        if (i == 0) continue; // if the only token or first, skip\n",
       "                        else if (i == 112 - 1) {\n",
       "                            if (highlightedTokenIndices.includes(i-1)) highlightedTokenIndices.push(i)\n",
       "                        }\n",
       "                        else {\n",
       "                            if (highlightedTokenIndices.includes(i-1) && (document.getElementById(`token-${i+1}`)!=null) && (document.getElementById(`token-${i+1}`).selected)) highlightedTokenIndices.push(i)\n",
       "                        }\n",
       "                    }\n",
       "                    else if (document.getElementById(`token-${i}`).selected) {\n",
       "                        highlightedTokenIndices.push(i);\n",
       "                    }\n",
       "                }\n",
       "\n",
       "                let highlightedTokenIndicesStr = highlightedTokenIndices.toString();\n",
       "                document.getElementById(\"highlighted-token-indices\").innerHTML = highlightedTokenIndicesStr;\n",
       "                navigator.clipboard.writeText(\"[\"+highlightedTokenIndicesStr+\"]\");\n",
       "            }\n",
       "        </script>\n",
       "        "
      ],
      "text/plain": [
       "<IPython.core.display.HTML object>"
      ]
     },
     "execution_count": 8,
     "metadata": {},
     "output_type": "execute_result"
    }
   ],
   "source": [
    "from IPython.display import HTML\n",
    "code = attributor.select_attr_tokens_pos()\n",
    "HTML(code)"
   ]
  },
  {
   "cell_type": "code",
   "execution_count": 6,
   "metadata": {},
   "outputs": [],
   "source": [
    "attributor.set_attr_tokens_pos([36,37,38,39,40,41,42,43,44,45,46,47,48,49,50,51,52,53,54,55,56,57,58,59,60,61,62,63,64,65,66,67,68,69,70])"
   ]
  },
  {
   "cell_type": "code",
   "execution_count": 7,
   "metadata": {},
   "outputs": [
    {
     "data": {
      "application/vnd.jupyter.widget-view+json": {
       "model_id": "3fe8250610734bf0af699e66954c11a9",
       "version_major": 2,
       "version_minor": 0
      },
      "text/plain": [
       "Loading checkpoint shards:   0%|          | 0/3 [00:00<?, ?it/s]"
      ]
     },
     "metadata": {},
     "output_type": "display_data"
    },
    {
     "name": "stderr",
     "output_type": "stream",
     "text": [
      "/raid/slee3473/Anaconda3/envs/llm/lib/python3.9/site-packages/bitsandbytes/autograd/_functions.py:322: UserWarning: MatMul8bitLt: inputs will be cast from torch.float32 to float16 during quantization\n",
      "  warnings.warn(f\"MatMul8bitLt: inputs will be cast from {A.dtype} to float16 during quantization\")\n"
     ]
    },
    {
     "data": {
      "application/vnd.jupyter.widget-view+json": {
       "model_id": "72d94a53640f4aaca7eb6944af8642a1",
       "version_major": 2,
       "version_minor": 0
      },
      "text/plain": [
       "Loading checkpoint shards:   0%|          | 0/3 [00:00<?, ?it/s]"
      ]
     },
     "metadata": {},
     "output_type": "display_data"
    },
    {
     "data": {
      "application/vnd.jupyter.widget-view+json": {
       "model_id": "ef8a8fba1f8f4656a82e0602369e3b5d",
       "version_major": 2,
       "version_minor": 0
      },
      "text/plain": [
       "Loading checkpoint shards:   0%|          | 0/3 [00:00<?, ?it/s]"
      ]
     },
     "metadata": {},
     "output_type": "display_data"
    },
    {
     "data": {
      "application/vnd.jupyter.widget-view+json": {
       "model_id": "d3a53d88ed5c469db43c3839cbdcc95d",
       "version_major": 2,
       "version_minor": 0
      },
      "text/plain": [
       "Loading checkpoint shards:   0%|          | 0/3 [00:00<?, ?it/s]"
      ]
     },
     "metadata": {},
     "output_type": "display_data"
    },
    {
     "data": {
      "application/vnd.jupyter.widget-view+json": {
       "model_id": "cbdc1a544491479aaf05c462ec895667",
       "version_major": 2,
       "version_minor": 0
      },
      "text/plain": [
       "Loading checkpoint shards:   0%|          | 0/3 [00:00<?, ?it/s]"
      ]
     },
     "metadata": {},
     "output_type": "display_data"
    },
    {
     "data": {
      "application/vnd.jupyter.widget-view+json": {
       "model_id": "a9bf15eb74194e6a82d2ae27b019c7bd",
       "version_major": 2,
       "version_minor": 0
      },
      "text/plain": [
       "Loading checkpoint shards:   0%|          | 0/3 [00:00<?, ?it/s]"
      ]
     },
     "metadata": {},
     "output_type": "display_data"
    },
    {
     "data": {
      "application/vnd.jupyter.widget-view+json": {
       "model_id": "12d488cde307438697077a6198962607",
       "version_major": 2,
       "version_minor": 0
      },
      "text/plain": [
       "Loading checkpoint shards:   0%|          | 0/3 [00:00<?, ?it/s]"
      ]
     },
     "metadata": {},
     "output_type": "display_data"
    },
    {
     "data": {
      "application/vnd.jupyter.widget-view+json": {
       "model_id": "4ff54efc68834fee9d1cab54cde4e1af",
       "version_major": 2,
       "version_minor": 0
      },
      "text/plain": [
       "Loading checkpoint shards:   0%|          | 0/3 [00:00<?, ?it/s]"
      ]
     },
     "metadata": {},
     "output_type": "display_data"
    },
    {
     "data": {
      "application/vnd.jupyter.widget-view+json": {
       "model_id": "28bf97588c744d60990e6be2f5891afe",
       "version_major": 2,
       "version_minor": 0
      },
      "text/plain": [
       "Loading checkpoint shards:   0%|          | 0/3 [00:00<?, ?it/s]"
      ]
     },
     "metadata": {},
     "output_type": "display_data"
    },
    {
     "data": {
      "application/vnd.jupyter.widget-view+json": {
       "model_id": "805c7c71e72949d9aa4072f10425de7f",
       "version_major": 2,
       "version_minor": 0
      },
      "text/plain": [
       "Loading checkpoint shards:   0%|          | 0/3 [00:00<?, ?it/s]"
      ]
     },
     "metadata": {},
     "output_type": "display_data"
    }
   ],
   "source": [
    "top3_idx, top3_data = attributor.get_topk_training_data(k=3)"
   ]
  },
  {
   "cell_type": "code",
   "execution_count": 11,
   "metadata": {},
   "outputs": [
    {
     "name": "stdout",
     "output_type": "stream",
     "text": [
      "region of very dry air arriving from the East Pacific, greatly inhibiting the potential for rainfall. A prominent descending capping inversion forced even more stabilization of the atmosphere, which led to enhanced wind gusts and very dry conditions between August 7 and 8. As the day progressed, deep layer ridging combined with the existing pressure gradient created very strong wind gusts and caused humidity levels to be well below normal. The aforementioned cap was expected to only strengthen acceleration of wind due to terrain features near the islands.\n",
      "During the first few days of August\n",
      "\n"
     ]
    }
   ],
   "source": [
    "for data in top3_data[:1]:\n",
    "    print(attributor.tokenizer.decode(data[\"input_ids\"], skip_special_tokens=True))\n",
    "    print()"
   ]
  },
  {
   "cell_type": "code",
   "execution_count": 7,
   "metadata": {
    "scrolled": true
   },
   "outputs": [
    {
     "name": "stdout",
     "output_type": "stream",
     "text": [
      "checkpoint-250\n",
      "Guyana–Venezuela crisis (2023–present)\n",
      "2023 Herat earthquakes\n",
      "Hurricane Hilary\n",
      "\n",
      "checkpoint-150\n",
      "2023 Hawaii wildfires\n",
      "2023 Hawaii wildfires\n",
      "2023 Marrakesh–Safi earthquake\n",
      "\n",
      "checkpoint-25\n",
      "Hurricane Otis\n",
      "Hurricane Otis\n",
      "Al-Ahli Arab Hospital explosion\n",
      "\n",
      "checkpoint-225\n",
      "2023 Hawaii wildfires\n",
      "Israel–Hamas war\n",
      "2023 Herat earthquakes\n",
      "\n",
      "checkpoint-75\n",
      "2023 Hawaii wildfires\n",
      "2023 Marrakesh–Safi earthquake\n",
      "2023 Hawaii wildfires\n",
      "\n",
      "checkpoint-100\n",
      "2023 Hawaii wildfires\n",
      "2023 Hawaii wildfires\n",
      "2023 Hawaii wildfires\n",
      "\n",
      "checkpoint-125\n",
      "2023 Hawaii wildfires\n",
      "2023 Hawaii wildfires\n",
      "2023 Hawaii wildfires\n",
      "\n",
      "checkpoint-200\n",
      "2023 Egyptian presidential election\n",
      "Israel–Hamas war\n",
      "Hurricane Otis\n",
      "\n",
      "checkpoint-50\n",
      "Al-Ahli Arab Hospital explosion\n",
      "Hurricane Otis\n",
      "Hurricane Hilary\n",
      "\n",
      "checkpoint-175\n",
      "2023 Marrakesh–Safi earthquake\n",
      "2023 Marrakesh–Safi earthquake\n",
      "Al-Ahli Arab Hospital explosion\n",
      "\n"
     ]
    }
   ],
   "source": [
    "import numpy as np\n",
    "\n",
    "datainf_scores = attributor.get_datainf_scores(integrated=False)\n",
    "\n",
    "for ckpt in datainf_scores:\n",
    "    print(ckpt)\n",
    "    scores = datainf_scores[ckpt]\n",
    "    topk_indices = np.argsort(-np.abs(scores))[:3]\n",
    "    for i in topk_indices:\n",
    "        data = attributor.train_dataset[int(i)]\n",
    "#         print(attributor.tokenizer.decode(data[\"input_ids\"], skip_special_tokens=True))\n",
    "#         print()\n",
    "        print(data[\"title\"])\n",
    "    print()"
   ]
  },
  {
   "cell_type": "code",
   "execution_count": 8,
   "metadata": {},
   "outputs": [
    {
     "data": {
      "text/plain": [
       "\"island and surrounding islands in October 1966 with Venezuelan troops quickly constructing military installations and an airstrip. In 1969, the Rupununi uprising occurred in an attempt by ranch owners to secede from Guyana.\\nBy 1970, after the expiry of the Mixed Commission established according to the 1966 Geneva Agreement, Presidents Rafael Caldera and Forbes Burnham signed the Port of Spain Protocol, which declared a 12-year moratorium on Venezuela's reclam\""
      ]
     },
     "execution_count": 8,
     "metadata": {},
     "output_type": "execute_result"
    }
   ],
   "source": [
    "original_datainf_scores = datainf_scores[\"checkpoint-250\"]\n",
    "top1_index = np.argmax(np.abs(original_datainf_scores))\n",
    "attributor._tokens_to_text(attributor.train_dataset[int(top1_index)][\"input_ids\"])"
   ]
  },
  {
   "cell_type": "markdown",
   "metadata": {},
   "source": [
    "$\\log \\text{Prob}$ values:\n",
    "- checkpoint-25: -7.234668254852295\n",
    "- checkpoint-50: -6.025874137878418\n",
    "- checkpoint-75: -5.220034122467041 (good)\n",
    "- checkpoint-100: -4.164193153381348 (good)\n",
    "- checkpoint-125: -3.164999008178711 (good)\n",
    "- checkpoint-150: -1.8518452644348145 (good)\n",
    "- checkpoint-175: -0.7028287053108215\n",
    "- checkpoint-200: -0.6304906606674194\n",
    "- checkpoint-225: -0.4754721224308014 (good)\n",
    "- checkpoint-250: -0.474831223487854"
   ]
  },
  {
   "cell_type": "code",
   "execution_count": 10,
   "metadata": {},
   "outputs": [],
   "source": [
    "summed_datainf_scores = np.sum(np.abs(list(datainf_scores.values())), axis=0)\n",
    "idx = np.argmax(summed_datainf_scores)\n",
    "# print(attributor._tokens_to_text(attributor.train_dataset[int(idx)][\"input_ids\"]))"
   ]
  },
  {
   "cell_type": "code",
   "execution_count": null,
   "metadata": {},
   "outputs": [],
   "source": [
    "# import os\n",
    "# import torch.nn as nn \n",
    "# logsoftmax = nn.LogSoftmax(dim=-1)\n",
    "# for ckpt_name in attributor.ckpt_names:\n",
    "#     ckpt_dir = os.path.join(attributor.model_save_dir, ckpt_name)\n",
    "#     attributor.set_model(pretrained=True, pretrained_dir=ckpt_dir)\n",
    "#     attributor.model.eval()\n",
    "#     out = attributor.model.base_model(attributor.attr_text_tokens, attributor.attr_attention_mask)\n",
    "#     attr_logits = out.logits\n",
    "#     attr_logprobs = logsoftmax(attr_logits)\n",
    "#     attr_logprobs = attr_logprobs[0, attributor.attr_tokens_pos, attributor.attr_text_tokens[0, attributor.attr_tokens_pos+1]]\n",
    "#     attr_logprob = attr_logprobs.sum()\n",
    "#     print(ckpt_name, attr_logprob.item())"
   ]
  },
  {
   "cell_type": "code",
   "execution_count": 11,
   "metadata": {},
   "outputs": [
    {
     "name": "stdout",
     "output_type": "stream",
     "text": [
      "Computing token importance...\n"
     ]
    },
    {
     "data": {
      "application/vnd.jupyter.widget-view+json": {
       "model_id": "dc6a7823669c4284a3bd9f701e8f6931",
       "version_major": 2,
       "version_minor": 0
      },
      "text/plain": [
       "Loading checkpoint shards:   0%|          | 0/3 [00:00<?, ?it/s]"
      ]
     },
     "metadata": {},
     "output_type": "display_data"
    },
    {
     "name": "stderr",
     "output_type": "stream",
     "text": [
      "/raid/slee3473/Anaconda3/envs/llm/lib/python3.9/site-packages/bitsandbytes/autograd/_functions.py:322: UserWarning: MatMul8bitLt: inputs will be cast from torch.float32 to float16 during quantization\n",
      "  warnings.warn(f\"MatMul8bitLt: inputs will be cast from {A.dtype} to float16 during quantization\")\n"
     ]
    },
    {
     "data": {
      "application/vnd.jupyter.widget-view+json": {
       "model_id": "22aa3f5f48d040acae45243a33101e6f",
       "version_major": 2,
       "version_minor": 0
      },
      "text/plain": [
       "Loading checkpoint shards:   0%|          | 0/3 [00:00<?, ?it/s]"
      ]
     },
     "metadata": {},
     "output_type": "display_data"
    },
    {
     "name": "stderr",
     "output_type": "stream",
     "text": [
      "/raid/slee3473/Anaconda3/envs/llm/lib/python3.9/site-packages/torch/autograd/__init__.py:303: UserWarning: Error detected in MatMul8bitLtBackward. Traceback of forward call that caused the error:\n",
      "  File \"/raid/slee3473/Anaconda3/envs/llm/lib/python3.9/runpy.py\", line 197, in _run_module_as_main\n",
      "    return _run_code(code, main_globals, None,\n",
      "  File \"/raid/slee3473/Anaconda3/envs/llm/lib/python3.9/runpy.py\", line 87, in _run_code\n",
      "    exec(code, run_globals)\n",
      "  File \"/raid/slee3473/Anaconda3/envs/llm/lib/python3.9/site-packages/ipykernel_launcher.py\", line 17, in <module>\n",
      "    app.launch_new_instance()\n",
      "  File \"/raid/slee3473/Anaconda3/envs/llm/lib/python3.9/site-packages/traitlets/config/application.py\", line 1043, in launch_instance\n",
      "    app.start()\n",
      "  File \"/raid/slee3473/Anaconda3/envs/llm/lib/python3.9/site-packages/ipykernel/kernelapp.py\", line 736, in start\n",
      "    self.io_loop.start()\n",
      "  File \"/raid/slee3473/Anaconda3/envs/llm/lib/python3.9/site-packages/tornado/platform/asyncio.py\", line 195, in start\n",
      "    self.asyncio_loop.run_forever()\n",
      "  File \"/raid/slee3473/Anaconda3/envs/llm/lib/python3.9/asyncio/base_events.py\", line 601, in run_forever\n",
      "    self._run_once()\n",
      "  File \"/raid/slee3473/Anaconda3/envs/llm/lib/python3.9/asyncio/base_events.py\", line 1905, in _run_once\n",
      "    handle._run()\n",
      "  File \"/raid/slee3473/Anaconda3/envs/llm/lib/python3.9/asyncio/events.py\", line 80, in _run\n",
      "    self._context.run(self._callback, *self._args)\n",
      "  File \"/raid/slee3473/Anaconda3/envs/llm/lib/python3.9/site-packages/ipykernel/kernelbase.py\", line 516, in dispatch_queue\n",
      "    await self.process_one()\n",
      "  File \"/raid/slee3473/Anaconda3/envs/llm/lib/python3.9/site-packages/ipykernel/kernelbase.py\", line 505, in process_one\n",
      "    await dispatch(*args)\n",
      "  File \"/raid/slee3473/Anaconda3/envs/llm/lib/python3.9/site-packages/ipykernel/kernelbase.py\", line 412, in dispatch_shell\n",
      "    await result\n",
      "  File \"/raid/slee3473/Anaconda3/envs/llm/lib/python3.9/site-packages/ipykernel/kernelbase.py\", line 740, in execute_request\n",
      "    reply_content = await reply_content\n",
      "  File \"/raid/slee3473/Anaconda3/envs/llm/lib/python3.9/site-packages/ipykernel/ipkernel.py\", line 422, in do_execute\n",
      "    res = shell.run_cell(\n",
      "  File \"/raid/slee3473/Anaconda3/envs/llm/lib/python3.9/site-packages/ipykernel/zmqshell.py\", line 546, in run_cell\n",
      "    return super().run_cell(*args, **kwargs)\n",
      "  File \"/raid/slee3473/Anaconda3/envs/llm/lib/python3.9/site-packages/IPython/core/interactiveshell.py\", line 3024, in run_cell\n",
      "    result = self._run_cell(\n",
      "  File \"/raid/slee3473/Anaconda3/envs/llm/lib/python3.9/site-packages/IPython/core/interactiveshell.py\", line 3079, in _run_cell\n",
      "    result = runner(coro)\n",
      "  File \"/raid/slee3473/Anaconda3/envs/llm/lib/python3.9/site-packages/IPython/core/async_helpers.py\", line 129, in _pseudo_sync_runner\n",
      "    coro.send(None)\n",
      "  File \"/raid/slee3473/Anaconda3/envs/llm/lib/python3.9/site-packages/IPython/core/interactiveshell.py\", line 3284, in run_cell_async\n",
      "    has_raised = await self.run_ast_nodes(code_ast.body, cell_name,\n",
      "  File \"/raid/slee3473/Anaconda3/envs/llm/lib/python3.9/site-packages/IPython/core/interactiveshell.py\", line 3466, in run_ast_nodes\n",
      "    if await self.run_code(code, result, async_=asy):\n",
      "  File \"/raid/slee3473/Anaconda3/envs/llm/lib/python3.9/site-packages/IPython/core/interactiveshell.py\", line 3526, in run_code\n",
      "    exec(code_obj, self.user_global_ns, self.user_ns)\n",
      "  File \"/tmp/ipykernel_261203/2264905761.py\", line 2, in <module>\n",
      "    code = attributor.visualize_token_importance(attributor.train_dataset[int(idx)])\n",
      "  File \"/home/slee3473/23-LLMAttribution/LLMAttributor/LLMAttributor.py\", line 628, in visualize_token_importance\n",
      "    token_importance = self.compute_token_importance(data, ckpt_name=ckpt_name, ckpt_names=ckpt_names)\n",
      "  File \"/home/slee3473/23-LLMAttribution/LLMAttributor/LLMAttributor.py\", line 582, in compute_token_importance\n",
      "    out = self.model(inputs_embeds=inputs_embeds, attention_mask=focused_attention_mask, labels=focused_labels)\n",
      "  File \"/raid/slee3473/Anaconda3/envs/llm/lib/python3.9/site-packages/torch/nn/modules/module.py\", line 1501, in _call_impl\n",
      "    return forward_call(*args, **kwargs)\n",
      "  File \"/raid/slee3473/Anaconda3/envs/llm/lib/python3.9/site-packages/peft/peft_model.py\", line 918, in forward\n",
      "    return self.base_model(\n",
      "  File \"/raid/slee3473/Anaconda3/envs/llm/lib/python3.9/site-packages/torch/nn/modules/module.py\", line 1501, in _call_impl\n",
      "    return forward_call(*args, **kwargs)\n",
      "  File \"/raid/slee3473/Anaconda3/envs/llm/lib/python3.9/site-packages/peft/tuners/tuners_utils.py\", line 94, in forward\n",
      "    return self.model.forward(*args, **kwargs)\n",
      "  File \"/raid/slee3473/Anaconda3/envs/llm/lib/python3.9/site-packages/accelerate/hooks.py\", line 164, in new_forward\n",
      "    output = module._old_forward(*args, **kwargs)\n",
      "  File \"/raid/slee3473/Anaconda3/envs/llm/lib/python3.9/site-packages/transformers/models/llama/modeling_llama.py\", line 820, in forward\n",
      "    outputs = self.model(\n",
      "  File \"/raid/slee3473/Anaconda3/envs/llm/lib/python3.9/site-packages/torch/nn/modules/module.py\", line 1501, in _call_impl\n",
      "    return forward_call(*args, **kwargs)\n",
      "  File \"/raid/slee3473/Anaconda3/envs/llm/lib/python3.9/site-packages/accelerate/hooks.py\", line 164, in new_forward\n",
      "    output = module._old_forward(*args, **kwargs)\n",
      "  File \"/raid/slee3473/Anaconda3/envs/llm/lib/python3.9/site-packages/transformers/models/llama/modeling_llama.py\", line 708, in forward\n",
      "    layer_outputs = decoder_layer(\n",
      "  File \"/raid/slee3473/Anaconda3/envs/llm/lib/python3.9/site-packages/torch/nn/modules/module.py\", line 1501, in _call_impl\n",
      "    return forward_call(*args, **kwargs)\n",
      "  File \"/raid/slee3473/Anaconda3/envs/llm/lib/python3.9/site-packages/accelerate/hooks.py\", line 164, in new_forward\n",
      "    output = module._old_forward(*args, **kwargs)\n",
      "  File \"/raid/slee3473/Anaconda3/envs/llm/lib/python3.9/site-packages/transformers/models/llama/modeling_llama.py\", line 424, in forward\n",
      "    hidden_states, self_attn_weights, present_key_value = self.self_attn(\n",
      "  File \"/raid/slee3473/Anaconda3/envs/llm/lib/python3.9/site-packages/torch/nn/modules/module.py\", line 1501, in _call_impl\n",
      "    return forward_call(*args, **kwargs)\n",
      "  File \"/raid/slee3473/Anaconda3/envs/llm/lib/python3.9/site-packages/accelerate/hooks.py\", line 164, in new_forward\n",
      "    output = module._old_forward(*args, **kwargs)\n",
      "  File \"/raid/slee3473/Anaconda3/envs/llm/lib/python3.9/site-packages/transformers/models/llama/modeling_llama.py\", line 379, in forward\n",
      "    attn_output = self.o_proj(attn_output)\n",
      "  File \"/raid/slee3473/Anaconda3/envs/llm/lib/python3.9/site-packages/torch/nn/modules/module.py\", line 1501, in _call_impl\n",
      "    return forward_call(*args, **kwargs)\n",
      "  File \"/raid/slee3473/Anaconda3/envs/llm/lib/python3.9/site-packages/accelerate/hooks.py\", line 164, in new_forward\n",
      "    output = module._old_forward(*args, **kwargs)\n",
      "  File \"/raid/slee3473/Anaconda3/envs/llm/lib/python3.9/site-packages/bitsandbytes/nn/modules.py\", line 450, in forward\n",
      "    out = bnb.matmul(x, self.weight, bias=self.bias, state=self.state)\n",
      "  File \"/raid/slee3473/Anaconda3/envs/llm/lib/python3.9/site-packages/bitsandbytes/autograd/_functions.py\", line 562, in matmul\n",
      "    return MatMul8bitLt.apply(A, B, out, bias, state)\n",
      "  File \"/raid/slee3473/Anaconda3/envs/llm/lib/python3.9/site-packages/torch/autograd/function.py\", line 506, in apply\n",
      "    return super().apply(*args, **kwargs)  # type: ignore[misc]\n",
      " (Triggered internally at ../torch/csrc/autograd/python_anomaly_mode.cpp:114.)\n",
      "  return Variable._execution_engine.run_backward(  # Calls into the C++ engine to run the backward pass\n"
     ]
    },
    {
     "ename": "OutOfMemoryError",
     "evalue": "CUDA out of memory. Tried to allocate 100.00 MiB (GPU 0; 79.15 GiB total capacity; 74.33 GiB already allocated; 75.44 MiB free; 74.47 GiB reserved in total by PyTorch) If reserved memory is >> allocated memory try setting max_split_size_mb to avoid fragmentation.  See documentation for Memory Management and PYTORCH_CUDA_ALLOC_CONF",
     "output_type": "error",
     "traceback": [
      "\u001b[0;31m---------------------------------------------------------------------------\u001b[0m",
      "\u001b[0;31mOutOfMemoryError\u001b[0m                          Traceback (most recent call last)",
      "Cell \u001b[0;32mIn[11], line 2\u001b[0m\n\u001b[1;32m      1\u001b[0m attributor\u001b[38;5;241m.\u001b[39mclear_model()\n\u001b[0;32m----> 2\u001b[0m code \u001b[38;5;241m=\u001b[39m \u001b[43mattributor\u001b[49m\u001b[38;5;241;43m.\u001b[39;49m\u001b[43mvisualize_token_importance\u001b[49m\u001b[43m(\u001b[49m\u001b[43mattributor\u001b[49m\u001b[38;5;241;43m.\u001b[39;49m\u001b[43mtrain_dataset\u001b[49m\u001b[43m[\u001b[49m\u001b[38;5;28;43mint\u001b[39;49m\u001b[43m(\u001b[49m\u001b[43midx\u001b[49m\u001b[43m)\u001b[49m\u001b[43m]\u001b[49m\u001b[43m)\u001b[49m\n\u001b[1;32m      3\u001b[0m HTML(code)\n",
      "File \u001b[0;32m~/23-LLMAttribution/LLMAttributor/LLMAttributor.py:628\u001b[0m, in \u001b[0;36mLLMAttributor.visualize_token_importance\u001b[0;34m(self, data, ckpt_name, ckpt_names)\u001b[0m\n\u001b[1;32m    626\u001b[0m focused_attention_mask \u001b[38;5;241m=\u001b[39m torch\u001b[38;5;241m.\u001b[39mLongTensor(data[\u001b[38;5;124m\"\u001b[39m\u001b[38;5;124mattention_mask\u001b[39m\u001b[38;5;124m\"\u001b[39m])\u001b[38;5;241m.\u001b[39munsqueeze(\u001b[38;5;241m0\u001b[39m)\u001b[38;5;241m.\u001b[39mto(\u001b[38;5;28mself\u001b[39m\u001b[38;5;241m.\u001b[39mdevice)\n\u001b[1;32m    627\u001b[0m not_ignored \u001b[38;5;241m=\u001b[39m torch\u001b[38;5;241m.\u001b[39mprod(torch\u001b[38;5;241m.\u001b[39mvstack([focused_tokens \u001b[38;5;241m!=\u001b[39m ignore_token \u001b[38;5;28;01mfor\u001b[39;00m ignore_token \u001b[38;5;129;01min\u001b[39;00m ignore_token_ids]), dim\u001b[38;5;241m=\u001b[39m\u001b[38;5;241m0\u001b[39m)\n\u001b[0;32m--> 628\u001b[0m token_importance \u001b[38;5;241m=\u001b[39m \u001b[38;5;28;43mself\u001b[39;49m\u001b[38;5;241;43m.\u001b[39;49m\u001b[43mcompute_token_importance\u001b[49m\u001b[43m(\u001b[49m\u001b[43mdata\u001b[49m\u001b[43m,\u001b[49m\u001b[43m \u001b[49m\u001b[43mckpt_name\u001b[49m\u001b[38;5;241;43m=\u001b[39;49m\u001b[43mckpt_name\u001b[49m\u001b[43m,\u001b[49m\u001b[43m \u001b[49m\u001b[43mckpt_names\u001b[49m\u001b[38;5;241;43m=\u001b[39;49m\u001b[43mckpt_names\u001b[49m\u001b[43m)\u001b[49m\n\u001b[1;32m    629\u001b[0m scores \u001b[38;5;241m=\u001b[39m torch\u001b[38;5;241m.\u001b[39mfrom_numpy(token_importance) \u001b[38;5;241m*\u001b[39m not_ignored\n\u001b[1;32m    630\u001b[0m scores \u001b[38;5;241m=\u001b[39m scores \u001b[38;5;241m/\u001b[39m torch\u001b[38;5;241m.\u001b[39mmax(scores)\n",
      "File \u001b[0;32m~/23-LLMAttribution/LLMAttributor/LLMAttributor.py:584\u001b[0m, in \u001b[0;36mLLMAttributor.compute_token_importance\u001b[0;34m(self, data, ckpt_name, ckpt_names)\u001b[0m\n\u001b[1;32m    582\u001b[0m out \u001b[38;5;241m=\u001b[39m \u001b[38;5;28mself\u001b[39m\u001b[38;5;241m.\u001b[39mmodel(inputs_embeds\u001b[38;5;241m=\u001b[39minputs_embeds, attention_mask\u001b[38;5;241m=\u001b[39mfocused_attention_mask, labels\u001b[38;5;241m=\u001b[39mfocused_labels)\n\u001b[1;32m    583\u001b[0m loss \u001b[38;5;241m=\u001b[39m out\u001b[38;5;241m.\u001b[39mloss\n\u001b[0;32m--> 584\u001b[0m grad_loss \u001b[38;5;241m=\u001b[39m \u001b[43mtorch\u001b[49m\u001b[38;5;241;43m.\u001b[39;49m\u001b[43mautograd\u001b[49m\u001b[38;5;241;43m.\u001b[39;49m\u001b[43mgrad\u001b[49m\u001b[43m(\u001b[49m\u001b[43mloss\u001b[49m\u001b[43m,\u001b[49m\u001b[43m \u001b[49m\u001b[43m[\u001b[49m\u001b[43mparam\u001b[49m\u001b[43m \u001b[49m\u001b[38;5;28;43;01mfor\u001b[39;49;00m\u001b[43m \u001b[49m\u001b[43mparam\u001b[49m\u001b[43m \u001b[49m\u001b[38;5;129;43;01min\u001b[39;49;00m\u001b[43m \u001b[49m\u001b[38;5;28;43mself\u001b[39;49m\u001b[38;5;241;43m.\u001b[39;49m\u001b[43mmodel\u001b[49m\u001b[38;5;241;43m.\u001b[39;49m\u001b[43mparameters\u001b[49m\u001b[43m(\u001b[49m\u001b[43m)\u001b[49m\u001b[43m \u001b[49m\u001b[38;5;28;43;01mif\u001b[39;49;00m\u001b[43m \u001b[49m\u001b[43mparam\u001b[49m\u001b[38;5;241;43m.\u001b[39;49m\u001b[43mrequires_grad\u001b[49m\u001b[43m]\u001b[49m\u001b[43m,\u001b[49m\u001b[43m \u001b[49m\u001b[43mcreate_graph\u001b[49m\u001b[38;5;241;43m=\u001b[39;49m\u001b[38;5;28;43;01mTrue\u001b[39;49;00m\u001b[43m)\u001b[49m\n\u001b[1;32m    585\u001b[0m \u001b[38;5;28mself\u001b[39m\u001b[38;5;241m.\u001b[39mmodel\u001b[38;5;241m.\u001b[39mzero_grad()\n\u001b[1;32m    587\u001b[0m inner \u001b[38;5;241m=\u001b[39m \u001b[38;5;241m0\u001b[39m\n",
      "File \u001b[0;32m/raid/slee3473/Anaconda3/envs/llm/lib/python3.9/site-packages/torch/autograd/__init__.py:303\u001b[0m, in \u001b[0;36mgrad\u001b[0;34m(outputs, inputs, grad_outputs, retain_graph, create_graph, only_inputs, allow_unused, is_grads_batched)\u001b[0m\n\u001b[1;32m    301\u001b[0m     \u001b[38;5;28;01mreturn\u001b[39;00m _vmap_internals\u001b[38;5;241m.\u001b[39m_vmap(vjp, \u001b[38;5;241m0\u001b[39m, \u001b[38;5;241m0\u001b[39m, allow_none_pass_through\u001b[38;5;241m=\u001b[39m\u001b[38;5;28;01mTrue\u001b[39;00m)(grad_outputs_)\n\u001b[1;32m    302\u001b[0m \u001b[38;5;28;01melse\u001b[39;00m:\n\u001b[0;32m--> 303\u001b[0m     \u001b[38;5;28;01mreturn\u001b[39;00m \u001b[43mVariable\u001b[49m\u001b[38;5;241;43m.\u001b[39;49m\u001b[43m_execution_engine\u001b[49m\u001b[38;5;241;43m.\u001b[39;49m\u001b[43mrun_backward\u001b[49m\u001b[43m(\u001b[49m\u001b[43m  \u001b[49m\u001b[38;5;66;43;03m# Calls into the C++ engine to run the backward pass\u001b[39;49;00m\n\u001b[1;32m    304\u001b[0m \u001b[43m        \u001b[49m\u001b[43mt_outputs\u001b[49m\u001b[43m,\u001b[49m\u001b[43m \u001b[49m\u001b[43mgrad_outputs_\u001b[49m\u001b[43m,\u001b[49m\u001b[43m \u001b[49m\u001b[43mretain_graph\u001b[49m\u001b[43m,\u001b[49m\u001b[43m \u001b[49m\u001b[43mcreate_graph\u001b[49m\u001b[43m,\u001b[49m\u001b[43m \u001b[49m\u001b[43mt_inputs\u001b[49m\u001b[43m,\u001b[49m\n\u001b[1;32m    305\u001b[0m \u001b[43m        \u001b[49m\u001b[43mallow_unused\u001b[49m\u001b[43m,\u001b[49m\u001b[43m \u001b[49m\u001b[43maccumulate_grad\u001b[49m\u001b[38;5;241;43m=\u001b[39;49m\u001b[38;5;28;43;01mFalse\u001b[39;49;00m\u001b[43m)\u001b[49m\n",
      "File \u001b[0;32m/raid/slee3473/Anaconda3/envs/llm/lib/python3.9/site-packages/torch/autograd/function.py:274\u001b[0m, in \u001b[0;36mBackwardCFunction.apply\u001b[0;34m(self, *args)\u001b[0m\n\u001b[1;32m    270\u001b[0m     \u001b[38;5;28;01mraise\u001b[39;00m \u001b[38;5;167;01mRuntimeError\u001b[39;00m(\u001b[38;5;124m\"\u001b[39m\u001b[38;5;124mImplementing both \u001b[39m\u001b[38;5;124m'\u001b[39m\u001b[38;5;124mbackward\u001b[39m\u001b[38;5;124m'\u001b[39m\u001b[38;5;124m and \u001b[39m\u001b[38;5;124m'\u001b[39m\u001b[38;5;124mvjp\u001b[39m\u001b[38;5;124m'\u001b[39m\u001b[38;5;124m for a custom \u001b[39m\u001b[38;5;124m\"\u001b[39m\n\u001b[1;32m    271\u001b[0m                        \u001b[38;5;124m\"\u001b[39m\u001b[38;5;124mFunction is not allowed. You should only implement one \u001b[39m\u001b[38;5;124m\"\u001b[39m\n\u001b[1;32m    272\u001b[0m                        \u001b[38;5;124m\"\u001b[39m\u001b[38;5;124mof them.\u001b[39m\u001b[38;5;124m\"\u001b[39m)\n\u001b[1;32m    273\u001b[0m user_fn \u001b[38;5;241m=\u001b[39m vjp_fn \u001b[38;5;28;01mif\u001b[39;00m vjp_fn \u001b[38;5;129;01mis\u001b[39;00m \u001b[38;5;129;01mnot\u001b[39;00m Function\u001b[38;5;241m.\u001b[39mvjp \u001b[38;5;28;01melse\u001b[39;00m backward_fn\n\u001b[0;32m--> 274\u001b[0m \u001b[38;5;28;01mreturn\u001b[39;00m \u001b[43muser_fn\u001b[49m\u001b[43m(\u001b[49m\u001b[38;5;28;43mself\u001b[39;49m\u001b[43m,\u001b[49m\u001b[43m \u001b[49m\u001b[38;5;241;43m*\u001b[39;49m\u001b[43margs\u001b[49m\u001b[43m)\u001b[49m\n",
      "File \u001b[0;32m/raid/slee3473/Anaconda3/envs/llm/lib/python3.9/site-packages/bitsandbytes/autograd/_functions.py:483\u001b[0m, in \u001b[0;36mMatMul8bitLt.backward\u001b[0;34m(ctx, grad_output)\u001b[0m\n\u001b[1;32m    480\u001b[0m     grad_A \u001b[38;5;241m=\u001b[39m torch\u001b[38;5;241m.\u001b[39mmatmul(grad_output, CB)\u001b[38;5;241m.\u001b[39mview(ctx\u001b[38;5;241m.\u001b[39mgrad_shape)\u001b[38;5;241m.\u001b[39mto(ctx\u001b[38;5;241m.\u001b[39mdtype_A)\n\u001b[1;32m    481\u001b[0m \u001b[38;5;28;01melif\u001b[39;00m state\u001b[38;5;241m.\u001b[39mCxB \u001b[38;5;129;01mis\u001b[39;00m \u001b[38;5;129;01mnot\u001b[39;00m \u001b[38;5;28;01mNone\u001b[39;00m:\n\u001b[1;32m    482\u001b[0m     CB \u001b[38;5;241m=\u001b[39m (\n\u001b[0;32m--> 483\u001b[0m         \u001b[43mundo_layout\u001b[49m\u001b[43m(\u001b[49m\u001b[43mstate\u001b[49m\u001b[38;5;241;43m.\u001b[39;49m\u001b[43mCxB\u001b[49m\u001b[43m,\u001b[49m\u001b[43m \u001b[49m\u001b[43mstate\u001b[49m\u001b[38;5;241;43m.\u001b[39;49m\u001b[43mtile_indices\u001b[49m\u001b[43m)\u001b[49m\n\u001b[1;32m    484\u001b[0m \u001b[43m        \u001b[49m\u001b[38;5;241;43m.\u001b[39;49m\u001b[43mto\u001b[49m\u001b[43m(\u001b[49m\u001b[43mctx\u001b[49m\u001b[38;5;241;43m.\u001b[39;49m\u001b[43mdtype_A\u001b[49m\u001b[43m)\u001b[49m\n\u001b[1;32m    485\u001b[0m         \u001b[38;5;241m.\u001b[39mmul_(state\u001b[38;5;241m.\u001b[39mSCB\u001b[38;5;241m.\u001b[39munsqueeze(\u001b[38;5;241m1\u001b[39m)\u001b[38;5;241m.\u001b[39mmul(\u001b[38;5;241m1.0\u001b[39m \u001b[38;5;241m/\u001b[39m \u001b[38;5;241m127.0\u001b[39m))\n\u001b[1;32m    486\u001b[0m     )\n\u001b[1;32m    487\u001b[0m     grad_A \u001b[38;5;241m=\u001b[39m torch\u001b[38;5;241m.\u001b[39mmatmul(grad_output, CB)\u001b[38;5;241m.\u001b[39mview(ctx\u001b[38;5;241m.\u001b[39mgrad_shape)\u001b[38;5;241m.\u001b[39mto(ctx\u001b[38;5;241m.\u001b[39mdtype_A)\n\u001b[1;32m    488\u001b[0m \u001b[38;5;28;01melse\u001b[39;00m:\n",
      "\u001b[0;31mOutOfMemoryError\u001b[0m: CUDA out of memory. Tried to allocate 100.00 MiB (GPU 0; 79.15 GiB total capacity; 74.33 GiB already allocated; 75.44 MiB free; 74.47 GiB reserved in total by PyTorch) If reserved memory is >> allocated memory try setting max_split_size_mb to avoid fragmentation.  See documentation for Memory Management and PYTORCH_CUDA_ALLOC_CONF"
     ]
    }
   ],
   "source": [
    "attributor.clear_model()\n",
    "code = attributor.visualize_token_importance(attributor.train_dataset[int(idx)])\n",
    "HTML(code)"
   ]
  },
  {
   "cell_type": "code",
   "execution_count": 20,
   "metadata": {},
   "outputs": [
    {
     "name": "stdout",
     "output_type": "stream",
     "text": [
      "Computing token importance...\n"
     ]
    },
    {
     "data": {
      "application/vnd.jupyter.widget-view+json": {
       "model_id": "04d3db59cf2045ee843f3adf28494fe8",
       "version_major": 2,
       "version_minor": 0
      },
      "text/plain": [
       "Loading checkpoint shards:   0%|          | 0/3 [00:00<?, ?it/s]"
      ]
     },
     "metadata": {},
     "output_type": "display_data"
    },
    {
     "data": {
      "text/html": [
       "<span style=\"color: black; background-color: #dc292480; display: inline-block\">&nbsp;region</span><span style=\"color: black; background-color: #f03d2d80; display: inline-block\">&nbsp;of</span><span style=\"color: black; background-color: #fcc4ad80; display: inline-block\">&nbsp;very</span><span style=\"color: black; background-color: #fcad9080; display: inline-block\">&nbsp;dry</span><span style=\"color: black; background-color: #fcb79c80; display: inline-block\">&nbsp;air</span><span style=\"color: black; background-color: #fee1d380; display: inline-block\">&nbsp;arriv</span><span style=\"color: black; background-color: #fedfd080; display: inline-block\">ing</span><span style=\"color: black; background-color: #fedccd80; display: inline-block\">&nbsp;from</span><span style=\"color: black; background-color: #fc9e8080; display: inline-block\">&nbsp;the</span><span style=\"color: black; background-color: #fedccd80; display: inline-block\">&nbsp;East</span><span style=\"color: black; background-color: #fdd3c180; display: inline-block\">&nbsp;Pacific</span><span style=\"color: black; background-color: #67000d80; display: inline-block\">,</span><span style=\"color: black; background-color: #fee3d680; display: inline-block\">&nbsp;greatly</span><span style=\"color: black; background-color: #fdd2bf80; display: inline-block\">&nbsp;in</span><span style=\"color: black; background-color: #fee0d280; display: inline-block\">hib</span><span style=\"color: black; background-color: #fedecf80; display: inline-block\">iting</span><span style=\"color: black; background-color: #fdd7c680; display: inline-block\">&nbsp;the</span><span style=\"color: black; background-color: #fedbcc80; display: inline-block\">&nbsp;potential</span><span style=\"color: black; background-color: #fdd2bf80; display: inline-block\">&nbsp;for</span><span style=\"color: black; background-color: #fee4d880; display: inline-block\">&nbsp;ra</span><span style=\"color: black; background-color: #fed8c780; display: inline-block\">inf</span><span style=\"color: black; background-color: #fed9c980; display: inline-block\">all</span><span style=\"color: black; background-color: #f1433180; display: inline-block\">.</span><span style=\"color: black; background-color: #fcc4ad80; display: inline-block\">&nbsp;A</span><span style=\"color: black; background-color: #fcc1a880; display: inline-block\">&nbsp;prominent</span><span style=\"color: black; background-color: #fcb69b80; display: inline-block\">&nbsp;desc</span><span style=\"color: black; background-color: #fc9d7f80; display: inline-block\">ending</span><span style=\"color: black; background-color: #fcc3ab80; display: inline-block\">&nbsp;c</span><span style=\"color: black; background-color: #fb725280; display: inline-block\">apping</span><span style=\"color: black; background-color: #fcab8f80; display: inline-block\">&nbsp;in</span><span style=\"color: black; background-color: #f6563d80; display: inline-block\">version</span><span style=\"color: black; background-color: #fdd3c180; display: inline-block\">&nbsp;forced</span><span style=\"color: black; background-color: #fee1d380; display: inline-block\">&nbsp;even</span><span style=\"color: black; background-color: #fee1d480; display: inline-block\">&nbsp;more</span><span style=\"color: black; background-color: #fed8c780; display: inline-block\">&nbsp;stabil</span><span style=\"color: black; background-color: #fee1d380; display: inline-block\">ization</span><span style=\"color: black; background-color: #fee9df80; display: inline-block\">&nbsp;of</span><span style=\"color: black; background-color: #fee8dd80; display: inline-block\">&nbsp;the</span><span style=\"color: black; background-color: #fee5d980; display: inline-block\">&nbsp;atmosphere</span><span style=\"color: black; background-color: #fee6da80; display: inline-block\">,</span><span style=\"color: black; background-color: #ffede580; display: inline-block\">&nbsp;which</span><span style=\"color: black; background-color: #ffebe280; display: inline-block\">&nbsp;led</span><span style=\"color: black; background-color: #feeae180; display: inline-block\">&nbsp;to</span><span style=\"color: black; background-color: #ffece480; display: inline-block\">&nbsp;en</span><span style=\"color: black; background-color: #fee7dc80; display: inline-block\">hanced</span><span style=\"color: black; background-color: #fee1d480; display: inline-block\">&nbsp;wind</span><span style=\"color: black; background-color: #fee1d480; display: inline-block\">&nbsp;g</span><span style=\"color: black; background-color: #fed9c980; display: inline-block\">ust</span><span style=\"color: black; background-color: #fee5d980; display: inline-block\">s</span><span style=\"color: black; background-color: #feeae180; display: inline-block\">&nbsp;and</span><span style=\"color: black; background-color: #ffece480; display: inline-block\">&nbsp;very</span><span style=\"color: black; background-color: #fee6da80; display: inline-block\">&nbsp;dry</span><span style=\"color: black; background-color: #fee8dd80; display: inline-block\">&nbsp;conditions</span><span style=\"color: black; background-color: #fee7dc80; display: inline-block\">&nbsp;between</span><span style=\"color: black; background-color: #fee6da80; display: inline-block\">&nbsp;August</span><span style=\"color: black; background-color: #fee8dd80; display: inline-block\">&nbsp;</span><span style=\"color: black; background-color: #feeae180; display: inline-block\">7</span><span style=\"color: black; background-color: #feeae080; display: inline-block\">&nbsp;and</span><span style=\"color: black; background-color: #fee6da80; display: inline-block\">&nbsp;</span><span style=\"color: black; background-color: #feeae080; display: inline-block\">8</span><span style=\"color: black; background-color: #fcb79c80; display: inline-block\">.</span><span style=\"color: black; background-color: #ffece480; display: inline-block\">&nbsp;As</span><span style=\"color: black; background-color: #fee8de80; display: inline-block\">&nbsp;the</span><span style=\"color: black; background-color: #fee8de80; display: inline-block\">&nbsp;day</span><span style=\"color: black; background-color: #fee7dc80; display: inline-block\">&nbsp;progress</span><span style=\"color: black; background-color: #fee8dd80; display: inline-block\">ed</span><span style=\"color: black; background-color: #fc876780; display: inline-block\">,</span><span style=\"color: black; background-color: #fee2d580; display: inline-block\">&nbsp;deep</span><span style=\"color: black; background-color: #fed8c780; display: inline-block\">&nbsp;layer</span><span style=\"color: black; background-color: #fdccb880; display: inline-block\">&nbsp;rid</span><span style=\"color: black; background-color: #fcb49980; display: inline-block\">ging</span><span style=\"color: black; background-color: #fee8de80; display: inline-block\">&nbsp;combined</span><span style=\"color: black; background-color: #ffebe280; display: inline-block\">&nbsp;with</span><span style=\"color: black; background-color: #feeae080; display: inline-block\">&nbsp;the</span><span style=\"color: black; background-color: #ffeee680; display: inline-block\">&nbsp;existing</span><span style=\"color: black; background-color: #ffede580; display: inline-block\">&nbsp;pressure</span><span style=\"color: black; background-color: #fee8de80; display: inline-block\">&nbsp;gradient</span><span style=\"color: black; background-color: #fee8de80; display: inline-block\">&nbsp;created</span><span style=\"color: black; background-color: #ffeee680; display: inline-block\">&nbsp;very</span><span style=\"color: black; background-color: #ffece480; display: inline-block\">&nbsp;strong</span><span style=\"color: black; background-color: #ffece480; display: inline-block\">&nbsp;wind</span><span style=\"color: black; background-color: #ffede580; display: inline-block\">&nbsp;g</span><span style=\"color: black; background-color: #fee7dc80; display: inline-block\">ust</span><span style=\"color: black; background-color: #fee8de80; display: inline-block\">s</span><span style=\"color: black; background-color: #ffeee680; display: inline-block\">&nbsp;and</span><span style=\"color: black; background-color: #feeae080; display: inline-block\">&nbsp;caused</span><span style=\"color: black; background-color: #fff0e980; display: inline-block\">&nbsp;hum</span><span style=\"color: black; background-color: #fff0e880; display: inline-block\">id</span><span style=\"color: black; background-color: #fff0e880; display: inline-block\">ity</span><span style=\"color: black; background-color: #fff0e980; display: inline-block\">&nbsp;levels</span><span style=\"color: black; background-color: #fff0e980; display: inline-block\">&nbsp;to</span><span style=\"color: black; background-color: #ffefe880; display: inline-block\">&nbsp;be</span><span style=\"color: black; background-color: #fff2eb80; display: inline-block\">&nbsp;well</span><span style=\"color: black; background-color: #fff0e880; display: inline-block\">&nbsp;below</span><span style=\"color: black; background-color: #fff0e880; display: inline-block\">&nbsp;normal</span><span style=\"color: black; background-color: #fdcab580; display: inline-block\">.</span><span style=\"color: black; background-color: #ffece380; display: inline-block\">&nbsp;The</span><span style=\"color: black; background-color: #ffebe280; display: inline-block\">&nbsp;a</span><span style=\"color: black; background-color: #ffebe280; display: inline-block\">for</span><span style=\"color: black; background-color: #feeae180; display: inline-block\">ement</span><span style=\"color: black; background-color: #fee5d880; display: inline-block\">ioned</span><span style=\"color: black; background-color: #fdd7c680; display: inline-block\">&nbsp;cap</span><span style=\"color: black; background-color: #fee9df80; display: inline-block\">&nbsp;was</span><span style=\"color: black; background-color: #fee6da80; display: inline-block\">&nbsp;expected</span><span style=\"color: black; background-color: #fee0d280; display: inline-block\">&nbsp;to</span><span style=\"color: black; background-color: #fee4d880; display: inline-block\">&nbsp;only</span><span style=\"color: black; background-color: #fee5d880; display: inline-block\">&nbsp;strength</span><span style=\"color: black; background-color: #fdd7c680; display: inline-block\">en</span><span style=\"color: black; background-color: #fee8dd80; display: inline-block\">&nbsp;acceleration</span><span style=\"color: black; background-color: #ffefe880; display: inline-block\">&nbsp;of</span><span style=\"color: black; background-color: #ffefe880; display: inline-block\">&nbsp;wind</span><span style=\"color: black; background-color: #fff0e880; display: inline-block\">&nbsp;due</span><span style=\"color: black; background-color: #ffeee780; display: inline-block\">&nbsp;to</span><span style=\"color: black; background-color: #ffeee780; display: inline-block\">&nbsp;terrain</span><span style=\"color: black; background-color: #fff1ea80; display: inline-block\">&nbsp;features</span><span style=\"color: black; background-color: #fff0e880; display: inline-block\">&nbsp;near</span><span style=\"color: black; background-color: #fff2eb80; display: inline-block\">&nbsp;the</span><span style=\"color: black; background-color: #fff1ea80; display: inline-block\">&nbsp;islands</span><span style=\"color: black; background-color: #ffeee680; display: inline-block\">.</span><br><span style=\"color: black; background-color: #ffefe880; display: inline-block\">D</span><span style=\"color: black; background-color: #ffeee780; display: inline-block\">uring</span><span style=\"color: black; background-color: #ffeee780; display: inline-block\">&nbsp;the</span><span style=\"color: black; background-color: #ffede580; display: inline-block\">&nbsp;first</span><span style=\"color: black; background-color: #fff5f080; display: inline-block\">&nbsp;few</span><span style=\"color: black; background-color: #fff5f080; display: inline-block\">&nbsp;days</span><span style=\"color: black; background-color: #fff5f080; display: inline-block\">&nbsp;of</span><span style=\"color: black; background-color: #fff5f080; display: inline-block\">&nbsp;August</span>"
      ],
      "text/plain": [
       "<IPython.core.display.HTML object>"
      ]
     },
     "execution_count": 20,
     "metadata": {},
     "output_type": "execute_result"
    }
   ],
   "source": [
    "attributor.clear_model()\n",
    "code = attributor.visualize_token_importance(attributor.train_dataset[int(idx)], \"checkpoint-150\")\n",
    "HTML(code)"
   ]
  },
  {
   "cell_type": "code",
   "execution_count": 19,
   "metadata": {},
   "outputs": [
    {
     "data": {
      "text/html": [
       "<span style=\"color: black; background-color: #a8101680; display: inline-block\">&nbsp;region</span><span style=\"color: black; background-color: #b0121780; display: inline-block\">&nbsp;of</span><span style=\"color: black; background-color: #fcbba180; display: inline-block\">&nbsp;very</span><span style=\"color: black; background-color: #fcbca280; display: inline-block\">&nbsp;dry</span><span style=\"color: black; background-color: #fdd0bc80; display: inline-block\">&nbsp;air</span><span style=\"color: black; background-color: #fee1d380; display: inline-block\">&nbsp;arriv</span><span style=\"color: black; background-color: #fdd5c480; display: inline-block\">ing</span><span style=\"color: black; background-color: #fee2d580; display: inline-block\">&nbsp;from</span><span style=\"color: black; background-color: #fc816180; display: inline-block\">&nbsp;the</span><span style=\"color: black; background-color: #fee3d680; display: inline-block\">&nbsp;East</span><span style=\"color: black; background-color: #fedbcc80; display: inline-block\">&nbsp;Pacific</span><span style=\"color: black; background-color: #67000d80; display: inline-block\">,</span><span style=\"color: black; background-color: #fee2d580; display: inline-block\">&nbsp;greatly</span><span style=\"color: black; background-color: #fedccd80; display: inline-block\">&nbsp;in</span><span style=\"color: black; background-color: #fee3d680; display: inline-block\">hib</span><span style=\"color: black; background-color: #fee3d680; display: inline-block\">iting</span><span style=\"color: black; background-color: #fdc7b280; display: inline-block\">&nbsp;the</span><span style=\"color: black; background-color: #fee4d880; display: inline-block\">&nbsp;potential</span><span style=\"color: black; background-color: #fdd4c280; display: inline-block\">&nbsp;for</span><span style=\"color: black; background-color: #fedecf80; display: inline-block\">&nbsp;ra</span><span style=\"color: black; background-color: #fee3d680; display: inline-block\">inf</span><span style=\"color: black; background-color: #fee1d380; display: inline-block\">all</span><span style=\"color: black; background-color: #d7232280; display: inline-block\">.</span><span style=\"color: black; background-color: #fedfd080; display: inline-block\">&nbsp;A</span><span style=\"color: black; background-color: #fcb89e80; display: inline-block\">&nbsp;prominent</span><span style=\"color: black; background-color: #fee4d880; display: inline-block\">&nbsp;desc</span><span style=\"color: black; background-color: #fedecf80; display: inline-block\">ending</span><span style=\"color: black; background-color: #fee4d880; display: inline-block\">&nbsp;c</span><span style=\"color: black; background-color: #fcc4ad80; display: inline-block\">apping</span><span style=\"color: black; background-color: #fed8c780; display: inline-block\">&nbsp;in</span><span style=\"color: black; background-color: #fdcdb980; display: inline-block\">version</span><span style=\"color: black; background-color: #fedfd080; display: inline-block\">&nbsp;forced</span><span style=\"color: black; background-color: #fee5d880; display: inline-block\">&nbsp;even</span><span style=\"color: black; background-color: #fee1d380; display: inline-block\">&nbsp;more</span><span style=\"color: black; background-color: #fee1d380; display: inline-block\">&nbsp;stabil</span><span style=\"color: black; background-color: #fee6da80; display: inline-block\">ization</span><span style=\"color: black; background-color: #ffebe280; display: inline-block\">&nbsp;of</span><span style=\"color: black; background-color: #fee9df80; display: inline-block\">&nbsp;the</span><span style=\"color: black; background-color: #fee4d880; display: inline-block\">&nbsp;atmosphere</span><span style=\"color: black; background-color: #fdcebb80; display: inline-block\">,</span><span style=\"color: black; background-color: #ffeee680; display: inline-block\">&nbsp;which</span><span style=\"color: black; background-color: #ffebe280; display: inline-block\">&nbsp;led</span><span style=\"color: black; background-color: #fee8de80; display: inline-block\">&nbsp;to</span><span style=\"color: black; background-color: #fee9df80; display: inline-block\">&nbsp;en</span><span style=\"color: black; background-color: #fee5d880; display: inline-block\">hanced</span><span style=\"color: black; background-color: #fee3d780; display: inline-block\">&nbsp;wind</span><span style=\"color: black; background-color: #fee3d680; display: inline-block\">&nbsp;g</span><span style=\"color: black; background-color: #fdd3c180; display: inline-block\">ust</span><span style=\"color: black; background-color: #fee1d480; display: inline-block\">s</span><span style=\"color: black; background-color: #fee8de80; display: inline-block\">&nbsp;and</span><span style=\"color: black; background-color: #fee8dd80; display: inline-block\">&nbsp;very</span><span style=\"color: black; background-color: #fee5d980; display: inline-block\">&nbsp;dry</span><span style=\"color: black; background-color: #fee8dd80; display: inline-block\">&nbsp;conditions</span><span style=\"color: black; background-color: #fee8de80; display: inline-block\">&nbsp;between</span><span style=\"color: black; background-color: #fee8dd80; display: inline-block\">&nbsp;August</span><span style=\"color: black; background-color: #fee9df80; display: inline-block\">&nbsp;</span><span style=\"color: black; background-color: #ffece380; display: inline-block\">7</span><span style=\"color: black; background-color: #fee8de80; display: inline-block\">&nbsp;and</span><span style=\"color: black; background-color: #ffece380; display: inline-block\">&nbsp;</span><span style=\"color: black; background-color: #ffebe280; display: inline-block\">8</span><span style=\"color: black; background-color: #fdd1be80; display: inline-block\">.</span><span style=\"color: black; background-color: #fee4d880; display: inline-block\">&nbsp;As</span><span style=\"color: black; background-color: #fee0d280; display: inline-block\">&nbsp;the</span><span style=\"color: black; background-color: #fee5d980; display: inline-block\">&nbsp;day</span><span style=\"color: black; background-color: #fee8dd80; display: inline-block\">&nbsp;progress</span><span style=\"color: black; background-color: #fee8dd80; display: inline-block\">ed</span><span style=\"color: black; background-color: #fca28580; display: inline-block\">,</span><span style=\"color: black; background-color: #fee0d280; display: inline-block\">&nbsp;deep</span><span style=\"color: black; background-color: #fdd0bc80; display: inline-block\">&nbsp;layer</span><span style=\"color: black; background-color: #fdcdb980; display: inline-block\">&nbsp;rid</span><span style=\"color: black; background-color: #fcbba180; display: inline-block\">ging</span><span style=\"color: black; background-color: #fee3d780; display: inline-block\">&nbsp;combined</span><span style=\"color: black; background-color: #fee7db80; display: inline-block\">&nbsp;with</span><span style=\"color: black; background-color: #fee0d280; display: inline-block\">&nbsp;the</span><span style=\"color: black; background-color: #fee3d680; display: inline-block\">&nbsp;existing</span><span style=\"color: black; background-color: #fee3d780; display: inline-block\">&nbsp;pressure</span><span style=\"color: black; background-color: #fdd4c280; display: inline-block\">&nbsp;gradient</span><span style=\"color: black; background-color: #fee9df80; display: inline-block\">&nbsp;created</span><span style=\"color: black; background-color: #ffece480; display: inline-block\">&nbsp;very</span><span style=\"color: black; background-color: #feeae180; display: inline-block\">&nbsp;strong</span><span style=\"color: black; background-color: #fee3d680; display: inline-block\">&nbsp;wind</span><span style=\"color: black; background-color: #feeae180; display: inline-block\">&nbsp;g</span><span style=\"color: black; background-color: #fee8de80; display: inline-block\">ust</span><span style=\"color: black; background-color: #ffebe280; display: inline-block\">s</span><span style=\"color: black; background-color: #ffede580; display: inline-block\">&nbsp;and</span><span style=\"color: black; background-color: #feeae180; display: inline-block\">&nbsp;caused</span><span style=\"color: black; background-color: #ffede580; display: inline-block\">&nbsp;hum</span><span style=\"color: black; background-color: #ffece480; display: inline-block\">id</span><span style=\"color: black; background-color: #ffece380; display: inline-block\">ity</span><span style=\"color: black; background-color: #ffeee680; display: inline-block\">&nbsp;levels</span><span style=\"color: black; background-color: #ffeee680; display: inline-block\">&nbsp;to</span><span style=\"color: black; background-color: #ffece480; display: inline-block\">&nbsp;be</span><span style=\"color: black; background-color: #fff2eb80; display: inline-block\">&nbsp;well</span><span style=\"color: black; background-color: #ffefe880; display: inline-block\">&nbsp;below</span><span style=\"color: black; background-color: #ffeee680; display: inline-block\">&nbsp;normal</span><span style=\"color: black; background-color: #fee3d780; display: inline-block\">.</span><span style=\"color: black; background-color: #feeae180; display: inline-block\">&nbsp;The</span><span style=\"color: black; background-color: #ffede580; display: inline-block\">&nbsp;a</span><span style=\"color: black; background-color: #ffece480; display: inline-block\">for</span><span style=\"color: black; background-color: #fee9df80; display: inline-block\">ement</span><span style=\"color: black; background-color: #fee7db80; display: inline-block\">ioned</span><span style=\"color: black; background-color: #fedecf80; display: inline-block\">&nbsp;cap</span><span style=\"color: black; background-color: #fee9df80; display: inline-block\">&nbsp;was</span><span style=\"color: black; background-color: #fee8de80; display: inline-block\">&nbsp;expected</span><span style=\"color: black; background-color: #fed9c980; display: inline-block\">&nbsp;to</span><span style=\"color: black; background-color: #fee5d980; display: inline-block\">&nbsp;only</span><span style=\"color: black; background-color: #fedaca80; display: inline-block\">&nbsp;strength</span><span style=\"color: black; background-color: #fdc6b080; display: inline-block\">en</span><span style=\"color: black; background-color: #fdc6b080; display: inline-block\">&nbsp;acceleration</span><span style=\"color: black; background-color: #fee8de80; display: inline-block\">&nbsp;of</span><span style=\"color: black; background-color: #ffebe280; display: inline-block\">&nbsp;wind</span><span style=\"color: black; background-color: #feeae080; display: inline-block\">&nbsp;due</span><span style=\"color: black; background-color: #ffebe280; display: inline-block\">&nbsp;to</span><span style=\"color: black; background-color: #fee8dd80; display: inline-block\">&nbsp;terrain</span><span style=\"color: black; background-color: #ffece480; display: inline-block\">&nbsp;features</span><span style=\"color: black; background-color: #fff1ea80; display: inline-block\">&nbsp;near</span><span style=\"color: black; background-color: #fff2eb80; display: inline-block\">&nbsp;the</span><span style=\"color: black; background-color: #fff0e980; display: inline-block\">&nbsp;islands</span><span style=\"color: black; background-color: #ffece480; display: inline-block\">.</span><br><span style=\"color: black; background-color: #ffece480; display: inline-block\">D</span><span style=\"color: black; background-color: #fee9df80; display: inline-block\">uring</span><span style=\"color: black; background-color: #fedecf80; display: inline-block\">&nbsp;the</span><span style=\"color: black; background-color: #fee5d980; display: inline-block\">&nbsp;first</span><span style=\"color: black; background-color: #ffece480; display: inline-block\">&nbsp;few</span><span style=\"color: black; background-color: #feeae180; display: inline-block\">&nbsp;days</span><span style=\"color: black; background-color: #ffede580; display: inline-block\">&nbsp;of</span><span style=\"color: black; background-color: #fff5f080; display: inline-block\">&nbsp;August</span>"
      ],
      "text/plain": [
       "<IPython.core.display.HTML object>"
      ]
     },
     "execution_count": 19,
     "metadata": {},
     "output_type": "execute_result"
    }
   ],
   "source": [
    "# 100 output"
   ]
  },
  {
   "cell_type": "code",
   "execution_count": null,
   "metadata": {},
   "outputs": [],
   "source": []
  },
  {
   "cell_type": "code",
   "execution_count": 15,
   "metadata": {},
   "outputs": [],
   "source": [
    "??attributor.model.base_model.model.forward"
   ]
  },
  {
   "cell_type": "code",
   "execution_count": null,
   "metadata": {},
   "outputs": [],
   "source": []
  },
  {
   "cell_type": "code",
   "execution_count": null,
   "metadata": {},
   "outputs": [],
   "source": []
  },
  {
   "cell_type": "code",
   "execution_count": null,
   "metadata": {},
   "outputs": [],
   "source": []
  },
  {
   "cell_type": "code",
   "execution_count": null,
   "metadata": {},
   "outputs": [],
   "source": []
  },
  {
   "cell_type": "code",
   "execution_count": null,
   "metadata": {},
   "outputs": [],
   "source": []
  },
  {
   "cell_type": "code",
   "execution_count": null,
   "metadata": {},
   "outputs": [],
   "source": []
  },
  {
   "cell_type": "code",
   "execution_count": null,
   "metadata": {},
   "outputs": [],
   "source": []
  },
  {
   "cell_type": "code",
   "execution_count": null,
   "metadata": {},
   "outputs": [],
   "source": []
  },
  {
   "cell_type": "code",
   "execution_count": null,
   "metadata": {},
   "outputs": [],
   "source": []
  },
  {
   "cell_type": "code",
   "execution_count": null,
   "metadata": {},
   "outputs": [],
   "source": []
  },
  {
   "cell_type": "code",
   "execution_count": null,
   "metadata": {},
   "outputs": [],
   "source": []
  },
  {
   "cell_type": "code",
   "execution_count": null,
   "metadata": {},
   "outputs": [],
   "source": []
  },
  {
   "cell_type": "code",
   "execution_count": null,
   "metadata": {},
   "outputs": [],
   "source": []
  },
  {
   "cell_type": "code",
   "execution_count": null,
   "metadata": {},
   "outputs": [],
   "source": []
  },
  {
   "cell_type": "code",
   "execution_count": null,
   "metadata": {},
   "outputs": [],
   "source": []
  },
  {
   "cell_type": "code",
   "execution_count": null,
   "metadata": {},
   "outputs": [],
   "source": []
  },
  {
   "cell_type": "code",
   "execution_count": null,
   "metadata": {},
   "outputs": [],
   "source": []
  },
  {
   "cell_type": "code",
   "execution_count": null,
   "metadata": {},
   "outputs": [],
   "source": []
  },
  {
   "cell_type": "code",
   "execution_count": null,
   "metadata": {},
   "outputs": [],
   "source": []
  },
  {
   "cell_type": "code",
   "execution_count": null,
   "metadata": {},
   "outputs": [],
   "source": []
  },
  {
   "cell_type": "code",
   "execution_count": null,
   "metadata": {},
   "outputs": [],
   "source": []
  },
  {
   "cell_type": "code",
   "execution_count": null,
   "metadata": {},
   "outputs": [],
   "source": []
  },
  {
   "cell_type": "markdown",
   "metadata": {},
   "source": [
    "### With Sentence Transform"
   ]
  },
  {
   "cell_type": "code",
   "execution_count": 2,
   "metadata": {},
   "outputs": [],
   "source": [
    "data_dir = \"./data/\"\n",
    "train_dataset = datasets.load_from_disk(os.path.join(data_dir, \"sentence_transformation_complex/train.hf\"))\n",
    "test_dataset = datasets.load_from_disk(os.path.join(data_dir, \"sentence_transformation_complex/test.hf\"))\n",
    "\n",
    "model_dir = \"/raid/models/llama2/llama-2-13b-chat/hf\"\n",
    "model_save_dir = \"/raid/slee3473/LLM/llama-output/sentence_transform_complex_jan20\"\n",
    "# ckpt_dir = os.path.join(output_dir, \"checkpoint-94\")"
   ]
  },
  {
   "cell_type": "code",
   "execution_count": 3,
   "metadata": {},
   "outputs": [
    {
     "name": "stderr",
     "output_type": "stream",
     "text": [
      "You are using the default legacy behaviour of the <class 'transformers.models.llama.tokenization_llama.LlamaTokenizer'>. If you see this, DO NOT PANIC! This is expected, and simply means that the `legacy` (previous) behavior will be used so nothing changes for you. If you want to use the new behaviour, set `legacy=False`. This should only be set if you understand what it means, and thouroughly read the reason why this was added as explained in https://github.com/huggingface/transformers/pull/24565\n"
     ]
    },
    {
     "data": {
      "application/vnd.jupyter.widget-view+json": {
       "model_id": "09fe78f840ef4342b2c9f1c629e5b4eb",
       "version_major": 2,
       "version_minor": 0
      },
      "text/plain": [
       "Map:   0%|          | 0/1000 [00:00<?, ? examples/s]"
      ]
     },
     "metadata": {},
     "output_type": "display_data"
    },
    {
     "data": {
      "application/vnd.jupyter.widget-view+json": {
       "model_id": "594e08439abb44088085d41abfe8e03a",
       "version_major": 2,
       "version_minor": 0
      },
      "text/plain": [
       "Map:   0%|          | 0/3600 [00:00<?, ? examples/s]"
      ]
     },
     "metadata": {},
     "output_type": "display_data"
    }
   ],
   "source": [
    "attributor = LLMAttributor.LLMAttributor(\n",
    "    llama2_dir=model_dir,\n",
    "    tokenizer_dir=model_dir,\n",
    "    model_save_dir=model_save_dir, \n",
    "    # ckpt_names=['checkpoint-31', 'checkpoint-63', 'checkpoint-94', 'checkpoint-126', 'checkpoint-155'],\n",
    "    device=\"cuda:0\",\n",
    "    train_dataset=train_dataset,\n",
    "    test_dataset=test_dataset,\n",
    "    )"
   ]
  },
  {
   "cell_type": "code",
   "execution_count": 4,
   "metadata": {},
   "outputs": [
    {
     "data": {
      "application/vnd.jupyter.widget-view+json": {
       "model_id": "9ae6e52397ec479aaf01fd9f64f7fd7c",
       "version_major": 2,
       "version_minor": 0
      },
      "text/plain": [
       "Loading checkpoint shards:   0%|          | 0/3 [00:00<?, ?it/s]"
      ]
     },
     "metadata": {},
     "output_type": "display_data"
    },
    {
     "name": "stderr",
     "output_type": "stream",
     "text": [
      "Detected kernel version 5.4.0, which is below the recommended minimum of 5.5.0; this can cause the process to hang. It is recommended to upgrade the kernel to the minimum version or higher.\n",
      "\u001b[34m\u001b[1mwandb\u001b[0m: Currently logged in as: \u001b[33mseongmin_lee\u001b[0m. Use \u001b[1m`wandb login --relogin`\u001b[0m to force relogin\n"
     ]
    },
    {
     "data": {
      "text/html": [
       "wandb version 0.16.2 is available!  To upgrade, please run:\n",
       " $ pip install wandb --upgrade"
      ],
      "text/plain": [
       "<IPython.core.display.HTML object>"
      ]
     },
     "metadata": {},
     "output_type": "display_data"
    },
    {
     "data": {
      "text/html": [
       "Tracking run with wandb version 0.15.10"
      ],
      "text/plain": [
       "<IPython.core.display.HTML object>"
      ]
     },
     "metadata": {},
     "output_type": "display_data"
    },
    {
     "data": {
      "text/html": [
       "Run data is saved locally in <code>/home/slee3473/23-LLMAttribution/wandb/run-20240122_160105-swpkaqgx</code>"
      ],
      "text/plain": [
       "<IPython.core.display.HTML object>"
      ]
     },
     "metadata": {},
     "output_type": "display_data"
    },
    {
     "data": {
      "text/html": [
       "Syncing run <strong><a href='https://wandb.ai/seongmin_lee/huggingface/runs/swpkaqgx' target=\"_blank\">zesty-frost-13</a></strong> to <a href='https://wandb.ai/seongmin_lee/huggingface' target=\"_blank\">Weights & Biases</a> (<a href='https://wandb.me/run' target=\"_blank\">docs</a>)<br/>"
      ],
      "text/plain": [
       "<IPython.core.display.HTML object>"
      ]
     },
     "metadata": {},
     "output_type": "display_data"
    },
    {
     "data": {
      "text/html": [
       " View project at <a href='https://wandb.ai/seongmin_lee/huggingface' target=\"_blank\">https://wandb.ai/seongmin_lee/huggingface</a>"
      ],
      "text/plain": [
       "<IPython.core.display.HTML object>"
      ]
     },
     "metadata": {},
     "output_type": "display_data"
    },
    {
     "data": {
      "text/html": [
       " View run at <a href='https://wandb.ai/seongmin_lee/huggingface/runs/swpkaqgx' target=\"_blank\">https://wandb.ai/seongmin_lee/huggingface/runs/swpkaqgx</a>"
      ],
      "text/plain": [
       "<IPython.core.display.HTML object>"
      ]
     },
     "metadata": {},
     "output_type": "display_data"
    },
    {
     "name": "stderr",
     "output_type": "stream",
     "text": [
      "/raid/slee3473/Anaconda3/envs/llm/lib/python3.9/site-packages/bitsandbytes/autograd/_functions.py:322: UserWarning: MatMul8bitLt: inputs will be cast from torch.float32 to float16 during quantization\n",
      "  warnings.warn(f\"MatMul8bitLt: inputs will be cast from {A.dtype} to float16 during quantization\")\n"
     ]
    },
    {
     "data": {
      "text/html": [
       "\n",
       "    <div>\n",
       "      \n",
       "      <progress value='155' max='155' style='width:300px; height:20px; vertical-align: middle;'></progress>\n",
       "      [155/155 16:00, Epoch 4/5]\n",
       "    </div>\n",
       "    <table border=\"1\" class=\"dataframe\">\n",
       "  <thead>\n",
       " <tr style=\"text-align: left;\">\n",
       "      <th>Step</th>\n",
       "      <th>Training Loss</th>\n",
       "    </tr>\n",
       "  </thead>\n",
       "  <tbody>\n",
       "    <tr>\n",
       "      <td>10</td>\n",
       "      <td>11.728700</td>\n",
       "    </tr>\n",
       "    <tr>\n",
       "      <td>20</td>\n",
       "      <td>10.566400</td>\n",
       "    </tr>\n",
       "    <tr>\n",
       "      <td>30</td>\n",
       "      <td>9.308100</td>\n",
       "    </tr>\n",
       "    <tr>\n",
       "      <td>40</td>\n",
       "      <td>6.849500</td>\n",
       "    </tr>\n",
       "    <tr>\n",
       "      <td>50</td>\n",
       "      <td>3.142800</td>\n",
       "    </tr>\n",
       "    <tr>\n",
       "      <td>60</td>\n",
       "      <td>1.205600</td>\n",
       "    </tr>\n",
       "    <tr>\n",
       "      <td>70</td>\n",
       "      <td>0.773800</td>\n",
       "    </tr>\n",
       "    <tr>\n",
       "      <td>80</td>\n",
       "      <td>0.620400</td>\n",
       "    </tr>\n",
       "    <tr>\n",
       "      <td>90</td>\n",
       "      <td>0.531800</td>\n",
       "    </tr>\n",
       "    <tr>\n",
       "      <td>100</td>\n",
       "      <td>0.481900</td>\n",
       "    </tr>\n",
       "    <tr>\n",
       "      <td>110</td>\n",
       "      <td>0.417400</td>\n",
       "    </tr>\n",
       "    <tr>\n",
       "      <td>120</td>\n",
       "      <td>0.404800</td>\n",
       "    </tr>\n",
       "    <tr>\n",
       "      <td>130</td>\n",
       "      <td>0.378200</td>\n",
       "    </tr>\n",
       "    <tr>\n",
       "      <td>140</td>\n",
       "      <td>0.351100</td>\n",
       "    </tr>\n",
       "    <tr>\n",
       "      <td>150</td>\n",
       "      <td>0.356500</td>\n",
       "    </tr>\n",
       "  </tbody>\n",
       "</table><p>"
      ],
      "text/plain": [
       "<IPython.core.display.HTML object>"
      ]
     },
     "metadata": {},
     "output_type": "display_data"
    },
    {
     "name": "stderr",
     "output_type": "stream",
     "text": [
      "/raid/slee3473/Anaconda3/envs/llm/lib/python3.9/site-packages/bitsandbytes/autograd/_functions.py:322: UserWarning: MatMul8bitLt: inputs will be cast from torch.float32 to float16 during quantization\n",
      "  warnings.warn(f\"MatMul8bitLt: inputs will be cast from {A.dtype} to float16 during quantization\")\n",
      "/raid/slee3473/Anaconda3/envs/llm/lib/python3.9/site-packages/bitsandbytes/autograd/_functions.py:322: UserWarning: MatMul8bitLt: inputs will be cast from torch.float32 to float16 during quantization\n",
      "  warnings.warn(f\"MatMul8bitLt: inputs will be cast from {A.dtype} to float16 during quantization\")\n",
      "/raid/slee3473/Anaconda3/envs/llm/lib/python3.9/site-packages/bitsandbytes/autograd/_functions.py:322: UserWarning: MatMul8bitLt: inputs will be cast from torch.float32 to float16 during quantization\n",
      "  warnings.warn(f\"MatMul8bitLt: inputs will be cast from {A.dtype} to float16 during quantization\")\n",
      "/raid/slee3473/Anaconda3/envs/llm/lib/python3.9/site-packages/bitsandbytes/autograd/_functions.py:322: UserWarning: MatMul8bitLt: inputs will be cast from torch.float32 to float16 during quantization\n",
      "  warnings.warn(f\"MatMul8bitLt: inputs will be cast from {A.dtype} to float16 during quantization\")\n"
     ]
    }
   ],
   "source": [
    "attributor.finetune()"
   ]
  },
  {
   "cell_type": "code",
   "execution_count": 18,
   "metadata": {},
   "outputs": [
    {
     "data": {
      "application/vnd.jupyter.widget-view+json": {
       "model_id": "20b3f5ea274841be803136be1d892993",
       "version_major": 2,
       "version_minor": 0
      },
      "text/plain": [
       "Loading checkpoint shards:   0%|          | 0/3 [00:00<?, ?it/s]"
      ]
     },
     "metadata": {},
     "output_type": "display_data"
    },
    {
     "name": "stderr",
     "output_type": "stream",
     "text": [
      "  0%|                                                   | 0/1000 [00:00<?, ?it/s]/raid/slee3473/Anaconda3/envs/llm/lib/python3.9/site-packages/bitsandbytes/autograd/_functions.py:322: UserWarning: MatMul8bitLt: inputs will be cast from torch.float32 to float16 during quantization\n",
      "  warnings.warn(f\"MatMul8bitLt: inputs will be cast from {A.dtype} to float16 during quantization\")\n",
      "100%|████████████████████████████████████████| 1000/1000 [29:02<00:00,  1.74s/it]\n"
     ]
    },
    {
     "data": {
      "application/vnd.jupyter.widget-view+json": {
       "model_id": "cd15ea3472584aca808b7a0a0d2caa97",
       "version_major": 2,
       "version_minor": 0
      },
      "text/plain": [
       "Loading checkpoint shards:   0%|          | 0/3 [00:00<?, ?it/s]"
      ]
     },
     "metadata": {},
     "output_type": "display_data"
    },
    {
     "name": "stderr",
     "output_type": "stream",
     "text": [
      "100%|████████████████████████████████████████| 1000/1000 [29:18<00:00,  1.76s/it]\n"
     ]
    },
    {
     "data": {
      "application/vnd.jupyter.widget-view+json": {
       "model_id": "0a9eb75a1e5b482db3abd1b7c6cf7c85",
       "version_major": 2,
       "version_minor": 0
      },
      "text/plain": [
       "Loading checkpoint shards:   0%|          | 0/3 [00:00<?, ?it/s]"
      ]
     },
     "metadata": {},
     "output_type": "display_data"
    },
    {
     "name": "stderr",
     "output_type": "stream",
     "text": [
      "100%|████████████████████████████████████████| 1000/1000 [29:23<00:00,  1.76s/it]\n"
     ]
    },
    {
     "data": {
      "application/vnd.jupyter.widget-view+json": {
       "model_id": "d9dfb3265b5b4e1fafc7d6400b7a8463",
       "version_major": 2,
       "version_minor": 0
      },
      "text/plain": [
       "Loading checkpoint shards:   0%|          | 0/3 [00:00<?, ?it/s]"
      ]
     },
     "metadata": {},
     "output_type": "display_data"
    },
    {
     "name": "stderr",
     "output_type": "stream",
     "text": [
      "  5%|██                                        | 49/1000 [01:27<28:39,  1.81s/it]IOPub message rate exceeded.\n",
      "The Jupyter server will temporarily stop sending output\n",
      "to the client in order to avoid crashing it.\n",
      "To change this limit, set the config variable\n",
      "`--ServerApp.iopub_msg_rate_limit`.\n",
      "\n",
      "Current values:\n",
      "ServerApp.iopub_msg_rate_limit=1000.0 (msgs/sec)\n",
      "ServerApp.rate_limit_window=3.0 (secs)\n",
      "\n"
     ]
    }
   ],
   "source": [
    "attributor.save_ckpt_gradients()"
   ]
  },
  {
   "cell_type": "code",
   "execution_count": null,
   "metadata": {},
   "outputs": [],
   "source": []
  },
  {
   "cell_type": "code",
   "execution_count": null,
   "metadata": {},
   "outputs": [],
   "source": []
  },
  {
   "cell_type": "code",
   "execution_count": null,
   "metadata": {},
   "outputs": [],
   "source": []
  },
  {
   "cell_type": "code",
   "execution_count": null,
   "metadata": {},
   "outputs": [],
   "source": []
  },
  {
   "cell_type": "code",
   "execution_count": null,
   "metadata": {},
   "outputs": [],
   "source": []
  },
  {
   "cell_type": "code",
   "execution_count": null,
   "metadata": {},
   "outputs": [],
   "source": []
  },
  {
   "cell_type": "code",
   "execution_count": null,
   "metadata": {},
   "outputs": [],
   "source": []
  },
  {
   "cell_type": "code",
   "execution_count": null,
   "metadata": {},
   "outputs": [],
   "source": []
  },
  {
   "cell_type": "code",
   "execution_count": 12,
   "metadata": {},
   "outputs": [
    {
     "data": {
      "application/vnd.jupyter.widget-view+json": {
       "model_id": "d472498df6bd465db7b9b41e722636d5",
       "version_major": 2,
       "version_minor": 0
      },
      "text/plain": [
       "Loading checkpoint shards:   0%|          | 0/3 [00:00<?, ?it/s]"
      ]
     },
     "metadata": {},
     "output_type": "display_data"
    }
   ],
   "source": [
    "attributor.set_model(pretrained=True, pretrained_dir=os.path.join(model_save_dir, \"checkpoint-94\"))"
   ]
  },
  {
   "cell_type": "code",
   "execution_count": 13,
   "metadata": {},
   "outputs": [],
   "source": [
    "attributor.save_ckpt_gradients()"
   ]
  },
  {
   "cell_type": "code",
   "execution_count": 14,
   "metadata": {},
   "outputs": [],
   "source": [
    "attr_data = attributor.test_dataset[910]\n",
    "attr_prompt = attr_data[\"prompt\"]\n",
    "attr_text_tokens = attr_data[\"input_ids\"]\n",
    "attributor.set_attr_prompt(attr_prompt=attr_prompt, attr_text_tokens=attr_text_tokens)\n",
    "attributor.save_datainf_scores()\n",
    "top1_idx, top1_data = attributor.get_topk_training_data(k=1)"
   ]
  },
  {
   "cell_type": "code",
   "execution_count": 15,
   "metadata": {},
   "outputs": [
    {
     "name": "stdout",
     "output_type": "stream",
     "text": [
      "Computing token importance...\n"
     ]
    },
    {
     "name": "stderr",
     "output_type": "stream",
     "text": [
      "/raid/slee3473/Anaconda3/envs/llm/lib/python3.9/site-packages/bitsandbytes/autograd/_functions.py:322: UserWarning: MatMul8bitLt: inputs will be cast from torch.float32 to float16 during quantization\n",
      "  warnings.warn(f\"MatMul8bitLt: inputs will be cast from {A.dtype} to float16 during quantization\")\n"
     ]
    },
    {
     "data": {
      "text/html": [
       "<span style=\"color: black; background-color: #fff5f080; display: inline-block\">&lt;s&gt;</span><span style=\"color: black; background-color: #fc947480; display: inline-block\">&nbsp;Double</span><span style=\"color: black; background-color: #fca28580; display: inline-block\">&nbsp;Every</span><span style=\"color: black; background-color: #fcb29680; display: inline-block\">&nbsp;Cons</span><span style=\"color: black; background-color: #fb7d5d80; display: inline-block\">on</span><span style=\"color: black; background-color: #fb725280; display: inline-block\">ant</span><br><span style=\"color: black; background-color: #fca08280; display: inline-block\">&nbsp;&nbsp;&nbsp;</span><span style=\"color: black; background-color: #fdcab580; display: inline-block\">&nbsp;For</span><span style=\"color: black; background-color: #fcc4ad80; display: inline-block\">&nbsp;example</span><span style=\"color: black; background-color: #f7593f80; display: inline-block\">:</span><br><span style=\"color: black; background-color: #fc977780; display: inline-block\">&nbsp;&nbsp;&nbsp;</span><span style=\"color: black; background-color: #fa664880; display: inline-block\">&nbsp;Mountains</span><span style=\"color: black; background-color: #d11e1f80; display: inline-block\">&nbsp;challenge</span><span style=\"color: black; background-color: #bc141a80; display: inline-block\">&nbsp;eager</span><span style=\"color: black; background-color: #fcb89e80; display: inline-block\">&nbsp;clim</span><span style=\"color: black; background-color: #fca78b80; display: inline-block\">bers</span><span style=\"color: black; background-color: #b8141980; display: inline-block\">.</span><span style=\"color: black; background-color: #fca18380; display: inline-block\">&nbsp;-&gt;</span><span style=\"color: black; background-color: #fca58880; display: inline-block\">&nbsp;</span><span style=\"color: black; background-color: #d01d1f80; display: inline-block\">&nbsp;MM</span><span style=\"color: black; background-color: #eb372a80; display: inline-block\">oun</span><span style=\"color: black; background-color: #fb6e4e80; display: inline-block\">nt</span><span style=\"color: black; background-color: #d5222180; display: inline-block\">tain</span><span style=\"color: black; background-color: #fc937380; display: inline-block\">n</span><span style=\"color: black; background-color: #fb735380; display: inline-block\">ss</span><span style=\"color: black; background-color: #fb775780; display: inline-block\">&nbsp;c</span><span style=\"color: black; background-color: #980c1380; display: inline-block\">ch</span><span style=\"color: black; background-color: #fb7b5b80; display: inline-block\">hall</span><span style=\"color: black; background-color: #fb7d5d80; display: inline-block\">ll</span><span style=\"color: black; background-color: #fb765680; display: inline-block\">en</span><span style=\"color: black; background-color: #f6553c80; display: inline-block\">ng</span><span style=\"color: black; background-color: #67000d80; display: inline-block\">ge</span><span style=\"color: black; background-color: #e5322880; display: inline-block\">&nbsp;e</span><span style=\"color: black; background-color: #fca48680; display: inline-block\">agger</span><span style=\"color: black; background-color: #fee3d780; display: inline-block\">r</span><span style=\"color: black; background-color: #fcaf9380; display: inline-block\">&nbsp;cc</span><span style=\"color: black; background-color: #fcbea580; display: inline-block\">ll</span><span style=\"color: black; background-color: #fc816180; display: inline-block\">imm</span><span style=\"color: black; background-color: #fdc7b280; display: inline-block\">b</span><span style=\"color: black; background-color: #fee9df80; display: inline-block\">ber</span><span style=\"color: black; background-color: #ffeee780; display: inline-block\">r</span><span style=\"color: black; background-color: #fff5f080; display: inline-block\">ss</span><span style=\"color: black; background-color: #fff4ef80; display: inline-block\">.</span><span style=\"color: black; background-color: #fff5f080; display: inline-block\">&lt;/s&gt;</span>"
      ],
      "text/plain": [
       "<IPython.core.display.HTML object>"
      ]
     },
     "execution_count": 15,
     "metadata": {},
     "output_type": "execute_result"
    }
   ],
   "source": [
    "code = attributor.visualize_token_importance(top1_data[0], \"checkpoint-94\")\n",
    "from IPython.display import HTML\n",
    "HTML(code)"
   ]
  },
  {
   "cell_type": "code",
   "execution_count": null,
   "metadata": {},
   "outputs": [],
   "source": []
  },
  {
   "cell_type": "code",
   "execution_count": null,
   "metadata": {},
   "outputs": [],
   "source": []
  },
  {
   "cell_type": "code",
   "execution_count": null,
   "metadata": {},
   "outputs": [],
   "source": []
  },
  {
   "cell_type": "code",
   "execution_count": null,
   "metadata": {},
   "outputs": [],
   "source": []
  },
  {
   "cell_type": "code",
   "execution_count": null,
   "metadata": {},
   "outputs": [],
   "source": []
  },
  {
   "cell_type": "code",
   "execution_count": null,
   "metadata": {},
   "outputs": [],
   "source": []
  },
  {
   "cell_type": "code",
   "execution_count": null,
   "metadata": {},
   "outputs": [],
   "source": []
  },
  {
   "cell_type": "code",
   "execution_count": null,
   "metadata": {},
   "outputs": [],
   "source": []
  },
  {
   "cell_type": "code",
   "execution_count": null,
   "metadata": {},
   "outputs": [],
   "source": []
  },
  {
   "cell_type": "code",
   "execution_count": 5,
   "metadata": {},
   "outputs": [],
   "source": [
    "from LLMAttributor import LLMAttributor\n",
    "import datasets\n",
    "import os"
   ]
  },
  {
   "cell_type": "code",
   "execution_count": 6,
   "metadata": {},
   "outputs": [],
   "source": [
    "data_dir = \"./data/\"\n",
    "train_dataset = datasets.load_from_disk(os.path.join(data_dir, \"sentence_transformation_complex/train.hf\"))\n",
    "test_dataset = datasets.load_from_disk(os.path.join(data_dir, \"sentence_transformation_complex/test.hf\"))\n",
    "\n",
    "model_dir = \"/raid/models/llama2/llama-2-13b-chat/hf\"\n",
    "model_save_dir = \"/raid/slee3473/LLM/llama-output/sentence_transform_complex_jan20\"\n",
    "# ckpt_dir = os.path.join(output_dir, \"checkpoint-94\")"
   ]
  },
  {
   "cell_type": "code",
   "execution_count": 7,
   "metadata": {},
   "outputs": [],
   "source": [
    "attributor = LLMAttributor.LLMAttributor(\n",
    "    llama2_dir=model_dir,\n",
    "    tokenizer_dir=model_dir,\n",
    "    model_save_dir=model_save_dir, \n",
    "    ckpt_names=['checkpoint-31', 'checkpoint-63', 'checkpoint-94', 'checkpoint-126', 'checkpoint-155'],\n",
    "    device=\"cuda:1\",\n",
    "    train_dataset=train_dataset,\n",
    "    test_dataset=test_dataset,\n",
    "    )"
   ]
  },
  {
   "cell_type": "code",
   "execution_count": 4,
   "metadata": {},
   "outputs": [
    {
     "data": {
      "application/vnd.jupyter.widget-view+json": {
       "model_id": "baa44dd05df04fb0a2bcccbb2fff3f02",
       "version_major": 2,
       "version_minor": 0
      },
      "text/plain": [
       "Loading checkpoint shards:   0%|          | 0/3 [00:00<?, ?it/s]"
      ]
     },
     "metadata": {},
     "output_type": "display_data"
    },
    {
     "name": "stderr",
     "output_type": "stream",
     "text": [
      "Setting `pad_token_id` to `eos_token_id`:2 for open-end generation.\n",
      "A decoder-only architecture is being used, but right-padding was detected! For correct generation results, please set `padding_side='left'` when initializing the tokenizer.\n",
      "/raid/slee3473/Anaconda3/envs/llm/lib/python3.9/site-packages/bitsandbytes/autograd/_functions.py:322: UserWarning: MatMul8bitLt: inputs will be cast from torch.float32 to float16 during quantization\n",
      "  warnings.warn(f\"MatMul8bitLt: inputs will be cast from {A.dtype} to float16 during quantization\")\n"
     ]
    },
    {
     "name": "stdout",
     "output_type": "stream",
     "text": [
      "Generated: Reverse Order of Words\n",
      "    For example:\n",
      "    Feathers float on dreams. ->  dreams. on float Feathers\n"
     ]
    }
   ],
   "source": [
    "# attributor.set_model(pretrained=True, pretrained_dir=os.path.join(model_save_dir, \"checkpoint-94\"))\n",
    "# attributor.check_model()"
   ]
  },
  {
   "cell_type": "code",
   "execution_count": 5,
   "metadata": {},
   "outputs": [],
   "source": [
    "attributor.save_ckpt_gradients()"
   ]
  },
  {
   "cell_type": "code",
   "execution_count": 6,
   "metadata": {},
   "outputs": [],
   "source": [
    "attr_data = attributor.test_dataset[910]\n",
    "attr_prompt = attr_data[\"prompt\"]\n",
    "attr_text_tokens = attr_data[\"input_ids\"]\n",
    "attributor.set_attr_prompt(attr_prompt=attr_prompt, attr_text_tokens=attr_text_tokens)\n",
    "attributor.save_datainf_scores()\n",
    "top1_idx, top1_data = attributor.get_topk_training_data(k=1)"
   ]
  },
  {
   "cell_type": "code",
   "execution_count": 7,
   "metadata": {},
   "outputs": [
    {
     "name": "stdout",
     "output_type": "stream",
     "text": [
      "Computing token importance...\n"
     ]
    }
   ],
   "source": [
    "code = attributor.visualize_token_importance(top1_data[0], \"checkpoint-94\")"
   ]
  },
  {
   "cell_type": "code",
   "execution_count": 8,
   "metadata": {},
   "outputs": [
    {
     "data": {
      "text/html": [
       "<span style=\"color: black; background-color: #fff5f080; display: inline-block\">&lt;s&gt;</span><span style=\"color: black; background-color: #fc947480; display: inline-block\">&nbsp;Double</span><span style=\"color: black; background-color: #fca28580; display: inline-block\">&nbsp;Every</span><span style=\"color: black; background-color: #fcb29680; display: inline-block\">&nbsp;Cons</span><span style=\"color: black; background-color: #fb7d5d80; display: inline-block\">on</span><span style=\"color: black; background-color: #fb725280; display: inline-block\">ant</span><br><span style=\"color: black; background-color: #fca08280; display: inline-block\">&nbsp;&nbsp;&nbsp;</span><span style=\"color: black; background-color: #fdcab580; display: inline-block\">&nbsp;For</span><span style=\"color: black; background-color: #fcc4ad80; display: inline-block\">&nbsp;example</span><span style=\"color: black; background-color: #f7593f80; display: inline-block\">:</span><br><span style=\"color: black; background-color: #fc977780; display: inline-block\">&nbsp;&nbsp;&nbsp;</span><span style=\"color: black; background-color: #fa664880; display: inline-block\">&nbsp;Mountains</span><span style=\"color: black; background-color: #d11e1f80; display: inline-block\">&nbsp;challenge</span><span style=\"color: black; background-color: #bc141a80; display: inline-block\">&nbsp;eager</span><span style=\"color: black; background-color: #fcb89e80; display: inline-block\">&nbsp;clim</span><span style=\"color: black; background-color: #fca78b80; display: inline-block\">bers</span><span style=\"color: black; background-color: #b8141980; display: inline-block\">.</span><span style=\"color: black; background-color: #fca18380; display: inline-block\">&nbsp;-&gt;</span><span style=\"color: black; background-color: #fca58880; display: inline-block\">&nbsp;</span><span style=\"color: black; background-color: #d01d1f80; display: inline-block\">&nbsp;MM</span><span style=\"color: black; background-color: #eb372a80; display: inline-block\">oun</span><span style=\"color: black; background-color: #fb6e4e80; display: inline-block\">nt</span><span style=\"color: black; background-color: #d5222180; display: inline-block\">tain</span><span style=\"color: black; background-color: #fc937380; display: inline-block\">n</span><span style=\"color: black; background-color: #fb735380; display: inline-block\">ss</span><span style=\"color: black; background-color: #fb775780; display: inline-block\">&nbsp;c</span><span style=\"color: black; background-color: #980c1380; display: inline-block\">ch</span><span style=\"color: black; background-color: #fb7b5b80; display: inline-block\">hall</span><span style=\"color: black; background-color: #fb7d5d80; display: inline-block\">ll</span><span style=\"color: black; background-color: #fb765680; display: inline-block\">en</span><span style=\"color: black; background-color: #f6553c80; display: inline-block\">ng</span><span style=\"color: black; background-color: #67000d80; display: inline-block\">ge</span><span style=\"color: black; background-color: #e5322880; display: inline-block\">&nbsp;e</span><span style=\"color: black; background-color: #fca48680; display: inline-block\">agger</span><span style=\"color: black; background-color: #fee3d780; display: inline-block\">r</span><span style=\"color: black; background-color: #fcaf9380; display: inline-block\">&nbsp;cc</span><span style=\"color: black; background-color: #fcbea580; display: inline-block\">ll</span><span style=\"color: black; background-color: #fc816180; display: inline-block\">imm</span><span style=\"color: black; background-color: #fdc7b280; display: inline-block\">b</span><span style=\"color: black; background-color: #fee9df80; display: inline-block\">ber</span><span style=\"color: black; background-color: #ffeee780; display: inline-block\">r</span><span style=\"color: black; background-color: #fff5f080; display: inline-block\">ss</span><span style=\"color: black; background-color: #fff4ef80; display: inline-block\">.</span><span style=\"color: black; background-color: #fff5f080; display: inline-block\">&lt;/s&gt;</span>"
      ],
      "text/plain": [
       "<IPython.core.display.HTML object>"
      ]
     },
     "execution_count": 8,
     "metadata": {},
     "output_type": "execute_result"
    }
   ],
   "source": [
    "from IPython.display import HTML\n",
    "HTML(code)"
   ]
  },
  {
   "cell_type": "code",
   "execution_count": null,
   "metadata": {},
   "outputs": [],
   "source": []
  },
  {
   "cell_type": "code",
   "execution_count": null,
   "metadata": {},
   "outputs": [],
   "source": []
  },
  {
   "cell_type": "code",
   "execution_count": null,
   "metadata": {},
   "outputs": [],
   "source": []
  },
  {
   "cell_type": "code",
   "execution_count": null,
   "metadata": {},
   "outputs": [],
   "source": []
  },
  {
   "cell_type": "code",
   "execution_count": null,
   "metadata": {},
   "outputs": [],
   "source": []
  },
  {
   "cell_type": "code",
   "execution_count": null,
   "metadata": {},
   "outputs": [],
   "source": []
  },
  {
   "cell_type": "code",
   "execution_count": null,
   "metadata": {},
   "outputs": [],
   "source": []
  },
  {
   "cell_type": "code",
   "execution_count": null,
   "metadata": {},
   "outputs": [],
   "source": []
  },
  {
   "cell_type": "code",
   "execution_count": null,
   "metadata": {},
   "outputs": [],
   "source": []
  },
  {
   "cell_type": "code",
   "execution_count": null,
   "metadata": {},
   "outputs": [],
   "source": []
  },
  {
   "cell_type": "code",
   "execution_count": null,
   "metadata": {},
   "outputs": [],
   "source": []
  },
  {
   "cell_type": "code",
   "execution_count": null,
   "metadata": {},
   "outputs": [],
   "source": []
  }
 ],
 "metadata": {
  "kernelspec": {
   "display_name": "llm",
   "language": "python",
   "name": "llm"
  },
  "language_info": {
   "codemirror_mode": {
    "name": "ipython",
    "version": 3
   },
   "file_extension": ".py",
   "mimetype": "text/x-python",
   "name": "python",
   "nbconvert_exporter": "python",
   "pygments_lexer": "ipython3",
   "version": "3.9.18"
  }
 },
 "nbformat": 4,
 "nbformat_minor": 4
}
